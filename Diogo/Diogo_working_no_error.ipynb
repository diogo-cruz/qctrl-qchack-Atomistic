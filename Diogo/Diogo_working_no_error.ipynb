{
 "cells": [
  {
   "cell_type": "code",
   "execution_count": 1,
   "id": "53c93b53-18b9-4fa2-95c6-71d49a4fd4d2",
   "metadata": {
    "execution": {
     "iopub.execute_input": "2021-04-11T11:16:38.308099Z",
     "iopub.status.busy": "2021-04-11T11:16:38.307776Z",
     "iopub.status.idle": "2021-04-11T11:16:42.156470Z",
     "shell.execute_reply": "2021-04-11T11:16:42.155864Z",
     "shell.execute_reply.started": "2021-04-11T11:16:38.308006Z"
    },
    "tags": []
   },
   "outputs": [],
   "source": [
    "import matplotlib.pyplot as plt\n",
    "import numpy as np\n",
    "from qctrlvisualizer import get_qctrl_style, plot_controls\n",
    "\n",
    "from qctrl import Qctrl\n",
    "\n",
    "plt.style.use(get_qctrl_style())\n",
    "\n",
    "# Sparse matrix imports\n",
    "from scipy.sparse import coo_matrix\n",
    "\n",
    "# Starting a session with the API\n",
    "qctrl = Qctrl()"
   ]
  },
  {
   "cell_type": "markdown",
   "id": "2dc7e109-8f4f-497a-bec5-34e9e9ef8838",
   "metadata": {
    "execution": {
     "iopub.execute_input": "2021-04-10T23:19:46.617472Z",
     "iopub.status.busy": "2021-04-10T23:19:46.616571Z",
     "iopub.status.idle": "2021-04-10T23:19:46.655407Z",
     "shell.execute_reply": "2021-04-10T23:19:46.654017Z",
     "shell.execute_reply.started": "2021-04-10T23:19:46.617409Z"
    }
   },
   "source": [
    "### More realistic qubits, gates and measurements (the reality)\n",
    "\n",
    "Let's make this model more realistic and include some noise and errors. We won't give a complete mathematical model because it will get too complicated. Instead, we will provide a list of the additional complications we are going to add to the model then jump straight to the code itself.\n",
    "\n",
    "1. In realistic superconducting devices the Rabi rate that you drive the qubit with is not normally known. Instead you normally set some voltages on your microwave signal generator and you have to figure out how they relate to the Rabi rate. These are usually normalized between -1 and 1. To learn how to determine the Rabi rate of your qubit have a look at the [Pulse calibration application note](https://docs.q-ctrl.com/boulder-opal/application-notes/control-hardware-pulse-calibration).\n",
    "\n",
    "2. One step we didn't talk about is tuning your microwave on resonance with your superconducting qubit. Even after tuning your microwave drive to be on resonance with your microwave drive, there might be a small detuning error that can drift slowly over time. This manifests as an extra term in the Hamiltonian that looks like:\n",
    "    $$\n",
    "    \\frac{H(t)}{\\hbar} = \\epsilon_D(t) b^\\dagger b + \\frac{1}{2} \\Omega(t) b + \\frac{1}{2} \\Omega(t) b^\\dagger \n",
    "    $$\n",
    "    For most experiments this $\\epsilon_D(t)$ changes so slowly that they can be treated as effectively constant for a single experiment.  \n",
    "    \n",
    "3. Even after calibrating your Rabi rate, there can also be a small amplitude error in the $I$ and $Q$ channels that make up your complex Rabi rate. These errors can be independent and look like:\n",
    "    $$\n",
    "    \\frac{H(t)}{\\hbar} = \\frac{1}{2} (I(t)(1 + \\epsilon_I(t)) + Q(t)(1 + \\epsilon_Q(t))) b + \\mbox{ h. c. } \n",
    "    $$\n",
    "    where h. c. means hermitian conjugate of the previous term. Again, $\\epsilon_I(t)$ and $\\epsilon_Q(t)$ change so slowly that they can be basically treated as effectively constant for a single experiment.  \n",
    "\n",
    "4. When using superconducting qubits, microwaves are typically sent down control lines that have bandwidth limits. This means that signals with sudden changes tend not to work very well when used on a real device. We can add these bandwidth limits onto any control lines in BOULDER OPAL using the linear filter feature. To learn more about this feature have a look at the [Pulse optimization under realistic experimental constraints application note](https://docs.q-ctrl.com/boulder-opal/application-notes/control-hardware-pulse-optimization-under-realistic-experimental-constraints)\n",
    "\n",
    "5. Another critical issue on quantum computers is state preparation and measurement (SPAM) errors. These occur when the qubit is not perfectly prepared in the ground state at the beginning of computation, this often gets worse when the quantum computer heats up. There can also be many errors introduced during the measurement state. Superconducting qubits make measurements by driving a resonator that is coupled to the qubit, the state of the qubit affects the frequency of the resonator, which allows us to read out the qubits state. This process is not perfect and sometimes a 1 is incorrectly detected as a 0 and vice versa. These errors are best modeled using a [confusion matrix](https://en.wikipedia.org/wiki/Confusion_matrix). "
   ]
  },
  {
   "cell_type": "markdown",
   "id": "f9551aa9-8b29-4aa9-8db6-10fcdafd39f0",
   "metadata": {},
   "source": [
    "## Example: CRAB optimization\n",
    "\n",
    "In **c**hopped **ra**ndom **b**asis (CRAB) optimization, pulses are defined via optimizable linear combinations from a set of basis functions, which can greatly reduce the dimensionality of the optimization search space. Traditionally, a [randomized Fourier basis](https://journals.aps.org/prl/abstract/10.1103/PhysRevLett.106.190501) is used, although the same technique has also seen success with other bases, for example [Slepian functions](https://journals.aps.org/pra/abstract/10.1103/PhysRevA.97.062346). In this example, we perform a CRAB optimization (in the Fourier basis) of a qutrit system in which we effect a single-qubit gate while minimizing leakage out of the computational subspace. The system is described by the following Hamiltonian:\n",
    "\n",
    "\\begin{align*}\n",
    "H(t) = & \\frac{\\chi}{2} (a^\\dagger)^2 a^2 + \\gamma(t) (1+\\beta(t))a + \\gamma^*(t)(1+\\beta(t)) a^\\dagger + \\frac{\\alpha(t)}{2} a^\\dagger a \\,, \n",
    "\\end{align*}\n",
    "\n",
    "where $\\chi$ is the anharmonicity, $\\gamma(t)$ and $\\alpha(t)$ are, respectively, complex and real time-dependent pulses, $\\beta$ is a small, slowly-varying stochastic amplitude noise process, and $a = |0 \\rangle \\langle 1 | + \\sqrt{2} |1 \\rangle \\langle 2 |$.\n",
    "\n",
    "The Q-CTRL optimization engine provides a convenience function, [`qctrl.operations.real_fourier_pwc_signal`](https://docs.q-ctrl.com/boulder-opal/references/qctrl/Operations/real_fourier_pwc_signal.html), for creating optimizable signals in a Fourier basis, suitable for use in a CRAB optimization. Other bases are supported by the framework, but require the user to manually provide operations that compute the appropriate linear combinations."
   ]
  },
  {
   "cell_type": "code",
   "execution_count": 2,
   "id": "2934fc98-514a-4880-b82a-57981d1cece9",
   "metadata": {
    "execution": {
     "iopub.execute_input": "2021-04-11T11:16:42.175570Z",
     "iopub.status.busy": "2021-04-11T11:16:42.175244Z",
     "iopub.status.idle": "2021-04-11T11:16:42.202086Z",
     "shell.execute_reply": "2021-04-11T11:16:42.201364Z",
     "shell.execute_reply.started": "2021-04-11T11:16:42.175528Z"
    },
    "tags": []
   },
   "outputs": [],
   "source": [
    "leakage = True\n",
    "N = 3 if leakage else 2\n",
    "\n",
    "if not leakage:\n",
    "    # 2. Dephasing error\n",
    "    dephasing_error = -2 * 2 * np.pi  # MHz\n",
    "\n",
    "    # 3. Amplitude error\n",
    "    amplitude_i_error = 0.98\n",
    "    amplitude_q_error = 1.03\n",
    "\n",
    "    # 4. Control line bandwidth limit\n",
    "    cut_off_frequency = 2 * np.pi * 10  # MHz\n",
    "    resample_segment_count = 1000\n",
    "\n",
    "    # 5. SPAM error confusion matrix\n",
    "    confusion_matrix = np.array([[0.99, 0.01], [0.02, 0.98]])\n",
    "\n",
    "    # Lowering operator\n",
    "    b = np.array([[0, 1], [0, 0]])\n",
    "    # Number operator\n",
    "    #n = np.diag([0, 1])\n",
    "    # Initial state\n",
    "    initial_state = np.array([[1], [0]])\n",
    "\n",
    "    sigma_x = np.array([[0, 1], [1, 0]])\n",
    "    sigma_y = np.array([[0, -1j], [1j, 0]])\n",
    "    sigma_z = np.array([[1, 0], [0, -1]])\n",
    "    sigma_m = np.array([[0, 1], [0, 0]])\n",
    "    hadamard = np.array([[1, 1], [1, -1]]) / np.sqrt(2)\n",
    "\n",
    "else:\n",
    "    # Correct matrix\n",
    "    confusion_matrix = np.array([[0.993, 0.007, 0], [0.007, 0.993, 0], [0, 0, 1.]])\n",
    "    \n",
    "    initial_state = np.array([[1], [0], [0]])\n",
    "    \n",
    "    hadamard_leak = np.array(\n",
    "    [[1.0, 1.0, 0], [1.0, -1.0, 0], [0, 0, np.sqrt(2)]], dtype=np.complex\n",
    "    ) / np.sqrt(2)\n",
    "    sigma_x_leak = np.array(\n",
    "    [[0, 1.0, 0], [1.0, 0, 0], [0, 0, 1.]], dtype=np.complex)\n",
    "\n",
    "    a = np.array(\n",
    "        [[0.0, 1.0, 0.0], [0.0, 0.0, np.sqrt(2)], [0.0, 0.0, 0.0]], dtype=np.complex\n",
    "    )\n",
    "    ada = np.matmul(a.T, a)\n",
    "    ad2a2 = np.matmul(np.matmul(a.T, a.T), np.matmul(a, a))\n",
    "    qubit_projector = np.array([[1, 0, 0], [0, 1, 0], [0, 0, 0]], dtype=np.complex)"
   ]
  },
  {
   "cell_type": "code",
   "execution_count": 83,
   "id": "23868277-d135-494c-9465-1cc2d914e4a0",
   "metadata": {
    "execution": {
     "iopub.execute_input": "2021-04-11T12:19:13.732075Z",
     "iopub.status.busy": "2021-04-11T12:19:13.731497Z",
     "iopub.status.idle": "2021-04-11T12:19:13.737992Z",
     "shell.execute_reply": "2021-04-11T12:19:13.737056Z",
     "shell.execute_reply.started": "2021-04-11T12:19:13.732036Z"
    },
    "tags": []
   },
   "outputs": [],
   "source": [
    "# Define physical constraints\n",
    "chi = 2 * np.pi * -300.0 * 1e6  # Hz\n",
    "gamma_max = 2 * np.pi * 30e6  # Hz\n",
    "gamma_max = 51.131165788396e6  # Hz correto\n",
    "alpha_max = 2 * np.pi * 30e6  # Hz\n",
    "segment_count = 200"
   ]
  },
  {
   "cell_type": "markdown",
   "id": "4786da69-3c52-4315-af54-c965914cdf40",
   "metadata": {},
   "source": [
    "We start by defining the Hamiltonian, and optimizing the parameters $\\alpha(t)$ and $\\gamma(t)$."
   ]
  },
  {
   "cell_type": "code",
   "execution_count": 84,
   "id": "f6d48b3d-b57a-4cf5-b5e0-396f4c7dfd72",
   "metadata": {
    "execution": {
     "iopub.execute_input": "2021-04-11T12:19:14.440084Z",
     "iopub.status.busy": "2021-04-11T12:19:14.438598Z",
     "iopub.status.idle": "2021-04-11T12:19:14.489456Z",
     "shell.execute_reply": "2021-04-11T12:19:14.487182Z",
     "shell.execute_reply.started": "2021-04-11T12:19:14.439978Z"
    },
    "tags": []
   },
   "outputs": [],
   "source": [
    "def get_optimal_pulse(target_U, duration=1):\n",
    "\n",
    "    with qctrl.create_graph() as graph:\n",
    "        # Create gamma(t) signal in Fourier bases. To demonstrate the full\n",
    "        # flexibility, we show how to use both randomized and optimizable\n",
    "        # basis elements. Elements with fixed frequencies may be chosen too.\n",
    "        gamma_i = qctrl.operations.real_fourier_pwc_signal(\n",
    "            duration=duration,\n",
    "            segments_count=segment_count,\n",
    "            randomized_frequencies_count=10,\n",
    "        )\n",
    "        gamma_q = qctrl.operations.real_fourier_pwc_signal(\n",
    "            duration=duration,\n",
    "            segments_count=segment_count,\n",
    "            optimizable_frequencies_count=10,\n",
    "        )\n",
    "        gamma = qctrl.operations.pwc_signal(\n",
    "            duration=duration,\n",
    "            values=qctrl.operations.complex_value(real=gamma_i.values, imag=gamma_q.values)\n",
    "            * gamma_max,\n",
    "            name=\"gamma\",\n",
    "        )\n",
    "\n",
    "#         # Create alpha(t) signal\n",
    "#         alpha = qctrl.operations.real_fourier_pwc_signal(\n",
    "#             duration=duration,\n",
    "#             segments_count=segment_count,\n",
    "#             initial_coefficient_lower_bound=-alpha_max,\n",
    "#             initial_coefficient_upper_bound=alpha_max,\n",
    "#             optimizable_frequencies_count=10,\n",
    "#             name=\"alpha\",\n",
    "#         )\n",
    "\n",
    "#         # Create anharmonicity term\n",
    "#         anharmonicity = qctrl.operations.constant_pwc_operator(\n",
    "#             duration,\n",
    "#             ad2a2 * chi / 2,\n",
    "#         )\n",
    "        # Create drive term\n",
    "        drive = qctrl.operations.pwc_operator_hermitian_part(\n",
    "            qctrl.operations.pwc_operator(signal=gamma, operator=2 * a)\n",
    "        )\n",
    "\n",
    "#         # Create clock shift term\n",
    "#         shift = qctrl.operations.pwc_operator(signal=alpha, operator=ada / 2)\n",
    "\n",
    "        # Create infidelity (note that we project the target operator to the\n",
    "        # qubit subspace in order to calculate infidelity only in the subspace,\n",
    "        # and set a filter function projector in order to evaluate robustness\n",
    "        # only from the subspace).\n",
    "        target_operator = qctrl.operations.target(\n",
    "            target_U.dot(qubit_projector), filter_function_projector=qubit_projector\n",
    "        )\n",
    "\n",
    "#         infidelity = qctrl.operations.infidelity_pwc(\n",
    "#             hamiltonian=qctrl.operations.pwc_sum([anharmonicity, drive, shift]),\n",
    "#             target_operator=target_operator,\n",
    "#             noise_operators=[drive],\n",
    "#             name=\"infidelity\",\n",
    "#         )\n",
    "        infidelity = qctrl.operations.infidelity_pwc(\n",
    "            hamiltonian=qctrl.operations.pwc_sum([drive]),\n",
    "            target_operator=target_operator,\n",
    "            noise_operators=None,\n",
    "            name=\"infidelity\",\n",
    "        )\n",
    "\n",
    "    # Run the optimization\n",
    "#     optimization_result = qctrl.functions.calculate_optimization(\n",
    "#         cost_node_name=\"infidelity\",\n",
    "#         output_node_names=[\"alpha\", \"gamma\"],\n",
    "#         graph=graph,\n",
    "#     )\n",
    "    optimization_result = qctrl.functions.calculate_optimization(\n",
    "        cost_node_name=\"infidelity\",\n",
    "        output_node_names=[\"gamma\"],\n",
    "        graph=graph,\n",
    "    )\n",
    "\n",
    "    print(\"Optimized cost:\\t\", optimization_result.cost)\n",
    "\n",
    "#     # Plot the optimized controls\n",
    "#     plot_controls(\n",
    "#         plt.figure(),\n",
    "#         controls={\n",
    "#             \"$\\\\alpha$\": optimization_result.output[\"alpha\"],\n",
    "#             \"$\\\\gamma$\": optimization_result.output[\"gamma\"],\n",
    "#         },\n",
    "#     )\n",
    "#     plt.show()\n",
    "    \n",
    "#     alpha_results = np.array([dicc[\"value\"] for dicc in optimization_result.output[\"alpha\"]])\n",
    "#     gamma_results = np.array([dicc[\"value\"] for dicc in optimization_result.output[\"gamma\"]])\n",
    "    \n",
    "    # Plot the optimized controls\n",
    "    plot_controls(\n",
    "        plt.figure(),\n",
    "        controls={\n",
    "            \"$\\\\gamma$\": optimization_result.output[\"gamma\"],\n",
    "        },\n",
    "    )\n",
    "    plt.show()\n",
    "    \n",
    "    #print(optimization_result.output['gamma'])\n",
    "    gamma_results = np.array([dicc[\"value\"] for dicc in optimization_result.output[\"gamma\"]])\n",
    "    alpha_results = None\n",
    "    controls = optimization_result.output[\"gamma\"]\n",
    "    #print(json_results)\n",
    "\n",
    "    return [alpha_results, gamma_results], controls"
   ]
  },
  {
   "cell_type": "markdown",
   "id": "35333edd-2e1d-4bfc-ba67-b40f9542d279",
   "metadata": {},
   "source": [
    "We now use the parameters we found to compute the resulting unitary."
   ]
  },
  {
   "cell_type": "code",
   "execution_count": 85,
   "id": "d9a72e98-116c-42f2-9b57-a98fe4b53d3f",
   "metadata": {
    "execution": {
     "iopub.execute_input": "2021-04-11T12:19:15.889428Z",
     "iopub.status.busy": "2021-04-11T12:19:15.889188Z",
     "iopub.status.idle": "2021-04-11T12:19:15.908428Z",
     "shell.execute_reply": "2021-04-11T12:19:15.907266Z",
     "shell.execute_reply.started": "2021-04-11T12:19:15.889394Z"
    },
    "tags": []
   },
   "outputs": [],
   "source": [
    "def simulate_more_realistic_qubit(\n",
    "    duration=1, values=np.array([np.pi]), shots=1024, repetitions=1\n",
    "):\n",
    "        \n",
    "    alpha_values, gamma_values = values\n",
    "    \n",
    "    with qctrl.create_graph() as graph:\n",
    "\n",
    "        # Create gamma(t) signal in Fourier bases. To demonstrate the full\n",
    "        # flexibility, we show how to use both randomized and optimizable\n",
    "        # basis elements. Elements with fixed frequencies may be chosen too.\n",
    "        gamma = qctrl.operations.pwc_signal(\n",
    "            duration=duration,\n",
    "            values=gamma_values,\n",
    "            name=\"gamma\",\n",
    "        )\n",
    "        \n",
    "#         alpha = qctrl.operations.pwc_signal(\n",
    "#             duration=duration,\n",
    "#             values=alpha_values,\n",
    "#             name=\"alpha\",\n",
    "#         )\n",
    "\n",
    "        # Create alpha(t) signal\n",
    "#         alpha = qctrl.operations.real_fourier_pwc_signal(\n",
    "#             duration=duration,\n",
    "#             segments_count=segment_count,\n",
    "#             initial_coefficient_lower_bound=-alpha_max,\n",
    "#             initial_coefficient_upper_bound=alpha_max,\n",
    "#             optimizable_frequencies_count=10,\n",
    "#             name=\"alpha\",\n",
    "#         )\n",
    "\n",
    "#         # Create anharmonicity term\n",
    "#         anharmonicity = qctrl.operations.constant_pwc_operator(\n",
    "#             duration,\n",
    "#             ad2a2 * chi / 2,\n",
    "#         )\n",
    "        # Create drive term\n",
    "        drive = qctrl.operations.pwc_operator_hermitian_part(\n",
    "            qctrl.operations.pwc_operator(signal=gamma, operator=2 * a)\n",
    "        )\n",
    "\n",
    "#         # Create clock shift term\n",
    "#         shift = qctrl.operations.pwc_operator(signal=alpha, operator=ada / 2)\n",
    "\n",
    "#         # Construct Hamiltonian.\n",
    "#         hamiltonian = qctrl.operations.pwc_sum([anharmonicity, drive, shift])\n",
    "        # Construct Hamiltonian.\n",
    "        hamiltonian = qctrl.operations.pwc_sum([drive])\n",
    "\n",
    "        # Solve Schrodinger's equation and get total unitary at the end\n",
    "        unitary = qctrl.operations.time_evolution_operators_pwc(\n",
    "            hamiltonian=hamiltonian,\n",
    "            sample_times=np.array([duration]),\n",
    "        )[-1]\n",
    "        unitary.name = \"unitary\"\n",
    "\n",
    "        # Repeat final unitary\n",
    "        repeated_unitary = np.eye(N)\n",
    "        for _ in range(repetitions):\n",
    "            repeated_unitary = repeated_unitary @ unitary\n",
    "        repeated_unitary.name = \"repeated_unitary\"\n",
    "\n",
    "        # Calculate final state.\n",
    "        state = repeated_unitary @ initial_state\n",
    "\n",
    "        # Calculate final populations.\n",
    "        populations = qctrl.operations.abs(state[:, 0]) ** 2\n",
    "        # Normalize populations\n",
    "        norm = qctrl.operations.sum(populations)\n",
    "        populations = populations / norm\n",
    "        populations.name = \"populations\"\n",
    "\n",
    "    # Evaluate graph.\n",
    "    result = qctrl.functions.calculate_graph(\n",
    "        graph=graph,\n",
    "        output_node_names=[\"unitary\", \"repeated_unitary\", \"populations\"],\n",
    "    )\n",
    "\n",
    "    # Extract outputs.\n",
    "    unitary = result.output[\"unitary\"][\"value\"]\n",
    "    repeated_unitary = result.output[\"repeated_unitary\"][\"value\"]\n",
    "    populations = result.output[\"populations\"][\"value\"]\n",
    "\n",
    "    # Sample projective measurements.\n",
    "    true_measurements = np.random.choice(N, size=shots, p=populations)\n",
    "    measurements = np.array(\n",
    "        [np.random.choice(N, p=confusion_matrix[m]) for m in true_measurements]\n",
    "    )\n",
    "\n",
    "    results = {\"unitary\": unitary, \"measurements\": measurements}\n",
    "\n",
    "    return results"
   ]
  },
  {
   "cell_type": "code",
   "execution_count": 95,
   "id": "07502414-fde7-4908-ad69-2761b9a966e6",
   "metadata": {
    "execution": {
     "iopub.execute_input": "2021-04-11T12:22:59.461638Z",
     "iopub.status.busy": "2021-04-11T12:22:59.461105Z",
     "iopub.status.idle": "2021-04-11T12:22:59.473196Z",
     "shell.execute_reply": "2021-04-11T12:22:59.471909Z",
     "shell.execute_reply.started": "2021-04-11T12:22:59.461565Z"
    },
    "tags": []
   },
   "outputs": [],
   "source": [
    "max_rabi_rate = 20 * 2 * np.pi  # MHz\n",
    "max_rabi_rate = 51.131165788396\n",
    "not_duration = np.pi / (max_rabi_rate)  # us\n",
    "h_duration = np.pi / (2 * max_rabi_rate)  # us\n",
    "shots = 1024\n",
    "#not_duration = h_duration = 100e-9"
   ]
  },
  {
   "cell_type": "code",
   "execution_count": 96,
   "id": "8a5201d7-cb44-4b9e-970b-1a9f0f90b0da",
   "metadata": {
    "execution": {
     "iopub.execute_input": "2021-04-11T12:23:00.106191Z",
     "iopub.status.busy": "2021-04-11T12:23:00.105852Z",
     "iopub.status.idle": "2021-04-11T12:23:10.358507Z",
     "shell.execute_reply": "2021-04-11T12:23:10.355422Z",
     "shell.execute_reply.started": "2021-04-11T12:23:00.106152Z"
    },
    "tags": []
   },
   "outputs": [
    {
     "name": "stderr",
     "output_type": "stream",
     "text": [
      "100%|██████████| 100/100 [00:08<00:00, 12.43it/s]\n"
     ]
    },
    {
     "name": "stdout",
     "output_type": "stream",
     "text": [
      "Optimized cost:\t 8.149037000748649e-14\n"
     ]
    },
    {
     "data": {
      "image/png": "[encoded data removed]",
      "text/plain": [
       "<Figure size 504x288 with 2 Axes>"
      ]
     },
     "metadata": {
      "needs_background": "light"
     },
     "output_type": "display_data"
    }
   ],
   "source": [
    "not_values, not_controls = get_optimal_pulse(sigma_x_leak, duration=not_duration)"
   ]
  },
  {
   "cell_type": "code",
   "execution_count": 97,
   "id": "090d1881-781a-407c-a945-068b60d9a950",
   "metadata": {
    "execution": {
     "iopub.execute_input": "2021-04-11T12:23:10.361189Z",
     "iopub.status.busy": "2021-04-11T12:23:10.360406Z",
     "iopub.status.idle": "2021-04-11T12:23:13.813260Z",
     "shell.execute_reply": "2021-04-11T12:23:13.811182Z",
     "shell.execute_reply.started": "2021-04-11T12:23:10.361152Z"
    },
    "tags": []
   },
   "outputs": [
    {
     "name": "stderr",
     "output_type": "stream",
     "text": [
      "100%|██████████| 100/100 [00:02<00:00, 37.73it/s]\n"
     ]
    }
   ],
   "source": [
    "not_results = simulate_more_realistic_qubit(\n",
    "    duration=not_duration, values=not_values, shots=shots\n",
    ")"
   ]
  },
  {
   "cell_type": "code",
   "execution_count": 98,
   "id": "66dce302-0e37-4eb1-86b9-28b2185e0c7d",
   "metadata": {
    "execution": {
     "iopub.execute_input": "2021-04-11T12:23:13.817936Z",
     "iopub.status.busy": "2021-04-11T12:23:13.816908Z",
     "iopub.status.idle": "2021-04-11T12:23:24.720496Z",
     "shell.execute_reply": "2021-04-11T12:23:24.719620Z",
     "shell.execute_reply.started": "2021-04-11T12:23:13.817873Z"
    },
    "tags": []
   },
   "outputs": [
    {
     "name": "stderr",
     "output_type": "stream",
     "text": [
      "100%|██████████| 100/100 [00:05<00:00, 18.77it/s]\n"
     ]
    },
    {
     "name": "stdout",
     "output_type": "stream",
     "text": [
      "Optimized cost:\t 7.815970093361102e-14\n"
     ]
    },
    {
     "data": {
      "image/png": "[encoded data removed]",
      "text/plain": [
       "<Figure size 504x288 with 2 Axes>"
      ]
     },
     "metadata": {
      "needs_background": "light"
     },
     "output_type": "display_data"
    },
    {
     "name": "stderr",
     "output_type": "stream",
     "text": [
      "100%|██████████| 100/100 [00:02<00:00, 37.63it/s]\n"
     ]
    }
   ],
   "source": [
    "h_values, h_controls = get_optimal_pulse(hadamard_leak, duration=h_duration)\n",
    "\n",
    "h_results = simulate_more_realistic_qubit(\n",
    "    duration=h_duration, values=h_values, shots=shots\n",
    ")"
   ]
  },
  {
   "cell_type": "code",
   "execution_count": 99,
   "id": "35c0df79-a724-4ade-b9b9-c2cea88d815b",
   "metadata": {
    "execution": {
     "iopub.execute_input": "2021-04-11T12:23:24.722059Z",
     "iopub.status.busy": "2021-04-11T12:23:24.721725Z",
     "iopub.status.idle": "2021-04-11T12:23:24.726924Z",
     "shell.execute_reply": "2021-04-11T12:23:24.725867Z",
     "shell.execute_reply.started": "2021-04-11T12:23:24.722021Z"
    },
    "tags": []
   },
   "outputs": [],
   "source": [
    "error_norm = (\n",
    "    lambda operate_a, operator_b: 1\n",
    "    - np.abs(np.trace((operate_a[:2,:2].conj().T @ operator_b[:2,:2])) / 2) ** 2\n",
    ")"
   ]
  },
  {
   "cell_type": "code",
   "execution_count": 100,
   "id": "7be04d95-ea3b-4952-ad87-45161b55303b",
   "metadata": {
    "execution": {
     "iopub.execute_input": "2021-04-11T12:23:24.728669Z",
     "iopub.status.busy": "2021-04-11T12:23:24.728320Z",
     "iopub.status.idle": "2021-04-11T12:23:24.740267Z",
     "shell.execute_reply": "2021-04-11T12:23:24.738374Z",
     "shell.execute_reply.started": "2021-04-11T12:23:24.728617Z"
    },
    "tags": []
   },
   "outputs": [],
   "source": [
    "def get_pulse_plot_dict(name=\"default\", duration=1, values=np.array([1.0])):\n",
    "    segments = len(values)\n",
    "    segment_durations = duration / segments\n",
    "    pulse_plot_dict = {\n",
    "        name: [{\"duration\": segment_durations, \"value\": v} for v in values]\n",
    "    }\n",
    "    return pulse_plot_dict\n",
    "def estimate_probability_of_one(measurements):\n",
    "    size = len(measurements)\n",
    "    probability = np.mean(measurements)\n",
    "    standard_error = np.std(measurements) / np.sqrt(size)\n",
    "    return (probability, standard_error)"
   ]
  },
  {
   "cell_type": "code",
   "execution_count": 101,
   "id": "ff4f4042-d1af-45e2-871b-33d43020a23b",
   "metadata": {
    "execution": {
     "iopub.execute_input": "2021-04-11T12:23:24.742710Z",
     "iopub.status.busy": "2021-04-11T12:23:24.742095Z",
     "iopub.status.idle": "2021-04-11T12:23:24.770690Z",
     "shell.execute_reply": "2021-04-11T12:23:24.768962Z",
     "shell.execute_reply.started": "2021-04-11T12:23:24.742663Z"
    },
    "tags": []
   },
   "outputs": [
    {
     "name": "stdout",
     "output_type": "stream",
     "text": [
      "Realised NOT Gate:\n",
      "[[-2.78832096e-07-8.37122012e-09j  5.80044797e-01-8.14584578e-01j\n",
      "   1.69952606e-08+1.58470302e-07j]\n",
      " [ 5.80044534e-01-8.14584765e-01j -9.91156955e-08-2.60755583e-07j\n",
      "   3.49793846e-07+7.81541284e-08j]\n",
      " [ 2.66559244e-07+2.39603746e-07j  1.38945601e-07-7.80757669e-08j\n",
      "   3.27096365e-01-9.44990988e-01j]]\n",
      "Ideal NOT Gate:\n",
      "[[0.-0.j 0.-1.j 0.-0.j]\n",
      " [0.-1.j 0.-0.j 0.-0.j]\n",
      " [0.-0.j 0.-0.j 0.-1.j]]\n",
      "NOT Gate Error:8.193445921733655e-14\n",
      "NOT estimated probability of getting 1:0.9873046875\n",
      "NOT estimate standard error:0.0034986243865512676\n",
      "\n",
      "Realised H Gate:\n",
      "[[ 6.01263996e-01+3.72131096e-01j  6.01264059e-01+3.72131141e-01j\n",
      "   6.25284428e-08+3.43742813e-08j]\n",
      " [ 6.01264070e-01+3.72131122e-01j -6.01264002e-01-3.72131086e-01j\n",
      "   2.56164394e-08-4.36831292e-08j]\n",
      " [ 5.64624936e-08-2.72043767e-08j -6.85368655e-09-6.06692555e-08j\n",
      "  -4.46073740e-01+8.94996211e-01j]]\n",
      "Ideal H Gate:\n",
      "[[0.-0.70710678j 0.-0.70710678j 0.-0.j        ]\n",
      " [0.-0.70710678j 0.+0.70710678j 0.-0.j        ]\n",
      " [0.-0.j         0.-0.j         0.-1.j        ]]\n",
      "H Gate Error:-8.393286066166183e-14\n",
      "H estimated probability of getting 1:0.4853515625\n",
      "H estimate standard error:0.01561829303799591\n"
     ]
    }
   ],
   "source": [
    "realised_not_gate = not_results[\"unitary\"]\n",
    "ideal_not_gate = np.array([[0, 1], [1, 0]]) * -1j\n",
    "ideal_not_gate = np.array([[0, 1, 0], [1, 0, 0], [0,0,1]]) * -1j\n",
    "not_error = error_norm(realised_not_gate, ideal_not_gate)\n",
    "realised_h_gate = h_results[\"unitary\"]\n",
    "ideal_h_gate = (1 / np.sqrt(2)) * np.array([[1, -1j], [-1j, 1]])\n",
    "ideal_h_gate = (1 / np.sqrt(2)) * np.array([[1, 1], [1, -1]]) * -1j\n",
    "ideal_h_gate = (1 / np.sqrt(2)) * np.array([[1, 1, 0], [1, -1, 0], [0,0,np.sqrt(2)]]) * -1j\n",
    "h_error = error_norm(realised_h_gate, ideal_h_gate)\n",
    "\n",
    "not_measurements = not_results[\"measurements\"]\n",
    "h_measurements = h_results[\"measurements\"]\n",
    "not_probability, not_standard_error = estimate_probability_of_one(not_measurements)\n",
    "h_probability, h_standard_error = estimate_probability_of_one(h_measurements)\n",
    "\n",
    "print(\"Realised NOT Gate:\")\n",
    "print(realised_not_gate)\n",
    "print(\"Ideal NOT Gate:\")\n",
    "print(ideal_not_gate)\n",
    "print(\"NOT Gate Error:\" + str(not_error))\n",
    "print(\"NOT estimated probability of getting 1:\" + str(not_probability))\n",
    "print(\"NOT estimate standard error:\" + str(not_standard_error) + \"\\n\")\n",
    "\n",
    "print(\"Realised H Gate:\")\n",
    "print(realised_h_gate)\n",
    "print(\"Ideal H Gate:\")\n",
    "print(ideal_h_gate)\n",
    "print(\"H Gate Error:\" + str(h_error))\n",
    "print(\"H estimated probability of getting 1:\" + str(h_probability))\n",
    "print(\"H estimate standard error:\" + str(h_standard_error))"
   ]
  },
  {
   "cell_type": "code",
   "execution_count": 112,
   "id": "002e2aac-54b9-458f-a988-da80d8654097",
   "metadata": {
    "execution": {
     "iopub.execute_input": "2021-04-11T12:41:58.801243Z",
     "iopub.status.busy": "2021-04-11T12:41:58.800891Z",
     "iopub.status.idle": "2021-04-11T12:42:08.732320Z",
     "shell.execute_reply": "2021-04-11T12:42:08.730178Z",
     "shell.execute_reply.started": "2021-04-11T12:41:58.801203Z"
    },
    "tags": []
   },
   "outputs": [
    {
     "name": "stderr",
     "output_type": "stream",
     "text": [
      "100%|██████████| 100/100 [00:02<00:00, 36.83it/s]\n",
      "100%|██████████| 100/100 [00:05<00:00, 18.27it/s]\n"
     ]
    }
   ],
   "source": [
    "shot_count = 1024\n",
    "Not_values = np.array(not_values[1])/np.max(np.abs(not_values[1]))\n",
    "Not_duration = not_duration*np.max(np.abs(not_values[1]))*1e-6\n",
    "#print(Not_duration, Not_values)\n",
    "not_controls = [{'duration': Not_duration, 'values': Not_values}]\n",
    "not_experiment_results = qctrl.functions.calculate_qchack_measurements(\n",
    "            controls=not_controls,\n",
    "            shot_count=shot_count,\n",
    "        )\n",
    "shot_count = 1024\n",
    "H_values = np.array(h_values[1])/np.max(np.abs(h_values[1]))\n",
    "H_duration = h_duration*np.max(np.abs(h_values[1]))*1e-6\n",
    "#print(H_duration, H_values)\n",
    "h_controls = [{'duration': H_duration, 'values': H_values}]\n",
    "h_experiment_results = qctrl.functions.calculate_qchack_measurements(\n",
    "            controls=h_controls,\n",
    "            shot_count=shot_count,\n",
    "        )"
   ]
  },
  {
   "cell_type": "code",
   "execution_count": 117,
   "id": "5495b468-22f5-4e4a-b0c2-a038421a209f",
   "metadata": {
    "execution": {
     "iopub.execute_input": "2021-04-11T13:36:51.070649Z",
     "iopub.status.busy": "2021-04-11T13:36:51.070283Z",
     "iopub.status.idle": "2021-04-11T13:36:51.082843Z",
     "shell.execute_reply": "2021-04-11T13:36:51.080574Z",
     "shell.execute_reply.started": "2021-04-11T13:36:51.070609Z"
    },
    "tags": []
   },
   "outputs": [
    {
     "data": {
      "text/plain": [
       "0.228515625"
      ]
     },
     "execution_count": 117,
     "metadata": {},
     "output_type": "execute_result"
    }
   ],
   "source": [
    "np.sum(not_experiment_results.measurements)/1024"
   ]
  },
  {
   "cell_type": "code",
   "execution_count": 118,
   "id": "33581f87-fb48-44f7-86b4-c2d10580eba9",
   "metadata": {
    "execution": {
     "iopub.execute_input": "2021-04-11T13:37:04.757691Z",
     "iopub.status.busy": "2021-04-11T13:37:04.756446Z",
     "iopub.status.idle": "2021-04-11T13:37:04.765649Z",
     "shell.execute_reply": "2021-04-11T13:37:04.764720Z",
     "shell.execute_reply.started": "2021-04-11T13:37:04.757631Z"
    }
   },
   "outputs": [
    {
     "data": {
      "text/plain": [
       "0.0400390625"
      ]
     },
     "execution_count": 118,
     "metadata": {},
     "output_type": "execute_result"
    }
   ],
   "source": [
    "np.sum(h_experiment_results.measurements)/1024"
   ]
  },
  {
   "cell_type": "code",
   "execution_count": 113,
   "id": "bdeb475d-fc39-4679-b80c-38a653732146",
   "metadata": {
    "execution": {
     "iopub.execute_input": "2021-04-11T12:42:18.208099Z",
     "iopub.status.busy": "2021-04-11T12:42:18.207860Z",
     "iopub.status.idle": "2021-04-11T12:42:18.212914Z",
     "shell.execute_reply": "2021-04-11T12:42:18.211918Z",
     "shell.execute_reply.started": "2021-04-11T12:42:18.208074Z"
    },
    "tags": []
   },
   "outputs": [
    {
     "name": "stdout",
     "output_type": "stream",
     "text": [
      "Result(measurements=[[1, 0, 0, 0, 0, 1, 0, 0, 0, 0, 0, 0, 0, 0, 0, 1, 0, 0, 1, 0, 0, 0, 0, 0, 0, 1, 1, 0, 0, 1, 1, 1, 0, 0, 0, 0, 0, 0, 0, 0, 0, 0, 0, 0, 1, 0, 1, 0, 0, 0, 0, 0, 0, 0, 1, 1, 0, 0, 0, 0, 0, 1, 0, 0, 1, 0, 0, 0, 0, 0, 0, 1, 0, 0, 0, 1, 1, 0, 0, 0, 0, 0, 1, 0, 0, 0, 0, 0, 0, 1, 0, 0, 0, 0, 0, 0, 0, 0, 0, 0, 1, 1, 0, 0, 0, 0, 0, 0, 0, 0, 1, 0, 0, 0, 0, 0, 0, 0, 0, 0, 0, 0, 0, 0, 0, 1, 0, 0, 0, 0, 1, 0, 0, 1, 0, 0, 0, 0, 0, 1, 0, 0, 0, 1, 0, 0, 0, 0, 0, 0, 0, 0, 0, 0, 0, 0, 1, 0, 1, 1, 0, 0, 1, 1, 0, 0, 0, 1, 0, 0, 0, 0, 1, 0, 1, 0, 1, 0, 0, 0, 1, 0, 0, 0, 0, 0, 0, 0, 0, 1, 0, 0, 0, 1, 0, 1, 0, 0, 0, 0, 0, 0, 0, 0, 0, 0, 1, 1, 0, 0, 0, 0, 0, 0, 0, 1, 0, 0, 0, 0, 0, 0, 0, 1, 1, 0, 0, 0, 0, 0, 0, 1, 0, 0, 0, 0, 0, 0, 0, 1, 0, 0, 0, 0, 0, 0, 0, 0, 0, 0, 0, 0, 0, 0, 0, 0, 1, 0, 0, 0, 0, 0, 1, 1, 0, 0, 0, 0, 0, 0, 1, 0, 0, 1, 0, 0, 0, 0, 0, 0, 0, 0, 0, 0, 0, 1, 0, 0, 0, 0, 0, 0, 0, 1, 0, 0, 0, 0, 1, 0, 1, 1, 0, 0, 1, 0, 0, 1, 0, 0, 1, 0, 0, 0, 0, 0, 0, 1, 1, 1, 0, 1, 1, 0, 0, 0, 1, 1, 0, 0, 0, 0, 0, 0, 0, 0, 0, 0, 0, 0, 0, 0, 1, 1, 1, 0, 0, 1, 0, 0, 0, 0, 0, 1, 1, 1, 0, 1, 0, 1, 0, 0, 0, 0, 0, 0, 1, 0, 0, 0, 0, 0, 0, 1, 1, 0, 0, 0, 1, 0, 0, 1, 0, 0, 0, 0, 0, 0, 0, 0, 0, 1, 0, 0, 0, 0, 0, 0, 0, 1, 1, 0, 0, 1, 0, 0, 1, 0, 0, 1, 0, 1, 0, 0, 0, 0, 0, 0, 0, 0, 0, 0, 0, 0, 0, 0, 0, 1, 0, 0, 0, 0, 0, 1, 1, 0, 0, 0, 0, 0, 1, 0, 0, 1, 1, 0, 0, 0, 0, 1, 1, 0, 0, 0, 0, 1, 0, 1, 0, 0, 0, 1, 0, 1, 0, 0, 0, 0, 0, 0, 0, 0, 1, 1, 0, 0, 0, 1, 0, 0, 1, 0, 0, 1, 0, 0, 0, 0, 0, 0, 0, 0, 0, 1, 0, 0, 0, 1, 0, 0, 0, 0, 0, 0, 0, 1, 1, 0, 0, 0, 0, 0, 0, 1, 0, 0, 0, 1, 1, 0, 1, 1, 0, 0, 0, 0, 0, 1, 0, 0, 1, 0, 0, 0, 0, 0, 0, 0, 0, 0, 0, 1, 0, 0, 1, 0, 1, 1, 0, 1, 0, 0, 0, 1, 0, 0, 0, 0, 0, 0, 1, 0, 0, 0, 0, 0, 1, 1, 0, 0, 0, 0, 0, 0, 2, 1, 0, 0, 0, 0, 0, 0, 0, 0, 0, 0, 0, 0, 1, 0, 0, 1, 0, 0, 0, 0, 0, 0, 1, 0, 1, 0, 1, 0, 0, 0, 0, 1, 0, 0, 0, 1, 0, 0, 0, 1, 1, 0, 0, 1, 0, 0, 0, 1, 0, 0, 0, 0, 0, 1, 0, 0, 0, 0, 0, 0, 0, 0, 0, 1, 0, 0, 0, 0, 0, 0, 1, 0, 0, 0, 1, 1, 1, 0, 1, 0, 0, 1, 0, 0, 0, 0, 1, 0, 0, 1, 0, 0, 0, 0, 0, 0, 0, 1, 1, 0, 1, 1, 1, 0, 0, 1, 0, 1, 0, 0, 0, 0, 0, 0, 0, 0, 1, 0, 0, 0, 1, 0, 0, 1, 0, 1, 0, 1, 0, 0, 0, 0, 1, 1, 0, 1, 1, 1, 0, 1, 0, 0, 0, 0, 0, 0, 0, 0, 0, 0, 0, 0, 0, 0, 1, 0, 0, 0, 0, 0, 1, 0, 0, 0, 0, 0, 0, 0, 0, 0, 0, 0, 0, 0, 1, 0, 0, 0, 0, 0, 0, 1, 0, 0, 0, 1, 0, 1, 0, 0, 0, 0, 0, 1, 0, 0, 0, 1, 0, 0, 0, 1, 0, 0, 0, 1, 0, 0, 0, 1, 0, 0, 1, 1, 0, 0, 0, 1, 0, 0, 0, 1, 0, 0, 0, 1, 0, 0, 0, 0, 0, 0, 0, 1, 0, 1, 0, 0, 0, 0, 1, 0, 0, 0, 1, 1, 0, 0, 1, 0, 0, 0, 0, 1, 1, 0, 0, 0, 0, 1, 0, 0, 0, 0, 0, 0, 0, 1, 0, 0, 0, 0, 0, 0, 0, 0, 0, 0, 0, 0, 1, 0, 0, 1, 0, 1, 0, 0, 1, 1, 0, 1, 1, 0, 0, 0, 0, 1, 0, 0, 0, 0, 1, 0, 0, 0, 1, 0, 1, 0, 1, 0, 0, 0, 0, 0, 1, 0, 0, 1, 0, 0, 0, 0, 0, 0, 1, 0, 0, 0, 0, 0, 0, 0, 0, 0, 0, 0, 0, 0, 0, 1, 0, 0, 1, 0, 0, 0, 1, 0, 0, 0, 1, 1, 0, 0, 1, 0, 0, 0, 0, 0, 0, 0, 0, 0, 0, 1, 0, 1, 1, 1, 0, 0, 0, 1, 0, 0, 0, 0, 0, 1, 0, 0, 0, 0, 0, 0, 1, 1, 1, 0, 1, 0, 0, 0, 0, 0, 0, 0, 0, 0, 0, 0, 0, 0, 1, 0, 0, 0, 0, 0, 0, 0, 0, 1, 1, 0, 1, 0, 0, 0, 0, 1, 0, 0, 0, 0, 1, 0, 0, 0, 1, 0, 0, 0, 0, 0, 0, 0, 0, 1, 1, 0, 0, 0, 0, 0]], action=CoreAction(created_at=None, definition=None, errors=ActionError(exception=None, traceback=None), job_data=None, job_id=None, model_id='384401', model_type=None, mutation_name=None, name='core__calculateQchackMeasurements', progress=1.0, result=None, runtime=None, started_at=None, status='SUCCESS', terminated_at=None, updated_at=None, user=None), errors=None) Result(measurements=[[0, 0, 0, 0, 0, 0, 0, 0, 0, 0, 0, 0, 0, 0, 0, 0, 0, 0, 0, 0, 0, 0, 0, 0, 0, 0, 0, 0, 0, 1, 0, 0, 0, 0, 0, 0, 0, 0, 0, 0, 0, 0, 0, 0, 0, 0, 0, 0, 0, 0, 0, 0, 0, 0, 0, 0, 0, 0, 0, 0, 0, 0, 0, 0, 0, 0, 0, 0, 0, 0, 0, 0, 0, 0, 0, 0, 0, 0, 0, 0, 0, 0, 0, 0, 0, 0, 0, 0, 1, 0, 0, 0, 0, 0, 0, 0, 0, 0, 0, 0, 0, 0, 0, 1, 0, 0, 0, 0, 0, 0, 0, 0, 0, 0, 0, 0, 0, 0, 0, 0, 0, 0, 0, 0, 0, 0, 0, 0, 0, 0, 1, 0, 0, 0, 0, 0, 0, 0, 0, 0, 0, 0, 0, 0, 0, 0, 0, 0, 0, 0, 0, 0, 0, 0, 0, 0, 0, 0, 0, 0, 0, 0, 0, 0, 0, 0, 0, 0, 0, 0, 0, 0, 0, 0, 0, 0, 0, 0, 0, 0, 0, 0, 0, 1, 0, 0, 0, 0, 0, 0, 0, 0, 0, 0, 0, 0, 0, 0, 0, 0, 0, 0, 0, 0, 0, 0, 0, 0, 0, 0, 0, 0, 0, 0, 0, 0, 0, 0, 1, 0, 0, 0, 0, 0, 0, 0, 0, 0, 0, 0, 0, 0, 0, 0, 0, 0, 1, 0, 0, 0, 0, 0, 0, 0, 0, 0, 0, 0, 0, 0, 0, 0, 0, 0, 0, 0, 0, 0, 0, 0, 0, 0, 0, 0, 0, 0, 0, 0, 0, 0, 0, 0, 0, 0, 0, 0, 0, 0, 0, 0, 0, 0, 0, 0, 0, 0, 0, 0, 0, 0, 0, 0, 0, 0, 0, 0, 0, 0, 0, 0, 0, 0, 0, 0, 0, 0, 1, 0, 0, 0, 0, 0, 0, 0, 0, 0, 0, 0, 0, 0, 1, 0, 0, 0, 0, 0, 1, 0, 0, 0, 0, 0, 0, 0, 0, 0, 0, 0, 0, 1, 0, 0, 0, 0, 0, 1, 0, 0, 0, 0, 0, 0, 0, 0, 0, 0, 1, 0, 0, 0, 0, 0, 0, 0, 0, 0, 0, 0, 0, 0, 0, 0, 0, 0, 0, 0, 0, 1, 0, 1, 0, 0, 0, 1, 0, 0, 0, 0, 0, 0, 0, 1, 0, 0, 0, 0, 0, 0, 0, 0, 0, 0, 0, 0, 0, 0, 0, 0, 0, 0, 0, 0, 0, 0, 0, 0, 0, 0, 0, 0, 0, 0, 0, 0, 0, 0, 0, 0, 0, 0, 0, 0, 0, 0, 0, 0, 0, 0, 0, 0, 0, 0, 0, 0, 0, 0, 0, 0, 0, 0, 0, 0, 0, 0, 0, 0, 0, 0, 0, 0, 0, 0, 0, 0, 0, 0, 0, 0, 1, 0, 0, 0, 0, 0, 0, 0, 0, 0, 0, 0, 0, 0, 0, 0, 0, 0, 0, 0, 0, 0, 0, 0, 0, 0, 0, 0, 0, 0, 0, 1, 0, 0, 0, 0, 0, 0, 0, 0, 0, 0, 0, 0, 0, 0, 0, 0, 0, 0, 0, 0, 0, 0, 0, 0, 0, 0, 0, 0, 0, 0, 0, 1, 0, 0, 0, 0, 0, 0, 0, 0, 0, 0, 0, 0, 0, 0, 0, 0, 0, 0, 0, 0, 0, 0, 0, 0, 0, 0, 0, 0, 0, 0, 0, 0, 1, 0, 0, 0, 0, 0, 0, 0, 0, 0, 0, 0, 0, 0, 0, 0, 0, 0, 0, 0, 0, 0, 0, 0, 0, 0, 0, 0, 0, 0, 0, 1, 0, 0, 0, 0, 0, 0, 0, 0, 0, 0, 0, 0, 0, 0, 0, 0, 0, 0, 0, 0, 0, 0, 1, 0, 0, 0, 0, 0, 0, 1, 1, 0, 0, 0, 0, 0, 0, 0, 0, 0, 0, 0, 1, 0, 0, 0, 0, 0, 0, 0, 0, 0, 0, 0, 0, 0, 0, 0, 0, 0, 0, 1, 0, 0, 0, 0, 0, 0, 0, 0, 0, 0, 0, 0, 0, 0, 0, 0, 0, 0, 0, 0, 0, 0, 0, 0, 0, 0, 0, 0, 0, 0, 0, 0, 0, 0, 0, 0, 0, 0, 0, 0, 0, 0, 0, 0, 0, 0, 0, 0, 0, 0, 0, 0, 0, 1, 0, 0, 0, 0, 0, 0, 1, 0, 0, 0, 0, 0, 0, 0, 0, 0, 0, 0, 0, 0, 0, 0, 0, 1, 0, 0, 0, 0, 0, 0, 0, 0, 0, 0, 0, 0, 0, 0, 0, 0, 0, 0, 0, 0, 0, 0, 0, 0, 0, 0, 0, 0, 0, 0, 0, 0, 0, 0, 0, 0, 0, 0, 0, 0, 0, 0, 0, 0, 0, 0, 0, 0, 1, 0, 0, 0, 0, 0, 0, 0, 0, 0, 0, 0, 0, 0, 0, 0, 0, 0, 0, 0, 0, 0, 0, 0, 0, 0, 0, 0, 0, 1, 0, 0, 0, 0, 0, 0, 0, 0, 0, 0, 0, 0, 0, 0, 0, 0, 0, 0, 0, 0, 0, 0, 0, 1, 0, 0, 0, 0, 0, 0, 0, 0, 0, 0, 0, 0, 0, 0, 0, 1, 0, 0, 0, 0, 0, 0, 0, 0, 0, 0, 0, 0, 0, 0, 0, 1, 0, 0, 0, 0, 0, 0, 0, 0, 0, 0, 0, 0, 0, 0, 0, 0, 0, 0, 0, 0, 0, 0, 0, 0, 0, 0, 0, 0, 0, 0, 0, 0, 0, 1, 0, 0, 0, 0, 0, 0, 0, 0, 0, 0, 0, 0, 0, 0, 0, 0, 0, 0, 0, 0, 0, 0, 0, 0, 0, 0, 0, 0, 0, 0, 0, 0, 0, 1, 0, 0, 0, 0, 0, 0, 0, 0, 1, 0, 0, 0, 0, 0, 0, 0, 0, 0, 0, 0, 0, 0, 0, 0, 0, 0, 0, 0, 0, 0, 0, 0, 0, 0, 0, 0, 1, 0, 0, 0, 0, 0, 0, 0, 0, 0, 0, 0, 0, 0, 0, 0, 0, 0, 0, 0, 0, 0, 0, 0, 0, 0, 0, 0, 0, 0, 0, 1, 0, 0, 0, 0, 0, 0, 0, 0, 0, 0, 1, 0, 0, 0, 0, 0, 0, 0]], action=CoreAction(created_at=None, definition=None, errors=ActionError(exception=None, traceback=None), job_data=None, job_id=None, model_id='384405', model_type=None, mutation_name=None, name='core__calculateQchackMeasurements', progress=1.0, result=None, runtime=None, started_at=None, status='SUCCESS', terminated_at=None, updated_at=None, user=None), errors=None)\n"
     ]
    }
   ],
   "source": [
    "print(not_experiment_results, h_experiment_results)"
   ]
  },
  {
   "cell_type": "code",
   "execution_count": 114,
   "id": "edc7f0f2-c2cb-4410-a374-3d6c75b083f6",
   "metadata": {
    "execution": {
     "iopub.execute_input": "2021-04-11T12:44:46.515990Z",
     "iopub.status.busy": "2021-04-11T12:44:46.515753Z",
     "iopub.status.idle": "2021-04-11T12:44:46.528412Z",
     "shell.execute_reply": "2021-04-11T12:44:46.527612Z",
     "shell.execute_reply.started": "2021-04-11T12:44:46.515966Z"
    },
    "tags": []
   },
   "outputs": [],
   "source": [
    "import jsonpickle.ext.numpy as jsonpickle_numpy\n",
    "import jsonpickle\n",
    "import numpy as np\n",
    "\n",
    "jsonpickle_numpy.register_handlers()\n",
    "\n",
    "not_control = {\"duration\": Not_duration, \"value\": Not_values}\n",
    "#print(not_control)\n",
    "json_not_control = jsonpickle.encode(not_control)\n",
    "with open(\"not_gate_pulse_Diogo.json\", \"w\") as file:\n",
    "    file.write(json_not_control)\n",
    "    \n",
    "h_control = {\"duration\": H_duration, \"value\": H_values}\n",
    "#print(not_control)\n",
    "json_h_control = jsonpickle.encode(h_control)\n",
    "with open(\"h_gate_pulse_Diogo.json\", \"w\") as file:\n",
    "    file.write(json_h_control)"
   ]
  },
  {
   "cell_type": "code",
   "execution_count": 13,
   "id": "17dd9744-a1c8-4103-9f15-f1f177f9771e",
   "metadata": {
    "execution": {
     "iopub.execute_input": "2021-04-10T22:56:30.147315Z",
     "iopub.status.busy": "2021-04-10T22:56:30.146661Z",
     "iopub.status.idle": "2021-04-10T22:56:30.153933Z",
     "shell.execute_reply": "2021-04-10T22:56:30.152917Z",
     "shell.execute_reply.started": "2021-04-10T22:56:30.147115Z"
    },
    "tags": []
   },
   "outputs": [],
   "source": [
    "control_count = 5\n",
    "segment_count = 16\n",
    "duration = 30.0\n",
    "shot_count = 32"
   ]
  },
  {
   "cell_type": "code",
   "execution_count": 14,
   "id": "33c2eeae-fccc-4f12-9287-1f548fb70309",
   "metadata": {
    "execution": {
     "iopub.execute_input": "2021-04-10T22:56:33.508891Z",
     "iopub.status.busy": "2021-04-10T22:56:33.508596Z",
     "iopub.status.idle": "2021-04-10T22:56:34.287077Z",
     "shell.execute_reply": "2021-04-10T22:56:34.286011Z",
     "shell.execute_reply.started": "2021-04-10T22:56:33.508852Z"
    },
    "tags": []
   },
   "outputs": [
    {
     "data": {
      "image/png": "[encoded data removed]",
      "text/plain": [
       "<Figure size 504x288 with 2 Axes>"
      ]
     },
     "metadata": {
      "needs_background": "light"
     },
     "output_type": "display_data"
    }
   ],
   "source": [
    "controls = []\n",
    "for k in range(control_count):\n",
    "    # Create a random string of complex numbers for each controls.\n",
    "    real_part = np.random.random(size=[segment_count])\n",
    "    imag_part = np.random.random(size=[segment_count])\n",
    "    values = 0.15 * k * (real_part + 1j * imag_part)\n",
    "\n",
    "    controls.append({\"duration\": duration, \"values\": values})\n",
    "\n",
    "# Plot the last control as an example.\n",
    "plot_controls(\n",
    "    figure=plt.figure(),\n",
    "    controls={\n",
    "        \"$\\Omega$\": [\n",
    "            {\"duration\": duration / segment_count, \"value\": value} for value in values\n",
    "        ]\n",
    "    },\n",
    ")"
   ]
  },
  {
   "cell_type": "code",
   "execution_count": 15,
   "id": "f6e0f151-9e3c-45a4-8e93-d79c9dfbf6d4",
   "metadata": {
    "execution": {
     "iopub.execute_input": "2021-04-10T22:56:39.429890Z",
     "iopub.status.busy": "2021-04-10T22:56:39.429518Z",
     "iopub.status.idle": "2021-04-10T22:56:42.909881Z",
     "shell.execute_reply": "2021-04-10T22:56:42.908670Z",
     "shell.execute_reply.started": "2021-04-10T22:56:39.429842Z"
    },
    "tags": []
   },
   "outputs": [
    {
     "data": {
      "application/vnd.jupyter.widget-view+json": {
       "model_id": "5e9cc7ffa6f44a9a9bcfe73a9204d32e",
       "version_major": 2,
       "version_minor": 0
      },
      "text/plain": [
       "  0%|          | 0/100 [00:00<?, ?it/s]"
      ]
     },
     "metadata": {},
     "output_type": "display_data"
    },
    {
     "name": "stdout",
     "output_type": "stream",
     "text": [
      "Your task calculate_qchack_measurements has completed in 3s.\n"
     ]
    }
   ],
   "source": [
    "# Obtain the results of the experiment.\n",
    "experiment_results = qctrl.functions.calculate_qchack_measurements(\n",
    "    controls=controls,\n",
    "    shot_count=shot_count,\n",
    ")"
   ]
  },
  {
   "cell_type": "code",
   "execution_count": 16,
   "id": "e3becd2b-7b5f-465b-925c-2b0b5ddd3f4f",
   "metadata": {
    "execution": {
     "iopub.execute_input": "2021-04-10T22:56:48.851542Z",
     "iopub.status.busy": "2021-04-10T22:56:48.851262Z",
     "iopub.status.idle": "2021-04-10T22:56:48.858479Z",
     "shell.execute_reply": "2021-04-10T22:56:48.857342Z",
     "shell.execute_reply.started": "2021-04-10T22:56:48.851507Z"
    },
    "tags": []
   },
   "outputs": [
    {
     "name": "stdout",
     "output_type": "stream",
     "text": [
      "control #0: [0, 0, 0, 0, 0, 0, 0, 0, 0, 0, 0, 0, 0, 0, 0, 0, 0, 0, 0, 0, 0, 0, 0, 0, 0, 0, 0, 0, 0, 0, 0, 0]\n",
      "control #1: [1, 0, 1, 0, 1, 0, 0, 0, 1, 0, 0, 0, 0, 0, 0, 0, 0, 0, 1, 0, 0, 0, 0, 0, 0, 1, 0, 0, 0, 0, 0, 0]\n",
      "control #2: [1, 1, 1, 1, 0, 0, 1, 1, 0, 1, 1, 0, 0, 1, 0, 1, 0, 1, 0, 1, 0, 1, 0, 1, 0, 1, 0, 0, 1, 1, 0, 0]\n",
      "control #3: [1, 1, 0, 1, 1, 0, 1, 0, 1, 1, 0, 1, 0, 1, 1, 1, 0, 0, 1, 1, 1, 1, 0, 1, 1, 1, 1, 0, 1, 1, 1, 0]\n",
      "control #4: [1, 1, 1, 0, 1, 1, 1, 1, 1, 0, 0, 0, 1, 0, 1, 0, 1, 1, 1, 1, 0, 1, 1, 1, 1, 0, 0, 0, 1, 0, 1, 0]\n"
     ]
    }
   ],
   "source": [
    "measurements = experiment_results.measurements\n",
    "for k, measurement_counts in enumerate(measurements):\n",
    "    print(f\"control #{k}: {measurement_counts}\")"
   ]
  },
  {
   "cell_type": "code",
   "execution_count": 17,
   "id": "7510fa28-b0a0-4729-993f-f57ca2c78567",
   "metadata": {
    "execution": {
     "iopub.execute_input": "2021-04-10T22:56:51.117979Z",
     "iopub.status.busy": "2021-04-10T22:56:51.117521Z",
     "iopub.status.idle": "2021-04-10T22:56:51.128815Z",
     "shell.execute_reply": "2021-04-10T22:56:51.126637Z",
     "shell.execute_reply.started": "2021-04-10T22:56:51.117939Z"
    },
    "tags": []
   },
   "outputs": [
    {
     "name": "stdout",
     "output_type": "stream",
     "text": [
      "control #0: P(|0>) = 1.00, P(|1>) = 0.00, P(|2>) = 0.00\n",
      "control #1: P(|0>) = 0.81, P(|1>) = 0.19, P(|2>) = 0.00\n",
      "control #2: P(|0>) = 0.47, P(|1>) = 0.53, P(|2>) = 0.00\n",
      "control #3: P(|0>) = 0.31, P(|1>) = 0.69, P(|2>) = 0.00\n",
      "control #4: P(|0>) = 0.38, P(|1>) = 0.62, P(|2>) = 0.00\n"
     ]
    }
   ],
   "source": [
    "for k, measurement_counts in enumerate(measurements):\n",
    "    p0 = measurement_counts.count(0) / shot_count\n",
    "    p1 = measurement_counts.count(1) / shot_count\n",
    "    p2 = measurement_counts.count(2) / shot_count\n",
    "    print(f\"control #{k}: P(|0>) = {p0:.2f}, P(|1>) = {p1:.2f}, P(|2>) = {p2:.2f}\")"
   ]
  },
  {
   "cell_type": "code",
   "execution_count": 18,
   "id": "6baa477f-93a5-476b-9d23-52abee3718e2",
   "metadata": {
    "execution": {
     "iopub.execute_input": "2021-04-10T22:56:52.106396Z",
     "iopub.status.busy": "2021-04-10T22:56:52.105905Z",
     "iopub.status.idle": "2021-04-10T22:56:55.626154Z",
     "shell.execute_reply": "2021-04-10T22:56:55.625160Z",
     "shell.execute_reply.started": "2021-04-10T22:56:52.106345Z"
    },
    "tags": []
   },
   "outputs": [
    {
     "data": {
      "application/vnd.jupyter.widget-view+json": {
       "model_id": "73e264c783154eaa9247f0c10c99d455",
       "version_major": 2,
       "version_minor": 0
      },
      "text/plain": [
       "  0%|          | 0/100 [00:00<?, ?it/s]"
      ]
     },
     "metadata": {},
     "output_type": "display_data"
    },
    {
     "name": "stdout",
     "output_type": "stream",
     "text": [
      "Your task calculate_qchack_measurements has completed in 3s.\n",
      "With  1 repetitions: P(|0>) = 0.19, P(|1>) = 0.81, P(|2>) = 0.00\n",
      "With  4 repetitions: P(|0>) = 0.22, P(|1>) = 0.78, P(|2>) = 0.00\n",
      "With 16 repetitions: P(|0>) = 0.59, P(|1>) = 0.41, P(|2>) = 0.00\n",
      "With 32 repetitions: P(|0>) = 0.03, P(|1>) = 0.97, P(|2>) = 0.00\n",
      "With 64 repetitions: P(|0>) = 0.97, P(|1>) = 0.03, P(|2>) = 0.00\n"
     ]
    }
   ],
   "source": [
    "repetitions = [1, 4, 16, 32, 64]\n",
    "\n",
    "controls = []\n",
    "# Create a random string of complex numbers for all control,\n",
    "# but set a different repetition_count for each control.\n",
    "real_part = np.random.random(size=[segment_count])\n",
    "imag_part = np.random.random(size=[segment_count])\n",
    "values = 0.5 * (real_part + 1j * imag_part)\n",
    "\n",
    "for repetition_count in repetitions:\n",
    "    controls.append(\n",
    "        {\"duration\": duration, \"values\": values, \"repetition_count\": repetition_count}\n",
    "    )\n",
    "\n",
    "experiment_results = qctrl.functions.calculate_qchack_measurements(\n",
    "    controls=controls,\n",
    "    shot_count=shot_count,\n",
    ")\n",
    "\n",
    "for repetition_count, measurement_counts in zip(\n",
    "    repetitions, experiment_results.measurements\n",
    "):\n",
    "    p0 = measurement_counts.count(0) / shot_count\n",
    "    p1 = measurement_counts.count(1) / shot_count\n",
    "    p2 = measurement_counts.count(2) / shot_count\n",
    "    print(\n",
    "        f\"With {repetition_count:2d} repetitions: P(|0>) = {p0:.2f}, P(|1>) = {p1:.2f}, P(|2>) = {p2:.2f}\"\n",
    "    )"
   ]
  },
  {
   "cell_type": "code",
   "execution_count": null,
   "id": "82db65e3-95d9-4456-8a32-c67699cd4dff",
   "metadata": {},
   "outputs": [],
   "source": []
  }
 ],
 "metadata": {
  "kernelspec": {
   "display_name": "Python 3",
   "language": "python",
   "name": "python3"
  },
  "language_info": {
   "codemirror_mode": {
    "name": "ipython",
    "version": 3
   },
   "file_extension": ".py",
   "mimetype": "text/x-python",
   "name": "python",
   "nbconvert_exporter": "python",
   "pygments_lexer": "ipython3",
   "version": "3.8.8"
  }
 },
 "nbformat": 4,
 "nbformat_minor": 5
}
