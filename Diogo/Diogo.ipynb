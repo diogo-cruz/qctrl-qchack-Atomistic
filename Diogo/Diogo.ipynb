{
 "cells": [
  {
   "cell_type": "code",
   "execution_count": 1,
   "id": "53c93b53-18b9-4fa2-95c6-71d49a4fd4d2",
   "metadata": {
    "execution": {
     "iopub.execute_input": "2021-04-10T19:12:04.605919Z",
     "iopub.status.busy": "2021-04-10T19:12:04.604761Z",
     "iopub.status.idle": "2021-04-10T19:12:08.501070Z",
     "shell.execute_reply": "2021-04-10T19:12:08.500470Z",
     "shell.execute_reply.started": "2021-04-10T19:12:04.605769Z"
    }
   },
   "outputs": [],
   "source": [
    "import matplotlib.pyplot as plt\n",
    "import numpy as np\n",
    "from qctrlvisualizer import get_qctrl_style, plot_controls\n",
    "\n",
    "from qctrl import Qctrl\n",
    "\n",
    "plt.style.use(get_qctrl_style())\n",
    "\n",
    "# Sparse matrix imports\n",
    "from scipy.sparse import coo_matrix\n",
    "\n",
    "# Starting a session with the API\n",
    "qctrl = Qctrl()"
   ]
  },
  {
   "cell_type": "code",
   "execution_count": 42,
   "id": "d9a72e98-116c-42f2-9b57-a98fe4b53d3f",
   "metadata": {
    "execution": {
     "iopub.execute_input": "2021-04-10T21:08:59.431969Z",
     "iopub.status.busy": "2021-04-10T21:08:59.430888Z",
     "iopub.status.idle": "2021-04-10T21:08:59.486970Z",
     "shell.execute_reply": "2021-04-10T21:08:59.485916Z",
     "shell.execute_reply.started": "2021-04-10T21:08:59.431835Z"
    },
    "tags": []
   },
   "outputs": [],
   "source": [
    "def simulate_more_realistic_qubit(\n",
    "    duration=1, values=np.array([np.pi]), shots=1024, repetitions=1\n",
    "):\n",
    "\n",
    "    # 1. Limits for drive amplitudes\n",
    "    assert np.amax(values) <= 1.0\n",
    "    assert np.amin(values) >= -1.0\n",
    "    max_drive_amplitude = 2 * np.pi * 20  # MHz\n",
    "\n",
    "    # 2. Dephasing error\n",
    "    dephasing_error = -2 * 2 * np.pi  # MHz\n",
    "\n",
    "    # 3. Amplitude error\n",
    "    amplitude_i_error = 0.98\n",
    "    amplitude_q_error = 1.03\n",
    "\n",
    "    # 4. Control line bandwidth limit\n",
    "    cut_off_frequency = 2 * np.pi * 10  # MHz\n",
    "    resample_segment_count = 1000\n",
    "\n",
    "    # 5. SPAM error confusion matrix\n",
    "    confusion_matrix = np.array([[0.99, 0.01], [0.02, 0.98]])\n",
    "\n",
    "    # Lowering operator\n",
    "    b = np.array([[0, 1], [0, 0]])\n",
    "    # Number operator\n",
    "    n = np.diag([0, 1])\n",
    "    # Initial state\n",
    "    initial_state = np.array([[1], [0]])\n",
    "    \n",
    "    sigma_x = np.array([[0, 1], [1, 0]])\n",
    "    sigma_y = np.array([[0, -1j], [1j, 0]])\n",
    "    sigma_z = np.array([[1, 0], [0, -1]])\n",
    "    sigma_m = np.array([[0, 1], [0, 0]])\n",
    "    hadamard = np.array([[1, 1], [1, -1]]) / np.sqrt(2)\n",
    "    hadamard_leak = np.array(\n",
    "        [[1.0, 1.0, 0], [1.0, -1.0, 0], [0, 0, np.sqrt(2)]], dtype=np.complex\n",
    "    ) / np.sqrt(2)\n",
    "    qubit_projector = np.array([[1, 0, 0], [0, 1, 0], [0, 0, 0]], dtype=np.complex)\n",
    "    sigma_x_leak = np.array(\n",
    "    [[0, 1.0, 0], [1.0, 0, 0], [0, 0, 1.]], dtype=np.complex)\n",
    "\n",
    "    with qctrl.create_graph() as graph:\n",
    "        # Apply 1. max Rabi rate.\n",
    "        values = values * max_drive_amplitude\n",
    "\n",
    "        # Apply 3. amplitude errors.\n",
    "        values_i = np.real(values) * amplitude_i_error\n",
    "        values_q = np.imag(values) * amplitude_q_error\n",
    "        values = values_i + 1j * values_q\n",
    "        \n",
    "        \n",
    "        gamma_max = 2 * np.pi * 30e6  # Hz\n",
    "        alpha_max = 2 * np.pi * 30e6  # Hz\n",
    "        segment_count = 50\n",
    "\n",
    "        gamma_i = qctrl.operations.real_fourier_pwc_signal(\n",
    "        duration=duration,\n",
    "        segments_count=segment_count,\n",
    "        randomized_frequencies_count=10,\n",
    "        )\n",
    "        gamma_q = qctrl.operations.real_fourier_pwc_signal(\n",
    "            duration=duration,\n",
    "            segments_count=segment_count,\n",
    "            optimizable_frequencies_count=10,\n",
    "        )\n",
    "\n",
    "        # Apply 4. bandwidth limits\n",
    "        drive_unfiltered = qctrl.operations.pwc_signal(duration=duration,\n",
    "                                                       values=qctrl.operations.complex_value(\n",
    "                                                           real=gamma_i.values, imag=gamma_q.values),\n",
    "                                                      name = 'gamma')\n",
    "        drive_filtered = qctrl.operations.convolve_pwc(\n",
    "            pwc=drive_unfiltered,\n",
    "            kernel_integral=qctrl.operations.sinc_integral_function(cut_off_frequency),\n",
    "        )\n",
    "        drive = qctrl.operations.discretize_stf(\n",
    "            drive_filtered, duration=duration, segments_count=resample_segment_count\n",
    "        )\n",
    "\n",
    "        # Construct microwave drive\n",
    "        drive_term = qctrl.operations.pwc_operator_hermitian_part(\n",
    "            qctrl.operations.pwc_operator(signal=drive, operator=b)\n",
    "        )\n",
    "\n",
    "        # Construct 2. dephasing term.\n",
    "        dephasing_term = qctrl.operations.constant_pwc_operator(\n",
    "            operator=dephasing_error * n,\n",
    "            duration=duration,\n",
    "        )\n",
    "\n",
    "        # Construct Hamiltonian.\n",
    "        hamiltonian = qctrl.operations.pwc_sum(\n",
    "            [\n",
    "                drive_term,\n",
    "                dephasing_term,\n",
    "            ]\n",
    "        )\n",
    "        \n",
    "#         target_operator = qctrl.operations.target(\n",
    "#             sigma_x_leak.dot(qubit_projector), filter_function_projector=qubit_projector\n",
    "#         )\n",
    "        target_operator = qctrl.operations.target(operator=sigma_x)\n",
    "        \n",
    "        #DIOGO\n",
    "        infidelity = qctrl.operations.infidelity_pwc(\n",
    "        hamiltonian=qctrl.operations.pwc_sum([drive_term, dephasing_term]),\n",
    "        target_operator=target_operator,\n",
    "        noise_operators=[dephasing_term],\n",
    "        name=\"infidelity\",\n",
    "        )\n",
    "\n",
    "        # Solve Schrodinger's equation and get total unitary at the end\n",
    "        unitary = qctrl.operations.time_evolution_operators_pwc(\n",
    "            hamiltonian=hamiltonian,\n",
    "            sample_times=np.array([duration]),\n",
    "        )[-1]\n",
    "        unitary.name = \"unitary\"\n",
    "\n",
    "        # Repeat final unitary\n",
    "        repeated_unitary = np.eye(2)\n",
    "        for _ in range(repetitions):\n",
    "            repeated_unitary = repeated_unitary @ unitary\n",
    "        repeated_unitary.name = \"repeated_unitary\"\n",
    "\n",
    "        # Calculate final state.\n",
    "        state = repeated_unitary @ initial_state\n",
    "\n",
    "        # Calculate final populations.\n",
    "        populations = qctrl.operations.abs(state[:, 0]) ** 2\n",
    "        # Normalize populations\n",
    "        norm = qctrl.operations.sum(populations)\n",
    "        populations = populations / norm\n",
    "        populations.name = \"populations\"\n",
    "        \n",
    "    # Run the optimization\n",
    "    optimization_result = qctrl.functions.calculate_optimization(\n",
    "        cost_node_name=\"infidelity\",\n",
    "        output_node_names=[\"gamma\"],\n",
    "        graph=graph,\n",
    "    )\n",
    "    \n",
    "    print(optimization_result)\n",
    "\n",
    "    print(\"Optimized cost:\\t\", optimization_result.cost)\n",
    "\n",
    "    # Plot the optimized controls\n",
    "    plot_controls(\n",
    "        plt.figure(),\n",
    "        controls={\n",
    "            \"$\\\\gamma$\": optimization_result.output[\"gamma\"],\n",
    "        },\n",
    "    )\n",
    "    plt.show()\n",
    "\n",
    "    # Evaluate graph.\n",
    "    result = qctrl.functions.calculate_graph(\n",
    "        graph=graph,\n",
    "        output_node_names=[\"unitary\", \"repeated_unitary\", \"populations\"],\n",
    "    )\n",
    "\n",
    "    # Extract outputs.\n",
    "    unitary = result.output[\"unitary\"][\"value\"]\n",
    "    repeated_unitary = result.output[\"repeated_unitary\"][\"value\"]\n",
    "    populations = result.output[\"populations\"][\"value\"]\n",
    "\n",
    "    # Sample projective measurements.\n",
    "    true_measurements = np.random.choice(2, size=shots, p=populations)\n",
    "    measurements = np.array(\n",
    "        [np.random.choice(2, p=confusion_matrix[m]) for m in true_measurements]\n",
    "    )\n",
    "\n",
    "    results = {\"unitary\": unitary, \"measurements\": measurements}\n",
    "\n",
    "    return results"
   ]
  },
  {
   "cell_type": "code",
   "execution_count": 43,
   "id": "07502414-fde7-4908-ad69-2761b9a966e6",
   "metadata": {
    "execution": {
     "iopub.execute_input": "2021-04-10T21:09:02.255951Z",
     "iopub.status.busy": "2021-04-10T21:09:02.255241Z",
     "iopub.status.idle": "2021-04-10T21:09:02.270733Z",
     "shell.execute_reply": "2021-04-10T21:09:02.267433Z",
     "shell.execute_reply.started": "2021-04-10T21:09:02.255866Z"
    },
    "tags": []
   },
   "outputs": [],
   "source": [
    "max_rabi_rate = 20 * 2 * np.pi  # MHz\n",
    "not_duration = np.pi / (max_rabi_rate)  # us\n",
    "h_duration = np.pi / (2 * max_rabi_rate)  # us\n",
    "shots = 1024\n",
    "\n",
    "values = np.array([1.0])"
   ]
  },
  {
   "cell_type": "code",
   "execution_count": 44,
   "id": "52a67969-167b-4658-98d4-6c199e44af9d",
   "metadata": {
    "execution": {
     "iopub.execute_input": "2021-04-10T21:09:02.510846Z",
     "iopub.status.busy": "2021-04-10T21:09:02.510613Z",
     "iopub.status.idle": "2021-04-10T21:09:51.279163Z",
     "shell.execute_reply": "2021-04-10T21:09:51.270599Z",
     "shell.execute_reply.started": "2021-04-10T21:09:02.510819Z"
    },
    "tags": []
   },
   "outputs": [
    {
     "name": "stderr",
     "output_type": "stream",
     "text": [
      "<ipython-input-42-7df420b9bc58>:37: DeprecationWarning: `np.complex` is a deprecated alias for the builtin `complex`. To silence this warning, use `complex` by itself. Doing this will not modify any behavior and is safe. If you specifically wanted the numpy scalar type, use `np.complex128` here.\n",
      "Deprecated in NumPy 1.20; for more details and guidance: https://numpy.org/devdocs/release/1.20.0-notes.html#deprecations\n",
      "  [[1.0, 1.0, 0], [1.0, -1.0, 0], [0, 0, np.sqrt(2)]], dtype=np.complex\n",
      "<ipython-input-42-7df420b9bc58>:39: DeprecationWarning: `np.complex` is a deprecated alias for the builtin `complex`. To silence this warning, use `complex` by itself. Doing this will not modify any behavior and is safe. If you specifically wanted the numpy scalar type, use `np.complex128` here.\n",
      "Deprecated in NumPy 1.20; for more details and guidance: https://numpy.org/devdocs/release/1.20.0-notes.html#deprecations\n",
      "  qubit_projector = np.array([[1, 0, 0], [0, 1, 0], [0, 0, 0]], dtype=np.complex)\n",
      "<ipython-input-42-7df420b9bc58>:41: DeprecationWarning: `np.complex` is a deprecated alias for the builtin `complex`. To silence this warning, use `complex` by itself. Doing this will not modify any behavior and is safe. If you specifically wanted the numpy scalar type, use `np.complex128` here.\n",
      "Deprecated in NumPy 1.20; for more details and guidance: https://numpy.org/devdocs/release/1.20.0-notes.html#deprecations\n",
      "  [[0, 1.0, 0], [1.0, 0, 0], [0, 0, 1.]], dtype=np.complex)\n"
     ]
    },
    {
     "data": {
      "application/vnd.jupyter.widget-view+json": {
       "model_id": "6217cede524144089e73755c123cc603",
       "version_major": 2,
       "version_minor": 0
      },
      "text/plain": [
       "  0%|          | 0/100 [00:00<?, ?it/s]"
      ]
     },
     "metadata": {},
     "output_type": "display_data"
    },
    {
     "name": "stdout",
     "output_type": "stream",
     "text": [
      "Your task calculate_optimization has started.\n",
      "Your task calculate_optimization has completed in 47s.\n",
      "Result(cost=0.00019131588530402552, output={'gamma': [{'value': (2749.0280822901414+12.829411873805771j), 'duration': 0.000125}, {'value': (2815.7388112419812+16.3780133188178j), 'duration': 0.000125}, {'value': (2880.775806190599+17.893626906056863j), 'duration': 0.000125}, {'value': (2942.4597169384574+17.171250095658525j), 'duration': 0.000125}, {'value': (2999.2244809206272+14.244404196350454j), 'duration': 0.000125}, {'value': (3049.6873393253322+9.3828694452502j), 'duration': 0.000125}, {'value': (3092.7103866473826+3.06582418915481j), 'duration': 0.000125}, {'value': (3127.450057742361-4.0668507043621025j), 'duration': 0.000125}, {'value': (3153.3916005817778-11.280078053646546j), 'duration': 0.000125}, {'value': (3170.366443595444-17.819136237737805j), 'duration': 0.000125}, {'value': (3178.551390367854-22.987453257017364j), 'duration': 0.000125}, {'value': (3178.4496936737714-26.218610161219715j), 'duration': 0.000125}, {'value': (3170.855197947845-27.135123702694617j), 'duration': 0.000125}, {'value': (3156.8018131379995-25.587949211196495j), 'duration': 0.000125}, {'value': (3137.5015150375925-21.672641094020804j), 'duration': 0.000125}, {'value': (3114.274788210825-15.720522198046137j), 'duration': 0.000125}, {'value': (3088.477882896792-8.265793719116033j), 'duration': 0.000125}, {'value': (3061.4314116196792+0.008003248468676227j), 'duration': 0.000125}, {'value': (3034.3546520303807+8.336641745473639j), 'duration': 0.000125}, {'value': (3008.3094610057556+15.951900895408592j), 'duration': 0.000125}, {'value': (2984.1569756829294+22.158408772585545j), 'duration': 0.000125}, {'value': (2962.529334960328+26.40275754675153j), 'duration': 0.000125}, {'value': (2943.817571391718+28.327835352771128j), 'duration': 0.000125}, {'value': (2928.175680262669+27.806869679278986j), 'duration': 0.000125}, {'value': (2915.539755903978+24.953791897827266j), 'duration': 0.000125}, {'value': (2905.6600779839127+20.108990895700146j), 'duration': 0.000125}, {'value': (2898.143206077458+13.80206956862257j), 'duration': 0.000125}, {'value': (2892.5005572776818+6.6955867218107485j), 'duration': 0.000125}, {'value': (2888.199637120363-0.4842866019117713j), 'duration': 0.000125}, {'value': (2884.7140840503544-7.022943919731825j), 'duration': 0.000125}, {'value': (2881.568963890989-12.290535745374832j), 'duration': 0.000125}, {'value': (2878.3782826407996-15.805609581957386j), 'duration': 0.000125}, {'value': (2874.8724232891063-17.282664368812693j), 'duration': 0.000125}, {'value': (2870.9140901854666-16.658796272954795j), 'duration': 0.000125}, {'value': (2866.502288634708-14.096817194654328j), 'duration': 0.000125}, {'value': (2861.764800879498-9.964694826236762j), 'duration': 0.000125}, {'value': (2856.940469261273-4.793635365750021j), 'duration': 0.000125}, {'value': (2852.3532996218073+0.7806508647440268j), 'duration': 0.000125}, {'value': (2848.380904140537+6.087225328011492j), 'duration': 0.000125}, {'value': (2845.4200823077194+10.492391170088j), 'duration': 0.000125}, {'value': (2843.852381293492+13.467710667682173j), 'duration': 0.000125}, {'value': (2844.01229250238+14.64642658213143j), 'duration': 0.000125}, {'value': (2846.1603580317956+13.862393041642612j), 'duration': 0.000125}, {'value': (2850.4629227409314+11.167484174266194j), 'duration': 0.000125}, {'value': (2856.979629059712+6.8257277291851866j), 'duration': 0.000125}, {'value': (2865.659072328797+1.2848663760308576j), 'duration': 0.000125}, {'value': (2876.342374028599-4.87157657624023j), 'duration': 0.000125}, {'value': (2888.7738429488822-10.986606332586875j), 'duration': 0.000125}, {'value': (2902.6174243644873-16.39981957597708j), 'duration': 0.000125}, {'value': (2917.4773153363494-20.517799537182107j), 'duration': 0.000125}, {'value': (2932.920965560718-22.87740296266305j), 'duration': 0.000125}, {'value': (2948.502686966183-23.195262688182545j), 'duration': 0.000125}, {'value': (2963.786245804984-21.39829409754372j), 'duration': 0.000125}, {'value': (2978.365080116941-17.632003881024282j), 'duration': 0.000125}, {'value': (2991.879136028931-12.245743150495247j), 'duration': 0.000125}, {'value': (3004.0277065491373-5.756477407926352j), 'duration': 0.000125}, {'value': (3014.5780442710284+1.20509235589758j), 'duration': 0.000125}, {'value': (3023.3698667505064+7.960367450037341j), 'duration': 0.000125}, {'value': (3030.3161500500432+13.853703053308939j), 'duration': 0.000125}, {'value': (3035.4007922933165+18.320805175139082j), 'duration': 0.000125}, {'value': (3038.6738171981574+20.94746748674339j), 'duration': 0.000125}, {'value': (3040.244781661431+21.512463277790957j), 'duration': 0.000125}, {'value': (3040.2749666385735+20.01007870252823j), 'duration': 0.000125}, {'value': (3038.968790422672+16.649918589019673j), 'duration': 0.000125}, {'value': (3036.56471696074+11.834009802987698j), 'duration': 0.000125}, {'value': (3033.3257696630394+6.113617918320908j), 'duration': 0.000125}, {'value': (3029.529631707448+0.1303296047133201j), 'duration': 0.000125}, {'value': (3025.458239893414-5.45238869293356j), 'duration': 0.000125}, {'value': (3021.386774978997-10.019939663279018j), 'duration': 0.000125}, {'value': (3017.5720212058927-13.072188199741717j), 'duration': 0.000125}, {'value': (3014.2402045936324-14.276972209335526j), 'duration': 0.000125}, {'value': (3011.574606585605-13.505869842669147j), 'duration': 0.000125}, {'value': (3009.7034614430154-10.848422486032732j), 'duration': 0.000125}, {'value': (3008.6888516206254-6.60327404937473j), 'duration': 0.000125}, {'value': (3008.5174825177596-1.2471117852198246j), 'duration': 0.000125}, {'value': (3009.0943157423503+4.615372120248627j), 'duration': 0.000125}, {'value': (3010.240043367805+10.315280380367623j), 'duration': 0.000125}, {'value': (3011.693278641774+15.190400600996638j), 'duration': 0.000125}, {'value': (3013.118116692549+18.6557584178336j), 'duration': 0.000125}, {'value': (3014.11739012471+20.26642829752231j), 'duration': 0.000125}, {'value': (3014.2515297682558+19.765993552011466j), 'duration': 0.000125}, {'value': (3013.062472212659+17.115536665065413j), 'duration': 0.000125}, {'value': (3010.101573629704+12.500067619061532j), 'duration': 0.000125}, {'value': (3004.9600391550816+6.311649823473727j), 'duration': 0.000125}, {'value': (2997.3000046969087-0.8890853161716605j), 'duration': 0.000125}, {'value': (2986.884155383832-8.429087355506965j), 'duration': 0.000125}, {'value': (2973.601665478447-15.59090525295713j), 'duration': 0.000125}, {'value': (2957.4883198731395-21.685538669807503j), 'duration': 0.000125}, {'value': (2938.738933866431-26.122576484451166j), 'duration': 0.000125}, {'value': (2917.710616242356-28.47035468213815j), 'duration': 0.000125}, {'value': (2894.915995179421-28.4999014207268j), 'duration': 0.000125}, {'value': (2871.0062072805235-26.208122347986794j), 'duration': 0.000125}, {'value': (2846.7441858372954-21.817838077624515j), 'duration': 0.000125}, {'value': (2822.969517049623-15.754692583911472j), 'duration': 0.000125}, {'value': (2800.556801967402-8.603354752708938j), 'duration': 0.000125}, {'value': (2780.3700103040746-1.047584470569853j), 'duration': 0.000125}, {'value': (2763.2156912831265+6.199594832858441j), 'duration': 0.000125}, {'value': (2749.7980805129223+12.468357494578774j), 'duration': 0.000125}, {'value': (2740.679091065742+17.19965187255089j), 'duration': 0.000125}, {'value': (2736.2459003413496+20.000898424746204j), 'duration': 0.000125}, {'value': (2736.688359567768+20.684071601637665j), 'duration': 0.000125}, {'value': (2741.987795088742+19.28228003215823j), 'duration': 0.000125}, {'value': (2751.917989754837+16.043214998412573j), 'duration': 0.000125}, {'value': (2766.058289163153+11.4002593210161j), 'duration': 0.000125}, {'value': (2783.817937009722+5.924383814126858j), 'duration': 0.000125}, {'value': (2804.46997209941+0.26196199872980225j), 'duration': 0.000125}, {'value': (2827.1923765170586-4.934903757612263j), 'duration': 0.000125}, {'value': (2851.1136991801113-9.07818280521691j), 'duration': 0.000125}, {'value': (2875.360125595988-11.706486620761442j), 'duration': 0.000125}, {'value': (2899.1009395378214-12.533829697382965j), 'duration': 0.000125}, {'value': (2921.589523005396-11.479469312361982j), 'duration': 0.000125}, {'value': (2942.197446283981-8.675715987475833j), 'duration': 0.000125}, {'value': (2960.4397728344516-4.452934784712927j), 'duration': 0.000125}, {'value': (2975.990393988475+0.6966339829835484j), 'duration': 0.000125}, {'value': (2988.68695757664+6.17237066886909j), 'duration': 0.000125}, {'value': (2998.5257012604848+11.330397542605008j), 'duration': 0.000125}, {'value': (3005.6471864176265+15.55340691396984j), 'duration': 0.000125}, {'value': (3010.314500314187+18.317779793907597j), 'duration': 0.000125}, {'value': (3012.885913047581+19.250862694341247j), 'duration': 0.000125}, {'value': (3013.784216189101+18.172306313724228j), 'duration': 0.000125}, {'value': (3013.4650234711667+15.115049538221285j), 'duration': 0.000125}, {'value': (3012.386188067032+10.323679036778552j), 'duration': 0.000125}, {'value': (3010.980208951683+4.230283140760285j), 'duration': 0.000125}, {'value': (3009.6310958259755-2.5897025066508887j), 'duration': 0.000125}, {'value': (3008.656681984856-9.477041280859147j), 'duration': 0.000125}, {'value': (3008.296865219298-15.757382247771526j), 'duration': 0.000125}, {'value': (3008.7077656121223-20.811856334672203j), 'duration': 0.000125}, {'value': (3009.9613580613563-24.142132200848227j), 'duration': 0.000125}, {'value': (3012.049799786681-25.423047611890105j), 'duration': 0.000125}, {'value': (3014.8934505324714-24.537224187604235j), 'duration': 0.000125}, {'value': (3018.3514841150736-21.587957399049262j), 'duration': 0.000125}, {'value': (3022.234009554572-16.888952690995215j), 'duration': 0.000125}, {'value': (3026.314741455837-10.93191380699216j), 'duration': 0.000125}, {'value': (3030.3434561651025-4.335325137126061j), 'duration': 0.000125}, {'value': (3034.057709918399+2.2202395345828054j), 'duration': 0.000125}, {'value': (3037.1935427941744+8.063514139381324j), 'duration': 0.000125}, {'value': (3039.49511457189+12.603147557998563j), 'duration': 0.000125}, {'value': (3040.723387803547+15.390082943610203j), 'duration': 0.000125}, {'value': (3040.6640702156687+16.16511053948461j), 'duration': 0.000125}, {'value': (3039.135044160824+14.886530654188759j), 'duration': 0.000125}, {'value': (3035.9934477275533+11.734935434064749j), 'duration': 0.000125}, {'value': (3031.1424436291545+7.094511022519209j), 'duration': 0.000125}, {'value': (3024.5375405870413+1.5127256924820227j), 'duration': 0.000125}, {'value': (3016.1921464385673-4.357453429407328j), 'duration': 0.000125}, {'value': (3006.1818643389884-9.826821467782752j), 'duration': 0.000125}, {'value': (2994.6469238995537-14.24345140193526j), 'duration': 0.000125}, {'value': (2981.7920937955923-17.062762946197076j), 'duration': 0.000125}, {'value': (2967.8834690064077-17.90676981080586j), 'duration': 0.000125}, {'value': (2953.241671451458-16.606229390223415j), 'duration': 0.000125}, {'value': (2938.2312423498206-13.221178049751153j), 'duration': 0.000125}, {'value': (2923.2463210169453-8.037572770455643j), 'duration': 0.000125}, {'value': (2908.693070047466-1.5402438002282843j), 'duration': 0.000125}, {'value': (2894.9696846263823+5.635165340688279j), 'duration': 0.000125}, {'value': (2882.4451730071473+12.766392515360756j), 'duration': 0.000125}, {'value': (2871.438374389813+19.11830708298669j), 'duration': 0.000125}, {'value': (2862.1988518480107+24.018614192916722j), 'duration': 0.000125}, {'value': (2854.8913321105647+26.927677417375577j), 'duration': 0.000125}, {'value': (2849.585243242507+27.495203357429585j), 'duration': 0.000125}, {'value': (2846.2506223299083+25.59786716476076j), 'duration': 0.000125}, {'value': (2844.7612405244+21.353911999560598j), 'duration': 0.000125}, {'value': (2844.905249969076+15.113126517036678j), 'duration': 0.000125}, {'value': (2846.403037455402+7.423146957180682j), 'duration': 0.000125}, {'value': (2848.9313246803836-1.0245195831254548j), 'duration': 0.000125}, {'value': (2852.151942099333-9.463251327057339j), 'duration': 0.000125}, {'value': (2855.7431807430235-17.1278115449631j), 'duration': 0.000125}, {'value': (2859.431247402375-23.330746150851223j), 'duration': 0.000125}, {'value': (2863.019156733723-27.530835593674812j), 'duration': 0.000125}, {'value': (2866.4104180901995-29.386572285851514j), 'duration': 0.000125}, {'value': (2869.625126425025-28.789178648920675j), 'duration': 0.000125}, {'value': (2872.806537010686-25.871794117428795j), 'duration': 0.000125}, {'value': (2876.2168648500956-20.99392314748526j), 'duration': 0.000125}, {'value': (2880.221855417051-14.702794791171293j), 'duration': 0.000125}, {'value': (2885.264563059629-7.675672002750717j), 'duration': 0.000125}, {'value': (2891.8296765559476-0.6491173827914607j), 'duration': 0.000125}, {'value': (2900.4005734852267+5.657433199982568j), 'duration': 0.000125}, {'value': (2911.411994184846+10.61585671924851j), 'duration': 0.000125}, {'value': (2925.2017386542843+13.753599864446366j), 'duration': 0.000125}, {'value': (2941.9650566814857+14.801360323956413j), 'duration': 0.000125}, {'value': (2961.715392378481+13.719279561894417j), 'duration': 0.000125}, {'value': (2984.2548507158085+10.698978078600682j), 'duration': 0.000125}, {'value': (3009.157190020279+6.141284931182611j), 'duration': 0.000125}, {'value': (3035.7653474259887+0.6120484261680906j), 'duration': 0.000125}, {'value': (3063.204530128234-5.2192997576355635j), 'duration': 0.000125}, {'value': (3090.41082529892-10.6519574273431j), 'duration': 0.000125}, {'value': (3116.1741764370613-15.029150281015994j), 'duration': 0.000125}, {'value': (3139.1935274311268-17.808795206308446j), 'duration': 0.000125}, {'value': (3158.1410275246362-18.622005783063766j), 'duration': 0.000125}, {'value': (3171.7314901989002-17.313290758324428j), 'duration': 0.000125}, {'value': (3178.7928602867346-13.958212612427088j), 'duration': 0.000125}, {'value': (3178.3332997970238-8.856632829034773j), 'duration': 0.000125}, {'value': (3169.600664612836-2.5022270071185124j), 'duration': 0.000125}, {'value': (3152.130598683029+4.468560336486034j), 'duration': 0.000125}, {'value': (3125.7801847026185+11.34279429143357j), 'duration': 0.000125}, {'value': (3090.7450066799656+17.40563244268247j), 'duration': 0.000125}, {'value': (3047.5585318819535+22.01540416638634j), 'duration': 0.000125}, {'value': (2997.0738303274625+24.671314889604453j), 'duration': 0.000125}, {'value': (2940.428739657772+25.06666338623228j), 'duration': 0.000125}, {'value': (2878.996576044281+23.121964293511276j), 'duration': 0.000125}, {'value': (2814.325321600315+18.994460529163305j), 'duration': 0.000125}, {'value': (2748.0688337802108+13.062973361629524j), 'duration': 0.000125}]}, errors=None, action=CoreAction(created_at=None, definition=None, errors=None, job_data=None, job_id=None, model_id='359019', model_type=None, mutation_name=None, name='core__calculateOptimization', progress=1.0, result=None, runtime=None, started_at=None, status='SUCCESS', terminated_at=None, updated_at=None, user=None))\n",
      "Optimized cost:\t 0.00019131588530402552\n"
     ]
    },
    {
     "data": {
      "image/png": "[encoded data removed]",
      "text/plain": [
       "<Figure size 504x288 with 2 Axes>"
      ]
     },
     "metadata": {
      "needs_background": "light"
     },
     "output_type": "display_data"
    },
    {
     "ename": "QctrlGqlException",
     "evalue": "The following errors occurred:\n- Error(fields=['graph'], message=\"The operation 'real_fourier_pwc_signal' is not available to use as part of the calculate graph function.\")",
     "output_type": "error",
     "traceback": [
      "\u001b[0;31m---------------------------------------------------------------------------\u001b[0m",
      "\u001b[0;31mQctrlGqlException\u001b[0m                         Traceback (most recent call last)",
      "\u001b[0;32m<ipython-input-44-9e3531587005>\u001b[0m in \u001b[0;36m<module>\u001b[0;34m\u001b[0m\n\u001b[0;32m----> 1\u001b[0;31m not_results = simulate_more_realistic_qubit(\n\u001b[0m\u001b[1;32m      2\u001b[0m     \u001b[0mduration\u001b[0m\u001b[0;34m=\u001b[0m\u001b[0mnot_duration\u001b[0m\u001b[0;34m,\u001b[0m \u001b[0mvalues\u001b[0m\u001b[0;34m=\u001b[0m\u001b[0mvalues\u001b[0m\u001b[0;34m,\u001b[0m \u001b[0mshots\u001b[0m\u001b[0;34m=\u001b[0m\u001b[0mshots\u001b[0m\u001b[0;34m\u001b[0m\u001b[0;34m\u001b[0m\u001b[0m\n\u001b[1;32m      3\u001b[0m )\n\u001b[1;32m      4\u001b[0m h_results = simulate_more_realistic_qubit(\n\u001b[1;32m      5\u001b[0m     \u001b[0mduration\u001b[0m\u001b[0;34m=\u001b[0m\u001b[0mh_duration\u001b[0m\u001b[0;34m,\u001b[0m \u001b[0mvalues\u001b[0m\u001b[0;34m=\u001b[0m\u001b[0mvalues\u001b[0m\u001b[0;34m,\u001b[0m \u001b[0mshots\u001b[0m\u001b[0;34m=\u001b[0m\u001b[0mshots\u001b[0m\u001b[0;34m\u001b[0m\u001b[0;34m\u001b[0m\u001b[0m\n",
      "\u001b[0;32m<ipython-input-42-7df420b9bc58>\u001b[0m in \u001b[0;36msimulate_more_realistic_qubit\u001b[0;34m(duration, values, shots, repetitions)\u001b[0m\n\u001b[1;32m    155\u001b[0m \u001b[0;34m\u001b[0m\u001b[0m\n\u001b[1;32m    156\u001b[0m     \u001b[0;31m# Evaluate graph.\u001b[0m\u001b[0;34m\u001b[0m\u001b[0;34m\u001b[0m\u001b[0;34m\u001b[0m\u001b[0m\n\u001b[0;32m--> 157\u001b[0;31m     result = qctrl.functions.calculate_graph(\n\u001b[0m\u001b[1;32m    158\u001b[0m         \u001b[0mgraph\u001b[0m\u001b[0;34m=\u001b[0m\u001b[0mgraph\u001b[0m\u001b[0;34m,\u001b[0m\u001b[0;34m\u001b[0m\u001b[0;34m\u001b[0m\u001b[0m\n\u001b[1;32m    159\u001b[0m         \u001b[0moutput_node_names\u001b[0m\u001b[0;34m=\u001b[0m\u001b[0;34m[\u001b[0m\u001b[0;34m\"unitary\"\u001b[0m\u001b[0;34m,\u001b[0m \u001b[0;34m\"repeated_unitary\"\u001b[0m\u001b[0;34m,\u001b[0m \u001b[0;34m\"populations\"\u001b[0m\u001b[0;34m]\u001b[0m\u001b[0;34m,\u001b[0m\u001b[0;34m\u001b[0m\u001b[0;34m\u001b[0m\u001b[0m\n",
      "\u001b[0;32m~/anaconda3/envs/QCTRL/lib/python3.8/site-packages/forge/_revision.py\u001b[0m in \u001b[0;36minner\u001b[0;34m(*args, **kwargs)\u001b[0m\n\u001b[1;32m    326\u001b[0m                 \u001b[0;31m# pylint: disable=E1102, not-callable\u001b[0m\u001b[0;34m\u001b[0m\u001b[0;34m\u001b[0m\u001b[0;34m\u001b[0m\u001b[0m\n\u001b[1;32m    327\u001b[0m                 \u001b[0mmapped\u001b[0m \u001b[0;34m=\u001b[0m \u001b[0minner\u001b[0m\u001b[0;34m.\u001b[0m\u001b[0m__mapper__\u001b[0m\u001b[0;34m(\u001b[0m\u001b[0;34m*\u001b[0m\u001b[0margs\u001b[0m\u001b[0;34m,\u001b[0m \u001b[0;34m**\u001b[0m\u001b[0mkwargs\u001b[0m\u001b[0;34m)\u001b[0m\u001b[0;34m\u001b[0m\u001b[0;34m\u001b[0m\u001b[0m\n\u001b[0;32m--> 328\u001b[0;31m                 \u001b[0;32mreturn\u001b[0m \u001b[0mcallable\u001b[0m\u001b[0;34m(\u001b[0m\u001b[0;34m*\u001b[0m\u001b[0mmapped\u001b[0m\u001b[0;34m.\u001b[0m\u001b[0margs\u001b[0m\u001b[0;34m,\u001b[0m \u001b[0;34m**\u001b[0m\u001b[0mmapped\u001b[0m\u001b[0;34m.\u001b[0m\u001b[0mkwargs\u001b[0m\u001b[0;34m)\u001b[0m\u001b[0;34m\u001b[0m\u001b[0;34m\u001b[0m\u001b[0m\n\u001b[0m\u001b[1;32m    329\u001b[0m \u001b[0;34m\u001b[0m\u001b[0m\n\u001b[1;32m    330\u001b[0m         \u001b[0mnext_\u001b[0m\u001b[0;34m.\u001b[0m\u001b[0mvalidate\u001b[0m\u001b[0;34m(\u001b[0m\u001b[0;34m)\u001b[0m\u001b[0;34m\u001b[0m\u001b[0;34m\u001b[0m\u001b[0m\n",
      "\u001b[0;32m~/anaconda3/envs/QCTRL/lib/python3.8/site-packages/qctrl/builders/functions.py\u001b[0m in \u001b[0;36mfunc\u001b[0;34m(**kwargs)\u001b[0m\n\u001b[1;32m    106\u001b[0m \u001b[0;34m\u001b[0m\u001b[0m\n\u001b[1;32m    107\u001b[0m         \u001b[0;32mif\u001b[0m \u001b[0mresult\u001b[0m\u001b[0;34m.\u001b[0m\u001b[0merrors\u001b[0m\u001b[0;34m:\u001b[0m\u001b[0;34m\u001b[0m\u001b[0;34m\u001b[0m\u001b[0m\n\u001b[0;32m--> 108\u001b[0;31m             \u001b[0;32mraise\u001b[0m \u001b[0mQctrlGqlException\u001b[0m\u001b[0;34m(\u001b[0m\u001b[0mresult\u001b[0m\u001b[0;34m.\u001b[0m\u001b[0merrors\u001b[0m\u001b[0;34m)\u001b[0m\u001b[0;34m\u001b[0m\u001b[0;34m\u001b[0m\u001b[0m\n\u001b[0m\u001b[1;32m    109\u001b[0m \u001b[0;34m\u001b[0m\u001b[0m\n\u001b[1;32m    110\u001b[0m         LOGGER.info(\n",
      "\u001b[0;31mQctrlGqlException\u001b[0m: The following errors occurred:\n- Error(fields=['graph'], message=\"The operation 'real_fourier_pwc_signal' is not available to use as part of the calculate graph function.\")"
     ]
    }
   ],
   "source": [
    "not_results = simulate_more_realistic_qubit(\n",
    "    duration=not_duration, values=values, shots=shots\n",
    ")\n",
    "h_results = simulate_more_realistic_qubit(\n",
    "    duration=h_duration, values=values, shots=shots\n",
    ")"
   ]
  },
  {
   "cell_type": "code",
   "execution_count": 6,
   "id": "35c0df79-a724-4ade-b9b9-c2cea88d815b",
   "metadata": {
    "execution": {
     "iopub.execute_input": "2021-04-10T19:16:44.027247Z",
     "iopub.status.busy": "2021-04-10T19:16:44.026781Z",
     "iopub.status.idle": "2021-04-10T19:16:44.034703Z",
     "shell.execute_reply": "2021-04-10T19:16:44.033085Z",
     "shell.execute_reply.started": "2021-04-10T19:16:44.027180Z"
    }
   },
   "outputs": [],
   "source": [
    "error_norm = (\n",
    "    lambda operate_a, operator_b: 1\n",
    "    - np.abs(np.trace((operate_a.conj().T @ operator_b)) / 2) ** 2\n",
    ")"
   ]
  },
  {
   "cell_type": "code",
   "execution_count": 8,
   "id": "7be04d95-ea3b-4952-ad87-45161b55303b",
   "metadata": {
    "execution": {
     "iopub.execute_input": "2021-04-10T19:18:08.590444Z",
     "iopub.status.busy": "2021-04-10T19:18:08.589855Z",
     "iopub.status.idle": "2021-04-10T19:18:08.599803Z",
     "shell.execute_reply": "2021-04-10T19:18:08.598772Z",
     "shell.execute_reply.started": "2021-04-10T19:18:08.590376Z"
    }
   },
   "outputs": [],
   "source": [
    "def get_pulse_plot_dict(name=\"default\", duration=1, values=np.array([1.0])):\n",
    "    segments = len(values)\n",
    "    segment_durations = duration / segments\n",
    "    pulse_plot_dict = {\n",
    "        name: [{\"duration\": segment_durations, \"value\": v} for v in values]\n",
    "    }\n",
    "    return pulse_plot_dict\n",
    "def estimate_probability_of_one(measurements):\n",
    "    size = len(measurements)\n",
    "    probability = np.mean(measurements)\n",
    "    standard_error = np.std(measurements) / np.sqrt(size)\n",
    "    return (probability, standard_error)"
   ]
  },
  {
   "cell_type": "code",
   "execution_count": 9,
   "id": "ff4f4042-d1af-45e2-871b-33d43020a23b",
   "metadata": {
    "execution": {
     "iopub.execute_input": "2021-04-10T19:18:09.231958Z",
     "iopub.status.busy": "2021-04-10T19:18:09.231750Z",
     "iopub.status.idle": "2021-04-10T19:18:09.251124Z",
     "shell.execute_reply": "2021-04-10T19:18:09.249949Z",
     "shell.execute_reply.started": "2021-04-10T19:18:09.231935Z"
    },
    "tags": []
   },
   "outputs": [
    {
     "name": "stdout",
     "output_type": "stream",
     "text": [
      "Realised NOT Gate:\n",
      "[[0.75412104-0.02524955j 0.1026601 -0.64817036j]\n",
      " [0.1026601 -0.64817036j 0.70940919+0.25704996j]]\n",
      "Ideal NOT Gate:\n",
      "[[ 0.+0.j -0.-1.j]\n",
      " [-0.-1.j  0.+0.j]]\n",
      "NOT Gate Error:0.5693360860922008\n",
      "NOT estimated probability of getting 1:0.4208984375\n",
      "NOT estimate standard error:0.015428227947108762\n",
      "\n",
      "Realised H Gate:\n",
      "[[0.98219782-0.00092913j 0.01473832-0.18726817j]\n",
      " [0.01473832-0.18726817j 0.96995998+0.15456728j]]\n",
      "Ideal H Gate:\n",
      "[[0.70710678+0.j         0.        -0.70710678j]\n",
      " [0.        -0.70710678j 0.70710678+0.j        ]]\n",
      "H Gate Error:0.31912041750757547\n",
      "H estimated probability of getting 1:0.0537109375\n",
      "H estimate standard error:0.0070451995439541615\n"
     ]
    }
   ],
   "source": [
    "realised_not_gate = not_results[\"unitary\"]\n",
    "ideal_not_gate = np.array([[0, -1j], [-1j, 0]])\n",
    "not_error = error_norm(realised_not_gate, ideal_not_gate)\n",
    "realised_h_gate = h_results[\"unitary\"]\n",
    "ideal_h_gate = (1 / np.sqrt(2)) * np.array([[1, -1j], [-1j, 1]])\n",
    "h_error = error_norm(realised_h_gate, ideal_h_gate)\n",
    "\n",
    "not_measurements = not_results[\"measurements\"]\n",
    "h_measurements = h_results[\"measurements\"]\n",
    "not_probability, not_standard_error = estimate_probability_of_one(not_measurements)\n",
    "h_probability, h_standard_error = estimate_probability_of_one(h_measurements)\n",
    "\n",
    "print(\"Realised NOT Gate:\")\n",
    "print(realised_not_gate)\n",
    "print(\"Ideal NOT Gate:\")\n",
    "print(ideal_not_gate)\n",
    "print(\"NOT Gate Error:\" + str(not_error))\n",
    "print(\"NOT estimated probability of getting 1:\" + str(not_probability))\n",
    "print(\"NOT estimate standard error:\" + str(not_standard_error) + \"\\n\")\n",
    "\n",
    "print(\"Realised H Gate:\")\n",
    "print(realised_h_gate)\n",
    "print(\"Ideal H Gate:\")\n",
    "print(ideal_h_gate)\n",
    "print(\"H Gate Error:\" + str(h_error))\n",
    "print(\"H estimated probability of getting 1:\" + str(h_probability))\n",
    "print(\"H estimate standard error:\" + str(h_standard_error))"
   ]
  },
  {
   "cell_type": "code",
   "execution_count": 10,
   "id": "17dd9744-a1c8-4103-9f15-f1f177f9771e",
   "metadata": {
    "execution": {
     "iopub.execute_input": "2021-04-10T19:18:11.618194Z",
     "iopub.status.busy": "2021-04-10T19:18:11.616845Z",
     "iopub.status.idle": "2021-04-10T19:18:11.626732Z",
     "shell.execute_reply": "2021-04-10T19:18:11.625158Z",
     "shell.execute_reply.started": "2021-04-10T19:18:11.618109Z"
    },
    "tags": []
   },
   "outputs": [],
   "source": [
    "control_count = 5\n",
    "segment_count = 16\n",
    "duration = 30.0\n",
    "shot_count = 32"
   ]
  },
  {
   "cell_type": "code",
   "execution_count": 11,
   "id": "33c2eeae-fccc-4f12-9287-1f548fb70309",
   "metadata": {
    "execution": {
     "iopub.execute_input": "2021-04-10T19:18:11.866140Z",
     "iopub.status.busy": "2021-04-10T19:18:11.865591Z",
     "iopub.status.idle": "2021-04-10T19:18:12.740259Z",
     "shell.execute_reply": "2021-04-10T19:18:12.739472Z",
     "shell.execute_reply.started": "2021-04-10T19:18:11.866095Z"
    },
    "tags": []
   },
   "outputs": [
    {
     "data": {
      "image/png": "[encoded data removed]",
      "text/plain": [
       "<Figure size 504x288 with 2 Axes>"
      ]
     },
     "metadata": {
      "needs_background": "light"
     },
     "output_type": "display_data"
    }
   ],
   "source": [
    "controls = []\n",
    "for k in range(control_count):\n",
    "    # Create a random string of complex numbers for each controls.\n",
    "    real_part = np.random.random(size=[segment_count])\n",
    "    imag_part = np.random.random(size=[segment_count])\n",
    "    values = 0.15 * k * (real_part + 1j * imag_part)\n",
    "\n",
    "    controls.append({\"duration\": duration, \"values\": values})\n",
    "\n",
    "# Plot the last control as an example.\n",
    "plot_controls(\n",
    "    figure=plt.figure(),\n",
    "    controls={\n",
    "        \"$\\Omega$\": [\n",
    "            {\"duration\": duration / segment_count, \"value\": value} for value in values\n",
    "        ]\n",
    "    },\n",
    ")"
   ]
  },
  {
   "cell_type": "code",
   "execution_count": 12,
   "id": "f6e0f151-9e3c-45a4-8e93-d79c9dfbf6d4",
   "metadata": {
    "execution": {
     "iopub.execute_input": "2021-04-10T19:18:13.509933Z",
     "iopub.status.busy": "2021-04-10T19:18:13.509141Z",
     "iopub.status.idle": "2021-04-10T19:18:16.942721Z",
     "shell.execute_reply": "2021-04-10T19:18:16.941818Z",
     "shell.execute_reply.started": "2021-04-10T19:18:13.509876Z"
    },
    "tags": []
   },
   "outputs": [
    {
     "data": {
      "application/vnd.jupyter.widget-view+json": {
       "model_id": "7690d9fc012646f4bf15796022b48fc5",
       "version_major": 2,
       "version_minor": 0
      },
      "text/plain": [
       "  0%|          | 0/100 [00:00<?, ?it/s]"
      ]
     },
     "metadata": {},
     "output_type": "display_data"
    },
    {
     "name": "stdout",
     "output_type": "stream",
     "text": [
      "Your task calculate_qchack_measurements has completed in 3s.\n"
     ]
    }
   ],
   "source": [
    "# Obtain the results of the experiment.\n",
    "experiment_results = qctrl.functions.calculate_qchack_measurements(\n",
    "    controls=controls,\n",
    "    shot_count=shot_count,\n",
    ")"
   ]
  },
  {
   "cell_type": "code",
   "execution_count": 13,
   "id": "e3becd2b-7b5f-465b-925c-2b0b5ddd3f4f",
   "metadata": {
    "execution": {
     "iopub.execute_input": "2021-04-10T19:18:16.944572Z",
     "iopub.status.busy": "2021-04-10T19:18:16.944259Z",
     "iopub.status.idle": "2021-04-10T19:18:16.954524Z",
     "shell.execute_reply": "2021-04-10T19:18:16.950961Z",
     "shell.execute_reply.started": "2021-04-10T19:18:16.944538Z"
    },
    "tags": []
   },
   "outputs": [
    {
     "name": "stdout",
     "output_type": "stream",
     "text": [
      "control #0: [0, 0, 0, 0, 0, 0, 0, 0, 0, 0, 0, 0, 0, 0, 0, 0, 0, 0, 0, 0, 0, 0, 0, 0, 0, 0, 0, 0, 0, 0, 0, 0]\n",
      "control #1: [0, 0, 0, 0, 0, 0, 0, 0, 0, 1, 0, 0, 0, 0, 0, 0, 1, 0, 0, 1, 0, 0, 0, 0, 0, 0, 0, 0, 0, 0, 0, 1]\n",
      "control #2: [0, 1, 1, 1, 1, 0, 0, 1, 0, 0, 1, 1, 1, 0, 0, 0, 0, 0, 0, 0, 0, 0, 1, 1, 1, 1, 0, 0, 1, 0, 0, 1]\n",
      "control #3: [1, 1, 1, 1, 1, 1, 1, 1, 1, 1, 1, 1, 0, 1, 1, 0, 1, 1, 1, 1, 1, 1, 1, 1, 1, 0, 1, 1, 1, 1, 1, 1]\n",
      "control #4: [1, 0, 0, 1, 1, 1, 1, 0, 0, 0, 1, 0, 0, 0, 0, 1, 1, 0, 1, 0, 0, 0, 0, 0, 0, 1, 0, 1, 0, 1, 1, 0]\n"
     ]
    }
   ],
   "source": [
    "measurements = experiment_results.measurements\n",
    "for k, measurement_counts in enumerate(measurements):\n",
    "    print(f\"control #{k}: {measurement_counts}\")"
   ]
  },
  {
   "cell_type": "code",
   "execution_count": 14,
   "id": "7510fa28-b0a0-4729-993f-f57ca2c78567",
   "metadata": {
    "execution": {
     "iopub.execute_input": "2021-04-10T19:18:16.993358Z",
     "iopub.status.busy": "2021-04-10T19:18:16.993020Z",
     "iopub.status.idle": "2021-04-10T19:18:17.009673Z",
     "shell.execute_reply": "2021-04-10T19:18:17.004534Z",
     "shell.execute_reply.started": "2021-04-10T19:18:16.993315Z"
    },
    "tags": []
   },
   "outputs": [
    {
     "name": "stdout",
     "output_type": "stream",
     "text": [
      "control #0: P(|0>) = 1.00, P(|1>) = 0.00, P(|2>) = 0.00\n",
      "control #1: P(|0>) = 0.88, P(|1>) = 0.12, P(|2>) = 0.00\n",
      "control #2: P(|0>) = 0.56, P(|1>) = 0.44, P(|2>) = 0.00\n",
      "control #3: P(|0>) = 0.09, P(|1>) = 0.91, P(|2>) = 0.00\n",
      "control #4: P(|0>) = 0.59, P(|1>) = 0.41, P(|2>) = 0.00\n"
     ]
    }
   ],
   "source": [
    "for k, measurement_counts in enumerate(measurements):\n",
    "    p0 = measurement_counts.count(0) / shot_count\n",
    "    p1 = measurement_counts.count(1) / shot_count\n",
    "    p2 = measurement_counts.count(2) / shot_count\n",
    "    print(f\"control #{k}: P(|0>) = {p0:.2f}, P(|1>) = {p1:.2f}, P(|2>) = {p2:.2f}\")"
   ]
  },
  {
   "cell_type": "code",
   "execution_count": 15,
   "id": "6baa477f-93a5-476b-9d23-52abee3718e2",
   "metadata": {
    "execution": {
     "iopub.execute_input": "2021-04-10T19:18:17.012279Z",
     "iopub.status.busy": "2021-04-10T19:18:17.011733Z",
     "iopub.status.idle": "2021-04-10T19:18:20.469144Z",
     "shell.execute_reply": "2021-04-10T19:18:20.468003Z",
     "shell.execute_reply.started": "2021-04-10T19:18:17.012223Z"
    },
    "tags": []
   },
   "outputs": [
    {
     "data": {
      "application/vnd.jupyter.widget-view+json": {
       "model_id": "7041e60e1ad246828e84d7da40a8e860",
       "version_major": 2,
       "version_minor": 0
      },
      "text/plain": [
       "  0%|          | 0/100 [00:00<?, ?it/s]"
      ]
     },
     "metadata": {},
     "output_type": "display_data"
    },
    {
     "name": "stdout",
     "output_type": "stream",
     "text": [
      "Your task calculate_qchack_measurements has completed in 3s.\n",
      "With  1 repetitions: P(|0>) = 0.31, P(|1>) = 0.69, P(|2>) = 0.00\n",
      "With  4 repetitions: P(|0>) = 0.16, P(|1>) = 0.84, P(|2>) = 0.00\n",
      "With 16 repetitions: P(|0>) = 0.66, P(|1>) = 0.34, P(|2>) = 0.00\n",
      "With 32 repetitions: P(|0>) = 0.22, P(|1>) = 0.78, P(|2>) = 0.00\n",
      "With 64 repetitions: P(|0>) = 0.62, P(|1>) = 0.38, P(|2>) = 0.00\n"
     ]
    }
   ],
   "source": [
    "repetitions = [1, 4, 16, 32, 64]\n",
    "\n",
    "controls = []\n",
    "# Create a random string of complex numbers for all control,\n",
    "# but set a different repetition_count for each control.\n",
    "real_part = np.random.random(size=[segment_count])\n",
    "imag_part = np.random.random(size=[segment_count])\n",
    "values = 0.5 * (real_part + 1j * imag_part)\n",
    "\n",
    "for repetition_count in repetitions:\n",
    "    controls.append(\n",
    "        {\"duration\": duration, \"values\": values, \"repetition_count\": repetition_count}\n",
    "    )\n",
    "\n",
    "experiment_results = qctrl.functions.calculate_qchack_measurements(\n",
    "    controls=controls,\n",
    "    shot_count=shot_count,\n",
    ")\n",
    "\n",
    "for repetition_count, measurement_counts in zip(\n",
    "    repetitions, experiment_results.measurements\n",
    "):\n",
    "    p0 = measurement_counts.count(0) / shot_count\n",
    "    p1 = measurement_counts.count(1) / shot_count\n",
    "    p2 = measurement_counts.count(2) / shot_count\n",
    "    print(\n",
    "        f\"With {repetition_count:2d} repetitions: P(|0>) = {p0:.2f}, P(|1>) = {p1:.2f}, P(|2>) = {p2:.2f}\"\n",
    "    )"
   ]
  },
  {
   "cell_type": "code",
   "execution_count": null,
   "id": "82db65e3-95d9-4456-8a32-c67699cd4dff",
   "metadata": {},
   "outputs": [],
   "source": []
  }
 ],
 "metadata": {
  "kernelspec": {
   "display_name": "Python 3",
   "language": "python",
   "name": "python3"
  },
  "language_info": {
   "codemirror_mode": {
    "name": "ipython",
    "version": 3
   },
   "file_extension": ".py",
   "mimetype": "text/x-python",
   "name": "python",
   "nbconvert_exporter": "python",
   "pygments_lexer": "ipython3",
   "version": "3.8.8"
  }
 },
 "nbformat": 4,
 "nbformat_minor": 5
}
