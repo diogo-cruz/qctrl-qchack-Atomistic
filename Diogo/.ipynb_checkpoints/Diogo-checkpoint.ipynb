{
 "cells": [
  {
   "cell_type": "code",
   "execution_count": 1,
   "id": "53c93b53-18b9-4fa2-95c6-71d49a4fd4d2",
   "metadata": {
    "execution": {
     "iopub.execute_input": "2021-04-10T22:50:57.522417Z",
     "iopub.status.busy": "2021-04-10T22:50:57.521989Z",
     "iopub.status.idle": "2021-04-10T22:51:01.966720Z",
     "shell.execute_reply": "2021-04-10T22:51:01.965415Z",
     "shell.execute_reply.started": "2021-04-10T22:50:57.522317Z"
    },
    "tags": []
   },
   "outputs": [],
   "source": [
    "import matplotlib.pyplot as plt\n",
    "import numpy as np\n",
    "from qctrlvisualizer import get_qctrl_style, plot_controls\n",
    "\n",
    "from qctrl import Qctrl\n",
    "\n",
    "plt.style.use(get_qctrl_style())\n",
    "\n",
    "# Sparse matrix imports\n",
    "from scipy.sparse import coo_matrix\n",
    "\n",
    "# Starting a session with the API\n",
    "qctrl = Qctrl()"
   ]
  },
  {
   "cell_type": "code",
   "execution_count": 2,
   "id": "1750498f-b3ee-48d4-ac45-35f6ec99cf17",
   "metadata": {
    "execution": {
     "iopub.execute_input": "2021-04-10T22:51:01.977817Z",
     "iopub.status.busy": "2021-04-10T22:51:01.977158Z",
     "iopub.status.idle": "2021-04-10T22:51:02.012960Z",
     "shell.execute_reply": "2021-04-10T22:51:02.008030Z",
     "shell.execute_reply.started": "2021-04-10T22:51:01.977770Z"
    },
    "tags": []
   },
   "outputs": [
    {
     "name": "stderr",
     "output_type": "stream",
     "text": [
      "<ipython-input-2-1378c6337fe9>:28: DeprecationWarning: `np.complex` is a deprecated alias for the builtin `complex`. To silence this warning, use `complex` by itself. Doing this will not modify any behavior and is safe. If you specifically wanted the numpy scalar type, use `np.complex128` here.\n",
      "Deprecated in NumPy 1.20; for more details and guidance: https://numpy.org/devdocs/release/1.20.0-notes.html#deprecations\n",
      "  [[1.0, 1.0, 0], [1.0, -1.0, 0], [0, 0, np.sqrt(2)]], dtype=np.complex\n",
      "<ipython-input-2-1378c6337fe9>:30: DeprecationWarning: `np.complex` is a deprecated alias for the builtin `complex`. To silence this warning, use `complex` by itself. Doing this will not modify any behavior and is safe. If you specifically wanted the numpy scalar type, use `np.complex128` here.\n",
      "Deprecated in NumPy 1.20; for more details and guidance: https://numpy.org/devdocs/release/1.20.0-notes.html#deprecations\n",
      "  qubit_projector = np.array([[1, 0, 0], [0, 1, 0], [0, 0, 0]], dtype=np.complex)\n",
      "<ipython-input-2-1378c6337fe9>:32: DeprecationWarning: `np.complex` is a deprecated alias for the builtin `complex`. To silence this warning, use `complex` by itself. Doing this will not modify any behavior and is safe. If you specifically wanted the numpy scalar type, use `np.complex128` here.\n",
      "Deprecated in NumPy 1.20; for more details and guidance: https://numpy.org/devdocs/release/1.20.0-notes.html#deprecations\n",
      "  [[0, 1.0, 0], [1.0, 0, 0], [0, 0, 1.]], dtype=np.complex)\n"
     ]
    }
   ],
   "source": [
    "# 2. Dephasing error\n",
    "dephasing_error = -2 * 2 * np.pi  # MHz\n",
    "\n",
    "# 3. Amplitude error\n",
    "amplitude_i_error = 0.98\n",
    "amplitude_q_error = 1.03\n",
    "\n",
    "# 4. Control line bandwidth limit\n",
    "cut_off_frequency = 2 * np.pi * 10  # MHz\n",
    "resample_segment_count = 1000\n",
    "\n",
    "# 5. SPAM error confusion matrix\n",
    "confusion_matrix = np.array([[0.99, 0.01], [0.02, 0.98]])\n",
    "\n",
    "# Lowering operator\n",
    "b = np.array([[0, 1], [0, 0]])\n",
    "# Number operator\n",
    "n = np.diag([0, 1])\n",
    "# Initial state\n",
    "initial_state = np.array([[1], [0]])\n",
    "\n",
    "sigma_x = np.array([[0, 1], [1, 0]])\n",
    "sigma_y = np.array([[0, -1j], [1j, 0]])\n",
    "sigma_z = np.array([[1, 0], [0, -1]])\n",
    "sigma_m = np.array([[0, 1], [0, 0]])\n",
    "hadamard = np.array([[1, 1], [1, -1]]) / np.sqrt(2)\n",
    "hadamard_leak = np.array(\n",
    "    [[1.0, 1.0, 0], [1.0, -1.0, 0], [0, 0, np.sqrt(2)]], dtype=np.complex\n",
    ") / np.sqrt(2)\n",
    "qubit_projector = np.array([[1, 0, 0], [0, 1, 0], [0, 0, 0]], dtype=np.complex)\n",
    "sigma_x_leak = np.array(\n",
    "[[0, 1.0, 0], [1.0, 0, 0], [0, 0, 1.]], dtype=np.complex)"
   ]
  },
  {
   "cell_type": "code",
   "execution_count": 3,
   "id": "f6d48b3d-b57a-4cf5-b5e0-396f4c7dfd72",
   "metadata": {
    "execution": {
     "iopub.execute_input": "2021-04-10T22:51:02.032774Z",
     "iopub.status.busy": "2021-04-10T22:51:02.032412Z",
     "iopub.status.idle": "2021-04-10T22:51:02.054556Z",
     "shell.execute_reply": "2021-04-10T22:51:02.053027Z",
     "shell.execute_reply.started": "2021-04-10T22:51:02.032733Z"
    },
    "tags": []
   },
   "outputs": [],
   "source": [
    "def get_optimal_pulse(target_U, duration=1):\n",
    "\n",
    "    # 1. Limits for drive amplitudes\n",
    "#     max_drive_amplitude = 2 * np.pi * 20  # MHz\n",
    "\n",
    "    with qctrl.create_graph() as graph:\n",
    "\n",
    "#         gamma_max = 2 * np.pi * 30e6  # Hz\n",
    "#         alpha_max = 2 * np.pi * 30e6  # Hz\n",
    "        segment_count = 20\n",
    "        #gamma_max = max_drive_amplitude\n",
    "\n",
    "#         gamma_i = qctrl.operations.bounded_optimization_variable(\n",
    "#             count=segment_count,\n",
    "#             lower_bound=-gamma_max,\n",
    "#             upper_bound=gamma_max,\n",
    "#         )\n",
    "#         gamma_i = qctrl.operations.pwc_signal(\n",
    "#             values=gamma_i,\n",
    "#             duration=duration,\n",
    "#         )\n",
    "#         gamma_q = qctrl.operations.bounded_optimization_variable(\n",
    "#             count=segment_count,\n",
    "#             lower_bound=-gamma_max,\n",
    "#             upper_bound=gamma_max,\n",
    "#         )\n",
    "#         gamma_q = qctrl.operations.pwc_signal(\n",
    "#             values=gamma_q,\n",
    "#             duration=duration,\n",
    "#         )\n",
    "        \n",
    "        gamma_i = qctrl.operations.real_fourier_pwc_signal(\n",
    "        duration=duration,\n",
    "        segments_count=segment_count,\n",
    "        randomized_frequencies_count=10,\n",
    "        )\n",
    "        gamma_q = qctrl.operations.real_fourier_pwc_signal(\n",
    "            duration=duration,\n",
    "            segments_count=segment_count,\n",
    "            optimizable_frequencies_count=10,\n",
    "        )\n",
    "\n",
    "        # Apply 4. bandwidth limits\n",
    "        drive_unfiltered = qctrl.operations.pwc_signal(duration=duration,\n",
    "                                                       values=qctrl.operations.complex_value(\n",
    "                                                           real=gamma_i.values, imag=gamma_q.values),\n",
    "                                                      name = 'gamma')\n",
    "        drive_filtered = qctrl.operations.convolve_pwc(\n",
    "            pwc=drive_unfiltered,\n",
    "            kernel_integral=qctrl.operations.sinc_integral_function(cut_off_frequency),\n",
    "        )\n",
    "        drive = qctrl.operations.discretize_stf(\n",
    "            drive_filtered, duration=duration, segments_count=resample_segment_count\n",
    "        )\n",
    "\n",
    "        # Construct microwave drive\n",
    "        drive_term = qctrl.operations.pwc_operator_hermitian_part(\n",
    "            qctrl.operations.pwc_operator(signal=drive, operator=b)\n",
    "        )\n",
    "\n",
    "        # Construct 2. dephasing term.\n",
    "        dephasing_term = qctrl.operations.constant_pwc_operator(\n",
    "            operator=dephasing_error * n,\n",
    "            duration=duration,\n",
    "        )\n",
    "\n",
    "        # Construct Hamiltonian.\n",
    "        hamiltonian = qctrl.operations.pwc_sum(\n",
    "            [\n",
    "                drive_term,\n",
    "                dephasing_term,\n",
    "            ]\n",
    "        )\n",
    "        \n",
    "#         target_operator = qctrl.operations.target(\n",
    "#             sigma_x_leak.dot(qubit_projector), filter_function_projector=qubit_projector\n",
    "#         )\n",
    "        target_operator = qctrl.operations.target(operator=target_U)\n",
    "        \n",
    "        #DIOGO\n",
    "        infidelity = qctrl.operations.infidelity_pwc(\n",
    "        hamiltonian=qctrl.operations.pwc_sum([drive_term, dephasing_term]),\n",
    "        target_operator=target_operator,\n",
    "        noise_operators=[dephasing_term],\n",
    "        name=\"infidelity\",\n",
    "        )\n",
    "        \n",
    "    # Run the optimization\n",
    "    optimization_result = qctrl.functions.calculate_optimization(\n",
    "        cost_node_name=\"infidelity\",\n",
    "        output_node_names=[\"gamma\"],\n",
    "        graph=graph,\n",
    "    )\n",
    "    \n",
    "    #print(optimization_result.output[\"gamma\"])\n",
    "    #print(np.array([dicc[\"value\"] for dicc in optimization_result.output[\"gamma\"]]))\n",
    "    \n",
    "    value_results = np.array([dicc[\"value\"] for dicc in optimization_result.output[\"gamma\"]])\n",
    "\n",
    "    print(\"Optimized cost:\\t\", optimization_result.cost)\n",
    "\n",
    "    # Plot the optimized controls\n",
    "    plot_controls(\n",
    "        plt.figure(),\n",
    "        controls={\n",
    "            \"$\\\\gamma$\": optimization_result.output[\"gamma\"],\n",
    "        },\n",
    "    )\n",
    "    plt.show()\n",
    "      \n",
    "        \n",
    "    return value_results"
   ]
  },
  {
   "cell_type": "code",
   "execution_count": 4,
   "id": "d9a72e98-116c-42f2-9b57-a98fe4b53d3f",
   "metadata": {
    "execution": {
     "iopub.execute_input": "2021-04-10T22:51:02.060309Z",
     "iopub.status.busy": "2021-04-10T22:51:02.059832Z",
     "iopub.status.idle": "2021-04-10T22:51:02.090281Z",
     "shell.execute_reply": "2021-04-10T22:51:02.089050Z",
     "shell.execute_reply.started": "2021-04-10T22:51:02.060273Z"
    },
    "tags": []
   },
   "outputs": [],
   "source": [
    "def simulate_more_realistic_qubit(\n",
    "    duration=1, values=np.array([np.pi]), shots=1024, repetitions=1\n",
    "):\n",
    "\n",
    "    # 1. Limits for drive amplitudes\n",
    "#     assert np.amax(values) <= 1.0\n",
    "#     assert np.amin(values) >= -1.0\n",
    "#     max_drive_amplitude = 2 * np.pi * 20  # MHz\n",
    "        \n",
    "    with qctrl.create_graph() as graph:\n",
    "\n",
    "        # Apply 4. bandwidth limits\n",
    "        drive_unfiltered = qctrl.operations.pwc_signal(duration=duration,\n",
    "                                                       values=values)\n",
    "        drive_filtered = qctrl.operations.convolve_pwc(\n",
    "            pwc=drive_unfiltered,\n",
    "            kernel_integral=qctrl.operations.sinc_integral_function(cut_off_frequency),\n",
    "        )\n",
    "        drive = qctrl.operations.discretize_stf(\n",
    "            drive_filtered, duration=duration, segments_count=resample_segment_count\n",
    "        )\n",
    "\n",
    "        # Construct microwave drive\n",
    "        drive_term = qctrl.operations.pwc_operator_hermitian_part(\n",
    "            qctrl.operations.pwc_operator(signal=drive, operator=b)\n",
    "        )\n",
    "\n",
    "        # Construct 2. dephasing term.\n",
    "        dephasing_term = qctrl.operations.constant_pwc_operator(\n",
    "            operator=dephasing_error * n,\n",
    "            duration=duration,\n",
    "        )\n",
    "\n",
    "        # Construct Hamiltonian.\n",
    "        hamiltonian = qctrl.operations.pwc_sum(\n",
    "            [\n",
    "                drive_term,\n",
    "                dephasing_term,\n",
    "            ]\n",
    "        )\n",
    "\n",
    "        # Solve Schrodinger's equation and get total unitary at the end\n",
    "        unitary = qctrl.operations.time_evolution_operators_pwc(\n",
    "            hamiltonian=hamiltonian,\n",
    "            sample_times=np.array([duration]),\n",
    "        )[-1]\n",
    "        unitary.name = \"unitary\"\n",
    "\n",
    "        # Repeat final unitary\n",
    "        repeated_unitary = np.eye(2)\n",
    "        for _ in range(repetitions):\n",
    "            repeated_unitary = repeated_unitary @ unitary\n",
    "        repeated_unitary.name = \"repeated_unitary\"\n",
    "\n",
    "        # Calculate final state.\n",
    "        state = repeated_unitary @ initial_state\n",
    "\n",
    "        # Calculate final populations.\n",
    "        populations = qctrl.operations.abs(state[:, 0]) ** 2\n",
    "        # Normalize populations\n",
    "        norm = qctrl.operations.sum(populations)\n",
    "        populations = populations / norm\n",
    "        populations.name = \"populations\"\n",
    "\n",
    "    # Evaluate graph.\n",
    "    result = qctrl.functions.calculate_graph(\n",
    "        graph=graph,\n",
    "        output_node_names=[\"unitary\", \"repeated_unitary\", \"populations\"],\n",
    "    )\n",
    "\n",
    "    # Extract outputs.\n",
    "    unitary = result.output[\"unitary\"][\"value\"]\n",
    "    repeated_unitary = result.output[\"repeated_unitary\"][\"value\"]\n",
    "    populations = result.output[\"populations\"][\"value\"]\n",
    "\n",
    "    # Sample projective measurements.\n",
    "    true_measurements = np.random.choice(2, size=shots, p=populations)\n",
    "    measurements = np.array(\n",
    "        [np.random.choice(2, p=confusion_matrix[m]) for m in true_measurements]\n",
    "    )\n",
    "\n",
    "    results = {\"unitary\": unitary, \"measurements\": measurements}\n",
    "\n",
    "    return results"
   ]
  },
  {
   "cell_type": "code",
   "execution_count": 5,
   "id": "07502414-fde7-4908-ad69-2761b9a966e6",
   "metadata": {
    "execution": {
     "iopub.execute_input": "2021-04-10T22:51:02.106773Z",
     "iopub.status.busy": "2021-04-10T22:51:02.105005Z",
     "iopub.status.idle": "2021-04-10T22:51:02.116732Z",
     "shell.execute_reply": "2021-04-10T22:51:02.115805Z",
     "shell.execute_reply.started": "2021-04-10T22:51:02.106704Z"
    },
    "tags": []
   },
   "outputs": [],
   "source": [
    "max_rabi_rate = 20 * 2 * np.pi  # MHz\n",
    "not_duration = np.pi / (max_rabi_rate)  # us\n",
    "h_duration = np.pi / (2 * max_rabi_rate)  # us\n",
    "shots = 1024\n",
    "\n",
    "#values = np.array([1.0])"
   ]
  },
  {
   "cell_type": "code",
   "execution_count": 6,
   "id": "52a67969-167b-4658-98d4-6c199e44af9d",
   "metadata": {
    "execution": {
     "iopub.execute_input": "2021-04-10T22:51:02.126597Z",
     "iopub.status.busy": "2021-04-10T22:51:02.124884Z",
     "iopub.status.idle": "2021-04-10T22:55:31.328263Z",
     "shell.execute_reply": "2021-04-10T22:55:31.327142Z",
     "shell.execute_reply.started": "2021-04-10T22:51:02.126544Z"
    },
    "tags": []
   },
   "outputs": [
    {
     "data": {
      "application/vnd.jupyter.widget-view+json": {
       "model_id": "6df63da6cd1e467a89518b860f716946",
       "version_major": 2,
       "version_minor": 0
      },
      "text/plain": [
       "  0%|          | 0/100 [00:00<?, ?it/s]"
      ]
     },
     "metadata": {},
     "output_type": "display_data"
    },
    {
     "name": "stdout",
     "output_type": "stream",
     "text": [
      "Your task calculate_optimization has started.\n",
      "Your task calculate_optimization has completed in 35s.\n",
      "Optimized cost:\t 0.000192027675199846\n"
     ]
    },
    {
     "data": {
      "image/png": "[encoded data removed]",
      "text/plain": [
       "<Figure size 504x288 with 2 Axes>"
      ]
     },
     "metadata": {
      "needs_background": "light"
     },
     "output_type": "display_data"
    },
    {
     "data": {
      "application/vnd.jupyter.widget-view+json": {
       "model_id": "81f33558214d44269f14170658aaaa23",
       "version_major": 2,
       "version_minor": 0
      },
      "text/plain": [
       "  0%|          | 0/100 [00:00<?, ?it/s]"
      ]
     },
     "metadata": {},
     "output_type": "display_data"
    },
    {
     "name": "stdout",
     "output_type": "stream",
     "text": [
      "Your task calculate_optimization has started.\n",
      "Your task calculate_optimization has completed in 220s.\n",
      "Optimized cost:\t 0.0023383119981702748\n"
     ]
    },
    {
     "data": {
      "image/png": "[encoded data removed]",
      "text/plain": [
       "<Figure size 504x288 with 2 Axes>"
      ]
     },
     "metadata": {
      "needs_background": "light"
     },
     "output_type": "display_data"
    },
    {
     "data": {
      "application/vnd.jupyter.widget-view+json": {
       "model_id": "07c51dd6d8f84d15862892128c2edf4a",
       "version_major": 2,
       "version_minor": 0
      },
      "text/plain": [
       "  0%|          | 0/100 [00:00<?, ?it/s]"
      ]
     },
     "metadata": {},
     "output_type": "display_data"
    },
    {
     "name": "stdout",
     "output_type": "stream",
     "text": [
      "Your task calculate_graph has started.\n",
      "Your task calculate_graph has completed in 6s.\n"
     ]
    },
    {
     "data": {
      "application/vnd.jupyter.widget-view+json": {
       "model_id": "19a421685d374c79a7a23cc79162f186",
       "version_major": 2,
       "version_minor": 0
      },
      "text/plain": [
       "  0%|          | 0/100 [00:00<?, ?it/s]"
      ]
     },
     "metadata": {},
     "output_type": "display_data"
    },
    {
     "name": "stdout",
     "output_type": "stream",
     "text": [
      "Your task calculate_graph has started.\n",
      "Your task calculate_graph has completed in 6s.\n"
     ]
    }
   ],
   "source": [
    "not_values = get_optimal_pulse(sigma_x, duration=not_duration)\n",
    "h_values = get_optimal_pulse(hadamard, duration=h_duration)\n",
    "\n",
    "not_results = simulate_more_realistic_qubit(\n",
    "    duration=not_duration, values=not_values, shots=shots\n",
    ")\n",
    "h_results = simulate_more_realistic_qubit(\n",
    "    duration=h_duration, values=h_values, shots=shots\n",
    ")"
   ]
  },
  {
   "cell_type": "code",
   "execution_count": 10,
   "id": "35c0df79-a724-4ade-b9b9-c2cea88d815b",
   "metadata": {
    "execution": {
     "iopub.execute_input": "2021-04-10T22:55:49.827967Z",
     "iopub.status.busy": "2021-04-10T22:55:49.827735Z",
     "iopub.status.idle": "2021-04-10T22:55:49.835420Z",
     "shell.execute_reply": "2021-04-10T22:55:49.833990Z",
     "shell.execute_reply.started": "2021-04-10T22:55:49.827942Z"
    },
    "tags": []
   },
   "outputs": [],
   "source": [
    "error_norm = (\n",
    "    lambda operate_a, operator_b: 1\n",
    "    - np.abs(np.trace((operate_a.conj().T @ operator_b)) / 2) ** 2\n",
    ")"
   ]
  },
  {
   "cell_type": "code",
   "execution_count": 11,
   "id": "7be04d95-ea3b-4952-ad87-45161b55303b",
   "metadata": {
    "execution": {
     "iopub.execute_input": "2021-04-10T22:55:50.805529Z",
     "iopub.status.busy": "2021-04-10T22:55:50.804444Z",
     "iopub.status.idle": "2021-04-10T22:55:50.824754Z",
     "shell.execute_reply": "2021-04-10T22:55:50.823287Z",
     "shell.execute_reply.started": "2021-04-10T22:55:50.805434Z"
    },
    "tags": []
   },
   "outputs": [],
   "source": [
    "def get_pulse_plot_dict(name=\"default\", duration=1, values=np.array([1.0])):\n",
    "    segments = len(values)\n",
    "    segment_durations = duration / segments\n",
    "    pulse_plot_dict = {\n",
    "        name: [{\"duration\": segment_durations, \"value\": v} for v in values]\n",
    "    }\n",
    "    return pulse_plot_dict\n",
    "def estimate_probability_of_one(measurements):\n",
    "    size = len(measurements)\n",
    "    probability = np.mean(measurements)\n",
    "    standard_error = np.std(measurements) / np.sqrt(size)\n",
    "    return (probability, standard_error)"
   ]
  },
  {
   "cell_type": "code",
   "execution_count": 12,
   "id": "ff4f4042-d1af-45e2-871b-33d43020a23b",
   "metadata": {
    "execution": {
     "iopub.execute_input": "2021-04-10T22:56:21.183476Z",
     "iopub.status.busy": "2021-04-10T22:56:21.183185Z",
     "iopub.status.idle": "2021-04-10T22:56:21.214773Z",
     "shell.execute_reply": "2021-04-10T22:56:21.214079Z",
     "shell.execute_reply.started": "2021-04-10T22:56:21.183446Z"
    },
    "tags": []
   },
   "outputs": [
    {
     "name": "stdout",
     "output_type": "stream",
     "text": [
      "Realised NOT Gate:\n",
      "[[-0.00150471+0.00959319j -0.15539696+0.98780438j]\n",
      " [-0.15745704+0.98747809j  0.00153339-0.00958865j]]\n",
      "Ideal NOT Gate:\n",
      "[[0.-0.j 0.-1.j]\n",
      " [0.-1.j 0.-0.j]]\n",
      "NOT Gate Error:9.538102495199041e-05\n",
      "NOT estimated probability of getting 1:0.98046875\n",
      "NOT estimate standard error:0.004324460347636316\n",
      "\n",
      "Realised H Gate:\n",
      "[[ 0.05405632-0.70521897j  0.05546109-0.70474689j]\n",
      " [ 0.05546843-0.70474631j -0.05692976+0.70499283j]]\n",
      "Ideal H Gate:\n",
      "[[0.-0.70710678j 0.-0.70710678j]\n",
      " [0.-0.70710678j 0.+0.70710678j]]\n",
      "H Gate Error:2.1419158789948156e-06\n",
      "H estimated probability of getting 1:0.4921875\n",
      "H estimate standard error:0.015623092534937653\n"
     ]
    }
   ],
   "source": [
    "realised_not_gate = not_results[\"unitary\"]\n",
    "ideal_not_gate = np.array([[0, 1], [1, 0]]) * -1j\n",
    "not_error = error_norm(realised_not_gate, ideal_not_gate)\n",
    "realised_h_gate = h_results[\"unitary\"]\n",
    "ideal_h_gate = (1 / np.sqrt(2)) * np.array([[1, -1j], [-1j, 1]])\n",
    "ideal_h_gate = (1 / np.sqrt(2)) * np.array([[1, 1], [1, -1]]) * -1j\n",
    "h_error = error_norm(realised_h_gate, ideal_h_gate)\n",
    "\n",
    "not_measurements = not_results[\"measurements\"]\n",
    "h_measurements = h_results[\"measurements\"]\n",
    "not_probability, not_standard_error = estimate_probability_of_one(not_measurements)\n",
    "h_probability, h_standard_error = estimate_probability_of_one(h_measurements)\n",
    "\n",
    "print(\"Realised NOT Gate:\")\n",
    "print(realised_not_gate)\n",
    "print(\"Ideal NOT Gate:\")\n",
    "print(ideal_not_gate)\n",
    "print(\"NOT Gate Error:\" + str(not_error))\n",
    "print(\"NOT estimated probability of getting 1:\" + str(not_probability))\n",
    "print(\"NOT estimate standard error:\" + str(not_standard_error) + \"\\n\")\n",
    "\n",
    "print(\"Realised H Gate:\")\n",
    "print(realised_h_gate)\n",
    "print(\"Ideal H Gate:\")\n",
    "print(ideal_h_gate)\n",
    "print(\"H Gate Error:\" + str(h_error))\n",
    "print(\"H estimated probability of getting 1:\" + str(h_probability))\n",
    "print(\"H estimate standard error:\" + str(h_standard_error))"
   ]
  },
  {
   "cell_type": "code",
   "execution_count": 13,
   "id": "17dd9744-a1c8-4103-9f15-f1f177f9771e",
   "metadata": {
    "execution": {
     "iopub.execute_input": "2021-04-10T22:56:30.147315Z",
     "iopub.status.busy": "2021-04-10T22:56:30.146661Z",
     "iopub.status.idle": "2021-04-10T22:56:30.153933Z",
     "shell.execute_reply": "2021-04-10T22:56:30.152917Z",
     "shell.execute_reply.started": "2021-04-10T22:56:30.147115Z"
    },
    "tags": []
   },
   "outputs": [],
   "source": [
    "control_count = 5\n",
    "segment_count = 16\n",
    "duration = 30.0\n",
    "shot_count = 32"
   ]
  },
  {
   "cell_type": "code",
   "execution_count": 14,
   "id": "33c2eeae-fccc-4f12-9287-1f548fb70309",
   "metadata": {
    "execution": {
     "iopub.execute_input": "2021-04-10T22:56:33.508891Z",
     "iopub.status.busy": "2021-04-10T22:56:33.508596Z",
     "iopub.status.idle": "2021-04-10T22:56:34.287077Z",
     "shell.execute_reply": "2021-04-10T22:56:34.286011Z",
     "shell.execute_reply.started": "2021-04-10T22:56:33.508852Z"
    },
    "tags": []
   },
   "outputs": [
    {
     "data": {
      "image/png": "[encoded data removed]",
      "text/plain": [
       "<Figure size 504x288 with 2 Axes>"
      ]
     },
     "metadata": {
      "needs_background": "light"
     },
     "output_type": "display_data"
    }
   ],
   "source": [
    "controls = []\n",
    "for k in range(control_count):\n",
    "    # Create a random string of complex numbers for each controls.\n",
    "    real_part = np.random.random(size=[segment_count])\n",
    "    imag_part = np.random.random(size=[segment_count])\n",
    "    values = 0.15 * k * (real_part + 1j * imag_part)\n",
    "\n",
    "    controls.append({\"duration\": duration, \"values\": values})\n",
    "\n",
    "# Plot the last control as an example.\n",
    "plot_controls(\n",
    "    figure=plt.figure(),\n",
    "    controls={\n",
    "        \"$\\Omega$\": [\n",
    "            {\"duration\": duration / segment_count, \"value\": value} for value in values\n",
    "        ]\n",
    "    },\n",
    ")"
   ]
  },
  {
   "cell_type": "code",
   "execution_count": 15,
   "id": "f6e0f151-9e3c-45a4-8e93-d79c9dfbf6d4",
   "metadata": {
    "execution": {
     "iopub.execute_input": "2021-04-10T22:56:39.429890Z",
     "iopub.status.busy": "2021-04-10T22:56:39.429518Z",
     "iopub.status.idle": "2021-04-10T22:56:42.909881Z",
     "shell.execute_reply": "2021-04-10T22:56:42.908670Z",
     "shell.execute_reply.started": "2021-04-10T22:56:39.429842Z"
    },
    "tags": []
   },
   "outputs": [
    {
     "data": {
      "application/vnd.jupyter.widget-view+json": {
       "model_id": "5e9cc7ffa6f44a9a9bcfe73a9204d32e",
       "version_major": 2,
       "version_minor": 0
      },
      "text/plain": [
       "  0%|          | 0/100 [00:00<?, ?it/s]"
      ]
     },
     "metadata": {},
     "output_type": "display_data"
    },
    {
     "name": "stdout",
     "output_type": "stream",
     "text": [
      "Your task calculate_qchack_measurements has completed in 3s.\n"
     ]
    }
   ],
   "source": [
    "# Obtain the results of the experiment.\n",
    "experiment_results = qctrl.functions.calculate_qchack_measurements(\n",
    "    controls=controls,\n",
    "    shot_count=shot_count,\n",
    ")"
   ]
  },
  {
   "cell_type": "code",
   "execution_count": 16,
   "id": "e3becd2b-7b5f-465b-925c-2b0b5ddd3f4f",
   "metadata": {
    "execution": {
     "iopub.execute_input": "2021-04-10T22:56:48.851542Z",
     "iopub.status.busy": "2021-04-10T22:56:48.851262Z",
     "iopub.status.idle": "2021-04-10T22:56:48.858479Z",
     "shell.execute_reply": "2021-04-10T22:56:48.857342Z",
     "shell.execute_reply.started": "2021-04-10T22:56:48.851507Z"
    },
    "tags": []
   },
   "outputs": [
    {
     "name": "stdout",
     "output_type": "stream",
     "text": [
      "control #0: [0, 0, 0, 0, 0, 0, 0, 0, 0, 0, 0, 0, 0, 0, 0, 0, 0, 0, 0, 0, 0, 0, 0, 0, 0, 0, 0, 0, 0, 0, 0, 0]\n",
      "control #1: [1, 0, 1, 0, 1, 0, 0, 0, 1, 0, 0, 0, 0, 0, 0, 0, 0, 0, 1, 0, 0, 0, 0, 0, 0, 1, 0, 0, 0, 0, 0, 0]\n",
      "control #2: [1, 1, 1, 1, 0, 0, 1, 1, 0, 1, 1, 0, 0, 1, 0, 1, 0, 1, 0, 1, 0, 1, 0, 1, 0, 1, 0, 0, 1, 1, 0, 0]\n",
      "control #3: [1, 1, 0, 1, 1, 0, 1, 0, 1, 1, 0, 1, 0, 1, 1, 1, 0, 0, 1, 1, 1, 1, 0, 1, 1, 1, 1, 0, 1, 1, 1, 0]\n",
      "control #4: [1, 1, 1, 0, 1, 1, 1, 1, 1, 0, 0, 0, 1, 0, 1, 0, 1, 1, 1, 1, 0, 1, 1, 1, 1, 0, 0, 0, 1, 0, 1, 0]\n"
     ]
    }
   ],
   "source": [
    "measurements = experiment_results.measurements\n",
    "for k, measurement_counts in enumerate(measurements):\n",
    "    print(f\"control #{k}: {measurement_counts}\")"
   ]
  },
  {
   "cell_type": "code",
   "execution_count": 17,
   "id": "7510fa28-b0a0-4729-993f-f57ca2c78567",
   "metadata": {
    "execution": {
     "iopub.execute_input": "2021-04-10T22:56:51.117979Z",
     "iopub.status.busy": "2021-04-10T22:56:51.117521Z",
     "iopub.status.idle": "2021-04-10T22:56:51.128815Z",
     "shell.execute_reply": "2021-04-10T22:56:51.126637Z",
     "shell.execute_reply.started": "2021-04-10T22:56:51.117939Z"
    },
    "tags": []
   },
   "outputs": [
    {
     "name": "stdout",
     "output_type": "stream",
     "text": [
      "control #0: P(|0>) = 1.00, P(|1>) = 0.00, P(|2>) = 0.00\n",
      "control #1: P(|0>) = 0.81, P(|1>) = 0.19, P(|2>) = 0.00\n",
      "control #2: P(|0>) = 0.47, P(|1>) = 0.53, P(|2>) = 0.00\n",
      "control #3: P(|0>) = 0.31, P(|1>) = 0.69, P(|2>) = 0.00\n",
      "control #4: P(|0>) = 0.38, P(|1>) = 0.62, P(|2>) = 0.00\n"
     ]
    }
   ],
   "source": [
    "for k, measurement_counts in enumerate(measurements):\n",
    "    p0 = measurement_counts.count(0) / shot_count\n",
    "    p1 = measurement_counts.count(1) / shot_count\n",
    "    p2 = measurement_counts.count(2) / shot_count\n",
    "    print(f\"control #{k}: P(|0>) = {p0:.2f}, P(|1>) = {p1:.2f}, P(|2>) = {p2:.2f}\")"
   ]
  },
  {
   "cell_type": "code",
   "execution_count": 18,
   "id": "6baa477f-93a5-476b-9d23-52abee3718e2",
   "metadata": {
    "execution": {
     "iopub.execute_input": "2021-04-10T22:56:52.106396Z",
     "iopub.status.busy": "2021-04-10T22:56:52.105905Z",
     "iopub.status.idle": "2021-04-10T22:56:55.626154Z",
     "shell.execute_reply": "2021-04-10T22:56:55.625160Z",
     "shell.execute_reply.started": "2021-04-10T22:56:52.106345Z"
    },
    "tags": []
   },
   "outputs": [
    {
     "data": {
      "application/vnd.jupyter.widget-view+json": {
       "model_id": "73e264c783154eaa9247f0c10c99d455",
       "version_major": 2,
       "version_minor": 0
      },
      "text/plain": [
       "  0%|          | 0/100 [00:00<?, ?it/s]"
      ]
     },
     "metadata": {},
     "output_type": "display_data"
    },
    {
     "name": "stdout",
     "output_type": "stream",
     "text": [
      "Your task calculate_qchack_measurements has completed in 3s.\n",
      "With  1 repetitions: P(|0>) = 0.19, P(|1>) = 0.81, P(|2>) = 0.00\n",
      "With  4 repetitions: P(|0>) = 0.22, P(|1>) = 0.78, P(|2>) = 0.00\n",
      "With 16 repetitions: P(|0>) = 0.59, P(|1>) = 0.41, P(|2>) = 0.00\n",
      "With 32 repetitions: P(|0>) = 0.03, P(|1>) = 0.97, P(|2>) = 0.00\n",
      "With 64 repetitions: P(|0>) = 0.97, P(|1>) = 0.03, P(|2>) = 0.00\n"
     ]
    }
   ],
   "source": [
    "repetitions = [1, 4, 16, 32, 64]\n",
    "\n",
    "controls = []\n",
    "# Create a random string of complex numbers for all control,\n",
    "# but set a different repetition_count for each control.\n",
    "real_part = np.random.random(size=[segment_count])\n",
    "imag_part = np.random.random(size=[segment_count])\n",
    "values = 0.5 * (real_part + 1j * imag_part)\n",
    "\n",
    "for repetition_count in repetitions:\n",
    "    controls.append(\n",
    "        {\"duration\": duration, \"values\": values, \"repetition_count\": repetition_count}\n",
    "    )\n",
    "\n",
    "experiment_results = qctrl.functions.calculate_qchack_measurements(\n",
    "    controls=controls,\n",
    "    shot_count=shot_count,\n",
    ")\n",
    "\n",
    "for repetition_count, measurement_counts in zip(\n",
    "    repetitions, experiment_results.measurements\n",
    "):\n",
    "    p0 = measurement_counts.count(0) / shot_count\n",
    "    p1 = measurement_counts.count(1) / shot_count\n",
    "    p2 = measurement_counts.count(2) / shot_count\n",
    "    print(\n",
    "        f\"With {repetition_count:2d} repetitions: P(|0>) = {p0:.2f}, P(|1>) = {p1:.2f}, P(|2>) = {p2:.2f}\"\n",
    "    )"
   ]
  },
  {
   "cell_type": "code",
   "execution_count": null,
   "id": "82db65e3-95d9-4456-8a32-c67699cd4dff",
   "metadata": {},
   "outputs": [],
   "source": []
  }
 ],
 "metadata": {
  "kernelspec": {
   "display_name": "Python 3",
   "language": "python",
   "name": "python3"
  },
  "language_info": {
   "codemirror_mode": {
    "name": "ipython",
    "version": 3
   },
   "file_extension": ".py",
   "mimetype": "text/x-python",
   "name": "python",
   "nbconvert_exporter": "python",
   "pygments_lexer": "ipython3",
   "version": "3.8.8"
  }
 },
 "nbformat": 4,
 "nbformat_minor": 5
}
