{
 "cells": [
  {
   "cell_type": "markdown",
   "metadata": {},
   "source": [
    "# Rydberg atoms: generating highly-entangled states in large atomic arrays\n",
    "**Generating high-fidelity GHZ states using Q-CTRL pulses**\n",
    "\n",
    "BOULDER OPAL enables you to optimize controls to achieve target states in your Rydberg atomic system. In this Application note, you'll learn to optimize the generation of GHZ states for an array of multiple atoms initially in the ground state. This notebook adopts an integration method using sparse Hamiltonians and [Krylov subspaces](https://en.wikipedia.org/wiki/Krylov_subspace) to deal with the exponentially increasing memory requirements to simulate and optimize the pulses as the number of atoms in the system increases."
   ]
  },
  {
   "cell_type": "markdown",
   "metadata": {},
   "source": [
    "## Imports and initialization"
   ]
  },
  {
   "cell_type": "code",
   "execution_count": 1,
   "metadata": {
    "ExecuteTime": {
     "end_time": "2020-08-13T01:02:28.673665Z",
     "start_time": "2020-08-13T01:02:26.070998Z"
    }
   },
   "outputs": [],
   "source": [
    "import json\n",
    "import time\n",
    "\n",
    "import jsonpickle\n",
    "import matplotlib.gridspec as gridspec\n",
    "import matplotlib.pyplot as plt\n",
    "import numpy as np\n",
    "import scipy\n",
    "from qctrlvisualizer import get_qctrl_style, plot_controls\n",
    "\n",
    "from qctrl import Qctrl\n",
    "\n",
    "# Starting a session with the API\n",
    "qctrl = Qctrl()"
   ]
  },
  {
   "cell_type": "code",
   "execution_count": 2,
   "metadata": {
    "ExecuteTime": {
     "end_time": "2020-08-13T01:02:28.673665Z",
     "start_time": "2020-08-13T01:02:26.070998Z"
    }
   },
   "outputs": [],
   "source": [
    "# Helper functions\n",
    "def create_initial_state(qubit_count):\n",
    "    \"\"\"Create initial state.\"\"\"\n",
    "\n",
    "    initial_state = np.zeros([2 ** qubit_count])\n",
    "    initial_state[0] = 1.0\n",
    "    return initial_state\n",
    "\n",
    "\n",
    "def create_target_state(qubit_count):\n",
    "    \"\"\"Create target state.\"\"\"\n",
    "\n",
    "    # indices of states |0101...> and |10101...>\n",
    "    idx_even = sum([2 ** n for n in range(0, qubit_count, 2)])\n",
    "    idx_odd = sum([2 ** n for n in range(1, qubit_count, 2)])\n",
    "\n",
    "    target_state = np.zeros([2 ** qubit_count])\n",
    "    target_state[[idx_even, idx_odd]] = 1.0 / np.sqrt(2.0)\n",
    "    return target_state\n",
    "\n",
    "\n",
    "def get_durations(segments):\n",
    "    \"\"\"Get control segment durations.\"\"\"\n",
    "\n",
    "    return [duration / segments] * segments\n",
    "\n",
    "\n",
    "def get_recommended_k(qubit_count, segment_count):\n",
    "    \"\"\"\n",
    "    Return the appropriate Krylov subspace dimension (k) for a given set of parameters, as\n",
    "    required for the integration. This is obtained for the Hamiltonian with the largest spectral range.\n",
    "    \"\"\"\n",
    "\n",
    "    # Calculate terms and put together the full Hamiltonian, get first value\n",
    "    H_omega, H_delta, H_fixed = get_rydberg_hamiltonian_terms(qubit_count)\n",
    "\n",
    "    with qctrl.create_graph() as graph:\n",
    "        maximal_range_hamiltonian = (\n",
    "            omega_max * H_omega - delta_range * H_delta + H_fixed\n",
    "        ).tocoo()\n",
    "\n",
    "        # Calculate spectral range\n",
    "        spectral_range = qctrl.operations.spectral_range(\n",
    "            operator=maximal_range_hamiltonian\n",
    "        )\n",
    "\n",
    "        # Calculate the appropriate Krylov subspace dimension k\n",
    "        qctrl.operations.estimated_krylov_subspace_dimension(\n",
    "            spectral_range=spectral_range,\n",
    "            error_tolerance=1e-6,\n",
    "            duration=duration,\n",
    "            maximum_segment_duration=duration / segment_count,\n",
    "            name=\"k\",\n",
    "        )\n",
    "\n",
    "    result = qctrl.functions.calculate_graph(graph=graph, output_node_names=[\"k\"])\n",
    "\n",
    "    return result.output[\"k\"][\"value\"]\n",
    "\n",
    "\n",
    "def load_var(file_name):\n",
    "    \"\"\"Return a variable from a json file.\"\"\"\n",
    "\n",
    "    f = open(file_name, \"r+\")\n",
    "    encoded = f.read()\n",
    "    decoded = jsonpickle.decode(encoded)\n",
    "    f.close()\n",
    "    return decoded"
   ]
  },
  {
   "cell_type": "markdown",
   "metadata": {},
   "source": [
    "## Generating GHZ states using Q-CTRL pulses\n",
    "\n",
    "Here you'll learn to set up and optimize controls to prepare GHZ states for different numbers of atoms."
   ]
  },
  {
   "cell_type": "markdown",
   "metadata": {},
   "source": [
    "### Characterizing the dynamics of the Rydberg system"
   ]
  },
  {
   "cell_type": "markdown",
   "metadata": {},
   "source": [
    "Consider a chain of $N$ atoms, each one modeled as a qubit, with $|0\\rangle$ representing the ground state and $|1\\rangle$ representing a Rydberg state.\n",
    "The total Hamiltonian of the system, as described by [A. Omran et al.](https://science.sciencemag.org/content/365/6453/570), is given by\n",
    "\n",
    "$$ H = \\frac{\\Omega(t)}{2} \\sum_{i=1}^N \\sigma_x^{(i)} - \\sum_{i=1}^N (\\Delta(t) +\\delta_i) n_i + \\sum_{i<j}^N \\frac{V}{\\vert i-j \\vert^6}n_i n_j , $$\n",
    "\n",
    "with $\\sigma_x^{(i)} = \\vert 0 \\rangle \\langle 1 \\vert_i + \\vert 1 \\rangle \\langle 0 \\vert_i$, and $n_i = \\vert 1\\rangle\\langle 1 \\vert_i$.\n",
    "\n",
    "The fixed system parameters are the interaction strength between excited atoms, $V= 2\\pi \\times 24$ MHz, and the local energy shifts $\\delta_i$,\n",
    "\n",
    "$$\n",
    "\\delta_i =  2 \\pi \\times\n",
    "\\begin{cases}\n",
    "- 4.5 \\ \\mathrm{MHz} \\quad \\mathrm{for} \\ i=1,N \\\\\n",
    "0 \\quad \\mathrm{otherwise}\n",
    "\\end{cases} \\qquad \\mathrm{for} \\ N \\leq 8 ,\n",
    "\\\\\n",
    "\\delta_i =  2 \\pi \\times \\begin{cases}\n",
    "- 6.0 \\ \\mathrm{MHz} \\quad \\mathrm{for} \\ i=1,N \\\\\n",
    "- 1.5 \\ \\mathrm{MHz} \\quad \\mathrm{for} \\ i=4,N-3 \\\\\n",
    "0 \\quad \\mathrm{otherwise}\n",
    "\\end{cases} \\qquad \\mathrm{for} \\ N > 8 .\n",
    "$$\n",
    "\n",
    "The control parameters are the effective coupling strength to the Rydberg state and the detuning, $\\Omega(t)$ and $\\Delta(t)$ respectively. These can be manipulated during the system evolution, which is specified to take place over a total time $T = 1.1$ µs. For convenience, the Hamiltonian terms can be grouped as follows:\n",
    "\n",
    "$$ H = \\Omega(t) h_\\Omega + \\Delta(t) h_\\Delta + H_{\\rm fixed} $$\n",
    "\n",
    "with\n",
    "\n",
    "$$\n",
    "h_\\Omega = \\frac{1}{2}\\sum_{i=1}^N \\sigma_x^{(i)}\n",
    "\\qquad\n",
    "h_\\Delta = - \\sum_{i=1}^N n_i\n",
    "\\qquad\n",
    "H_{\\rm fixed} = \\sum_{i<j}^N \\frac{V}{\\vert i-j \\vert^6}n_i n_j - \\sum_{i=1}^N \\delta_i n_i .\n",
    "$$\n",
    "\n",
    "In the following cell the system parameters are specified, along with a function that implements these Hamiltonian terms."
   ]
  },
  {
   "cell_type": "code",
   "execution_count": 3,
   "metadata": {
    "ExecuteTime": {
     "end_time": "2020-08-13T01:02:31.849796Z",
     "start_time": "2020-08-13T01:02:31.822702Z"
    }
   },
   "outputs": [],
   "source": [
    "# Total time for the evolution\n",
    "duration = 1.1e-6  # s\n",
    "\n",
    "# Interaction strength\n",
    "interaction_strength = 24.0e6 * (2 * np.pi)  # Hz\n",
    "\n",
    "# Individual light shift for each qubit\n",
    "def get_local_shifts(qubit_count):\n",
    "    local_shifts = np.zeros((qubit_count,))\n",
    "    if qubit_count <= 8:\n",
    "        local_shifts[0] = -4.5e6 * (2.0 * np.pi)  # Hz\n",
    "        local_shifts[-1] = -4.5e6 * (2.0 * np.pi)  # Hz\n",
    "    else:\n",
    "        local_shifts[0] = -6.0e6 * (2.0 * np.pi)  # Hz\n",
    "        local_shifts[3] = -1.5e6 * (2.0 * np.pi)  # Hz\n",
    "        local_shifts[-4] = -1.5e6 * (2.0 * np.pi)  # Hz\n",
    "        local_shifts[-1] = -6.0e6 * (2.0 * np.pi)  # Hz\n",
    "    return local_shifts\n",
    "\n",
    "\n",
    "# Function to generate the Hamiltonian terms as sparse matrices\n",
    "def get_rydberg_hamiltonian_terms(qubit_count):\n",
    "\n",
    "    local_shifts = get_local_shifts(qubit_count)\n",
    "\n",
    "    h_omega_values = []\n",
    "    h_omega_indices = []\n",
    "    h_delta_values = []\n",
    "    h_delta_indices = []\n",
    "    h_fixed_values = []\n",
    "    h_fixed_indices = []\n",
    "\n",
    "    # For each computational basis state\n",
    "    for j in range(2 ** qubit_count):\n",
    "        # Get binary representation\n",
    "        s = np.binary_repr(j, width=qubit_count)\n",
    "        state = np.array([int(m) for m in s])\n",
    "\n",
    "        # Global shift term (big delta)\n",
    "        n_exc = np.sum(state)  # Number of excited states\n",
    "        h_delta_values.append(-n_exc)\n",
    "        h_delta_indices.append([j, j])\n",
    "\n",
    "        # Omega term\n",
    "        for i in range(qubit_count):\n",
    "            # Couple \"state\" and \"state with qubit i flipped\"\n",
    "            state_p = state.copy()\n",
    "            state_p[i] = 1 - state_p[i]\n",
    "            h_omega_values.append(0.5)\n",
    "            h_omega_indices.append([j, state_p.dot(2 ** np.arange(qubit_count)[::-1])])\n",
    "\n",
    "        # Local shift term (small deltas)\n",
    "        h_fixed = -np.sum(local_shifts * state)\n",
    "\n",
    "        # Interaction term\n",
    "        for d in range(1, qubit_count):\n",
    "            # number of excited qubits at distance d\n",
    "            n_d = np.dot(((state[:-d] - state[d:]) == 0), state[:-d])\n",
    "            h_fixed += interaction_strength * n_d / d ** 6\n",
    "\n",
    "        if h_fixed != 0.0:\n",
    "            h_fixed_values.append(h_fixed)\n",
    "            h_fixed_indices.append([j, j])\n",
    "\n",
    "    H_omega = scipy.sparse.coo_matrix(\n",
    "        (h_omega_values, np.array(h_omega_indices).T),\n",
    "        shape=[2 ** qubit_count, 2 ** qubit_count],\n",
    "    )\n",
    "\n",
    "    H_delta = scipy.sparse.coo_matrix(\n",
    "        (h_delta_values, np.array(h_delta_indices).T),\n",
    "        shape=[2 ** qubit_count, 2 ** qubit_count],\n",
    "    )\n",
    "\n",
    "    H_fixed = scipy.sparse.coo_matrix(\n",
    "        (h_fixed_values, np.array(h_fixed_indices).T),\n",
    "        shape=[2 ** qubit_count, 2 ** qubit_count],\n",
    "    )\n",
    "\n",
    "    return H_omega, H_delta, H_fixed"
   ]
  },
  {
   "cell_type": "markdown",
   "metadata": {
    "ExecuteTime": {
     "end_time": "2020-08-11T00:32:03.079525Z",
     "start_time": "2020-08-11T00:32:03.049690Z"
    }
   },
   "source": [
    "### Optimizing Q-CTRL pulses for a system with 6 atoms\n",
    "\n",
    "Using the Hamiltonian described in the previous section, you can now proceed with the pulse optimization. With the system initially in its ground state,\n",
    "\n",
    "$$ |\\psi(t=0)\\rangle = |0000\\ldots 0\\rangle , $$\n",
    "\n",
    "the optimization seeks to maximize the fidelity:\n",
    "\n",
    "$$ {\\mathcal F} = \\Big|\\langle \\psi_\\mathrm{target}|\\psi(t=T)\\rangle\\Big|^2 , $$\n",
    "\n",
    "which is determined by the final occupation of the target state\n",
    "\n",
    "$$ |\\psi_\\mathrm{target}\\rangle = \\frac{1}{\\sqrt{2}} \\Big( |0101\\ldots 1\\rangle + |1010\\ldots 0\\rangle \\Big) . $$\n",
    "\n",
    "In order to parametrize the optimization, the controls $\\Omega (t)$ and $\\Delta (t)$ are specified to be piecewise constant functions: they take constant values over segments with equal durations. The optimization is defined in the following cell. This procedure involves specifying the control variables, calculating the full Hamiltonian for the system, and calculating the resulting infidelity of the process."
   ]
  },
  {
   "cell_type": "code",
   "execution_count": 4,
   "metadata": {
    "ExecuteTime": {
     "end_time": "2020-08-13T01:02:39.124853Z",
     "start_time": "2020-08-13T01:02:31.902145Z"
    }
   },
   "outputs": [],
   "source": [
    "# Constraints for the control variables\n",
    "omega_max = 5.0e6 * (2.0 * np.pi)  # Hz\n",
    "delta_range = 15.0e6 * (2.0 * np.pi)  # Hz\n",
    "\n",
    "\n",
    "def optimize_GHZ_state(\n",
    "    qubit_count=6,\n",
    "    segment_count=40,\n",
    "    krylov_subspace_dimension=None,\n",
    "    optimization_count=1,\n",
    "):\n",
    "\n",
    "    # Time the execution of the optimization\n",
    "    start_time = time.time()\n",
    "\n",
    "    # Estimate Krylov subspace dimension\n",
    "    if krylov_subspace_dimension is None:\n",
    "        krylov_subspace_dimension = get_recommended_k(\n",
    "            qubit_count=qubit_count,\n",
    "            segment_count=segment_count,\n",
    "        )\n",
    "\n",
    "    # Print parameters\n",
    "    print(\"\\n Running optimization with:\")\n",
    "    print(\"\\t{} qubits\".format(qubit_count))\n",
    "    print(\"\\t{} segments\".format(segment_count))\n",
    "    print(\"\\tsubspace dimension {}\".format(krylov_subspace_dimension))\n",
    "    print(\"\\t{} optimization runs\".format(optimization_count))\n",
    "\n",
    "    with qctrl.create_graph() as graph:\n",
    "\n",
    "        # Physical parameters\n",
    "        durations = get_durations(segment_count)\n",
    "        local_shifts = get_local_shifts(qubit_count)\n",
    "\n",
    "        omega_segments = qctrl.operations.pwc_signal(\n",
    "            values=qctrl.operations.bounded_optimization_variable(\n",
    "                count=segment_count, lower_bound=0.0, upper_bound=omega_max\n",
    "            ),\n",
    "            duration=duration,\n",
    "            name=\"omega\",\n",
    "        )\n",
    "        delta_segments = qctrl.operations.pwc_signal(\n",
    "            values=qctrl.operations.bounded_optimization_variable(\n",
    "                count=segment_count, lower_bound=-delta_range, upper_bound=+delta_range\n",
    "            ),\n",
    "            duration=duration,\n",
    "            name=\"delta\",\n",
    "        )\n",
    "        fixed_segment = qctrl.operations.pwc_signal(\n",
    "            values=np.array([1]),\n",
    "            duration=duration,\n",
    "            name=\"fixed\",\n",
    "        )\n",
    "\n",
    "        # Calculate Hamiltonian terms\n",
    "        H_omega, H_delta, H_fixed = get_rydberg_hamiltonian_terms(qubit_count)\n",
    "\n",
    "        shift_delta = qctrl.operations.sparse_pwc_operator(\n",
    "            signal=delta_segments, operator=H_delta\n",
    "        )\n",
    "        shift_omega = qctrl.operations.sparse_pwc_operator(\n",
    "            signal=omega_segments, operator=H_omega\n",
    "        )\n",
    "        shift_fixed = qctrl.operations.sparse_pwc_operator(\n",
    "            signal=fixed_segment, operator=H_fixed\n",
    "        )\n",
    "\n",
    "        # Create initial and target states\n",
    "        initial_state = create_initial_state(qubit_count)\n",
    "        target_state = create_target_state(qubit_count)\n",
    "\n",
    "        # Evolve the initial state\n",
    "        evolved_state = qctrl.operations.state_evolution_pwc(\n",
    "            initial_state=initial_state,\n",
    "            hamiltonian=qctrl.operations.sparse_pwc_sum(\n",
    "                [shift_fixed, shift_omega, shift_delta]\n",
    "            ),\n",
    "            krylov_subspace_dimension=krylov_subspace_dimension,\n",
    "            sample_times=None,\n",
    "        )\n",
    "\n",
    "        # Calculate infidelity\n",
    "        infidelity = qctrl.operations.abs(\n",
    "            1\n",
    "            - qctrl.operations.abs(\n",
    "                qctrl.operations.sum(\n",
    "                    qctrl.operations.conjugate(target_state) * evolved_state\n",
    "                )\n",
    "            )\n",
    "            ** 2,\n",
    "            name=\"infidelity\",\n",
    "        )\n",
    "\n",
    "    result = qctrl.functions.calculate_optimization(\n",
    "        cost_node_name=\"infidelity\",\n",
    "        output_node_names=[\"omega\", \"delta\"],\n",
    "        graph=graph,\n",
    "        optimization_count=optimization_count,\n",
    "    )\n",
    "\n",
    "    execution_time = time.time() - start_time\n",
    "\n",
    "    # Print the execution time and best infidelity obtained\n",
    "    print(f\"Execution time: {execution_time:.0f} seconds\")\n",
    "    print(f\"Infidelity reached: {result.cost:.1e}\")\n",
    "\n",
    "    # Return the optimized results\n",
    "    return {\n",
    "        \"result\": result,\n",
    "        \"infidelity\": result.cost,\n",
    "        \"omega_segments\": result.output[\"omega\"],\n",
    "        \"delta_segments\": result.output[\"delta\"],\n",
    "        \"qubit_count\": qubit_count,\n",
    "        \"segment_count\": segment_count,\n",
    "        \"krylov_subspace_dimension\": krylov_subspace_dimension,\n",
    "        \"optimization_count\": optimization_count,\n",
    "    }"
   ]
  },
  {
   "cell_type": "markdown",
   "metadata": {},
   "source": [
    "The optimization can now be called in a single line for any number of atoms $N$. You can also use pre-saved optimization data by setting the flag `use_saved_data=True`. To examine the optimized pulses and their performance, consider the case of 6 atoms:"
   ]
  },
  {
   "cell_type": "code",
   "execution_count": 5,
   "metadata": {
    "ExecuteTime": {
     "end_time": "2020-08-13T01:15:12.797679Z",
     "start_time": "2020-08-13T01:02:39.179684Z"
    }
   },
   "outputs": [
    {
     "name": "stdout",
     "output_type": "stream",
     "text": [
      "\n",
      " Optimization results with:\n",
      "\t6 qubits\n",
      "\t40 segments\n",
      "\t1 optimization count\n",
      "Infidelity reached: 1.6e-05\n"
     ]
    }
   ],
   "source": [
    "# Run optimization or load data\n",
    "use_saved_data = True\n",
    "if use_saved_data == False:\n",
    "    result = optimize_GHZ_state()\n",
    "else:\n",
    "    result = load_var(\n",
    "        \"./resources/rydberg-atoms-generating-highly-entangled-states-in-large-atomic-arrays/Rydberg_6atoms_1optimization.json\"\n",
    "    )\n",
    "    print(\"\\n Optimization results with:\")\n",
    "    print(\"\\t{} qubits\".format(result[\"qubit_count\"]))\n",
    "    print(\"\\t{} segments\".format(result[\"segment_count\"]))\n",
    "    print(\"\\t{} optimization count\".format(result[\"optimization_count\"]))\n",
    "    print(\"Infidelity reached: {:.1e}\".format(result[\"infidelity\"]))"
   ]
  },
  {
   "cell_type": "code",
   "execution_count": 6,
   "metadata": {},
   "outputs": [
    {
     "data": {
      "image/png": "[encoded data removed]",
      "text/plain": [
       "<Figure size 504x288 with 2 Axes>"
      ]
     },
     "metadata": {
      "needs_background": "light"
     },
     "output_type": "display_data"
    }
   ],
   "source": [
    "plot_controls(\n",
    "    plt.figure(),\n",
    "    {\"$\\Omega$\": result[\"omega_segments\"], \"$\\Delta$\": result[\"delta_segments\"]},\n",
    ")\n",
    "plt.show()"
   ]
  },
  {
   "cell_type": "markdown",
   "metadata": {},
   "source": [
    "The above plots show the optimized pulses $\\Omega (t)$ and $\\Delta (t)$ that produce the final state.\n",
    "\n",
    "The next cell sets up a function to plot the optimized population dynamics and the final state. This involves simulating the dynamics using the full Hamiltonian, including optimized control terms."
   ]
  },
  {
   "cell_type": "code",
   "execution_count": 7,
   "metadata": {},
   "outputs": [],
   "source": [
    "def plot_result(result):\n",
    "\n",
    "    # Get physical parameters for the simulation\n",
    "    qubit_count = result[\"qubit_count\"]\n",
    "    segment_count = result[\"segment_count\"]\n",
    "    durations = get_durations(segment_count)\n",
    "    local_shifts = get_local_shifts(qubit_count)\n",
    "    omega_signal = result[\"omega_segments\"]\n",
    "    delta_signal = result[\"delta_segments\"]\n",
    "    omega_segments = np.array([sig[\"value\"] for sig in omega_signal])\n",
    "    delta_segments = np.array([sig[\"value\"] for sig in delta_signal])\n",
    "    fixed_segment = np.array([1])\n",
    "    krylov_subspace_dimension = result[\"krylov_subspace_dimension\"]\n",
    "\n",
    "    # Create initial and target states\n",
    "    initial_state = create_initial_state(qubit_count)\n",
    "    target_state = create_target_state(qubit_count)\n",
    "\n",
    "    with qctrl.create_graph() as graph:\n",
    "        # Calculate terms and put together the full Hamiltonian\n",
    "        H_omega, H_delta, H_fixed = get_rydberg_hamiltonian_terms(qubit_count)\n",
    "        hamiltonian = qctrl.operations.sparse_pwc_sum(\n",
    "            [\n",
    "                qctrl.operations.sparse_pwc_operator(\n",
    "                    signal=qctrl.operations.tensor_pwc(\n",
    "                        np.array(durations), omega_segments\n",
    "                    ),\n",
    "                    operator=H_omega,\n",
    "                ),\n",
    "                qctrl.operations.sparse_pwc_operator(\n",
    "                    signal=qctrl.operations.tensor_pwc(\n",
    "                        np.array(durations), delta_segments\n",
    "                    ),\n",
    "                    operator=H_delta,\n",
    "                ),\n",
    "                qctrl.operations.sparse_pwc_operator(\n",
    "                    signal=qctrl.operations.tensor_pwc(\n",
    "                        np.array([duration]), fixed_segment\n",
    "                    ),\n",
    "                    operator=H_fixed,\n",
    "                ),\n",
    "            ]\n",
    "        )\n",
    "\n",
    "        sample_times = np.linspace(0, duration, 200)\n",
    "\n",
    "        # Evolve the initial state\n",
    "        evolved_states = qctrl.operations.state_evolution_pwc(\n",
    "            initial_state=initial_state,\n",
    "            hamiltonian=hamiltonian,\n",
    "            krylov_subspace_dimension=krylov_subspace_dimension,\n",
    "            sample_times=sample_times,\n",
    "            name=\"evolved_states\",\n",
    "        )\n",
    "\n",
    "    states = qctrl.functions.calculate_graph(\n",
    "        graph=graph,\n",
    "        output_node_names=[\"evolved_states\"],\n",
    "    )\n",
    "\n",
    "    # Data to plot\n",
    "    idx_even = sum([2 ** n for n in range(0, qubit_count, 2)])\n",
    "    idx_odd = sum([2 ** n for n in range(1, qubit_count, 2)])\n",
    "    densities_t = abs(np.squeeze(states.output[\"evolved_states\"][\"value\"])) ** 2\n",
    "    initial_density_t = densities_t[:, 0]\n",
    "    final_density_t = densities_t[:, idx_odd] + densities_t[:, idx_even]\n",
    "    target_density = np.abs(target_state) ** 2\n",
    "\n",
    "    # Style and label definitions\n",
    "    plt.style.use(get_qctrl_style())\n",
    "    bar_labels = [\"\"] * 2 ** qubit_count\n",
    "    bar_labels[idx_odd] = \"|\" + \"10\" * int(qubit_count / 2) + \">\"\n",
    "    bar_labels[idx_even] = \"|\" + \"01\" * int(qubit_count / 2) + \">\"\n",
    "\n",
    "    def bar_plot(ax, density, title):\n",
    "        ax.bar(\n",
    "            np.arange(2 ** qubit_count),\n",
    "            density,\n",
    "            edgecolor=\"#680CE9\",\n",
    "            color=\"#680CE94C\",\n",
    "            tick_label=bar_labels,\n",
    "            linewidth=2,\n",
    "        )\n",
    "        ax.set_title(title, fontsize=14)\n",
    "        ax.set_ylabel(\"Population\", fontsize=14)\n",
    "        ax.tick_params(labelsize=14)\n",
    "\n",
    "    gs = gridspec.GridSpec(2, 2, hspace=0.3)\n",
    "    fig = plt.figure()\n",
    "    fig.set_figheight(2 * 5)\n",
    "    fig.set_figwidth(15)\n",
    "    fig.suptitle(\"Optimized state preparation\", fontsize=16, y=0.95)\n",
    "\n",
    "    # Plot optimized final state and target state\n",
    "    ax = fig.add_subplot(gs[0, 0])\n",
    "    bar_plot(ax, densities_t[-1], \"Optimized final state\")\n",
    "\n",
    "    ax = fig.add_subplot(gs[0, 1])\n",
    "    bar_plot(ax, target_density, \"Target GHZ state\")\n",
    "\n",
    "    # Plot time evolution of basis state population\n",
    "    ax = fig.add_subplot(gs[1, :])\n",
    "    ax.plot(\n",
    "        sample_times,\n",
    "        densities_t,\n",
    "        \"#AAAAAA\",\n",
    "        linewidth=0.5,\n",
    "    )\n",
    "    ax.plot(\n",
    "        sample_times,\n",
    "        initial_density_t,\n",
    "        \"#FB00A5\",\n",
    "        linewidth=1.5,\n",
    "    )\n",
    "    ax.plot(\n",
    "        sample_times,\n",
    "        final_density_t,\n",
    "        \"#680CE9\",\n",
    "        linewidth=2,\n",
    "    )\n",
    "    ax.set_xticks(np.linspace(0, 1e-6, 6))\n",
    "    ax.set_xticklabels([\"0\", \"200 n\", \"400 n\", \"600 n\", \"800 n\", \"1 µ\"])\n",
    "    ax.tick_params(labelsize=14)\n",
    "    ax.set_xlabel(\"Time (s)\", fontsize=14)\n",
    "    ax.set_ylabel(\"Population\", fontsize=14)\n",
    "    ax.set_title(\n",
    "        \"Basis states (gray), ground state (pink), and target state (purple)\",\n",
    "        fontsize=14,\n",
    "    )"
   ]
  },
  {
   "cell_type": "code",
   "execution_count": 8,
   "metadata": {
    "ExecuteTime": {
     "end_time": "2020-08-13T01:15:15.713573Z",
     "start_time": "2020-08-13T01:15:12.799819Z"
    }
   },
   "outputs": [
    {
     "data": {
      "application/vnd.jupyter.widget-view+json": {
       "model_id": "",
       "version_major": 2,
       "version_minor": 0
      },
      "text/plain": [
       "HBox(children=(FloatProgress(value=0.0), HTML(value='')))"
      ]
     },
     "metadata": {},
     "output_type": "display_data"
    },
    {
     "name": "stdout",
     "output_type": "stream",
     "text": [
      "Your task calculate_graph has completed in 4s.\n",
      "\r"
     ]
    },
    {
     "data": {
      "image/png": "[encoded data removed]",
      "text/plain": [
       "<Figure size 1080x720 with 3 Axes>"
      ]
     },
     "metadata": {
      "needs_background": "light"
     },
     "output_type": "display_data"
    }
   ],
   "source": [
    "plot_result(result)"
   ]
  },
  {
   "cell_type": "markdown",
   "metadata": {},
   "source": [
    "The plots show: (top) Final state obtained with the optimized pulses (left) and target state (right). These states are indistinguishable, with infidelity below $10^{-4}$. (bottom) Time evolution of the populations during the optimized pulse sequence, for all basis states (gray), the ground state (pink), and the target state (purple). Note that since the target GHZ state is a superposition of two basis states, these two also show in gray as having a population of 0.5 at the end of the pulse."
   ]
  },
  {
   "cell_type": "markdown",
   "metadata": {},
   "source": [
    "### Optimizing Q-CTRL pulses for up to 12 atoms\n",
    "\n",
    "You can proceed in the same way as in the previous section to optimize the GHZ generation for different numbers of atoms."
   ]
  },
  {
   "cell_type": "code",
   "execution_count": 9,
   "metadata": {
    "ExecuteTime": {
     "end_time": "2020-08-13T22:20:43.524242Z",
     "start_time": "2020-08-13T01:15:15.715822Z"
    },
    "scrolled": true
   },
   "outputs": [
    {
     "name": "stdout",
     "output_type": "stream",
     "text": [
      "\n",
      " Optimization results with:\n",
      "\t4 qubits\n",
      "\t40 segments\n",
      "\t3 optimization count\n",
      "Infidelity reached: 4.0e-07\n",
      "\n",
      " Optimization results with:\n",
      "\t6 qubits\n",
      "\t40 segments\n",
      "\t3 optimization count\n",
      "Infidelity reached: 3.7e-05\n",
      "\n",
      " Optimization results with:\n",
      "\t8 qubits\n",
      "\t40 segments\n",
      "\t3 optimization count\n",
      "Infidelity reached: 1.3e-03\n",
      "\n",
      " Optimization results with:\n",
      "\t10 qubits\n",
      "\t40 segments\n",
      "\t3 optimization count\n",
      "Infidelity reached: 7.3e-03\n",
      "\n",
      " Optimization results with:\n",
      "\t12 qubits\n",
      "\t40 segments\n",
      "\t3 optimization count\n",
      "Infidelity reached: 1.4e-02\n"
     ]
    }
   ],
   "source": [
    "# Run optimization or load data\n",
    "use_saved_data = True\n",
    "\n",
    "# List to store the results of all runs\n",
    "optimization_results = []\n",
    "\n",
    "# For different number of qubits...\n",
    "for n in [4, 6, 8, 10, 12]:\n",
    "\n",
    "    # Run or load an optimization\n",
    "    if use_saved_data == False:\n",
    "        result = optimize_GHZ_state(\n",
    "            qubit_count=n,\n",
    "            segment_count=40,\n",
    "            optimization_count=3,\n",
    "        )\n",
    "    else:\n",
    "        result = load_var(\n",
    "            \"./resources/rydberg-atoms-generating-highly-entangled-states-in-large-atomic-arrays/Rydberg_\"\n",
    "            + str(n)\n",
    "            + \"atoms_3optimizations.json\"\n",
    "        )\n",
    "        print(\"\\n Optimization results with:\")\n",
    "        print(\"\\t{} qubits\".format(result[\"qubit_count\"]))\n",
    "        print(\"\\t{} segments\".format(result[\"segment_count\"]))\n",
    "        print(\"\\t{} optimization count\".format(result[\"optimization_count\"]))\n",
    "        print(\"Infidelity reached: {:.1e}\".format(result[\"infidelity\"]))\n",
    "\n",
    "    # Store in the list to plot below\n",
    "    optimization_results.append(result)"
   ]
  },
  {
   "cell_type": "markdown",
   "metadata": {},
   "source": [
    "Plots of the final states and populations are similar to those for $N=6$ above, so here just the final state fidelities are displayed for different atom numbers."
   ]
  },
  {
   "cell_type": "code",
   "execution_count": 10,
   "metadata": {
    "ExecuteTime": {
     "end_time": "2020-08-13T22:20:44.342185Z",
     "start_time": "2020-08-13T22:20:43.784621Z"
    }
   },
   "outputs": [
    {
     "data": {
      "image/png": "[encoded data removed]",
      "text/plain": [
       "<Figure size 1080x360 with 2 Axes>"
      ]
     },
     "metadata": {
      "needs_background": "light"
     },
     "output_type": "display_data"
    }
   ],
   "source": [
    "# Get infidelity and number of qubits of each run\n",
    "infidelities = []\n",
    "Nqs = []\n",
    "for parameters in optimization_results:\n",
    "    Nq, infid = parameters[\"qubit_count\"], parameters[\"infidelity\"]\n",
    "    Nqs.append(Nq)\n",
    "    infidelities.append(infid)\n",
    "Nqs = np.array(Nqs)\n",
    "infidelities = np.array(infidelities)\n",
    "\n",
    "# Plot fidelities/infidelities vs number of qubits\n",
    "gs = gridspec.GridSpec(1, 2)\n",
    "fig = plt.figure()\n",
    "fig.set_figheight(5)\n",
    "fig.set_figwidth(15)\n",
    "fig.suptitle(\"Optimization performance\", fontsize=16, y=1.0)\n",
    "\n",
    "ax = fig.add_subplot(gs[0, 0])\n",
    "ax.plot(Nqs, 1 - infidelities, \"o-\", linewidth=2)\n",
    "ax.set_title(\"Fidelities\", fontsize=14)\n",
    "ax.set_xlabel(\"Number of atoms\", fontsize=14)\n",
    "ax.set_xticks([4, 6, 8, 10, 12])\n",
    "ax.tick_params(labelsize=14)\n",
    "\n",
    "ax = fig.add_subplot(gs[0, 1])\n",
    "ax.semilogy(Nqs, infidelities, \"o-\", linewidth=2)\n",
    "ax.set_title(\"Infidelities (log scale)\", fontsize=14)\n",
    "ax.set_xlabel(\"Number of atoms\", fontsize=14)\n",
    "ax.set_xticks([4, 6, 8, 10, 12])\n",
    "ax.tick_params(labelsize=14)\n",
    "plt.show()"
   ]
  },
  {
   "cell_type": "markdown",
   "metadata": {},
   "source": [
    "The above figures display the GHZ state generation fidelities (left) and infidelities (right) achieved for different numbers of atoms. Although it is generally harder to obtain better infidelities for larger atomic arrays, using Q-CTRL optimized pulses you can obtain fidelities of over 0.99."
   ]
  }
 ],
 "metadata": {
  "kernelspec": {
   "display_name": "Python 3",
   "language": "python",
   "name": "python3"
  },
  "language_info": {
   "codemirror_mode": {
    "name": "ipython",
    "version": 3
   },
   "file_extension": ".py",
   "mimetype": "text/x-python",
   "name": "python",
   "nbconvert_exporter": "python",
   "pygments_lexer": "ipython3",
   "version": "3.7.6"
  },
  "toc": {
   "base_numbering": 1,
   "nav_menu": {},
   "number_sections": true,
   "sideBar": true,
   "skip_h1_title": true,
   "title_cell": "Table of Contents",
   "title_sidebar": "Contents",
   "toc_cell": true,
   "toc_position": {},
   "toc_section_display": true,
   "toc_window_display": false
  }
 },
 "nbformat": 4,
 "nbformat_minor": 4
}
