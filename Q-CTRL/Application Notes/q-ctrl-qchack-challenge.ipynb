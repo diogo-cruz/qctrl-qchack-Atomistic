{
 "cells": [
  {
   "cell_type": "markdown",
   "id": "19956355",
   "metadata": {
    "tags": []
   },
   "source": [
    "# Q-CTRL QCHack challenge\n",
    "**Using quantum control to improve a qubit in the cloud**\n",
    "\n",
    "Welcome to the Q-CTRL QCHack Challenge! \n",
    "\n",
    "Here at Q-CTRL we use quantum control to solve the hardest problems facing quantum technologies. To learn more about us and our products check out our [website](https://q-ctrl.com/).\n",
    "\n",
    "At QCHack, we're challenging you to use our product [BOULDER OPAL](https://q-ctrl.com/products/boulder-opal/) to improve the performance of a qubit in the cloud. By participating in our challenge you will learn about the real problems facing the quantum computing industry today and how you can help to solve them!"
   ]
  },
  {
   "cell_type": "markdown",
   "id": "f3f54ad0",
   "metadata": {},
   "source": [
    "## What is wrong with current quantum computers?\n",
    "\n",
    "You've probably heard about the great potential applications that quantum computers can solve, factorizing prime numbers, solving quantum chemistry problems and accelerating machine learning algorithms (go to [Q-CTRL's Learning Center](https://q-ctrl.com/learning-center/) to learn more). IBM has released a commercial quantum computer with the [IBM Quantum experience](https://quantum-computing.ibm.com/) and Google has demonstrated a [quantum computer has an advantage over a classical computer](https://www.nature.com/articles/s41586-019-1666-5) for the problem of sampling from a specific probability distribution.\n",
    "\n",
    "So why aren't quantum computers being used to solve useful problems today?\n",
    "\n",
    "The answer is our current qubits have high error rates due to *noise from the environment*. \n",
    "\n",
    "To put this problem into perspective, a transistor (the building block of a classical computer) typically has 1 error in every 1 billion years, while a qubit typically has an error every 0.001 seconds. That's a huge difference.\n",
    "\n",
    "The big problem facing the quantum computing industry is how to make quantum computers with large numbers of qubits with much lower error rates. \n",
    "\n",
    "If you compete in Q-CTRL's challenge you will learn:\n",
    "* How to model a *real* qubit.\n",
    "* How to model noise and other errors that affect real qubits.\n",
    "* How to use quantum control to fix these problems and reduce the errors on your qubits."
   ]
  },
  {
   "cell_type": "markdown",
   "id": "dc0090c0",
   "metadata": {},
   "source": [
    "## The challenge\n",
    "\n",
    "Your challenge is to provide two pulses that implement a high fidelity NOT gate and Hadamard gate on our qubit in the cloud. The qubit in the cloud is modeled off a superconducting qubit. \n",
    "\n",
    "You must also write a 2-page report on how you used quantum control, with Q-CTRL's [BOULDER OPAL](https://q-ctrl.com/products/boulder-opal/), to discover and implement these pulses. \n",
    "\n",
    "Don't worry if you're not familiar with the physics of superconducting qubits (or physics in general), this notebook will give you a great introduction and Q-CTRL's mentors are here to help you. \n",
    "\n",
    "Details on how to provide your submission are in the submission section and the judging criteria is in the judging section. "
   ]
  },
  {
   "cell_type": "markdown",
   "id": "a72ef363",
   "metadata": {},
   "source": [
    "## The prizes\n",
    "\n",
    "The team with the best entry will receive:\n",
    "\n",
    "* A $150 Amazon gift card for each team member.\n",
    "* A group subscription to BOULDER OPAL for 1 year.\n",
    "\n",
    "Teams with top 5 entries will all receive:\n",
    "\n",
    "* A Q-CTRL swag bag\n",
    "\n",
    "Teams that have won prizes will be contacted after the competition to get delivery details for the prizes. \n"
   ]
  },
  {
   "cell_type": "markdown",
   "id": "7b45562b",
   "metadata": {},
   "source": [
    "## Getting help from Q-CTRL Mentors\n",
    "\n",
    "During the hackathon itself there are two ways to get in contact with the Q-CTRL team.\n",
    "\n",
    "1. Jump on the #q-ctrl channel on Discord and say hi! We have mentors rostered for all 24 hours of QCHack, so ask a question whenever you want. You're also welcome to directly message the Q-CTRL Mentors on Discord as well.\n",
    "\n",
    "2. Join the Q-CTRL QCHack Drop-in zoom meeting to get questions answered face-to-face. Details on how to join this room will be pinned on the #q-ctrl Discord channel.\n",
    "\n",
    "If you decide that you want to make a submission to Q-CTRL's QCHack Challenge, we ask that you let us know on the Discord channel. One of the Q-CTRL Mentors will then put the name of your team on the Q-CTRL QCHack Challenge Teams Google spreadsheet. On that spreadsheet we will also give you the Discord username of the Q-CTRL mentor that is assigned to your team, who will check in on you from time to time to check how you are going. Again a link to this spreadsheet will be pinned to the Discord channel.\n",
    "\n",
    "If you want to stay in contact with us after the hackathon there are a few options:\n",
    "\n",
    "1. Sign up for [BOULDER OPAL](https://q-ctrl.com/products/boulder-opal/), once you're signed up you'll be added to our contact lists and will be kept up to date with all the latest developments for BOULDER OPAL.\n",
    "\n",
    "2. Sign up for our [BLACK OPAL Insiders program](https://q-ctrl.com/insiders-program/?utm_source=event&utm_medium=discord&utm_campaign=qchack). BLACK OPAL is an upcoming product from Q-CTRL that teaches you quantum computing with just a few tasks each day. It's targeted at people who don't have a physics or quantum mechanics background. So if you're a software developer looking to learn more about quantum computing, we highly recommend you sign up.\n",
    "\n",
    "3. For those looking to get a job in the quantum industry you can sign up to our [Quantum-Career sessions with Q-CTRL](https://try.q-ctrl.com/qchackmentor/)"
   ]
  },
  {
   "cell_type": "markdown",
   "id": "2ec1a622",
   "metadata": {},
   "source": [
    "## Getting started with BOULDER OPAL\n",
    "\n",
    "To get started with the challenge, you'll need to get BOULDER OPAL. This is done in two easy steps:\n",
    "1. Go to the [BOULDER OPAL page](https://q-ctrl.com/products/boulder-opal/) and hit the [sign up button](https://app.q-ctrl.com/signup?_ga=2.148564087.1125923113.1617683688-1695297595.1609817011) then follow the instructions to create an account.\n",
    "2. Go to the [BOULDER OPAL documentation](https://docs.q-ctrl.com/) and follow the [get started user guide](https://docs.q-ctrl.com/boulder-opal/user-guides/get-started) to install the `qctrl` python package on your machine.\n",
    "\n",
    "If you've installed BOULDER OPAL correctly you should be able to load the packages required to run the rest of this notebook:"
   ]
  },
  {
   "cell_type": "code",
   "execution_count": 1,
   "id": "621b4017",
   "metadata": {
    "execution": {
     "iopub.execute_input": "2021-04-10T19:40:39.385237Z",
     "iopub.status.busy": "2021-04-10T19:40:39.384861Z",
     "iopub.status.idle": "2021-04-10T19:40:49.019912Z",
     "shell.execute_reply": "2021-04-10T19:40:49.019210Z",
     "shell.execute_reply.started": "2021-04-10T19:40:39.385136Z"
    },
    "tags": []
   },
   "outputs": [],
   "source": [
    "import matplotlib.pyplot as plt\n",
    "import numpy as np\n",
    "\n",
    "from qctrlvisualizer import get_qctrl_style, plot_controls\n",
    "from qctrl import Qctrl\n",
    "\n",
    "qctrl = Qctrl()"
   ]
  },
  {
   "cell_type": "markdown",
   "id": "227b26db",
   "metadata": {},
   "source": [
    "## Challenge background information\n",
    "\n",
    "Before you get started with the challenge it will help to learn a bit more about what qubits, gates, measurements and quantum control are. In this section we provide a great start on background concepts you'll need to successfully complete the challenge. "
   ]
  },
  {
   "cell_type": "markdown",
   "id": "58c3d2cc",
   "metadata": {},
   "source": [
    "### Ideal qubits, gates and measurements (the dream)\n",
    "\n",
    "An ideal qubit is made up of two basis states which we label $\\lvert0\\rangle$ and $\\lvert1\\rangle$. The state of a qubit can then be in any complex linear combination of these states, which we often write down as a vector:\n",
    "\n",
    "$$\n",
    "\\alpha \\lvert0\\rangle + \\beta \\lvert1\\rangle = \\left( \\begin{array}{c} \\alpha \\\\ \\beta \\end{array} \\right)\n",
    "$$\n",
    "\n",
    "A quantum computer is always assumed to start all qubits in the $\\lvert0\\rangle$ state. \n",
    "\n",
    "A quantum gate is an operation on the state of a qubit, and is often written as a matrix, we are asking you to find two pulses that implement the following ideal gates.\n",
    "\n",
    "* A NOT gate:\n",
    "\n",
    "$$ e^{i\\phi_1} \\left( \\begin{array}{cc} 0 & e^{i \\theta} \\\\ e^{-i \\theta} & 0 \\end{array} \\right) $$\n",
    "\n",
    "* A Hadamard gate:\n",
    "\n",
    "$$ \\frac{ e^{i\\phi_2} }{\\sqrt{2}} \\left( \\begin{array}{cc} e^{i \\theta} & e^{i \\theta} \\\\ e^{-i \\theta} & -e^{-i \\theta} \\end{array} \\right) $$\n",
    "\n",
    "Where $\\phi_1, \\phi_2 \\in (0, 2\\pi)$ are both arbitrary global phases. We are also allowing you to make gates with an arbitrary phase between the qubits levels parametrized by the angle $\\theta \\in (0, 2\\pi)$. However the *relative* phase between the gates must be fixed, so $\\theta$ has to have the same value in the both gates that you implement. Note that normally the Hadamard and NOT gates are defined with $\\theta = 0$, we are giving you this freedom because you only have access to projective measurements in the challenge. \n",
    "\n",
    "When you measure a qubit, the result is always probabilistic. The probability of reading out a state is equal to the magnitude of its weight. So if we measure the qubit defined above we would get the results $0$ and $1$ with probabilities:\n",
    "\n",
    "$$ P(0) = |\\alpha|^2 \\mbox{ and } P(1) = |\\beta|^2.$$\n",
    "\n",
    "Given these definitions, have a go at showing:\n",
    "\n",
    "* If I start with a qubit in the $\\lvert0\\rangle$ state and apply a NOT gate, when I perform a measurement I will get the result \"1\" 100% of the time.\n",
    "\n",
    "* If I start with a qubit in the $\\lvert0\\rangle$ state and apply a Hadamard gate, when I perform a measurement I will get the result \"0\" 50% of the time.\n",
    "\n",
    "What would I get if I measured a qubit in the $\\lvert0\\rangle$ state, applied a Hadamard gate, a NOT gate then another Hadamard gate?"
   ]
  },
  {
   "cell_type": "markdown",
   "id": "335ebfb1",
   "metadata": {},
   "source": [
    "### Implementing gates with pulses on an ideal superconducting qubit\n",
    "\n",
    "Implementing a gate on a real qubit is done *dynamically*. The dynamics of a quantum system is described by the Schrödinger equation:\n",
    "\n",
    "$$\n",
    "i \\hbar \\frac{d}{d t}\\vert\\psi(t)\\rangle = H(t)\\vert\\psi(t)\\rangle,\n",
    "$$\n",
    "\n",
    "where $\\vert\\psi(t)\\rangle$ is the time dependent state of the quantum system. For a qubit, it would be described as\n",
    "\n",
    "$$ \\vert\\psi(t)\\rangle = \\alpha(t) \\lvert0\\rangle + \\beta(t) \\lvert1\\rangle. $$\n",
    "\n",
    "$H(t)$ is the Hamiltonian of the system and it is described by a time dependent matrix. A Hamiltonian captures the physics of the quantum system. This will include everything: qubits frequencies, the controls we apply to the system,  as well as the noises that come from the environment. To find out how a qubit evolves we need to solve Schrödinger's equation, this in general can be really challenging with time-dependent noisy Hamiltonians. Fortunately, BOULDER OPAL can solve Schrödinger's equation for us, to learn more see the [Simulate dynamics user guide](https://docs.q-ctrl.com/boulder-opal/user-guides/simulate-quantum-dynamics).\n",
    "\n",
    "To connect Schrödinger's equation to quantum gates, we can use one more trick. Quantum mechanics also states that any evolution of a quantum state can be described with a unitary transformation, so we can replace the dynamics of our state with the dynamics of a unitary transformation $\\vert\\psi(t)\\rangle = U(t) \\vert\\psi(0)\\rangle$. Replacing this in Schrödinger's equation gives us an equation which we can solve to get a quantum gate:\n",
    "\n",
    "$$\n",
    "i \\hbar \\frac{d}{d t}U(t) = H(t)U(t)\n",
    "$$\n",
    "\n",
    "Currently the most popular commercial qubits are superconducting circuits, so we will focus on that type of system.\n",
    "\n",
    "An ideal superconducting qubit has just two levels, labeled $\\lvert0\\rangle$ and $\\lvert1\\rangle$. These states refer to different physical states of the superconducting qubits. Depending on how the qubit is built, these labels will refer to the changing charge, flux or phase of the superconducting circuit (for more info see [Superconducting quantum computing](https://en.wikipedia.org/wiki/Superconducting_quantum_computing)). In all cases this quantity becomes quantized and the lowest two energetic levels are what we call the $\\lvert0\\rangle$ and $\\lvert1\\rangle$ states. Note that more realistic superconducting qubits can have more than two levels and this can result in leakage (for more info see [Single qubit with leakage](https://docs.q-ctrl.com/boulder-opal/user-guides/simulate-quantum-dynamics#Example-Single-qubit-with-leakage)).\n",
    "\n",
    "Microwave pulses are then applied to these superconducting qubits to achieve quantum gates like a NOT or Hadamard gate. The effect of a microwave pulse on resonance with an ideal superconducting qubit is described with the following Hamiltonian\n",
    "\n",
    "$$\n",
    "\\frac{H(t)}{\\hbar} = \\frac{1}{2} \\Omega(t) b + \\frac{1}{2} \\Omega^\\ast(t) b^\\dagger,\n",
    "$$\n",
    "\n",
    "where $\\Omega(t) = I(t) + i Q(t)$ is the time-dependent microwave drive also called the *complex Rabi rate* because it relates to [Rabi oscillations](https://en.wikipedia.org/wiki/Rabi_cycle), made of two real components labeled $I(t)$ and $Q(t)$, and $b = \\left( \\begin{array}{cc} 0 & 1 \\\\ 0 & 0 \\end{array} \\right)$ is a lowering operator.  \n",
    "\n",
    "If we set the complex Rabi rate to be constant $\\Omega(t) = \\omega$ we can solve Schrödinger's equation and get the following unitary\n",
    "\n",
    "$$\n",
    "U(t) = \\left( \\begin{array}{cc} \\cos(\\omega t/2) & -i\\sin(\\omega t/2) \\\\ -i\\sin(\\omega t/2) & \\cos(\\omega t/2) \\end{array} \\right).\n",
    "$$\n",
    "\n",
    "By simply waiting the appropriate time we can then generate a NOT gate, we just set $t = \\pi/\\omega$. Getting a Hadamard gate is a bit more complicated. Once approach is to apply $\\Omega = i\\omega$ for $t = \\pi/2\\omega$, then $\\Omega = \\omega$ for $t = \\pi/\\omega$. "
   ]
  },
  {
   "cell_type": "markdown",
   "id": "be0c6615",
   "metadata": {},
   "source": [
    "### Simulating an ideal superconducting qubit\n",
    "\n",
    "Let's bring everything we have learned together and look at a simulation of a pulse being applied to an ideal superconducting qubit with a simulation using BOULDER OPAL. We will wrap this whole simulation in a single function call that takes a pulse and returns both a unitary and a series of projective measurements. In a realistic simulation you would *only* get the projective measurements. To learn more about how to setup simulations in BOULDER OPAL read the [Simulate quantum dynamics user guide](https://docs.q-ctrl.com/boulder-opal/user-guides/simulate-quantum-dynamics)."
   ]
  },
  {
   "cell_type": "code",
   "execution_count": 2,
   "id": "85362242",
   "metadata": {
    "execution": {
     "iopub.execute_input": "2021-04-10T19:40:49.021446Z",
     "iopub.status.busy": "2021-04-10T19:40:49.021147Z",
     "iopub.status.idle": "2021-04-10T19:40:49.032360Z",
     "shell.execute_reply": "2021-04-10T19:40:49.031760Z",
     "shell.execute_reply.started": "2021-04-10T19:40:49.021400Z"
    },
    "tags": []
   },
   "outputs": [],
   "source": [
    "def simulate_ideal_qubit(\n",
    "    duration=1, values=np.array([np.pi]), shots=1024, repetitions=1\n",
    "):\n",
    "\n",
    "    b = np.array([[0, 1], [0, 0]])  # Lowering operator\n",
    "    initial_state = np.array([[1], [0]])  # Initial state of qubit in |0>\n",
    "\n",
    "    with qctrl.create_graph() as graph:\n",
    "\n",
    "        # Create time dependent \\Omega(t)\n",
    "        drive = qctrl.operations.pwc_signal(duration=duration, values=values)\n",
    "\n",
    "        # Construct Hamiltonian (\\Omega(t) b + \\Omega^*(t) b^\\dagger)/2\n",
    "        hamiltonian = qctrl.operations.pwc_operator_hermitian_part(\n",
    "            qctrl.operations.pwc_operator(signal=drive, operator=b)\n",
    "        )\n",
    "\n",
    "        # Solve Schrodinger's equation and get total unitary at the end\n",
    "        unitary = qctrl.operations.time_evolution_operators_pwc(\n",
    "            hamiltonian=hamiltonian,\n",
    "            sample_times=np.array([duration]),\n",
    "        )[-1]\n",
    "        unitary.name = \"unitary\"\n",
    "\n",
    "        # Repeat final unitary\n",
    "        repeated_unitary = np.eye(2)\n",
    "        for _ in range(repetitions):\n",
    "            repeated_unitary = repeated_unitary @ unitary\n",
    "        repeated_unitary.name = \"repeated_unitary\"\n",
    "\n",
    "        # Calculate final state.\n",
    "        state = repeated_unitary @ initial_state\n",
    "\n",
    "        # Calculate final populations.\n",
    "        populations = qctrl.operations.abs(state[:, 0]) ** 2\n",
    "        # Normalize populations because of numerical precision\n",
    "        norm = qctrl.operations.sum(populations)\n",
    "        populations = populations / norm\n",
    "        populations.name = \"populations\"\n",
    "\n",
    "    # Evaluate graph.\n",
    "    result = qctrl.functions.calculate_graph(\n",
    "        graph=graph,\n",
    "        output_node_names=[\"unitary\", \"repeated_unitary\", \"populations\"],\n",
    "    )\n",
    "\n",
    "    # Extract outputs.\n",
    "    unitary = result.output[\"unitary\"][\"value\"]\n",
    "    repeated_unitary = result.output[\"repeated_unitary\"][\"value\"]\n",
    "    populations = result.output[\"populations\"][\"value\"]\n",
    "\n",
    "    # Sample projective measurements.\n",
    "    measurements = np.random.choice(2, size=shots, p=populations)\n",
    "\n",
    "    results = {\"unitary\": unitary, \"measurements\": measurements}\n",
    "\n",
    "    return results"
   ]
  },
  {
   "cell_type": "markdown",
   "id": "d4c7a555",
   "metadata": {},
   "source": [
    "#### Plotting our ideal pulses\n",
    "\n",
    "We have created a method for simulating our ideal qubit: `simulate_ideal_qubit`. This method takes as inputs the duration and a set of values for the complex pulse driving the qubit. In the method, the total pulse duration is evenly divided in segments, with their values being a piecewise constant part of a continuous function. To get a clearer picture of how this works, let's plot an example pulse."
   ]
  },
  {
   "cell_type": "code",
   "execution_count": 3,
   "id": "fe098535",
   "metadata": {
    "execution": {
     "iopub.execute_input": "2021-04-10T19:40:49.033779Z",
     "iopub.status.busy": "2021-04-10T19:40:49.033548Z",
     "iopub.status.idle": "2021-04-10T19:40:49.562778Z",
     "shell.execute_reply": "2021-04-10T19:40:49.561836Z",
     "shell.execute_reply.started": "2021-04-10T19:40:49.033753Z"
    },
    "tags": []
   },
   "outputs": [
    {
     "data": {
      "image/png": "[encoded data removed]",
      "text/plain": [
       "<Figure size 504x144 with 1 Axes>"
      ]
     },
     "metadata": {
      "needs_background": "light"
     },
     "output_type": "display_data"
    }
   ],
   "source": [
    "duration = 10\n",
    "values = np.array([-1, 3, 2, 3, -2, -1])\n",
    "\n",
    "\n",
    "def get_pulse_plot_dict(name=\"default\", duration=1, values=np.array([1.0])):\n",
    "    segments = len(values)\n",
    "    segment_durations = duration / segments\n",
    "    pulse_plot_dict = {\n",
    "        name: [{\"duration\": segment_durations, \"value\": v} for v in values]\n",
    "    }\n",
    "    return pulse_plot_dict\n",
    "\n",
    "\n",
    "example_pulse = get_pulse_plot_dict(name=\"$\\Omega$\", duration=duration, values=values)\n",
    "\n",
    "fig = plt.figure()\n",
    "plot_controls(fig, example_pulse, polar=False)\n",
    "plt.show()"
   ]
  },
  {
   "cell_type": "markdown",
   "id": "a2b5dd2a",
   "metadata": {},
   "source": [
    "Now that we understand how the duration and values relate to the complex Rabi rate $\\Omega(t)$, we can create and plot pulses that we think should implement ideal NOT and Hadamard gates."
   ]
  },
  {
   "cell_type": "code",
   "execution_count": 4,
   "id": "4a87fa94",
   "metadata": {
    "execution": {
     "iopub.execute_input": "2021-04-10T19:40:49.564738Z",
     "iopub.status.busy": "2021-04-10T19:40:49.564183Z",
     "iopub.status.idle": "2021-04-10T19:40:50.030840Z",
     "shell.execute_reply": "2021-04-10T19:40:50.029938Z",
     "shell.execute_reply.started": "2021-04-10T19:40:49.564682Z"
    },
    "tags": []
   },
   "outputs": [
    {
     "data": {
      "image/png": "[encoded data removed]",
      "text/plain": [
       "<Figure size 504x432 with 3 Axes>"
      ]
     },
     "metadata": {
      "needs_background": "light"
     },
     "output_type": "display_data"
    }
   ],
   "source": [
    "max_rabi_rate = 20 * 2 * np.pi  # MHz\n",
    "not_duration = np.pi / (max_rabi_rate)  # us\n",
    "not_values = np.array([max_rabi_rate])\n",
    "h_duration = 3 * np.pi / (2 * max_rabi_rate)  # us\n",
    "h_values = np.array([-1j * max_rabi_rate, max_rabi_rate, max_rabi_rate])\n",
    "\n",
    "not_pulse = get_pulse_plot_dict(\n",
    "    name=\"$\\Omega_{NOT}$\", duration=not_duration, values=not_values\n",
    ")\n",
    "h_pulse = get_pulse_plot_dict(name=\"$\\Omega_{H}$\", duration=h_duration, values=h_values)\n",
    "both_pulses = {**not_pulse, **h_pulse}\n",
    "\n",
    "fig = plt.figure()\n",
    "plot_controls(fig, both_pulses, polar=False)\n",
    "plt.show()"
   ]
  },
  {
   "cell_type": "markdown",
   "id": "d8d061f4",
   "metadata": {},
   "source": [
    "#### Simulation of an ideal NOT and Hadamard gate\n",
    "\n",
    "Let's now check that we get the correct unitary if we apply our ideal pulses as we derived above:"
   ]
  },
  {
   "cell_type": "code",
   "execution_count": 5,
   "id": "e22e8206",
   "metadata": {
    "execution": {
     "iopub.execute_input": "2021-04-10T19:40:50.035535Z",
     "iopub.status.busy": "2021-04-10T19:40:50.035175Z",
     "iopub.status.idle": "2021-04-10T19:40:50.044067Z",
     "shell.execute_reply": "2021-04-10T19:40:50.042978Z",
     "shell.execute_reply.started": "2021-04-10T19:40:50.035492Z"
    },
    "tags": []
   },
   "outputs": [],
   "source": [
    "shots = 1024"
   ]
  },
  {
   "cell_type": "code",
   "execution_count": 6,
   "id": "f922a24e",
   "metadata": {
    "execution": {
     "iopub.execute_input": "2021-04-10T19:40:50.045659Z",
     "iopub.status.busy": "2021-04-10T19:40:50.045344Z",
     "iopub.status.idle": "2021-04-10T19:40:58.257098Z",
     "shell.execute_reply": "2021-04-10T19:40:58.253935Z",
     "shell.execute_reply.started": "2021-04-10T19:40:50.045622Z"
    },
    "tags": []
   },
   "outputs": [
    {
     "data": {
      "application/vnd.jupyter.widget-view+json": {
       "model_id": "",
       "version_major": 2,
       "version_minor": 0
      },
      "text/plain": [
       "  0%|          | 0/100 [00:00<?, ?it/s]"
      ]
     },
     "metadata": {},
     "output_type": "display_data"
    },
    {
     "name": "stdout",
     "output_type": "stream",
     "text": [
      "Your task calculate_graph has completed in 4s.\n"
     ]
    },
    {
     "data": {
      "application/vnd.jupyter.widget-view+json": {
       "model_id": "",
       "version_major": 2,
       "version_minor": 0
      },
      "text/plain": [
       "  0%|          | 0/100 [00:00<?, ?it/s]"
      ]
     },
     "metadata": {},
     "output_type": "display_data"
    },
    {
     "name": "stdout",
     "output_type": "stream",
     "text": [
      "Your task calculate_graph has completed in 4s.\n"
     ]
    }
   ],
   "source": [
    "not_results = simulate_ideal_qubit(\n",
    "    duration=not_duration, values=not_values, shots=shots\n",
    ")\n",
    "h_results = simulate_ideal_qubit(duration=h_duration, values=h_values, shots=shots)"
   ]
  },
  {
   "cell_type": "code",
   "execution_count": 7,
   "id": "910ad62c",
   "metadata": {
    "execution": {
     "iopub.execute_input": "2021-04-10T19:40:58.263159Z",
     "iopub.status.busy": "2021-04-10T19:40:58.262090Z",
     "iopub.status.idle": "2021-04-10T19:40:58.291980Z",
     "shell.execute_reply": "2021-04-10T19:40:58.291030Z",
     "shell.execute_reply.started": "2021-04-10T19:40:58.263023Z"
    },
    "tags": []
   },
   "outputs": [
    {
     "name": "stdout",
     "output_type": "stream",
     "text": [
      "Realised NOT Gate:\n",
      "[[2.83276945e-16+0.j 0.00000000e+00-1.j]\n",
      " [0.00000000e+00-1.j 2.83276945e-16+0.j]]\n",
      "Ideal NOT Gate:\n",
      "[[0 1]\n",
      " [1 0]]\n",
      "NOT Gate Error:4.440892098500626e-16\n",
      "\n",
      "Realised H Gate:\n",
      "[[ 2.22044605e-16-0.70710678j -2.22044605e-16-0.70710678j]\n",
      " [ 2.22044605e-16-0.70710678j  2.22044605e-16+0.70710678j]]\n",
      "Ideal H Gate:\n",
      "[[ 0.70710678  0.70710678]\n",
      " [ 0.70710678 -0.70710678]]\n",
      "H Gate Error:1.1102230246251565e-15\n"
     ]
    }
   ],
   "source": [
    "error_norm = (\n",
    "    lambda operate_a, operator_b: 1\n",
    "    - np.abs(np.trace((operate_a.conj().T @ operator_b)) / 2) ** 2\n",
    ")\n",
    "\n",
    "realised_not_gate = not_results[\"unitary\"]\n",
    "ideal_not_gate = np.array([[0, 1], [1, 0]])\n",
    "not_error = error_norm(realised_not_gate, ideal_not_gate)\n",
    "realised_h_gate = h_results[\"unitary\"]\n",
    "ideal_h_gate = (1 / np.sqrt(2)) * np.array([[1, 1], [1, -1]])\n",
    "h_error = error_norm(realised_h_gate, ideal_h_gate)\n",
    "\n",
    "print(\"Realised NOT Gate:\")\n",
    "print(realised_not_gate)\n",
    "print(\"Ideal NOT Gate:\")\n",
    "print(ideal_not_gate)\n",
    "print(\"NOT Gate Error:\" + str(not_error) + \"\\n\")\n",
    "print(\"Realised H Gate:\")\n",
    "print(realised_h_gate)\n",
    "print(\"Ideal H Gate:\")\n",
    "print(ideal_h_gate)\n",
    "print(\"H Gate Error:\" + str(h_error))"
   ]
  },
  {
   "cell_type": "markdown",
   "id": "34dec76d",
   "metadata": {},
   "source": [
    "You can see that the unitaries we wanted were generated from these pulses. Unfortunately in a real experiment we won't get direct access to the unitaries but only to the results of projective measurements performed on the system."
   ]
  },
  {
   "cell_type": "markdown",
   "id": "584d3e39",
   "metadata": {},
   "source": [
    "#### Checking how good our gates were with projective measurements\n",
    "\n",
    "On a real quantum computer you only get access to the projective measurements not direct access to the unitary. There are many techniques out there to try and estimate the unitary or its quality (Have a look at [quantum tomography](https://en.wikipedia.org/wiki/Quantum_tomography) or [randomized benchmarking](https://en.wikipedia.org/wiki/Randomized_benchmarking)), but they tend to take a lot of measurements and require many assumptions. \n",
    "\n",
    "Here we are going to show you some quicker ways of getting a precise estimate. We start by making a function that, given a list of measurements 1 and 0, estimates the probability that a 1 would be returned, and an error in that estimate (assuming the central limit theorem). We apply this method to the results we previously got."
   ]
  },
  {
   "cell_type": "code",
   "execution_count": 8,
   "id": "451e5da1",
   "metadata": {
    "execution": {
     "iopub.execute_input": "2021-04-10T19:41:17.149735Z",
     "iopub.status.busy": "2021-04-10T19:41:17.148760Z",
     "iopub.status.idle": "2021-04-10T19:41:17.167630Z",
     "shell.execute_reply": "2021-04-10T19:41:17.166348Z",
     "shell.execute_reply.started": "2021-04-10T19:41:17.149643Z"
    },
    "tags": []
   },
   "outputs": [],
   "source": [
    "not_measurements = not_results[\"measurements\"]\n",
    "h_measurements = h_results[\"measurements\"]\n",
    "\n",
    "\n",
    "def estimate_probability_of_one(measurements):\n",
    "    size = len(measurements)\n",
    "    probability = np.mean(measurements)\n",
    "    standard_error = np.std(measurements) / np.sqrt(size)\n",
    "    return (probability, standard_error)\n",
    "\n",
    "\n",
    "not_probability, not_standard_error = estimate_probability_of_one(not_measurements)\n",
    "h_probability, h_standard_error = estimate_probability_of_one(h_measurements)"
   ]
  },
  {
   "cell_type": "code",
   "execution_count": 9,
   "id": "499bc6c2",
   "metadata": {
    "execution": {
     "iopub.execute_input": "2021-04-10T19:41:17.403423Z",
     "iopub.status.busy": "2021-04-10T19:41:17.403090Z",
     "iopub.status.idle": "2021-04-10T19:41:17.412163Z",
     "shell.execute_reply": "2021-04-10T19:41:17.411311Z",
     "shell.execute_reply.started": "2021-04-10T19:41:17.403383Z"
    },
    "tags": []
   },
   "outputs": [
    {
     "name": "stdout",
     "output_type": "stream",
     "text": [
      "NOT estimated probability of getting 1:1.0\n",
      "NOT estimate standard error:0.0\n",
      "H estimated probability of getting 1:0.4931640625\n",
      "H estimate standard error:0.0156235396179561\n"
     ]
    }
   ],
   "source": [
    "print(\"NOT estimated probability of getting 1:\" + str(not_probability))\n",
    "print(\"NOT estimate standard error:\" + str(not_standard_error))\n",
    "print(\"H estimated probability of getting 1:\" + str(h_probability))\n",
    "print(\"H estimate standard error:\" + str(h_standard_error))"
   ]
  },
  {
   "cell_type": "markdown",
   "id": "b3bae369",
   "metadata": {},
   "source": [
    "Both of our results appear to be right. We got a result with our NOT gate always returning 1, this is what we were expecting. We also got a result for our H gate returning a result of 1 50% of the time, within the standard error. \n",
    "\n",
    "However the problem here is that the precision on the error for the H gate, on the order of $10^{-16}$ is much much smaller than our standard error estimate, on the order of $10^{-2}$. Taking more measurements might give us a more precise answer. But the precision of the standard error scales poorly with the number of measurements $M$, as it goes as $1/\\sqrt{M}$. So that's little reward for a lot more measurements. Furthermore, if we have additional errors like State Preparation and Measurement (SPAM) errors (which we will introduce latter) things might scale even worse."
   ]
  },
  {
   "cell_type": "markdown",
   "id": "a6bdf223",
   "metadata": {},
   "source": [
    "#### Repetition makes perfect\n",
    "\n",
    "The solution to this problem is the extra input to the `simulate_ideal_qubit` method,  the `repetition`. In a real experiment we can repeat a pulse to implement a gate multiple times before we measure. If we repeat a gate, we can effectively boost the error signal. For example, consider repeating an imperfect H gate 101 times, if it was perfect we would still expect to get a 1 with probability 0.5, but if there was a small error $\\epsilon$ on the gate, we would expect to get a 1 with probability $0.5 + 101 \\epsilon$. Hence we can use repetition to effective boost the signal of our error!\n",
    "\n",
    "Let's demonstrate this working by looking at a Hadamard gate with a small error and use a few different repetitions to detect the error with the same number of measurement shots as above."
   ]
  },
  {
   "cell_type": "code",
   "execution_count": null,
   "id": "92ded403",
   "metadata": {
    "execution": {
     "iopub.status.busy": "2021-04-10T19:48:11.705273Z",
     "iopub.status.idle": "2021-04-10T19:48:11.706169Z",
     "shell.execute_reply": "2021-04-10T19:48:11.705739Z"
    },
    "tags": []
   },
   "outputs": [],
   "source": [
    "epsilon = 0.003\n",
    "h_duration = (np.pi + epsilon) / (2 * max_rabi_rate)  # us\n",
    "\n",
    "repetitions = np.array([1, 17, 127])\n",
    "repetition_results = []"
   ]
  },
  {
   "cell_type": "code",
   "execution_count": null,
   "id": "007d47db",
   "metadata": {
    "execution": {
     "iopub.status.busy": "2021-04-10T19:48:11.708605Z",
     "iopub.status.idle": "2021-04-10T19:48:11.710249Z",
     "shell.execute_reply": "2021-04-10T19:48:11.709841Z"
    },
    "tags": []
   },
   "outputs": [],
   "source": [
    "for reps in repetitions:\n",
    "    repetition_results.append(\n",
    "        simulate_ideal_qubit(\n",
    "            duration=h_duration, values=values, shots=shots, repetitions=reps\n",
    "        )\n",
    "    )"
   ]
  },
  {
   "cell_type": "code",
   "execution_count": null,
   "id": "28731eeb",
   "metadata": {
    "execution": {
     "iopub.status.busy": "2021-04-10T19:48:11.712617Z",
     "iopub.status.idle": "2021-04-10T19:48:11.713977Z",
     "shell.execute_reply": "2021-04-10T19:48:11.713471Z"
    },
    "tags": []
   },
   "outputs": [],
   "source": [
    "probability_estimates = np.zeros(3)\n",
    "standard_errors = np.zeros(3)\n",
    "\n",
    "for count, result in enumerate(repetition_results):\n",
    "    probability_estimates[count], standard_errors[count] = estimate_probability_of_one(\n",
    "        result[\"measurements\"]\n",
    "    )"
   ]
  },
  {
   "cell_type": "code",
   "execution_count": null,
   "id": "29bcc729",
   "metadata": {
    "execution": {
     "iopub.status.busy": "2021-04-10T19:48:11.700771Z",
     "iopub.status.idle": "2021-04-10T19:48:11.702077Z",
     "shell.execute_reply": "2021-04-10T19:48:11.701599Z"
    },
    "tags": []
   },
   "outputs": [],
   "source": [
    "plt.plot(repetitions, probability_estimates, \"s\", color=\"#680CE9\")\n",
    "plt.plot(repetitions, probability_estimates + standard_errors, \"_\", color=\"#680CE9\")\n",
    "plt.plot(repetitions, probability_estimates - standard_errors, \"_\", color=\"#680CE9\")\n",
    "plt.hlines(0.5, 0, 127, linestyle=\":\")\n",
    "plt.xlabel(\"Repetition\")\n",
    "plt.ylabel(\"Probability Estimate\")\n",
    "plt.show()"
   ]
  },
  {
   "cell_type": "markdown",
   "id": "cef5d15c",
   "metadata": {},
   "source": [
    "Here we can see that the repetition process is successfully revealing an error that would not have been outside of the standard error with just one use of the gate. You can also do a line fit to these repetition plots to get a more precise estimate of the error on your gate. "
   ]
  },
  {
   "cell_type": "markdown",
   "id": "db94ad63",
   "metadata": {},
   "source": [
    "#### No need for quantum control without noise and errors\n",
    "\n",
    "There is nothing more we can do with this ideal model. We have already achieved perfect gates. If we want to apply quantum control with BOULDER OPAL we have to add some noise and errors to our qubit model. "
   ]
  },
  {
   "cell_type": "markdown",
   "id": "bda5efba",
   "metadata": {},
   "source": [
    "### More realistic qubits, gates and measurements (the reality)\n",
    "\n",
    "Let's make this model more realistic and include some noise and errors. We won't give a complete mathematical model because it will get too complicated. Instead, we will provide a list of the additional complications we are going to add to the model then jump straight to the code itself.\n",
    "\n",
    "1. In realistic superconducting devices the Rabi rate that you drive the qubit with is not normally known. Instead you normally set some voltages on your microwave signal generator and you have to figure out how they relate to the Rabi rate. These are usually normalized between -1 and 1. To learn how to determine the Rabi rate of your qubit have a look at the [Pulse calibration application note](https://docs.q-ctrl.com/boulder-opal/application-notes/control-hardware-pulse-calibration).\n",
    "\n",
    "2. One step we didn't talk about is tuning your microwave on resonance with your superconducting qubit. Even after tuning your microwave drive to be on resonance with your microwave drive, there might be a small detuning error that can drift slowly over time. This manifests as an extra term in the Hamiltonian that looks like:\n",
    "    $$\n",
    "    \\frac{H(t)}{\\hbar} = \\epsilon_D(t) b^\\dagger b + \\frac{1}{2} \\Omega(t) b + \\frac{1}{2} \\Omega(t) b^\\dagger \n",
    "    $$\n",
    "    For most experiments this $\\epsilon_D(t)$ changes so slowly that they can be treated as effectively constant for a single experiment.  \n",
    "    \n",
    "3. Even after calibrating your Rabi rate, there can also be a small amplitude error in the $I$ and $Q$ channels that make up your complex Rabi rate. These errors can be independent and look like:\n",
    "    $$\n",
    "    \\frac{H(t)}{\\hbar} = \\frac{1}{2} (I(t)(1 + \\epsilon_I(t)) + Q(t)(1 + \\epsilon_Q(t))) b + \\mbox{ h. c. } \n",
    "    $$\n",
    "    where h. c. means hermitian conjugate of the previous term. Again, $\\epsilon_I(t)$ and $\\epsilon_Q(t)$ change so slowly that they can be basically treated as effectively constant for a single experiment.  \n",
    "\n",
    "4. When using superconducting qubits, microwaves are typically sent down control lines that have bandwidth limits. This means that signals with sudden changes tend not to work very well when used on a real device. We can add these bandwidth limits onto any control lines in BOULDER OPAL using the linear filter feature. To learn more about this feature have a look at the [Pulse optimization under realistic experimental constraints application note](https://docs.q-ctrl.com/boulder-opal/application-notes/control-hardware-pulse-optimization-under-realistic-experimental-constraints)\n",
    "\n",
    "5. Another critical issue on quantum computers is state preparation and measurement (SPAM) errors. These occur when the qubit is not perfectly prepared in the ground state at the beginning of computation, this often gets worse when the quantum computer heats up. There can also be many errors introduced during the measurement state. Superconducting qubits make measurements by driving a resonator that is coupled to the qubit, the state of the qubit affects the frequency of the resonator, which allows us to read out the qubits state. This process is not perfect and sometimes a 1 is incorrectly detected as a 0 and vice versa. These errors are best modeled using a [confusion matrix](https://en.wikipedia.org/wiki/Confusion_matrix). "
   ]
  },
  {
   "cell_type": "markdown",
   "id": "15cbf468",
   "metadata": {},
   "source": [
    "### Simulating a more realistic superconducting qubit\n",
    "\n",
    "Now let's code up a more realistic superconducting qubit that has all of these errors. "
   ]
  },
  {
   "cell_type": "code",
   "execution_count": 15,
   "id": "0846b24b",
   "metadata": {
    "execution": {
     "iopub.execute_input": "2021-04-10T16:24:12.597900Z",
     "iopub.status.busy": "2021-04-10T16:24:12.597341Z",
     "iopub.status.idle": "2021-04-10T16:24:12.611669Z",
     "shell.execute_reply": "2021-04-10T16:24:12.610839Z",
     "shell.execute_reply.started": "2021-04-10T16:24:12.597850Z"
    }
   },
   "outputs": [],
   "source": [
    "def simulate_more_realistic_qubit(\n",
    "    duration=1, values=np.array([np.pi]), shots=1024, repetitions=1\n",
    "):\n",
    "\n",
    "    # 1. Limits for drive amplitudes\n",
    "    assert np.amax(values) <= 1.0\n",
    "    assert np.amin(values) >= -1.0\n",
    "    max_drive_amplitude = 2 * np.pi * 20  # MHz\n",
    "\n",
    "    # 2. Dephasing error\n",
    "    dephasing_error = -2 * 2 * np.pi  # MHz\n",
    "\n",
    "    # 3. Amplitude error\n",
    "    amplitude_i_error = 0.98\n",
    "    amplitude_q_error = 1.03\n",
    "\n",
    "    # 4. Control line bandwidth limit\n",
    "    cut_off_frequency = 2 * np.pi * 10  # MHz\n",
    "    resample_segment_count = 1000\n",
    "\n",
    "    # 5. SPAM error confusion matrix\n",
    "    confusion_matrix = np.array([[0.99, 0.01], [0.02, 0.98]])\n",
    "\n",
    "    # Lowering operator\n",
    "    b = np.array([[0, 1], [0, 0]])\n",
    "    # Number operator\n",
    "    n = np.diag([0, 1])\n",
    "    # Initial state\n",
    "    initial_state = np.array([[1], [0]])\n",
    "\n",
    "    with qctrl.create_graph() as graph:\n",
    "        # Apply 1. max Rabi rate.\n",
    "        values = values * max_drive_amplitude\n",
    "\n",
    "        # Apply 3. amplitude errors.\n",
    "        values_i = np.real(values) * amplitude_i_error\n",
    "        values_q = np.imag(values) * amplitude_q_error\n",
    "        values = values_i + 1j * values_q\n",
    "\n",
    "        # Apply 4. bandwidth limits\n",
    "        drive_unfiltered = qctrl.operations.pwc_signal(duration=duration, values=values)\n",
    "        drive_filtered = qctrl.operations.convolve_pwc(\n",
    "            pwc=drive_unfiltered,\n",
    "            kernel_integral=qctrl.operations.sinc_integral_function(cut_off_frequency),\n",
    "        )\n",
    "        drive = qctrl.operations.discretize_stf(\n",
    "            drive_filtered, duration=duration, segments_count=resample_segment_count\n",
    "        )\n",
    "\n",
    "        # Construct microwave drive\n",
    "        drive_term = qctrl.operations.pwc_operator_hermitian_part(\n",
    "            qctrl.operations.pwc_operator(signal=drive, operator=b)\n",
    "        )\n",
    "\n",
    "        # Construct 2. dephasing term.\n",
    "        dephasing_term = qctrl.operations.constant_pwc_operator(\n",
    "            operator=dephasing_error * n,\n",
    "            duration=duration,\n",
    "        )\n",
    "\n",
    "        # Construct Hamiltonian.\n",
    "        hamiltonian = qctrl.operations.pwc_sum(\n",
    "            [\n",
    "                drive_term,\n",
    "                dephasing_term,\n",
    "            ]\n",
    "        )\n",
    "\n",
    "        # Solve Schrodinger's equation and get total unitary at the end\n",
    "        unitary = qctrl.operations.time_evolution_operators_pwc(\n",
    "            hamiltonian=hamiltonian,\n",
    "            sample_times=np.array([duration]),\n",
    "        )[-1]\n",
    "        unitary.name = \"unitary\"\n",
    "\n",
    "        # Repeat final unitary\n",
    "        repeated_unitary = np.eye(2)\n",
    "        for _ in range(repetitions):\n",
    "            repeated_unitary = repeated_unitary @ unitary\n",
    "        repeated_unitary.name = \"repeated_unitary\"\n",
    "\n",
    "        # Calculate final state.\n",
    "        state = repeated_unitary @ initial_state\n",
    "\n",
    "        # Calculate final populations.\n",
    "        populations = qctrl.operations.abs(state[:, 0]) ** 2\n",
    "        # Normalize populations\n",
    "        norm = qctrl.operations.sum(populations)\n",
    "        populations = populations / norm\n",
    "        populations.name = \"populations\"\n",
    "\n",
    "    # Evaluate graph.\n",
    "    result = qctrl.functions.calculate_graph(\n",
    "        graph=graph,\n",
    "        output_node_names=[\"unitary\", \"repeated_unitary\", \"populations\"],\n",
    "    )\n",
    "\n",
    "    # Extract outputs.\n",
    "    unitary = result.output[\"unitary\"][\"value\"]\n",
    "    repeated_unitary = result.output[\"repeated_unitary\"][\"value\"]\n",
    "    populations = result.output[\"populations\"][\"value\"]\n",
    "\n",
    "    # Sample projective measurements.\n",
    "    true_measurements = np.random.choice(2, size=shots, p=populations)\n",
    "    measurements = np.array(\n",
    "        [np.random.choice(2, p=confusion_matrix[m]) for m in true_measurements]\n",
    "    )\n",
    "\n",
    "    results = {\"unitary\": unitary, \"measurements\": measurements}\n",
    "\n",
    "    return results"
   ]
  },
  {
   "cell_type": "markdown",
   "id": "f284f049",
   "metadata": {},
   "source": [
    "#### Trying the ideal approach\n",
    "\n",
    "Let's see what happens when we try and use the same type of pulse that worked for the ideal qubit. We will assume that we have already used the techniques in the [Pulse calibration application note](https://docs.q-ctrl.com/boulder-opal/application-notes/control-hardware-pulse-calibration) to determine that the maximum Rabi rate is $20\\times 2\\pi$ MHz. If we use the same pulses we get"
   ]
  },
  {
   "cell_type": "code",
   "execution_count": 16,
   "id": "14424e99",
   "metadata": {
    "execution": {
     "iopub.execute_input": "2021-04-10T16:24:12.612896Z",
     "iopub.status.busy": "2021-04-10T16:24:12.612657Z",
     "iopub.status.idle": "2021-04-10T16:24:12.620381Z",
     "shell.execute_reply": "2021-04-10T16:24:12.619580Z",
     "shell.execute_reply.started": "2021-04-10T16:24:12.612872Z"
    }
   },
   "outputs": [],
   "source": [
    "max_rabi_rate = 20 * 2 * np.pi  # MHz\n",
    "not_duration = np.pi / (max_rabi_rate)  # us\n",
    "h_duration = np.pi / (2 * max_rabi_rate)  # us\n",
    "shots = 1024\n",
    "\n",
    "values = np.array([1.0])"
   ]
  },
  {
   "cell_type": "code",
   "execution_count": 17,
   "id": "e9053a0a",
   "metadata": {
    "execution": {
     "iopub.execute_input": "2021-04-10T16:24:12.622033Z",
     "iopub.status.busy": "2021-04-10T16:24:12.621707Z",
     "iopub.status.idle": "2021-04-10T16:24:22.481543Z",
     "shell.execute_reply": "2021-04-10T16:24:22.480835Z",
     "shell.execute_reply.started": "2021-04-10T16:24:12.622000Z"
    }
   },
   "outputs": [
    {
     "data": {
      "application/vnd.jupyter.widget-view+json": {
       "model_id": "55129b9b33864edea367440635dd5097",
       "version_major": 2,
       "version_minor": 0
      },
      "text/plain": [
       "  0%|          | 0/100 [00:00<?, ?it/s]"
      ]
     },
     "metadata": {},
     "output_type": "display_data"
    },
    {
     "name": "stdout",
     "output_type": "stream",
     "text": [
      "Your task calculate_graph has started.\n",
      "Your task calculate_graph has completed in 6s.\n"
     ]
    },
    {
     "data": {
      "application/vnd.jupyter.widget-view+json": {
       "model_id": "91dc971418ce498f8fab810c37b7c601",
       "version_major": 2,
       "version_minor": 0
      },
      "text/plain": [
       "  0%|          | 0/100 [00:00<?, ?it/s]"
      ]
     },
     "metadata": {},
     "output_type": "display_data"
    },
    {
     "name": "stdout",
     "output_type": "stream",
     "text": [
      "Your task calculate_graph has completed in 3s.\n"
     ]
    }
   ],
   "source": [
    "not_results = simulate_more_realistic_qubit(\n",
    "    duration=not_duration, values=values, shots=shots\n",
    ")\n",
    "h_results = simulate_more_realistic_qubit(\n",
    "    duration=h_duration, values=values, shots=shots\n",
    ")"
   ]
  },
  {
   "cell_type": "code",
   "execution_count": 18,
   "id": "552af2db",
   "metadata": {
    "execution": {
     "iopub.execute_input": "2021-04-10T16:24:22.482993Z",
     "iopub.status.busy": "2021-04-10T16:24:22.482702Z",
     "iopub.status.idle": "2021-04-10T16:24:22.493155Z",
     "shell.execute_reply": "2021-04-10T16:24:22.492131Z",
     "shell.execute_reply.started": "2021-04-10T16:24:22.482958Z"
    }
   },
   "outputs": [
    {
     "name": "stdout",
     "output_type": "stream",
     "text": [
      "Realised NOT Gate:\n",
      "[[0.75412104-0.02524955j 0.1026601 -0.64817036j]\n",
      " [0.1026601 -0.64817036j 0.70940919+0.25704996j]]\n",
      "Ideal NOT Gate:\n",
      "[[ 0.+0.j -0.-1.j]\n",
      " [-0.-1.j  0.+0.j]]\n",
      "NOT Gate Error:0.5693360860922008\n",
      "NOT estimated probability of getting 1:0.423828125\n",
      "NOT estimate standard error:0.015442618251321226\n",
      "\n",
      "Realised H Gate:\n",
      "[[0.98219782-0.00092913j 0.01473832-0.18726817j]\n",
      " [0.01473832-0.18726817j 0.96995998+0.15456728j]]\n",
      "Ideal H Gate:\n",
      "[[0.70710678+0.j         0.        -0.70710678j]\n",
      " [0.        -0.70710678j 0.70710678+0.j        ]]\n",
      "H Gate Error:0.31912041750757547\n",
      "H estimated probability of getting 1:0.052734375\n",
      "H estimate standard error:0.0069844596396828555\n"
     ]
    }
   ],
   "source": [
    "realised_not_gate = not_results[\"unitary\"]\n",
    "ideal_not_gate = np.array([[0, -1j], [-1j, 0]])\n",
    "not_error = error_norm(realised_not_gate, ideal_not_gate)\n",
    "realised_h_gate = h_results[\"unitary\"]\n",
    "ideal_h_gate = (1 / np.sqrt(2)) * np.array([[1, -1j], [-1j, 1]])\n",
    "h_error = error_norm(realised_h_gate, ideal_h_gate)\n",
    "\n",
    "not_measurements = not_results[\"measurements\"]\n",
    "h_measurements = h_results[\"measurements\"]\n",
    "not_probability, not_standard_error = estimate_probability_of_one(not_measurements)\n",
    "h_probability, h_standard_error = estimate_probability_of_one(h_measurements)\n",
    "\n",
    "print(\"Realised NOT Gate:\")\n",
    "print(realised_not_gate)\n",
    "print(\"Ideal NOT Gate:\")\n",
    "print(ideal_not_gate)\n",
    "print(\"NOT Gate Error:\" + str(not_error))\n",
    "print(\"NOT estimated probability of getting 1:\" + str(not_probability))\n",
    "print(\"NOT estimate standard error:\" + str(not_standard_error) + \"\\n\")\n",
    "\n",
    "print(\"Realised H Gate:\")\n",
    "print(realised_h_gate)\n",
    "print(\"Ideal H Gate:\")\n",
    "print(ideal_h_gate)\n",
    "print(\"H Gate Error:\" + str(h_error))\n",
    "print(\"H estimated probability of getting 1:\" + str(h_probability))\n",
    "print(\"H estimate standard error:\" + str(h_standard_error))"
   ]
  },
  {
   "cell_type": "markdown",
   "id": "0c21fd61",
   "metadata": {},
   "source": [
    "The more realistic qubit now has many more errors. You can use quantum control, and BOULDER OPAL, to fix these errors and improve the performance of this more realistic qubit!"
   ]
  },
  {
   "cell_type": "markdown",
   "id": "022dd43d",
   "metadata": {},
   "source": [
    "kron### Quantum Control Approaches\n",
    "\n",
    "There are many different ways to use quantum control to improve the performance of a realistic qubit. Here we present three major approaches with a brief discussion of the advantages and disadvantages. It's up to you to decide which approach interests you the most! We recommend trying the control technique you're going to apply to the more realistic qubit above first, then when you understand how it works, try applying it to the qubit in the cloud for the challenge.\n",
    "\n",
    "#### Optimal Control\n",
    "\n",
    "Optimal control is best used when you have a detailed model of the system you are trying to improve. To start you might want to assume that you already have a detailed model of the more realistic qubit presented above. You can then follow the instructions in the [Optimize controls user guide](https://docs.q-ctrl.com/boulder-opal/user-guides/optimize-controls) which explains how to optimize any quantum system that you can program as a graph. If you have a good model, optimal control will typically be the quickest path to get a high fidelity gate. However when you're working with a real device, you normally don't have perfect knowledge of your system's Hamiltonian, and often parameters in your system, like the Rabi rate, can slowly drift over time.\n",
    "\n",
    "If you want to try and apply optimal control to a real qubit, you'll also need an accurate model. BOULDER OPAL has system identification feature, described in the [System identification application note](https://docs.q-ctrl.com/boulder-opal/application-notes/control-hardware-system-identification) that allows you to identify the terms in a Hamiltonian, which can then be used to derive optimized control. System identification can be problematic when using noisy results, so only take this on if you like a real challenge.\n",
    "\n",
    "#### Robust Control\n",
    "\n",
    "Robust control is best used when you have partial knowledge of the system you are trying to improve. For example, you may know that you have a qubit undergoing dephasing and amplitude errors and that there is some bandwidth limit on the control lines. In this case you can design a control that achieves a high fidelity operation even if you don't exactly know what the current dephasing or amplitude errors are. \n",
    "\n",
    "A great place to start with this approach is the [Incorporating smoothing via linear filters on control signals example](https://docs.q-ctrl.com/boulder-opal/user-guides/optimize-controls#Example-Incorporating-smoothing-via-linear-filters-on-control-signals) in the [Optimize controls user guide](https://docs.q-ctrl.com/boulder-opal/user-guides/optimize-controls). This shows you how to optimize a pulse which is robust to dephasing and band-limited. If you also would like an example of adding amplitude error robustness have a look at the [CRAB Optimization example](https://docs.q-ctrl.com/boulder-opal/user-guides/optimize-controls#Example-CRAB-optimization) in the same notebook. You don't need any knowledge of the Rabi rate to design robust pulses to dephasing and amplitude errors. Furthermore, as long as you set the bandwidth of filter low enough when optimizing the pulse, you won't be affected by bandwidth limits on your control lines.\n",
    "\n",
    "When you actually want to test a robust control pulse you will need to calibrate it. This process is detailed in the [Pulse calibration application note](https://docs.q-ctrl.com/boulder-opal/application-notes/control-hardware-pulse-calibration). \n",
    "\n",
    "A great overview of this approach applied to improve the performance of a real qubit accessed through the IBM Quantum Experience is in the [Suppressing errors on real quantum computers webinar](https://youtu.be/WabKiPoBF4Y), which can be found in the [Q-CTRL learning center](https://q-ctrl.com/learning-center/). \n",
    "\n",
    "#### Learning control\n",
    "\n",
    "Learning control, also often called closed-loop automated optimization, is a different approach to both optimal and robust control. It does not assume a model of the qubit at all. Instead, closed-loop automated optimization can be used to directly learn the best control from the qubit itself. The best place to get started with this approach is the [Automated closed-loop hardware optimization of quantum devices user guide](https://docs.q-ctrl.com/boulder-opal/user-guides/automate-closed-loop-hardware-optimization-of-quantum-devices). This gives an overview of using automated optimization to improve the performance of a simulated qubit.\n",
    "\n",
    "When doing closed-loop automated optimization it is very important that you pick the right cost function for the automated optimization algorithm. You should review the \"Repetition makes perfect\" section to learn how to effectively estimate the fidelity of a unitary from realistic projective measurements from a qubit.\n",
    "\n",
    "A great overview of this approach applied to improve the performance of a real qubit accessed through the IBM Quantum Experience is in the [Suppressing errors on real quantum computers webinar](https://youtu.be/WabKiPoBF4Y), which can be found in the [Q-CTRL learning center](https://q-ctrl.com/learning-center/). Q-CTRL has implemented some sophisticated machine learning algorithms under the hood to ensure our automated optimization routines converge as quickly as possible, to learn more about other experiments our automated optimization features has been used on you should watch the [Automated closed-loop optimization webinar](https://youtu.be/CRWVmoqTen4)."
   ]
  },
  {
   "cell_type": "markdown",
   "id": "77eecf26",
   "metadata": {},
   "source": [
    "### The more realistic qubit vs the qubit in the cloud\n",
    "\n",
    "In this document we have presented code for a more realistic qubit. The qubit in the cloud for the challenge itself *is even more complicated and realistic*. It contains all the affects that the more realistic qubit has, along with a few additional complications that a real superconducting qubit faces."
   ]
  },
  {
   "cell_type": "markdown",
   "id": "5734b9aa",
   "metadata": {},
   "source": [
    "## Accessing the qubit in the cloud (the challenge!)\n",
    "\n",
    "The challenge is to create pulses that implement high fidelity Hadamard and NOT gates on a qubit in the cloud provided through BOULDER OPAL. Here we show you how to send pulses to the qubit in the cloud and get measurement results. \n",
    "\n",
    "In what follows we will show you how to create a series of controls (pulses), send them to the qubit in the cloud, and analyze the results of the experiment. We begin by importing some basic modules and starting a session with the BOULDER OPAL Q-CTRL API.\n",
    "\n",
    "We begin by establishing some parameters for our pulses:\n",
    "- `control_count`: How many controls we create.\n",
    "- `segment_count`: How many segments each pulse is split into.\n",
    "- `duration`: The duration (in ns) of each pulse.\n",
    "- `shot_count`: How many projective measurements we take at the end of each control.\n",
    "\n",
    "You will probably want to change these values later depending on how you approach the challenge. For instance, the larger the `shot_count` is, the more measurements we get out of the qubit for each control (we only keep it small here so that the experiment results are easier to visualize).\n"
   ]
  },
  {
   "cell_type": "code",
   "execution_count": 19,
   "id": "99937a6d",
   "metadata": {
    "execution": {
     "iopub.execute_input": "2021-04-10T16:24:22.494805Z",
     "iopub.status.busy": "2021-04-10T16:24:22.494474Z",
     "iopub.status.idle": "2021-04-10T16:24:22.499847Z",
     "shell.execute_reply": "2021-04-10T16:24:22.498801Z",
     "shell.execute_reply.started": "2021-04-10T16:24:22.494765Z"
    }
   },
   "outputs": [],
   "source": [
    "control_count = 5\n",
    "segment_count = 16\n",
    "duration = 30.0\n",
    "shot_count = 32"
   ]
  },
  {
   "cell_type": "markdown",
   "id": "f4b86670",
   "metadata": {},
   "source": [
    "We now create a list of controls to send to the qubit. Each of them is a dictionary with a `duration` (how long the pulse is) and an array of (complex) `values` indicating the strength of the pulse in piecewise-constant intervals. Here we use random pulses, so we do not expect them to perform very well at all or implement any particular gate."
   ]
  },
  {
   "cell_type": "code",
   "execution_count": 20,
   "id": "09672a7e",
   "metadata": {
    "execution": {
     "iopub.execute_input": "2021-04-10T16:24:22.501466Z",
     "iopub.status.busy": "2021-04-10T16:24:22.501065Z",
     "iopub.status.idle": "2021-04-10T16:24:22.802268Z",
     "shell.execute_reply": "2021-04-10T16:24:22.801464Z",
     "shell.execute_reply.started": "2021-04-10T16:24:22.501433Z"
    }
   },
   "outputs": [
    {
     "data": {
      "image/png": "[encoded data removed]",
      "text/plain": [
       "<Figure size 504x288 with 2 Axes>"
      ]
     },
     "metadata": {
      "needs_background": "light"
     },
     "output_type": "display_data"
    }
   ],
   "source": [
    "controls = []\n",
    "for k in range(control_count):\n",
    "    # Create a random string of complex numbers for each controls.\n",
    "    real_part = np.random.random(size=[segment_count])\n",
    "    imag_part = np.random.random(size=[segment_count])\n",
    "    values = 0.15 * k * (real_part + 1j * imag_part)\n",
    "\n",
    "    controls.append({\"duration\": duration, \"values\": values})\n",
    "\n",
    "# Plot the last control as an example.\n",
    "plot_controls(\n",
    "    figure=plt.figure(),\n",
    "    controls={\n",
    "        \"$\\Omega$\": [\n",
    "            {\"duration\": duration / segment_count, \"value\": value} for value in values\n",
    "        ]\n",
    "    },\n",
    ")"
   ]
  },
  {
   "cell_type": "markdown",
   "id": "2d172e5c",
   "metadata": {},
   "source": [
    "We can now send those controls to the qubit and get back the results of applying each one of them. We put the returned object in `experiment_results`."
   ]
  },
  {
   "cell_type": "code",
   "execution_count": 21,
   "id": "00fbadaf",
   "metadata": {
    "execution": {
     "iopub.execute_input": "2021-04-10T16:24:22.803906Z",
     "iopub.status.busy": "2021-04-10T16:24:22.803598Z",
     "iopub.status.idle": "2021-04-10T16:24:26.753619Z",
     "shell.execute_reply": "2021-04-10T16:24:26.752770Z",
     "shell.execute_reply.started": "2021-04-10T16:24:22.803869Z"
    }
   },
   "outputs": [
    {
     "data": {
      "application/vnd.jupyter.widget-view+json": {
       "model_id": "5ffe0064a82241f185f199d99c7dace8",
       "version_major": 2,
       "version_minor": 0
      },
      "text/plain": [
       "  0%|          | 0/100 [00:00<?, ?it/s]"
      ]
     },
     "metadata": {},
     "output_type": "display_data"
    },
    {
     "name": "stdout",
     "output_type": "stream",
     "text": [
      "Your task calculate_qchack_measurements has completed in 3s.\n"
     ]
    }
   ],
   "source": [
    "# Obtain the results of the experiment.\n",
    "experiment_results = qctrl.functions.calculate_qchack_measurements(\n",
    "    controls=controls,\n",
    "    shot_count=shot_count,\n",
    ")"
   ]
  },
  {
   "cell_type": "markdown",
   "id": "2e6235a4",
   "metadata": {},
   "source": [
    "What we are interested in are the results of the measurements on the qubit, which are in `experiment_results.measurements`. This is a list containing, for each control that we have sent to the qubit, the result of `shot_count` measurements, that is, whether the qubit was found to be in state $|0\\rangle$, $|1\\rangle$, or $|2\\rangle$."
   ]
  },
  {
   "cell_type": "code",
   "execution_count": 22,
   "id": "e721685b",
   "metadata": {
    "execution": {
     "iopub.execute_input": "2021-04-10T16:24:26.755096Z",
     "iopub.status.busy": "2021-04-10T16:24:26.754787Z",
     "iopub.status.idle": "2021-04-10T16:24:26.761508Z",
     "shell.execute_reply": "2021-04-10T16:24:26.760528Z",
     "shell.execute_reply.started": "2021-04-10T16:24:26.755060Z"
    }
   },
   "outputs": [
    {
     "name": "stdout",
     "output_type": "stream",
     "text": [
      "control #0: [0, 0, 0, 0, 0, 0, 0, 0, 0, 0, 0, 0, 0, 0, 0, 0, 0, 0, 0, 0, 0, 0, 0, 0, 0, 0, 0, 0, 0, 0, 0, 0]\n",
      "control #1: [0, 0, 0, 0, 0, 0, 0, 0, 1, 1, 0, 1, 0, 0, 0, 1, 0, 1, 0, 0, 1, 0, 0, 0, 0, 0, 0, 0, 0, 1, 1, 0]\n",
      "control #2: [0, 1, 0, 1, 1, 0, 1, 1, 0, 0, 0, 0, 1, 1, 1, 1, 1, 0, 0, 0, 0, 0, 0, 0, 1, 0, 0, 1, 1, 0, 1, 1]\n",
      "control #3: [0, 1, 1, 0, 1, 1, 0, 1, 1, 0, 1, 0, 0, 0, 1, 1, 0, 1, 1, 0, 0, 0, 1, 0, 0, 1, 1, 1, 0, 0, 1, 1]\n",
      "control #4: [1, 0, 1, 0, 0, 0, 1, 0, 1, 0, 1, 0, 0, 0, 1, 0, 1, 1, 1, 0, 0, 1, 0, 1, 1, 1, 0, 1, 1, 1, 1, 0]\n"
     ]
    }
   ],
   "source": [
    "measurements = experiment_results.measurements\n",
    "for k, measurement_counts in enumerate(measurements):\n",
    "    print(f\"control #{k}: {measurement_counts}\")"
   ]
  },
  {
   "cell_type": "code",
   "execution_count": 23,
   "id": "8e358214",
   "metadata": {
    "execution": {
     "iopub.execute_input": "2021-04-10T16:24:26.766527Z",
     "iopub.status.busy": "2021-04-10T16:24:26.766046Z",
     "iopub.status.idle": "2021-04-10T16:24:26.773083Z",
     "shell.execute_reply": "2021-04-10T16:24:26.772096Z",
     "shell.execute_reply.started": "2021-04-10T16:24:26.766481Z"
    }
   },
   "outputs": [
    {
     "name": "stdout",
     "output_type": "stream",
     "text": [
      "control #0: P(|0>) = 1.00, P(|1>) = 0.00, P(|2>) = 0.00\n",
      "control #1: P(|0>) = 0.75, P(|1>) = 0.25, P(|2>) = 0.00\n",
      "control #2: P(|0>) = 0.53, P(|1>) = 0.47, P(|2>) = 0.00\n",
      "control #3: P(|0>) = 0.47, P(|1>) = 0.53, P(|2>) = 0.00\n",
      "control #4: P(|0>) = 0.47, P(|1>) = 0.53, P(|2>) = 0.00\n"
     ]
    }
   ],
   "source": [
    "for k, measurement_counts in enumerate(measurements):\n",
    "    p0 = measurement_counts.count(0) / shot_count\n",
    "    p1 = measurement_counts.count(1) / shot_count\n",
    "    p2 = measurement_counts.count(2) / shot_count\n",
    "    print(f\"control #{k}: P(|0>) = {p0:.2f}, P(|1>) = {p1:.2f}, P(|2>) = {p2:.2f}\")"
   ]
  },
  {
   "cell_type": "code",
   "execution_count": 24,
   "id": "eef04f9d",
   "metadata": {
    "execution": {
     "iopub.execute_input": "2021-04-10T16:24:26.780096Z",
     "iopub.status.busy": "2021-04-10T16:24:26.779738Z",
     "iopub.status.idle": "2021-04-10T16:24:30.362257Z",
     "shell.execute_reply": "2021-04-10T16:24:30.359187Z",
     "shell.execute_reply.started": "2021-04-10T16:24:26.780055Z"
    }
   },
   "outputs": [
    {
     "data": {
      "application/vnd.jupyter.widget-view+json": {
       "model_id": "db5ce4dda12b49a3b44a7fa6eac1d1a7",
       "version_major": 2,
       "version_minor": 0
      },
      "text/plain": [
       "  0%|          | 0/100 [00:00<?, ?it/s]"
      ]
     },
     "metadata": {},
     "output_type": "display_data"
    },
    {
     "name": "stdout",
     "output_type": "stream",
     "text": [
      "Your task calculate_qchack_measurements has completed in 3s.\n",
      "With  1 repetitions: P(|0>) = 0.31, P(|1>) = 0.69, P(|2>) = 0.00\n",
      "With  4 repetitions: P(|0>) = 0.69, P(|1>) = 0.31, P(|2>) = 0.00\n",
      "With 16 repetitions: P(|0>) = 0.91, P(|1>) = 0.09, P(|2>) = 0.00\n",
      "With 32 repetitions: P(|0>) = 0.75, P(|1>) = 0.25, P(|2>) = 0.00\n",
      "With 64 repetitions: P(|0>) = 0.34, P(|1>) = 0.66, P(|2>) = 0.00\n"
     ]
    }
   ],
   "source": [
    "repetitions = [1, 4, 16, 32, 64]\n",
    "\n",
    "controls = []\n",
    "# Create a random string of complex numbers for all control,\n",
    "# but set a different repetition_count for each control.\n",
    "real_part = np.random.random(size=[segment_count])\n",
    "imag_part = np.random.random(size=[segment_count])\n",
    "values = 0.5 * (real_part + 1j * imag_part)\n",
    "\n",
    "for repetition_count in repetitions:\n",
    "    controls.append(\n",
    "        {\"duration\": duration, \"values\": values, \"repetition_count\": repetition_count}\n",
    "    )\n",
    "\n",
    "experiment_results = qctrl.functions.calculate_qchack_measurements(\n",
    "    controls=controls,\n",
    "    shot_count=shot_count,\n",
    ")\n",
    "\n",
    "for repetition_count, measurement_counts in zip(\n",
    "    repetitions, experiment_results.measurements\n",
    "):\n",
    "    p0 = measurement_counts.count(0) / shot_count\n",
    "    p1 = measurement_counts.count(1) / shot_count\n",
    "    p2 = measurement_counts.count(2) / shot_count\n",
    "    print(\n",
    "        f\"With {repetition_count:2d} repetitions: P(|0>) = {p0:.2f}, P(|1>) = {p1:.2f}, P(|2>) = {p2:.2f}\"\n",
    "    )"
   ]
  },
  {
   "cell_type": "markdown",
   "id": "916effba",
   "metadata": {},
   "source": [
    "## Submission\n",
    "\n",
    "We recommend doing your submission through a Github repository. You can create an account by going to [GitHub's home page](https://github.com/). If you're new to GitHub the QCHack team has provided a [tutorial on the GitHub basics](https://github.com/yaleqc/github-basics) to get you started. We recommend using [the Github GUI client](https://desktop.github.com/) to make life a bit easier if you're not used to using a command line.\n",
    "\n",
    "Make a repository named `qctrl-qchack-<team_name>` with a description `Q-CTRL QCHack Challenge <team_name> entry`. Where `<team_name>` is your team name. \n",
    "\n",
    "In the root folder there should be three essential files:\n",
    "\n",
    "1. `not_gate_pulse.json` which contains the duration and values of your best NOT gate\n",
    "2. `h_gate_pulse.json` which contains the duration and values of your best H gate\n",
    "3. `challenge_summary.pdf` which should be a 2 page description on how you used quantum control and BOULDER OPAL to create pulses that implement high fidelity NOT and Hadamard gates on the qubit in the cloud.\n",
    "\n",
    "The competition will primarily be judged on these three documents. You are also welcome to include other code and documents to support your entry. This may be looked at to differentiate entries that are close.\n",
    "\n",
    "When you've completed your submission send an email to [support@q-ctrl.com](mailto:support@q-ctrl.com) with `Q-CTRL QCHack Challenge <team_name> entry` in the subject field. In the body of the email provide a link to the GitHub repository with your entry along with the names of all the members of your team and their contact details (preferably an email). "
   ]
  },
  {
   "cell_type": "markdown",
   "id": "821b3b8e",
   "metadata": {},
   "source": [
    "## Judging\n",
    "\n",
    "Judging will occur over the next few days after the competition. Your submission will be judged equally on two criteria:\n",
    "\n",
    "1. Half of the assessment will depend on the quality of the pulse. The quality will be assessed using a simulation of the qubit-in-the-cloud with your optimized pulse and accurately measuring the fidelity with respect to the appropriate gate.\n",
    "\n",
    "2. The other half of the assessment will depend on the quality of your approach and clarity of your solution finding techniques. We will consider if your method is generalizable to any gate, whether your approach scales to multi-qubit gates, etc.\n",
    "\n",
    "An email will be sent to all teams that entered with some feedback on your entry and how you placed. "
   ]
  }
 ],
 "metadata": {
  "kernelspec": {
   "display_name": "Python 3",
   "language": "python",
   "name": "python3"
  },
  "language_info": {
   "codemirror_mode": {
    "name": "ipython",
    "version": 3
   },
   "file_extension": ".py",
   "mimetype": "text/x-python",
   "name": "python",
   "nbconvert_exporter": "python",
   "pygments_lexer": "ipython3",
   "version": "3.8.8"
  }
 },
 "nbformat": 4,
 "nbformat_minor": 5
}
