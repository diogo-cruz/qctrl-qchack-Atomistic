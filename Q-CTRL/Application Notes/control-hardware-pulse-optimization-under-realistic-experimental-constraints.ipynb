{
 "cells": [
  {
   "cell_type": "markdown",
   "metadata": {},
   "source": [
    "# Control hardware: pulse optimization under realistic experimental constraints\n",
    "**Highly flexible optimizer for hardware-limited signal generation and non-ideal control lines**\n",
    "\n",
    "BOULDER OPAL provides a large, modular collection of configuration options in order to support a wide variety of signal generators, control lines and quantum hardware. In this guide, we provide an overview of the BOULDER OPAL optimization engine, together with a set of examples that demonstrate how this engine can be tailored to model realistic constraints on the signal generation, including transients and bandwidth limits. After an overview of the engine in the first section, we show in the second section how to deal with these issues by incorporating filters in the control signal. This can also be used to design a pulse where the natural filtering properties of the control line are known. In the third section, we present a simpler approach to deal with band-limited signals by constraining the rate of change in the control pulse. Finally, in the last section we show how to create optimizations using arbitrary basis functions."
   ]
  },
  {
   "cell_type": "markdown",
   "metadata": {},
   "source": [
    "## Imports and initialization"
   ]
  },
  {
   "cell_type": "code",
   "execution_count": 1,
   "metadata": {},
   "outputs": [],
   "source": [
    "import matplotlib.pyplot as plt\n",
    "import numpy as np\n",
    "from matplotlib.ticker import EngFormatter\n",
    "from qctrlvisualizer import get_qctrl_style, plot_controls\n",
    "\n",
    "from qctrl import Qctrl\n",
    "\n",
    "formatter = EngFormatter(unit=\"\")\n",
    "plt.style.use(get_qctrl_style())\n",
    "\n",
    "# Starting a session with the API\n",
    "qctrl = Qctrl()\n",
    "\n",
    "# Define standard matrices\n",
    "sigma_x = np.array([[0, 1], [1, 0]])\n",
    "sigma_y = np.array([[0, -1j], [1j, 0]])\n",
    "sigma_z = np.array([[1, 0], [0, -1]])"
   ]
  },
  {
   "cell_type": "markdown",
   "metadata": {},
   "source": [
    "## Overview of the BOULDER OPAL optimization engine\n",
    "\n",
    "Standard optimal control techniques such as [GRAPE](https://www.sciencedirect.com/science/article/abs/pii/S1090780704003696) have seen widespread success in recent years, but their flexibility is typically limited by enforcing very specific Hamiltonian structures. Specifically, a standard GRAPE implementation requires that the Hamiltonian be expressed as a sum of terms that are directly and independently controllable. This assumption, while valid in some cases, is not adequate for many systems. For example, if there is non-linear dependence between controllable parameters and Hamiltonian terms, or alternatively if multiple Hamiltonian terms depend on the same underlying controls, the system cannot be coerced into the form required by GRAPE. Similarly, with standard techniques, creating optimized controls that exhibit temporal structure such as time symmetry or bandwidth limits is possible only by implementing changes in the algorithm itself (as opposed to simply changing its inputs).\n",
    "\n",
    "The BOULDER OPAL optimization engine resolves these issues by allowing the user to express their system Hamiltonians as almost-arbitrary functions of the controllable parameters. That is, rather than enforcing a specific Hamiltonian structure and allowing the user to define the values of specific operators in that structure, the BOULDER OPAL optimization engine allows the user to define the entire Hamiltonian. This flexibility is enabled by leveraging the [TensorFlow](https://www.tensorflow.org/) automatic differentiation library. Using simple convenience functions provided by BOULDER OPAL, the user creates a representation of their system that defines a map from controllable parameters to Hamiltonian. The underlying structure of this map is a TensorFlow graph, which can be efficiently evaluated and differentiated. Once constructed, this mapping (or graph) is then inserted into the optimization cost function calculation. The resulting optimized controls thus achieve the desired objectives, and do so within the constraints imposed by the user-defined Hamiltonian structure.\n",
    "\n",
    "Speaking concretely, in the code samples in this notebook, the `create_graph` contexts create these user-defined graphs. All steps within the context are entirely customizable by the user, although a typical flow is to:\n",
    "1. Create \"signals\", or scalar-valued functions of time, which may be non-linear, have enforced temporal structure such as time symmetry, or more generally may depend arbitrarily on the controllable parameters;\n",
    "1. Create \"operators\", or operator-valued functions of time, by modulating constant operators by signals;\n",
    "1. Combine the operators into a single Hamiltonian operator;\n",
    "1. Calculate the optimization cost function (typically an infidelity) from the Hamiltonian.\n",
    "\n",
    "Once this graph has been defined, it is passed to the `qctrl.functions.calculate_optimization` function in order to run the optimization and produce the optimized controls."
   ]
  },
  {
   "cell_type": "markdown",
   "metadata": {},
   "source": [
    "## Smoothing control pulses using linear filters\n",
    "    \n",
    "In this section we present examples showing how linear time-invariant filters may be incorporated into an optimization. This is the relevant scenario when trying to model and design pulses that go through control lines in which electronic filters are naturally present. Failing to take the filter into account during the optimization can lead to poor results, since in that case the system used for the optimization does not accurately model reality. Adding filters is also an appropriate strategy to deliberately smooth out control pulses that would otherwise be badly implemented due to the characteristics of the signal generators themselves, such as bandwidth limits or specific resonances. To exemplify the use of filters, we consider a basic single-qubit system described by the Hamiltonian:\n",
    "\n",
    "\\begin{align*}\n",
    "H(t) &= \\frac{1}{2} L(\\alpha)(t)\\sigma_{x} + \\beta(t) \\sigma_{z} \\,, \n",
    "\\end{align*}\n",
    "\n",
    "where $\\alpha(t)$ is a real time-dependent pulse, $\\beta(t)$ is a small, slowly-varying stochastic dephasing noise process, and $ L$ is the filter applied to the $\\alpha(t)$ pulse. The effect of the filter is to transform the control signal before it reaches the quantum system, via convolution with the filter impulse response.\n",
    "\n",
    "BOULDER OPAL provides convenience functions for transforming a piecewise-constant signal by a linear time-invariant filter, and for producing impulse response functions representing such filters. "
   ]
  },
  {
   "cell_type": "markdown",
   "metadata": {},
   "source": [
    "### Low-pass sinc filter\n",
    "\n",
    "In this example, we use an in-built BOULDER OPAL function to produce the sinc filter to smooth the control pulse. From the optimizations we output two sets of signals: the raw piecewise-constant signal and its smoothed version. The latter is the filtered signal that actually reaches the quantum system and performs the optimized gate. "
   ]
  },
  {
   "cell_type": "code",
   "execution_count": 2,
   "metadata": {},
   "outputs": [
    {
     "name": "stdout",
     "output_type": "stream",
     "text": [
      "Your task calculate_optimization has completed in 4s.\n",
      "Cost: 1.3510723749375403e-09\n",
      "\n",
      "\n",
      "\n"
     ]
    },
    {
     "data": {
      "image/png": "[encoded data removed]",
      "text/plain": [
       "<Figure size 504x288 with 2 Axes>"
      ]
     },
     "metadata": {
      "needs_background": "light"
     },
     "output_type": "display_data"
    }
   ],
   "source": [
    "# Define physical constraints\n",
    "alpha_max = 2 * np.pi * 8.5e6  # Hz\n",
    "sinc_cutoff_frequency = 2 * np.pi * 48e6  # Hz\n",
    "segments_count = 60\n",
    "duration = 250e-9  # s\n",
    "\n",
    "with qctrl.create_graph() as graph:\n",
    "    # Create alpha(t) signal\n",
    "    alpha = qctrl.operations.pwc_signal(\n",
    "        values=qctrl.operations.bounded_optimization_variable(\n",
    "            count=segments_count,\n",
    "            lower_bound=-alpha_max,\n",
    "            upper_bound=alpha_max,\n",
    "        ),\n",
    "        duration=duration,\n",
    "        name=\"$\\\\alpha$\",\n",
    "    )\n",
    "\n",
    "    # Create filtered signal\n",
    "    sinc_filter = qctrl.operations.sinc_integral_function(sinc_cutoff_frequency)\n",
    "    alpha_filtered = qctrl.operations.convolve_pwc(\n",
    "        pwc=alpha,\n",
    "        kernel_integral=sinc_filter,\n",
    "    )\n",
    "    rediscretized_alpha = qctrl.operations.discretize_stf(\n",
    "        stf=alpha_filtered,\n",
    "        duration=duration,\n",
    "        segments_count=256,\n",
    "        name=\"$L(\\\\alpha)$\",\n",
    "    )\n",
    "\n",
    "    # Create control term\n",
    "    control_sigma_x = qctrl.operations.pwc_operator(\n",
    "        signal=rediscretized_alpha,\n",
    "        operator=sigma_x / 2,\n",
    "    )\n",
    "\n",
    "    # Create dephasing noise term\n",
    "    dephasing = qctrl.operations.constant_pwc_operator(\n",
    "        duration=duration, operator=sigma_z / duration\n",
    "    )\n",
    "\n",
    "    # Create infidelity\n",
    "    infidelity = qctrl.operations.infidelity_pwc(\n",
    "        hamiltonian=control_sigma_x,\n",
    "        target_operator=qctrl.operations.target(sigma_x),\n",
    "        noise_operators=[dephasing],\n",
    "        name=\"infidelity\",\n",
    "    )\n",
    "\n",
    "# Run the optimization\n",
    "result = qctrl.functions.calculate_optimization(\n",
    "    graph=graph,\n",
    "    cost_node_name=\"infidelity\",\n",
    "    output_node_names=[\"$\\\\alpha$\", \"$L(\\\\alpha)$\"],\n",
    "    optimization_count=1,\n",
    ")\n",
    "\n",
    "print(f\"Cost: {result.cost}\")\n",
    "\n",
    "# Visualize controls\n",
    "print(\"\\n\\n\")\n",
    "plot_controls(plt.figure(), result.output)\n",
    "plt.show()"
   ]
  },
  {
   "cell_type": "markdown",
   "metadata": {},
   "source": [
    "Unfiltered (top) and filtered (bottom) control amplitudes as a function of time.\n",
    "\n",
    "In this example, we re-discretized the filtered pulse to plot it as a finely-grained piecewise-constant plot that can be compared to its unfiltered counterpart. The re-discretization can be skipped if plotting the filtered controls is not desired, as exemplified in the [Optimization user guide](https://docs.q-ctrl.com/boulder-opal/user-guides/optimization)."
   ]
  },
  {
   "cell_type": "markdown",
   "metadata": {},
   "source": [
    "## Optimization with band-limited pulses\n",
    "\n",
    "In this section, we show how to optimize a system in which the rates of change of the controls are limited. Using this constraint can help to ensure that optimized controls can be reliably implemented on physical hardware (which may be subject to bandwidth limits, for example). We consider a standard single-qubit system subject to dephasing noise:\n",
    "\n",
    "\\begin{align*}\n",
    "H(t) &= \\frac{1}{2} \\alpha_1(t)\\sigma_{x} + \\frac{1}{2} \\alpha_2(t)\\sigma_{z} + \\beta(t) \\sigma_{z}  \\,, \n",
    "\\end{align*}\n",
    "\n",
    "where $\\alpha_1(t)$ and $\\alpha_2(t)$ are real time-dependent pulses and $\\beta(t)$ is a small, slowly-varying stochastic dephasing noise process. In this case, we enforce a maximum slew rate constraint on $\\alpha_k(t)$ to cap the variation between adjacent segment values."
   ]
  },
  {
   "cell_type": "markdown",
   "metadata": {},
   "source": [
    "### Band limitation via bounded slew rates\n",
    "\n",
    "To implement a bounded slew rate, we create signal values using a BOULDER OPAL helper function, `anchored_difference_bounded_variables`. This function produces values that are constrained to satisfy the slew rate requirement, and in addition are anchored to zero at the start and end of the gate."
   ]
  },
  {
   "cell_type": "code",
   "execution_count": 3,
   "metadata": {},
   "outputs": [
    {
     "name": "stdout",
     "output_type": "stream",
     "text": [
      "Your task calculate_optimization has started.\n",
      "Your task calculate_optimization has completed in 53s.\n",
      "Cost: 1.8161949770245552e-12\n",
      "\n",
      "\n",
      "\n"
     ]
    },
    {
     "data": {
      "image/png": "[encoded data removed]",
      "text/plain": [
       "<Figure size 504x288 with 2 Axes>"
      ]
     },
     "metadata": {
      "needs_background": "light"
     },
     "output_type": "display_data"
    }
   ],
   "source": [
    "# Define physical constraints\n",
    "alpha_max = 2 * np.pi * 8.5e6  # Hz\n",
    "max_slew_rate = alpha_max / 10\n",
    "segments_count = 250\n",
    "duration = 400e-9  # s\n",
    "\n",
    "with qctrl.create_graph() as graph:\n",
    "    # Create alpha_1(t) signal\n",
    "    alpha_1 = qctrl.operations.pwc_signal(\n",
    "        values=qctrl.operations.anchored_difference_bounded_variables(\n",
    "            count=segments_count,\n",
    "            lower_bound=-alpha_max,\n",
    "            upper_bound=alpha_max,\n",
    "            difference_bound=max_slew_rate,\n",
    "        ),\n",
    "        duration=duration,\n",
    "        name=\"$\\\\alpha_1$\",\n",
    "    )\n",
    "\n",
    "    # Create alpha_2(t) signal\n",
    "    alpha_2 = qctrl.operations.pwc_signal(\n",
    "        values=qctrl.operations.anchored_difference_bounded_variables(\n",
    "            count=segments_count,\n",
    "            lower_bound=-alpha_max,\n",
    "            upper_bound=alpha_max,\n",
    "            difference_bound=max_slew_rate,\n",
    "        ),\n",
    "        duration=duration,\n",
    "        name=\"$\\\\alpha_2$\",\n",
    "    )\n",
    "\n",
    "    # Create control terms\n",
    "    control_x = qctrl.operations.pwc_operator(\n",
    "        signal=alpha_1,\n",
    "        operator=sigma_x / 2,\n",
    "    )\n",
    "    control_z = qctrl.operations.pwc_operator(\n",
    "        signal=alpha_2,\n",
    "        operator=sigma_z / 2,\n",
    "    )\n",
    "\n",
    "    # Create dephasing noise term\n",
    "    dephasing = qctrl.operations.constant_pwc_operator(\n",
    "        duration=duration, operator=sigma_z / duration\n",
    "    )\n",
    "\n",
    "    # Create infidelity\n",
    "    infidelity = qctrl.operations.infidelity_pwc(\n",
    "        hamiltonian=qctrl.operations.pwc_sum([control_x, control_z]),\n",
    "        target_operator=qctrl.operations.target(sigma_y),\n",
    "        noise_operators=[dephasing],\n",
    "        name=\"infidelity\",\n",
    "    )\n",
    "\n",
    "# Run the optimization\n",
    "result = qctrl.functions.calculate_optimization(\n",
    "    graph=graph,\n",
    "    cost_node_name=\"infidelity\",\n",
    "    output_node_names=[\"$\\\\alpha_1$\", \"$\\\\alpha_2$\"],\n",
    "    optimization_count=10,\n",
    ")\n",
    "\n",
    "print(f\"Cost: {result.cost}\")\n",
    "\n",
    "# Visualize optimized pulses\n",
    "print(\"\\n\\n\")\n",
    "plot_controls(plt.figure(), result.output)\n",
    "plt.show()"
   ]
  },
  {
   "cell_type": "markdown",
   "metadata": {},
   "source": [
    "Pulse amplitudes obtained from a bound slew optimization for $\\alpha_1(t)$ (top) and $\\alpha_2(t)$ (bottom)."
   ]
  },
  {
   "cell_type": "markdown",
   "metadata": {},
   "source": [
    "### Band limitation via discretized smooth functions\n",
    "\n",
    "An alternative approach to band limitation is to apply a filter that removes the higher frequencies from the signal, and then convert the signal again into a piecewise constant pulse. If we additionally multiply the values of the signal by an envelope function that goes to zero at its extremities, we effectively anchor the beginning and the end of the pulse at zero. In the code cell below, we use this approach to optimize a pulse in the same physical setting as the previous subsection."
   ]
  },
  {
   "cell_type": "code",
   "execution_count": 4,
   "metadata": {},
   "outputs": [
    {
     "name": "stdout",
     "output_type": "stream",
     "text": [
      "Your task calculate_optimization has completed in 4s.\n",
      "Cost: 1.0317142681413011e-10\n",
      "\n",
      "\n",
      "\n"
     ]
    },
    {
     "data": {
      "image/png": "[encoded data removed]",
      "text/plain": [
       "<Figure size 504x288 with 2 Axes>"
      ]
     },
     "metadata": {
      "needs_background": "light"
     },
     "output_type": "display_data"
    }
   ],
   "source": [
    "# Define physical constraints\n",
    "alpha_max = 2 * np.pi * 8.5e6  # Hz\n",
    "segments_count = 75\n",
    "duration = 400e-9  # s\n",
    "cutoff_frequency = segments_count / duration / 4\n",
    "\n",
    "envelope_function = 1 - np.abs(np.linspace(-1.0, 1.0, segments_count + 2)[1:-1])\n",
    "\n",
    "with qctrl.create_graph() as graph:\n",
    "    # Create alpha_1(t) signal\n",
    "    alpha_1_values = qctrl.operations.bounded_optimization_variable(\n",
    "        count=segments_count,\n",
    "        lower_bound=-alpha_max,\n",
    "        upper_bound=alpha_max,\n",
    "    )\n",
    "\n",
    "    anchored_alpha_1_values = alpha_1_values * envelope_function\n",
    "\n",
    "    alpha_1 = qctrl.operations.pwc_signal(\n",
    "        values=anchored_alpha_1_values,\n",
    "        duration=duration,\n",
    "    )\n",
    "\n",
    "    # Create alpha_2(t) signal\n",
    "    alpha_2_values = qctrl.operations.bounded_optimization_variable(\n",
    "        count=segments_count,\n",
    "        lower_bound=-alpha_max,\n",
    "        upper_bound=alpha_max,\n",
    "    )\n",
    "\n",
    "    anchored_alpha_2_values = alpha_2_values * envelope_function\n",
    "\n",
    "    alpha_2 = qctrl.operations.pwc_signal(\n",
    "        values=anchored_alpha_2_values,\n",
    "        duration=duration,\n",
    "    )\n",
    "\n",
    "    # Remove higher frequencies\n",
    "    sinc_filter = qctrl.operations.sinc_integral_function(cutoff_frequency)\n",
    "    alpha_1_filtered = qctrl.operations.convolve_pwc(\n",
    "        pwc=alpha_1,\n",
    "        kernel_integral=sinc_filter,\n",
    "    )\n",
    "    alpha_2_filtered = qctrl.operations.convolve_pwc(\n",
    "        pwc=alpha_2,\n",
    "        kernel_integral=sinc_filter,\n",
    "    )\n",
    "\n",
    "    # Re-discretize signal\n",
    "    rediscretized_alpha_1 = qctrl.operations.discretize_stf(\n",
    "        stf=alpha_1_filtered,\n",
    "        duration=duration,\n",
    "        segments_count=segments_count,\n",
    "        name=\"$\\\\alpha_1$\",\n",
    "    )\n",
    "    rediscretized_alpha_2 = qctrl.operations.discretize_stf(\n",
    "        stf=alpha_2_filtered,\n",
    "        duration=duration,\n",
    "        segments_count=segments_count,\n",
    "        name=\"$\\\\alpha_2$\",\n",
    "    )\n",
    "\n",
    "    # Create control terms\n",
    "    control_x = qctrl.operations.pwc_operator(\n",
    "        signal=rediscretized_alpha_1,\n",
    "        operator=sigma_x / 2,\n",
    "    )\n",
    "    control_z = qctrl.operations.pwc_operator(\n",
    "        signal=rediscretized_alpha_2,\n",
    "        operator=sigma_z / 2,\n",
    "    )\n",
    "\n",
    "    # Create dephasing noise term\n",
    "    dephasing = qctrl.operations.constant_pwc_operator(\n",
    "        duration=duration, operator=sigma_z / duration\n",
    "    )\n",
    "\n",
    "    # Create infidelity\n",
    "    infidelity = qctrl.operations.infidelity_pwc(\n",
    "        hamiltonian=qctrl.operations.pwc_sum([control_x, control_z]),\n",
    "        target_operator=qctrl.operations.target(sigma_y),\n",
    "        noise_operators=[dephasing],\n",
    "        name=\"infidelity\",\n",
    "    )\n",
    "\n",
    "# Run the optimization\n",
    "result = qctrl.functions.calculate_optimization(\n",
    "    graph=graph,\n",
    "    cost_node_name=\"infidelity\",\n",
    "    output_node_names=[\"$\\\\alpha_1$\", \"$\\\\alpha_2$\"],\n",
    "    optimization_count=5,\n",
    ")\n",
    "\n",
    "print(f\"Cost: {result.cost}\")\n",
    "\n",
    "# Visualize optimized pulses\n",
    "print(\"\\n\\n\")\n",
    "plot_controls(plt.figure(), result.output)\n",
    "plt.show()"
   ]
  },
  {
   "cell_type": "markdown",
   "metadata": {},
   "source": [
    "Pulse amplitudes obtained from a band-limited optimization with anchored filtered pulses for $\\alpha_1(t)$ (top) and $\\alpha_2(t)$ (bottom)."
   ]
  },
  {
   "cell_type": "markdown",
   "metadata": {},
   "source": [
    "## Optimization using arbitrary basis functions\n",
    "\n",
    "In many situations, using an appropriate set of basis functions can greatly reduce the dimensionality of the search space in an optimization problem. In **C**hopped **RA**ndom **B**asis (CRAB) optimization, for example, pulses are defined via optimizable linear combinations from the basis functions set. Traditionally, a [randomized Fourier basis](https://journals.aps.org/prl/abstract/10.1103/PhysRevLett.106.190501) is used, although the same technique has also seen success with other bases, for example [Slepian functions](https://journals.aps.org/pra/abstract/10.1103/PhysRevA.97.062346). In this example, we perform a CRAB optimization (in the Fourier basis) of a qutrit system in which we effect a single-qubit gate while minimizing leakage out of the computational subspace. The system is described by the following Hamiltonian:\n",
    "\n",
    "\\begin{align*}\n",
    "H(t) = & \\frac{\\chi}{2} (a^\\dagger)^2 a^2 + \\gamma(t) a + \\gamma^*(t) a^\\dagger + \\frac{\\alpha(t)}{2} a^\\dagger a \\,, \n",
    "\\end{align*}\n",
    "\n",
    "where $\\chi$ is the anharmonicity, $\\gamma(t)$ and $\\alpha(t)$ are, respectively, complex and real time-dependent pulses, and $a = |0 \\rangle \\langle 1 | + \\sqrt{2} |1 \\rangle \\langle 2 |$.\n",
    "\n",
    "BOULDER OPAL provides a convenience function for creating optimizable signals in a Fourier basis, suitable for use in a CRAB optimization. Other bases are supported by the framework, but require the user to manually provide operations that compute the appropriate linear combinations."
   ]
  },
  {
   "cell_type": "code",
   "execution_count": 5,
   "metadata": {},
   "outputs": [
    {
     "name": "stdout",
     "output_type": "stream",
     "text": [
      "Your task calculate_optimization has completed in 4s.\n",
      "Cost: 1.0777823078456095e-11\n",
      "\n",
      "\n",
      "\n"
     ]
    },
    {
     "data": {
      "image/png": "[encoded data removed]",
      "text/plain": [
       "<Figure size 504x432 with 3 Axes>"
      ]
     },
     "metadata": {
      "needs_background": "light"
     },
     "output_type": "display_data"
    }
   ],
   "source": [
    "# Define standard matrices\n",
    "a = np.array(\n",
    "    [[0.0, 1.0, 0.0], [0.0, 0.0, np.sqrt(2)], [0.0, 0.0, 0.0]], dtype=np.complex\n",
    ")\n",
    "ada = np.matmul(a.T, a)\n",
    "ad2a2 = np.matmul(np.matmul(a.T, a.T), np.matmul(a, a))\n",
    "hadamard = np.array(\n",
    "    [[1.0, 1.0, 0], [1.0, -1.0, 0], [0, 0, 0]], dtype=np.complex\n",
    ") / np.sqrt(2)\n",
    "\n",
    "# Define physical constraints\n",
    "chi = 2 * np.pi * -300.0 * 1e6  # Hz\n",
    "gamma_max = 2 * np.pi * 30e6  # Hz\n",
    "alpha_max = 2 * np.pi * 30e6  # Hz\n",
    "segments_count = 200\n",
    "duration = 100e-9  # s\n",
    "\n",
    "with qctrl.create_graph() as graph:\n",
    "    # Create gamma(t) signal in Fourier bases. To demonstrate the full\n",
    "    # flexibility, we show how to use both randomized and optimizable\n",
    "    # basis elements. Elements with fixed frequencies may be chosen too.\n",
    "    gamma_i = qctrl.operations.real_fourier_pwc_signal(\n",
    "        duration=duration,\n",
    "        segments_count=segments_count,\n",
    "        randomized_frequencies_count=10,\n",
    "    )\n",
    "    gamma_q = qctrl.operations.real_fourier_pwc_signal(\n",
    "        duration=duration,\n",
    "        segments_count=segments_count,\n",
    "        randomized_frequencies_count=10,\n",
    "    )\n",
    "    gamma = qctrl.operations.tensor_pwc(\n",
    "        gamma_i.durations,\n",
    "        qctrl.operations.complex_value(real=gamma_i.values, imag=gamma_q.values)\n",
    "        * gamma_max,\n",
    "        name=\"$\\\\gamma$\",\n",
    "    )\n",
    "\n",
    "    # Create alpha(t) signal\n",
    "    alpha = qctrl.operations.real_fourier_pwc_signal(\n",
    "        duration=duration,\n",
    "        segments_count=segments_count,\n",
    "        initial_coefficient_lower_bound=-alpha_max,\n",
    "        initial_coefficient_upper_bound=alpha_max,\n",
    "        optimizable_frequencies_count=10,\n",
    "        name=\"$\\\\alpha$\",\n",
    "    )\n",
    "\n",
    "    # Create anharmonicity term\n",
    "    anharmonicity = qctrl.operations.constant_pwc_operator(\n",
    "        duration=duration,\n",
    "        operator=ad2a2 * chi / 2,\n",
    "    )\n",
    "\n",
    "    # Create drive term\n",
    "    drive = qctrl.operations.pwc_operator_hermitian_part(\n",
    "        qctrl.operations.pwc_operator(\n",
    "            operator=2 * a,\n",
    "            signal=gamma,\n",
    "        )\n",
    "    )\n",
    "\n",
    "    # Create clock shift term\n",
    "    shift = qctrl.operations.pwc_operator(\n",
    "        operator=ada / 2,\n",
    "        signal=alpha,\n",
    "    )\n",
    "\n",
    "    # Create infidelity\n",
    "    infidelity = qctrl.operations.infidelity_pwc(\n",
    "        hamiltonian=qctrl.operations.pwc_sum([anharmonicity, drive, shift]),\n",
    "        target_operator=qctrl.operations.target(operator=hadamard),\n",
    "        name=\"infidelity\",\n",
    "    )\n",
    "\n",
    "# Run the optimization\n",
    "result = qctrl.functions.calculate_optimization(\n",
    "    graph=graph,\n",
    "    cost_node_name=\"infidelity\",\n",
    "    output_node_names=[\"$\\\\gamma$\", \"$\\\\alpha$\"],\n",
    "    optimization_count=5,\n",
    ")\n",
    "\n",
    "print(f\"Cost: {result.cost}\")\n",
    "\n",
    "# Visualize optimized pulses\n",
    "print(\"\\n\\n\")\n",
    "plot_controls(plt.figure(), result.output)\n",
    "plt.show()"
   ]
  },
  {
   "cell_type": "markdown",
   "metadata": {},
   "source": [
    "The upper panel shows the amplitude of the control term $\\alpha(t)$. Below it, we have the modulus (middle) and angle (bottom) of the optimized complex pulse $\\gamma(t)$."
   ]
  }
 ],
 "metadata": {
  "kernelspec": {
   "display_name": "Python 3",
   "language": "python",
   "name": "python3"
  },
  "language_info": {
   "codemirror_mode": {
    "name": "ipython",
    "version": 3
   },
   "file_extension": ".py",
   "mimetype": "text/x-python",
   "name": "python",
   "nbconvert_exporter": "python",
   "pygments_lexer": "ipython3",
   "version": "3.7.6"
  },
  "toc": {
   "base_numbering": 1,
   "nav_menu": {},
   "number_sections": false,
   "sideBar": true,
   "skip_h1_title": true,
   "title_cell": "Table of Contents",
   "title_sidebar": "Contents",
   "toc_cell": true,
   "toc_position": {},
   "toc_section_display": false,
   "toc_window_display": false
  }
 },
 "nbformat": 4,
 "nbformat_minor": 4
}
