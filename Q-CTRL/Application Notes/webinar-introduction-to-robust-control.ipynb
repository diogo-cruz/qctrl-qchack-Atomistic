{
 "cells": [
  {
   "cell_type": "markdown",
   "metadata": {},
   "source": [
    "# Webinar: Introduction to robust control\n",
    "\n",
    "**A step-by-step introduction on how to create and analyze robust controls**\n",
    "\n",
    "Here we introduce the essential concepts behind robust control. We create a model of noise on a quantum computer and simulate its performance. Then we show how to create controls that are robust to this noise process. We demonstrate the control's robustness with a simulation. Finally, we provide a geometric explanation of how these controls work."
   ]
  },
  {
   "cell_type": "markdown",
   "metadata": {},
   "source": [
    "## Imports and initialization"
   ]
  },
  {
   "cell_type": "code",
   "execution_count": 1,
   "metadata": {},
   "outputs": [],
   "source": [
    "import matplotlib.pyplot as plt\n",
    "import numpy as np\n",
    "import qctrlvisualizer as qv\n",
    "from attr import asdict\n",
    "\n",
    "from qctrl import Qctrl\n",
    "\n",
    "# Starting a session with the API\n",
    "qctrl = Qctrl()"
   ]
  },
  {
   "cell_type": "code",
   "execution_count": 2,
   "metadata": {},
   "outputs": [],
   "source": [
    "# Define standard matrices\n",
    "identity = np.array([[1.0, 0.0], [0.0, 1.0]], dtype=np.complex)\n",
    "sigma_x = np.array([[0.0, 1.0], [1.0, 0.0]], dtype=np.complex)\n",
    "sigma_y = np.array([[0.0, -1j], [1j, 0.0]], dtype=np.complex)\n",
    "sigma_z = np.array([[1.0, 0.0], [0.0, -1.0]], dtype=np.complex)\n",
    "sigma_m = np.array([[0.0, 1.0], [0.0, 0.0]], dtype=np.complex)\n",
    "sigmas = [sigma_x, sigma_y, sigma_z]\n",
    "sigma_names = [\"X\", \"Y\", \"Z\"]\n",
    "not_gate = np.array([[0.0, -1.0], [1.0, 0.0]])\n",
    "\n",
    "# Plotting and formatting methods\n",
    "plt.style.use(qv.get_qctrl_style())\n",
    "\n",
    "\n",
    "def plot_simulation_trajectories(figure, times, coherent_samples, noisy_trajectories):\n",
    "    ideal_bloch_sphere_coords = np.array(\n",
    "        [\n",
    "            [\n",
    "                np.real(\n",
    "                    np.dot(\n",
    "                        sample.state_vector.conj(),\n",
    "                        np.matmul(sigma, sample.state_vector),\n",
    "                    )\n",
    "                )\n",
    "                for sigma in sigmas\n",
    "            ]\n",
    "            for sample in coherent_samples\n",
    "        ]\n",
    "    )\n",
    "    noisy_bloch_sphere_coords = np.array(\n",
    "        [\n",
    "            [\n",
    "                [\n",
    "                    np.real(\n",
    "                        np.dot(\n",
    "                            sample.state_vector.conj(),\n",
    "                            np.matmul(sigma, sample.state_vector),\n",
    "                        )\n",
    "                    )\n",
    "                    for sigma in sigmas\n",
    "                ]\n",
    "                for sample in trajectory.samples\n",
    "            ]\n",
    "            for trajectory in noisy_trajectories\n",
    "        ]\n",
    "    )\n",
    "    figure.set_figheight(6.0)\n",
    "    figure.set_figwidth(7.0)\n",
    "    axes = figure.subplots(nrows=3, ncols=1, sharex=True, sharey=False, squeeze=False)[\n",
    "        :, 0\n",
    "    ]\n",
    "    for a in range(3):\n",
    "        axes[a].set_ylabel(sigma_names[a])\n",
    "        axes[a].set_ylim([-1.1, 1.1])\n",
    "        for t in range(noisy_bloch_sphere_coords.shape[0]):\n",
    "            axes[a].plot(\n",
    "                times * 1e6,\n",
    "                noisy_bloch_sphere_coords[t, :, a],\n",
    "                \"--\",\n",
    "                color=\"#680CE9\",\n",
    "                alpha=0.25,\n",
    "            )\n",
    "        axes[a].plot(times * 1e6, ideal_bloch_sphere_coords[:, a], \"-\", color=\"#680CE9\")\n",
    "    axes[2].set_xlabel(\"Time ($\\mu$s)\")\n",
    "    axes[0].set_title(\"Bloch sphere coordinates\")\n",
    "\n",
    "\n",
    "def plot_simulation_noise_directions(figure, times, coherent_samples):\n",
    "    figure.set_figheight(6.0)\n",
    "    figure.set_figwidth(7.0)\n",
    "    noise_operator_directions = np.array(\n",
    "        [\n",
    "            [\n",
    "                0.5\n",
    "                * np.real(\n",
    "                    np.trace(\n",
    "                        np.matmul(\n",
    "                            sigma,\n",
    "                            np.matmul(\n",
    "                                sample.evolution_operator.conj().T,\n",
    "                                np.matmul(sigma_z, sample.evolution_operator),\n",
    "                            ),\n",
    "                        )\n",
    "                    )\n",
    "                )\n",
    "                for sigma in sigmas\n",
    "            ]\n",
    "            for sample in coherent_samples\n",
    "        ]\n",
    "    )\n",
    "    axes = figure.subplots(nrows=3, ncols=1, sharex=True, sharey=False, squeeze=False)[\n",
    "        :, 0\n",
    "    ]\n",
    "    for a in range(3):\n",
    "        axes[a].set_ylabel(sigma_names[a])\n",
    "        axes[a].set_ylim([-1.1, 1.1])\n",
    "        axes[a].plot(\n",
    "            robust_point_times * 1e6,\n",
    "            noise_operator_directions[:, a],\n",
    "            \"-\",\n",
    "            color=\"#680CE9\",\n",
    "        )\n",
    "        axes[a].fill_between(\n",
    "            robust_point_times * 1e6,\n",
    "            0,\n",
    "            noise_operator_directions[:, a],\n",
    "            color=\"#680CE9\",\n",
    "            alpha=0.25,\n",
    "        )\n",
    "    axes[2].set_xlabel(\"Time ($\\mu$s)\")\n",
    "    axes[0].set_title(\"Bloch sphere directions\")\n",
    "\n",
    "\n",
    "def plot_noise_spectral_density(figure, nsd_samples):\n",
    "    frequencies = np.array([sample[\"frequency\"] for sample in nsd_samples])\n",
    "    powers = np.array([sample[\"power\"] for sample in nsd_samples])\n",
    "    axes = figure.subplots(nrows=1, ncols=1, sharex=True, sharey=False, squeeze=False)[\n",
    "        0, 0\n",
    "    ]\n",
    "    axes.plot(frequencies / 1e6, powers * 1e6)\n",
    "    axes.fill_between(frequencies / 1e6, 0, powers * 1e6, alpha=0.25)\n",
    "    axes.set_xlabel(\"Frequency (MHz)\")\n",
    "    axes.set_ylabel(\"Power density (1/MHz)\")\n",
    "    axes.set_title(\"Dephasing noise spectral density\")\n",
    "\n",
    "\n",
    "def pm_format(average, std):\n",
    "    return \"{:.4f}\".format(average) + \"+/-\" + \"{:.4f}\".format(std)\n",
    "\n",
    "\n",
    "def bandwidth_limited_pwc_signal(\n",
    "    name, duration, segment_count, max_rabi_rate, cutoff_frequency\n",
    "):\n",
    "\n",
    "    # create a raw pwc_signal where the amplitude of each segment is an optimization variables\n",
    "    raw_signal = qctrl.operations.pwc_signal(\n",
    "        values=qctrl.operations.bounded_optimization_variable(\n",
    "            count=segment_count, lower_bound=-max_rabi_rate, upper_bound=max_rabi_rate\n",
    "        ),\n",
    "        duration=duration,\n",
    "    )\n",
    "\n",
    "    # pass the signal through a bandwidth limited filter\n",
    "    filtered_signal = qctrl.operations.convolve_pwc(\n",
    "        raw_signal, qctrl.operations.sinc_integral_function(cutoff_frequency)\n",
    "    )\n",
    "\n",
    "    # resample the smooth filtered signal as a pwc_signal\n",
    "    final_signal = qctrl.operations.discretize_stf(\n",
    "        stf=filtered_signal,\n",
    "        duration=robust_duration,\n",
    "        segments_count=segment_count,\n",
    "        name=name,\n",
    "    )\n",
    "\n",
    "    return final_signal"
   ]
  },
  {
   "cell_type": "markdown",
   "metadata": {},
   "source": [
    "## Single qubit with dephasing noise\n",
    "\n",
    "To better understand how noise affects a quantum computer we are going to create a simulation.\n",
    "\n",
    "We are going to look at one of the simplest operations on a quantum computer applying a NOT gate to an individual superconducting qubit. We are also going to assume there is some noisy magnetic fields in the environment that is having a negative effect on its operation.\n",
    "\n",
    "To start we write down a Hamiltonian, which will mathematically describe this physical system:\n",
    "\n",
    "\\begin{align*}\n",
    "H_{\\rm total}(t) = & H_{\\rm control}(t) + H_{\\rm noise}(t).\n",
    "\\end{align*}"
   ]
  },
  {
   "cell_type": "markdown",
   "metadata": {},
   "source": [
    "### Control: Standard microwave pulse that creates a NOT Gate\n",
    "\n",
    "The control part of the Hamiltonian is:\n",
    "\n",
    "\\begin{align}\n",
    "H_{\\rm control}(t) = \\Omega_{\\rm I}(t) \\sigma_{x}/2 + \\Omega_{\\rm Q}(t) \\sigma_{y}/2.\n",
    "\\end{align}\n",
    "\n",
    "Where $\\Omega_I(t)$ and $\\Omega_Q(t)$ are the time-dependent Rabi rate created by the IQ modulated microwave pulse applied to control the qubits state, which couples to the qubit state through the $\\sigma_k$ operators.\n",
    "\n",
    "We are trying to apply a NOT gate to the qubit. The simplest way to do this is to apply a Q modulated microwave pulse at the maximum Rabi rate $\\Omega_{\\rm Q}(t) = \\Omega_{\\rm max}$ for a duration of $\\pi/\\Omega_{\\rm max}$, while the I modulated microwave pulse is set to zero $\\Omega_{\\rm I}(t) = 0$. We will call this the standard NOT gate. "
   ]
  },
  {
   "cell_type": "code",
   "execution_count": 3,
   "metadata": {},
   "outputs": [
    {
     "data": {
      "image/png": "[encoded data removed]",
      "text/plain": [
       "<Figure size 504x144 with 1 Axes>"
      ]
     },
     "metadata": {
      "needs_background": "light"
     },
     "output_type": "display_data"
    }
   ],
   "source": [
    "omega_max = 2 * np.pi * 1e6  # Hz\n",
    "standard_duration = np.pi / omega_max  # s\n",
    "\n",
    "standard_pulse_segments = [\n",
    "    qctrl.types.ComplexSegmentInput(duration=standard_duration, value=omega_max),\n",
    "]\n",
    "\n",
    "plot_segments = {\n",
    "    \"$\\Omega_Q$\": [\n",
    "        {\"duration\": segment.duration, \"value\": segment.value}\n",
    "        for segment in standard_pulse_segments\n",
    "    ]\n",
    "}\n",
    "\n",
    "qv.plot_controls(plt.figure(), plot_segments)\n",
    "plt.show()"
   ]
  },
  {
   "cell_type": "markdown",
   "metadata": {},
   "source": [
    "### Noise: Magnetic field with a 1/f spectrum\n",
    "\n",
    "The noise part of the Hamiltonian is:\n",
    "\\begin{align}\n",
    "H_{\\rm noise}(t) = \\eta(t) \\sigma_z / 2.\n",
    "\\end{align}\n",
    "\n",
    "We treat the noisy magnetic field environment as a classical noise process $\\eta(t)$ coupled to the quantum system with a noise operator $\\sigma_z$. This approximate model is often reasonable for real quantum computing hardware when the decoherence time (T2) is the limiting factor, being much shorter than the relaxation time (T1) of the qubits. \n",
    "\n",
    "The noise process $\\eta(t)$ is sampled from a noise spectral density that follows a power law: \n",
    "\\begin{align}\n",
    "S_{\\eta}(\\omega) = \\frac{\\omega_{\\rm cutoff}^{a-1}}{\\omega^a + \\omega_{\\rm cutoff}^a},\n",
    "\\end{align}\n",
    "Where $\\omega_{\\rm cutoff}$ is the cutoff frequency and $a$ is the order of the power law. It is common for  magnetic field environments to follow 1/f power law ($a=1$) where low frequency noise dominates. \n",
    "\n",
    "A more complete description of the noise in the system would include a full quantum mechanical model of the environment, but such a model would be too complex to simulate on a classical computer and hence we must choose an appropriate approximation.\n",
    "\n",
    "*See Also:* For a comprehensive introduction to modeling quantum systems with noisy enviroments see [The Theory of Open Quantum Systems by Breuer and Petruccione](https://www.amazon.com.au/Theory-Open-Quantum-Systems/dp/0199213909)\n",
    "\n",
    "Different physical processes will couple to the quantum computer through different noise operators. The key to getting a good simulation is to identify the noises that most significantly affect your qubits. \n",
    "\n",
    "*See Also:* BOULDER OPAL's [noise characterization feature](https://docs.q-ctrl.com/boulder-opal/user-guides/noise-characterization-and-reconstruction) can be used to identifying and quantifying noise affecting quantum devices."
   ]
  },
  {
   "cell_type": "code",
   "execution_count": 4,
   "metadata": {},
   "outputs": [
    {
     "data": {
      "image/png": "[encoded data removed]",
      "text/plain": [
       "<Figure size 432x288 with 1 Axes>"
      ]
     },
     "metadata": {
      "needs_background": "light"
     },
     "output_type": "display_data"
    }
   ],
   "source": [
    "def power_spectrum(frequencies, frequency_cutoff, power):\n",
    "    return frequency_cutoff ** (power - 1) / (\n",
    "        frequencies ** power + frequency_cutoff ** power\n",
    "    )\n",
    "\n",
    "\n",
    "frequencies = np.linspace(0, 2.0e4, 1000)\n",
    "power_densities = 4e10 * power_spectrum(frequencies, 1.0e2, 1.0)\n",
    "nsd_sampled_points = [\n",
    "    {\"frequency\": f, \"power\": p, \"power_uncertainty\": 0.0, \"weight\": 0.0}\n",
    "    for f, p in zip(frequencies, power_densities)\n",
    "]\n",
    "\n",
    "plot_noise_spectral_density(plt.figure(), nsd_sampled_points)"
   ]
  },
  {
   "cell_type": "markdown",
   "metadata": {},
   "source": [
    "## Simulation of standard NOT Gate\n",
    "\n",
    "Now that we have a Hamiltonian we can create a simulation. The control we have is a `shift` with $\\sigma_x$ as the `operator` and $\\Omega(t)$ is the `pulse`. The noise we have is an `additive noise` with $\\sigma_z$ as the `operator` and  $S_\\eta(\\omega)$ is the `linear_piecewise_noise_spectral_density`.\n",
    "\n",
    "*See also:* The [Setting up quantum systems](https://docs.q-ctrl.com/boulder-opal/user-guides/setting-up-quantum-systems) user guide has detailed instructions on how to translate a Hamiltonian to a the Q-CTRL model of a system."
   ]
  },
  {
   "cell_type": "code",
   "execution_count": 5,
   "metadata": {},
   "outputs": [],
   "source": [
    "standard_control = qctrl.types.colored_noise_simulation.Shift(\n",
    "    control=standard_pulse_segments, operator=sigma_y / 2\n",
    ")\n",
    "\n",
    "noise_drift = qctrl.types.colored_noise_simulation.Drift(\n",
    "    operator=sigma_z / 2.0,\n",
    "    noise=qctrl.types.colored_noise_simulation.Noise(\n",
    "        power_densities=power_densities,\n",
    "        frequency_step=frequencies[1],\n",
    "        time_domain_sample_count=1000,\n",
    "    ),\n",
    ")\n",
    "\n",
    "target = qctrl.types.TargetInput(operator=not_gate)"
   ]
  },
  {
   "cell_type": "markdown",
   "metadata": {},
   "source": [
    "Now we can create a simulation of the qubit in a noisy environment.\n",
    "\n",
    "*See also:* The [simulation user guide](https://docs.q-ctrl.com/boulder-opal/user-guides/simulation) explains how to create multiple types of simulations."
   ]
  },
  {
   "cell_type": "code",
   "execution_count": 6,
   "metadata": {},
   "outputs": [
    {
     "name": "stderr",
     "output_type": "stream",
     "text": [
      "100%|██████████| 100/100 [00:07<00:00, 13.09it/s]\n"
     ]
    }
   ],
   "source": [
    "standard_point_times = np.linspace(0, standard_duration, 100)\n",
    "\n",
    "standard_noisy_simulation_result = qctrl.functions.calculate_colored_noise_simulation(\n",
    "    duration=standard_duration,\n",
    "    sample_times=standard_point_times,\n",
    "    shifts=[standard_control],\n",
    "    drifts=[noise_drift],\n",
    "    trajectory_count=5,\n",
    "    initial_state_vector=np.array([1.0, 0.0]),\n",
    "    target=target,\n",
    ")"
   ]
  },
  {
   "cell_type": "markdown",
   "metadata": {},
   "source": [
    "For comparison we can also create a simulation of a system with no noise"
   ]
  },
  {
   "cell_type": "code",
   "execution_count": 7,
   "metadata": {},
   "outputs": [
    {
     "name": "stderr",
     "output_type": "stream",
     "text": [
      "100%|██████████| 100/100 [00:03<00:00, 32.71it/s]\n"
     ]
    }
   ],
   "source": [
    "standard_ideal_simulation_result = qctrl.functions.calculate_coherent_simulation(\n",
    "    duration=standard_duration,\n",
    "    sample_times=standard_point_times,\n",
    "    shifts=[standard_control],\n",
    "    initial_state_vector=np.array([1.0, 0.0]),\n",
    "    target=target,\n",
    ")"
   ]
  },
  {
   "cell_type": "markdown",
   "metadata": {},
   "source": [
    "### Noisy trajectories of the qubit state\n",
    "\n",
    "We can display the noisy trajectories of the qubit using the coordinates of the [Bloch sphere](https://en.wikipedia.org/wiki/Bloch_sphere) as a representation of the state. We can see that the noisy trajectories, shown with dotted lines, take us away from the ideal simulation path, shown with the solid line. Most importantly, the final state of noisy trajectories diverges from the ideal final state. This indicates that the noise will introduce errors into our calculation and affect the outcomes of an algorithm that we want to run."
   ]
  },
  {
   "cell_type": "code",
   "execution_count": 8,
   "metadata": {},
   "outputs": [
    {
     "data": {
      "image/png": "[encoded data removed]",
      "text/plain": [
       "<Figure size 504x432 with 3 Axes>"
      ]
     },
     "metadata": {
      "needs_background": "light"
     },
     "output_type": "display_data"
    }
   ],
   "source": [
    "plot_simulation_trajectories(\n",
    "    plt.figure(),\n",
    "    standard_point_times,\n",
    "    standard_ideal_simulation_result.samples,\n",
    "    standard_noisy_simulation_result.trajectories,\n",
    ")\n",
    "plt.show()"
   ]
  },
  {
   "cell_type": "markdown",
   "metadata": {},
   "source": [
    "### Average gate infidelity of standard NOT gate\n",
    "\n",
    "The results above are specific to a particular initial state. We can quantify the *average* performance of the gate under noise by looking at the average gate infidelity, defined as:\n",
    "\n",
    "\\begin{align}\n",
    "\\mathcal{I}_{\\rm gate} = 1 - \\mathbb{E}[ \\rm{Tr}[ U_{\\rm target}^\\dagger(T) U_{\\rm total}(T) ] ],\n",
    "\\end{align}\n",
    "\n",
    "where $U_{k}(T)$ is the solution to $\\dot{U}_{k}(t) = -i H_{k} U_{k}(t)$, $U_{\\rm target}$ is the target unitary, in this case a NOT gate, and $\\mathbb{E}[ \\cdot ]$ is the classical stochastic average. An estimate of this number is automatically calculated when you provide a target to a stochastic simulation in BOULDER OPAL."
   ]
  },
  {
   "cell_type": "code",
   "execution_count": 9,
   "metadata": {},
   "outputs": [
    {
     "name": "stdout",
     "output_type": "stream",
     "text": [
      "Average gate infidelity:\n",
      "0.0016+/-0.0008\n"
     ]
    }
   ],
   "source": [
    "standard_final_sample = standard_noisy_simulation_result.average_samples[-1]\n",
    "print(\"Average gate infidelity:\")\n",
    "print(\n",
    "    pm_format(\n",
    "        standard_final_sample.average_infidelity,\n",
    "        standard_final_sample.average_infidelity_uncertainty,\n",
    "    )\n",
    ")"
   ]
  },
  {
   "cell_type": "markdown",
   "metadata": {},
   "source": [
    "## Filter function framework\n",
    "\n",
    "The filter function framework allows us to analyze the robustness of controls, and furthermore design them. The filter function is defined as the magnitude of the Fourier transform of the noise Hamiltonian in the control frame, explicitly:\n",
    "\n",
    "\\begin{align}\n",
    "F(\\omega) = \\left|\\left| \\tilde{H}_{\\rm noise}^{\\rm (control)}(\\omega) \\right|\\right|_2^2,\n",
    "\\end{align}\n",
    "\n",
    "where $H_{\\rm noise}^{\\rm (control)}(t) = U_{\\rm control}(t) H_{\\rm noise}(t) U_{\\rm control}^\\dagger(t)$, $\\left|\\left| A \\right| \\right|_2 = \\sqrt{\\sum_{i,j} |A_{i,j}|^2}$  and $ \\tilde{f}(\\omega) = \\int_{-\\infty}^{\\infty} dt f(t) e^{-i \\omega t}$.\n",
    "\n",
    "If we assume that the noise Hamiltonian $H_{\\rm noise}$ is small compared to the control Hamiltonian $H_{\\rm control}$, $H_{\\rm noise}$ can be transformed to be traceless $\\rm{Tr}[H_{\\rm noise}]=0$, and the control Hamiltonian would produce the target unitary if three was no noise. We can then show that the average infidelity contribution from the noise is\n",
    "\\begin{align}\n",
    "\\mathcal{I}_{\\rm gate} \\approx \\int_{-\\infty}^{\\infty} d\\omega S(\\omega) F(\\omega).\n",
    "\\end{align}\n",
    "\n",
    "This result demonstrates that the filter function quantifies the relative contribution of noise at different frequencies to the average infidelity. \n",
    "\n",
    "*See also:* For a derivation of a more general version of this result see [Software tools for quantum control: Improving quantum computer performance through noise and error suppression by Ball et al.](https://arxiv.org/abs/2001.04060)."
   ]
  },
  {
   "cell_type": "markdown",
   "metadata": {},
   "source": [
    "### Filter function of a standard NOT gate\n",
    "\n",
    "The standard NOT gate defined above is not robust to noise at low frequencies. This can be seen by examining its filter function."
   ]
  },
  {
   "cell_type": "code",
   "execution_count": 10,
   "metadata": {},
   "outputs": [
    {
     "name": "stderr",
     "output_type": "stream",
     "text": [
      "100%|██████████| 100/100 [00:04<00:00, 24.84it/s]\n"
     ]
    }
   ],
   "source": [
    "sample_count = 3000\n",
    "interpolated_frequencies = omega_max * np.logspace(-8, 1, 1000, base=10)\n",
    "\n",
    "filter_noise_drift = qctrl.types.filter_function.Drift(\n",
    "    noise=True, operator=sigma_z / 2.0\n",
    ")\n",
    "\n",
    "standard_filter_function_results = qctrl.functions.calculate_filter_function(\n",
    "    duration=standard_duration,\n",
    "    frequencies=interpolated_frequencies,\n",
    "    sample_count=sample_count,\n",
    "    shifts=[standard_control],\n",
    "    drifts=[filter_noise_drift],\n",
    ")"
   ]
  },
  {
   "cell_type": "code",
   "execution_count": 11,
   "metadata": {},
   "outputs": [
    {
     "data": {
      "image/png": "[encoded data removed]",
      "text/plain": [
       "<Figure size 864x432 with 1 Axes>"
      ]
     },
     "metadata": {
      "needs_background": "light"
     },
     "output_type": "display_data"
    }
   ],
   "source": [
    "standard_filter_function_interpolated_points = [\n",
    "    asdict(sample) for sample in standard_filter_function_results.samples\n",
    "]\n",
    "\n",
    "qv.plot_filter_functions(\n",
    "    plt.figure(), {\"Standard NOT Gate\": standard_filter_function_interpolated_points}\n",
    ")\n",
    "plt.show()"
   ]
  },
  {
   "cell_type": "markdown",
   "metadata": {},
   "source": [
    "### Gate infidelity approximated with filter function\n",
    "\n",
    "We can also approximately calculate the gate infidelity using the filter function. As long as the noise is small compared to the control, this calculation will be accurate."
   ]
  },
  {
   "cell_type": "code",
   "execution_count": 12,
   "metadata": {},
   "outputs": [
    {
     "name": "stdout",
     "output_type": "stream",
     "text": [
      "Approximate filter function gate infidelity:\n",
      "0.006994\n"
     ]
    }
   ],
   "source": [
    "integral_max = 1e5\n",
    "\n",
    "standard_frequencies = np.array(\n",
    "    [\n",
    "        sample.frequency\n",
    "        for sample in standard_filter_function_results.samples\n",
    "        if sample.frequency < integral_max\n",
    "    ]\n",
    ")\n",
    "standard_inverse_powers = np.array(\n",
    "    [\n",
    "        sample.inverse_power\n",
    "        for sample in standard_filter_function_results.samples\n",
    "        if sample.frequency < integral_max\n",
    "    ]\n",
    ")\n",
    "standard_filter_function_infidelity = np.trapz(\n",
    "    y=standard_inverse_powers * 4e10 * power_spectrum(standard_frequencies, 1.0e2, 1.0),\n",
    "    x=standard_frequencies,\n",
    ")\n",
    "\n",
    "print(\"Approximate filter function gate infidelity:\")\n",
    "print(\"{:4f}\".format(standard_filter_function_infidelity))"
   ]
  },
  {
   "cell_type": "markdown",
   "metadata": {},
   "source": [
    "## Robust control design\n",
    "\n",
    "The filter function framework can be used to design robust controls. We treat the design problem as a multi-objective optimization problem. First we assume the control field is parametrized by a set of variables $\\Omega_{\\rm candidate}(\\underline{v},t)$. \n",
    "\n",
    "The first target of our optimization is to ensure that our optimized pulse performs the correct operation. To do this we need to minimize the infidelity of the control:\n",
    "\\begin{align}\n",
    "\\mathcal{I}_{\\rm control} = \\rm{Tr}[U_{\\rm control}^\\dagger(T) U_{\\rm target}(T)],\n",
    "\\end{align}\n",
    "This quantifies how close the control is to the target operation if there is no noise.\n",
    "\n",
    "The second target of our optimization is to ensure that our optimized pulse is robust to the noise. It is common for physically relevant noise processes to be dominated by low frequency noise, in this case it simplifies the numerical calculation to minimize just the zero frequency part of the filter function. We call this the infidelity of the noise:\n",
    "\\begin{align}\n",
    "\\mathcal{I}_{\\rm noise} = w^2 \\left|\\left| \\int dt H_{\\rm noise}^{\\rm (control)}(t) \\right|\\right|_2^2,\n",
    "\\end{align}\n",
    "where $w$ is a relative weight of the filter cost compared to the operation, a good value for additive noises is $w=1/T$.\n",
    "\n",
    "The multi-objective optimization problem can be represented as minimizing the cost\n",
    "\\begin{align}\n",
    "\\mathcal{I}_{\\rm robust}(\\underline{v}) = \\mathcal{I}_{\\rm control}(\\underline{v}) + \\mathcal{I}_{\\rm noise}(\\underline{v}).\n",
    "\\end{align}\n",
    "\n",
    "\n",
    "If we can find a control where $\\mathcal{I}_{\\rm robust}(\\underline{v})$ is very close to zero, we can be sure that it will both complete the correct operation and be robust to low frequency noise."
   ]
  },
  {
   "cell_type": "markdown",
   "metadata": {},
   "source": [
    "### Optimizing a robust NOT gate\n",
    "\n",
    "We can create a robust NOT gate using the BOULDER OPAL optimizer. The [optimization feature](https://docs.q-ctrl.com/boulder-opal/user-guides/optimization) allows the user to define an optimization with arbitrary pulse constraints. \n",
    "\n",
    "We are going to construct two control pulses $\\Omega_I(\\underline{v},t)$ and $\\Omega_Q(\\underline{v},t)$ which have a maximum Rabi rate $\\Omega_{\\rm max}$ and a bandwidth limit defined by a cutoff frequency $\\Omega_{\\rm cutoff}$. \n",
    "\n",
    "The optimizer requires that you define the quantum system as a `graph` that represents how a set of `optimization_variables` an `infidelity` you want to minimize. A series of convenience methods makes \n",
    "creating this `graph` straightforward once you have mathematically written down the total Hamiltonian ($H_{\\rm total}$). Below we show how to create a `graph` for optimizing a qubit with dephasing noise. On each line, we write down what the current variable represents in the mathematical equation of the total Hamiltonian.\n",
    "\n",
    "We restate the entire Hamiltonian below so we can easily refer to it:\n",
    "\\begin{align}\n",
    "H_{\\rm total}(t) = & H_{\\rm control}(t) + H_{\\rm noise}(t), \\\\\n",
    "H_{\\rm control}(t) = & \\Omega_{\\rm I}(t) \\sigma_{x}/2 + \\Omega_{\\rm Q}(t) \\sigma_{y}/2, \\\\\n",
    "H_{\\rm noise}(t) = & \\eta(t) \\sigma_z / 2.\n",
    "\\end{align}"
   ]
  },
  {
   "cell_type": "code",
   "execution_count": 13,
   "metadata": {},
   "outputs": [],
   "source": [
    "robust_duration = 3.0 * standard_duration\n",
    "omega_cutoff = 1e7\n",
    "segment_count = 100\n",
    "\n",
    "with qctrl.create_graph() as graph:\n",
    "\n",
    "    # Omega_I(v,t)\n",
    "    pulse_i = bandwidth_limited_pwc_signal(\n",
    "        name=\"I\",\n",
    "        duration=robust_duration,\n",
    "        segment_count=segment_count,\n",
    "        max_rabi_rate=omega_max,\n",
    "        cutoff_frequency=omega_cutoff,\n",
    "    )\n",
    "\n",
    "    # Omega_Q(v,t)\n",
    "    pulse_q = bandwidth_limited_pwc_signal(\n",
    "        name=\"Q\",\n",
    "        duration=robust_duration,\n",
    "        segment_count=segment_count,\n",
    "        max_rabi_rate=omega_max,\n",
    "        cutoff_frequency=omega_cutoff,\n",
    "    )\n",
    "\n",
    "    # Omega_I(t) sigma_x/2\n",
    "    robust_control_i = qctrl.operations.pwc_operator(\n",
    "        signal=pulse_i, operator=sigma_x / 2.0\n",
    "    )\n",
    "\n",
    "    # Omega_Q(t) sigma_y/2\n",
    "    robust_control_q = qctrl.operations.pwc_operator(\n",
    "        signal=pulse_q, operator=sigma_y / 2.0\n",
    "    )\n",
    "\n",
    "    # H_control = Omega_I(t) sigma_x/2 + Omega_Q(t) sigma_y/2\n",
    "    control_hamiltonian = qctrl.operations.pwc_sum([robust_control_i, robust_control_q])\n",
    "\n",
    "    # sigma_z / 2w\n",
    "    noise_operator = qctrl.operations.constant_pwc_operator(\n",
    "        robust_duration, sigma_z / 2.0 / robust_duration\n",
    "    )\n",
    "\n",
    "    # create U_target\n",
    "    target_unitary = qctrl.operations.target(operator=not_gate)\n",
    "\n",
    "    # create I_robust(v) = I_control(v) + I_noise(v)\n",
    "    infidelity = qctrl.operations.infidelity_pwc(\n",
    "        hamiltonian=control_hamiltonian,\n",
    "        noise_operators=[\n",
    "            noise_operator,\n",
    "        ],\n",
    "        target_operator=target_unitary,\n",
    "        name=\"infidelity\",\n",
    "    )"
   ]
  },
  {
   "cell_type": "markdown",
   "metadata": {},
   "source": [
    "When you run an optimization, a series of searches are performed and the pulse with the smallest cost is returned. The optimization is stochastic and therefore a different result will be returned each time, but they will always satisfy the constraints. \n",
    "\n",
    "A pulse that is both robust and completes the correct operation will have a cost which is very close to zero. If the cost returned does not satisfy this condition, you may need to reduce your constraints. Increasing the total duration and/or the number of segments will often help."
   ]
  },
  {
   "cell_type": "code",
   "execution_count": 33,
   "metadata": {},
   "outputs": [
    {
     "name": "stderr",
     "output_type": "stream",
     "text": [
      "100%|██████████| 100/100 [00:08<00:00, 11.40it/s]\n"
     ]
    }
   ],
   "source": [
    "optimization_result = qctrl.functions.calculate_optimization(\n",
    "    cost_node_name=\"infidelity\",\n",
    "    output_node_names=[\"infidelity\", \"I\", \"Q\"],\n",
    "    graph=graph,\n",
    ")"
   ]
  },
  {
   "cell_type": "code",
   "execution_count": 34,
   "metadata": {},
   "outputs": [
    {
     "name": "stdout",
     "output_type": "stream",
     "text": [
      "Best cost:\n",
      "1.6774540981820942e-10\n"
     ]
    }
   ],
   "source": [
    "print(\"Best cost:\")\n",
    "print(optimization_result.cost)"
   ]
  },
  {
   "cell_type": "markdown",
   "metadata": {},
   "source": [
    "Once you have completed an optimization with a good cost you can export the segments of the pulse to your device.\n",
    "\n",
    "*See also:* For an example of exporting Q-CTRL pulse solutions to the IBM-Q Open Pulse format see [Superconducting qubits: Improving the performance of single qubit gates](https://docs.q-ctrl.com/boulder-opal/application-notes/superconducting-qubits-improving-the-performance-of-single-qubit-gates)"
   ]
  },
  {
   "cell_type": "code",
   "execution_count": 35,
   "metadata": {},
   "outputs": [
    {
     "data": {
      "image/png": "[encoded data removed]",
      "text/plain": [
       "<Figure size 504x288 with 2 Axes>"
      ]
     },
     "metadata": {
      "needs_background": "light"
     },
     "output_type": "display_data"
    }
   ],
   "source": [
    "qv.plot_controls(\n",
    "    plt.figure(),\n",
    "    {\n",
    "        \"$\\Omega_I$\": optimization_result.output[\"I\"],\n",
    "        \"$\\Omega_Q$\": optimization_result.output[\"Q\"],\n",
    "    },\n",
    ")\n",
    "plt.show()"
   ]
  },
  {
   "cell_type": "markdown",
   "metadata": {},
   "source": [
    "### Filter function confirmation of the robust NOT gate\n",
    "\n",
    "Now that we have our robust NOT gate, we can confirm it is robust by calculating its filter function. Note that the filter function has very small values for low frequencies, this indicates that the control will suppress low frequency noise. "
   ]
  },
  {
   "cell_type": "code",
   "execution_count": 36,
   "metadata": {},
   "outputs": [
    {
     "name": "stderr",
     "output_type": "stream",
     "text": [
      "100%|██████████| 100/100 [00:04<00:00, 23.38it/s]\n"
     ]
    }
   ],
   "source": [
    "robust_pulse_segments_i = [\n",
    "    qctrl.types.RealSegmentInput(duration=segment[\"duration\"], value=segment[\"value\"])\n",
    "    for segment in optimization_result.output[\"I\"]\n",
    "]\n",
    "\n",
    "robust_pulse_segments_q = [\n",
    "    qctrl.types.RealSegmentInput(duration=segment[\"duration\"], value=segment[\"value\"])\n",
    "    for segment in optimization_result.output[\"Q\"]\n",
    "]\n",
    "\n",
    "robust_control_i = qctrl.types.colored_noise_simulation.Shift(\n",
    "    control=robust_pulse_segments_i, operator=sigma_x / 2\n",
    ")\n",
    "\n",
    "robust_control_q = qctrl.types.colored_noise_simulation.Shift(\n",
    "    control=robust_pulse_segments_q, operator=sigma_y / 2\n",
    ")\n",
    "\n",
    "sample_count = 3000\n",
    "interpolated_frequencies = omega_max * np.logspace(-8, 1, 1000, base=10)\n",
    "\n",
    "robust_filter_function_results = qctrl.functions.calculate_filter_function(\n",
    "    duration=robust_duration,\n",
    "    frequencies=interpolated_frequencies,\n",
    "    sample_count=sample_count,\n",
    "    shifts=[robust_control_i, robust_control_q],\n",
    "    drifts=[filter_noise_drift],\n",
    ")"
   ]
  },
  {
   "cell_type": "code",
   "execution_count": 37,
   "metadata": {},
   "outputs": [
    {
     "data": {
      "image/png": "[encoded data removed]",
      "text/plain": [
       "<Figure size 864x432 with 1 Axes>"
      ]
     },
     "metadata": {
      "needs_background": "light"
     },
     "output_type": "display_data"
    }
   ],
   "source": [
    "robust_filter_function_interpolated_points = [\n",
    "    asdict(sample) for sample in robust_filter_function_results.samples\n",
    "]\n",
    "\n",
    "qv.plot_filter_functions(\n",
    "    plt.figure(),\n",
    "    {\n",
    "        \"Standard NOT gate\": standard_filter_function_interpolated_points,\n",
    "        \"Robust NOT gate\": robust_filter_function_interpolated_points,\n",
    "    },\n",
    ")\n",
    "plt.show()"
   ]
  },
  {
   "cell_type": "code",
   "execution_count": 38,
   "metadata": {},
   "outputs": [
    {
     "name": "stdout",
     "output_type": "stream",
     "text": [
      "Approximate filter function standard gate infidelity:\n",
      "0.006994\n",
      "Approximate filter function robust gate infidelity:\n",
      "0.000501\n"
     ]
    }
   ],
   "source": [
    "robust_frequencies = np.array(\n",
    "    [\n",
    "        sample.frequency\n",
    "        for sample in robust_filter_function_results.samples\n",
    "        if sample.frequency < integral_max\n",
    "    ]\n",
    ")\n",
    "robust_inverse_powers = np.array(\n",
    "    [\n",
    "        sample.inverse_power\n",
    "        for sample in robust_filter_function_results.samples\n",
    "        if sample.frequency < integral_max\n",
    "    ]\n",
    ")\n",
    "robust_filter_function_infidelity = np.trapz(\n",
    "    y=robust_inverse_powers * 4e10 * power_spectrum(robust_frequencies, 1.0e2, 1.0),\n",
    "    x=robust_frequencies,\n",
    ")\n",
    "\n",
    "print(\"Approximate filter function standard gate infidelity:\")\n",
    "print(\"{:4f}\".format(standard_filter_function_infidelity))\n",
    "\n",
    "print(\"Approximate filter function robust gate infidelity:\")\n",
    "print(\"{:4f}\".format(robust_filter_function_infidelity))"
   ]
  },
  {
   "cell_type": "markdown",
   "metadata": {},
   "source": [
    "## Simulation of robust NOT Gate\n",
    "\n",
    "We can confirm the optimization has produced a NOT Gate that is robust to the magnetic field noise by performing a simulation where we swap the standard pulse with the robust robust pulse."
   ]
  },
  {
   "cell_type": "code",
   "execution_count": 39,
   "metadata": {},
   "outputs": [
    {
     "name": "stderr",
     "output_type": "stream",
     "text": [
      "100%|██████████| 100/100 [00:12<00:00,  7.81it/s]\n"
     ]
    }
   ],
   "source": [
    "robust_point_times = np.linspace(0, robust_duration, 100)\n",
    "\n",
    "robust_noisy_simulation_result = qctrl.functions.calculate_colored_noise_simulation(\n",
    "    duration=robust_duration,\n",
    "    sample_times=robust_point_times,\n",
    "    shifts=[robust_control_i, robust_control_q],\n",
    "    drifts=[noise_drift],\n",
    "    trajectory_count=10,\n",
    "    initial_state_vector=np.array([1.0, 0.0]),\n",
    "    target=target,\n",
    ")"
   ]
  },
  {
   "cell_type": "code",
   "execution_count": 40,
   "metadata": {},
   "outputs": [
    {
     "name": "stderr",
     "output_type": "stream",
     "text": [
      "100%|██████████| 100/100 [00:03<00:00, 32.85it/s]\n"
     ]
    }
   ],
   "source": [
    "robust_ideal_simulation_result = qctrl.functions.calculate_coherent_simulation(\n",
    "    duration=robust_duration,\n",
    "    sample_times=robust_point_times,\n",
    "    shifts=[robust_control_i, robust_control_q],\n",
    "    initial_state_vector=np.array([1.0, 0.0]),\n",
    "    target=target,\n",
    ")"
   ]
  },
  {
   "cell_type": "markdown",
   "metadata": {},
   "source": [
    "### Noisy trajectories of the state with robust control\n",
    "\n",
    "When we look at the noisy trajectories of the state with the robust NOT gate, we can see each of the trajectories finish significantly closer to the ideal simulation without noise. This confirms that the control we have developed is indeed robust. "
   ]
  },
  {
   "cell_type": "code",
   "execution_count": 41,
   "metadata": {},
   "outputs": [
    {
     "data": {
      "image/png": "[encoded data removed]",
      "text/plain": [
       "<Figure size 504x432 with 3 Axes>"
      ]
     },
     "metadata": {
      "needs_background": "light"
     },
     "output_type": "display_data"
    }
   ],
   "source": [
    "plot_simulation_trajectories(\n",
    "    plt.figure(),\n",
    "    standard_point_times,\n",
    "    robust_ideal_simulation_result.samples,\n",
    "    robust_noisy_simulation_result.trajectories,\n",
    ")\n",
    "plt.show()"
   ]
  },
  {
   "cell_type": "markdown",
   "metadata": {},
   "source": [
    "### Average gate infidelity of robust NOT gate\n",
    "\n",
    "The average infidelity of the robust operation is over an order of magnitude better than the standard NOT gate. For this example we have made the noise relatively large compared to the control to visually highlight the difference. The relative improvement is even more pronounced for smaller noise processes. "
   ]
  },
  {
   "cell_type": "code",
   "execution_count": 42,
   "metadata": {},
   "outputs": [
    {
     "name": "stdout",
     "output_type": "stream",
     "text": [
      "Average gate infidelity:\n",
      "Average standard gate infidelity:\n",
      "0.0016+/-0.0008\n",
      "Average robust gate infidelity:\n",
      "0.0004+/-0.0002\n"
     ]
    }
   ],
   "source": [
    "robust_final_sample = robust_noisy_simulation_result.average_samples[-1]\n",
    "\n",
    "print(\"Average gate infidelity:\")\n",
    "\n",
    "print(\"Average standard gate infidelity:\")\n",
    "print(\n",
    "    pm_format(\n",
    "        standard_final_sample.average_infidelity,\n",
    "        standard_final_sample.average_infidelity_uncertainty,\n",
    "    )\n",
    ")\n",
    "\n",
    "print(\"Average robust gate infidelity:\")\n",
    "print(\n",
    "    pm_format(\n",
    "        robust_final_sample.average_infidelity,\n",
    "        robust_final_sample.average_infidelity_uncertainty,\n",
    "    )\n",
    ")"
   ]
  },
  {
   "cell_type": "markdown",
   "metadata": {},
   "source": [
    "## Geometric interpretation of robustness\n",
    "\n",
    "To get a more intuitive understanding of how the robust control works we can have a look at a geometric picture of the control.\n",
    "\n",
    "When we create our control, we effectively set the zero frequency component of the filter function to zero $F_0 = 0$. This is equivalent to ensuring\n",
    "\n",
    "\\begin{align}\n",
    "\\int_0^T dt N_{\\rm noise}^{\\rm (control)}(t) = 0.\n",
    "\\end{align}\n",
    "\n",
    "In other words, we ensure that the integral of the noise operator in the control frame is zero. The noise operator in the control frame can be intepreted as the *direction* a *static* noise would move at a time $t$. Hence if we ensure that the integral of the directions of the noise over $t$ total to zero, we can ensure that any static noise will *alway* cancel itself out.\n",
    "\n",
    "This self cancellation property is often sometimes called an *echo* when talking about a dephasing process on a qubit. \n",
    "\n",
    "We can visualize this self cancellation by looking at a geometric representation of the noise operator in the control frame. The noise operator can be represented as:\n",
    "\n",
    "\\begin{align}\n",
    "N_{\\rm noise}^{\\rm (control)}(t) = s_x(t) \\sigma_x +  s_y(t) \\sigma_y + s_z(t) \\sigma_z,\n",
    "\\end{align}\n",
    "\n",
    "where $s_k(t)$ are all real numbers because the operator is hermitian and traceless. \n",
    "\n",
    "When we plot these functions below, we can see they each have an equal area under and over the origin, indicating they will all integrate to zero, and hence a *static* noise will always self cancel by the end of the control. "
   ]
  },
  {
   "cell_type": "code",
   "execution_count": 43,
   "metadata": {},
   "outputs": [
    {
     "data": {
      "image/png": "[encoded data removed]",
      "text/plain": [
       "<Figure size 504x432 with 3 Axes>"
      ]
     },
     "metadata": {
      "needs_background": "light"
     },
     "output_type": "display_data"
    }
   ],
   "source": [
    "coherent_frames = robust_ideal_simulation_result.samples\n",
    "\n",
    "figure = plt.figure()\n",
    "plot_simulation_noise_directions(figure, robust_point_times, coherent_frames)\n",
    "plt.show()"
   ]
  },
  {
   "cell_type": "markdown",
   "metadata": {},
   "source": [
    "## Exercise: Qubit with amplitude noise\n",
    "\n",
    "Another very common noise process on quantum computers is a miscalibration on the effective Rabi rate, because of noise in the microwave pulse signal generators. The Hamiltonian for a quantum computer with this kind of noise is:\n",
    "\n",
    "\\begin{align*}\n",
    "H_{\\rm total}(t) & = H_{\\rm control}(t) + H_{\\rm noise}(t), \\\\\n",
    "H_{\\rm control}(t) & = \\Omega_{\\rm I}(t) \\sigma_{x}/2 + \\Omega_{\\rm Q}(t) \\sigma_{y}/2, \\\\\n",
    "H_{\\rm noise}(t) & = \\eta_{\\rm I}(t) \\Omega_{\\rm I}(t) \\sigma_{x}/2 + \\eta_{\\rm Q}(t) \\Omega_{\\rm Q}(t) \\sigma_{y}/2.\n",
    "\\end{align*}\n",
    "\n",
    "where $\\eta_k(t)$ are stochastic classical noise processes sampled from their corresponding noise spectral densities $S_k(\\omega)$. \n",
    "\n",
    "As an exercise, repeat the robust control analysis and design process, where you now target creating a Hadamard gate."
   ]
  },
  {
   "cell_type": "code",
   "execution_count": 24,
   "metadata": {},
   "outputs": [],
   "source": [
    "# a. Create a simulation of the standard H gate"
   ]
  },
  {
   "cell_type": "code",
   "execution_count": 25,
   "metadata": {},
   "outputs": [],
   "source": [
    "# b. Plot the simulation of the standard H gate"
   ]
  },
  {
   "cell_type": "code",
   "execution_count": 26,
   "metadata": {},
   "outputs": [],
   "source": [
    "# c. Create a robust H gate"
   ]
  },
  {
   "cell_type": "code",
   "execution_count": 27,
   "metadata": {},
   "outputs": [],
   "source": [
    "# d. Plot the robust H gate"
   ]
  },
  {
   "cell_type": "code",
   "execution_count": 28,
   "metadata": {},
   "outputs": [],
   "source": [
    "# e. Calculate a filter function of a standard H gate and robust H gate"
   ]
  },
  {
   "cell_type": "code",
   "execution_count": 29,
   "metadata": {},
   "outputs": [],
   "source": [
    "# f. Plot the filter functions of both gates to confirm the robust H gate is robust."
   ]
  },
  {
   "cell_type": "code",
   "execution_count": 30,
   "metadata": {},
   "outputs": [],
   "source": [
    "# g. Create a simulation of a simulation of the robust H gate"
   ]
  },
  {
   "cell_type": "code",
   "execution_count": 31,
   "metadata": {},
   "outputs": [],
   "source": [
    "# h. Plot the simulation of the robust H gate"
   ]
  }
 ],
 "metadata": {
  "kernelspec": {
   "display_name": "Python 3",
   "language": "python",
   "name": "python3"
  },
  "language_info": {
   "codemirror_mode": {
    "name": "ipython",
    "version": 3
   },
   "file_extension": ".py",
   "mimetype": "text/x-python",
   "name": "python",
   "nbconvert_exporter": "python",
   "pygments_lexer": "ipython3",
   "version": "3.8.8"
  }
 },
 "nbformat": 4,
 "nbformat_minor": 4
}
