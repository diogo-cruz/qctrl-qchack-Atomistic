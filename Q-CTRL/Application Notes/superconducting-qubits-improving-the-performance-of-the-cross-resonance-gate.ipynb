{
 "cells": [
  {
   "cell_type": "markdown",
   "metadata": {},
   "source": [
    "# Superconducting qubits: improving the performance of the cross resonance gate\n",
    "**Increasing robustness against crosstalk**\n",
    "\n",
    "BOULDER OPAL enables you to optimize controls to achieve a target operation on your quantum hardware. In this Application note, you'll find the steps needed to obtain robust control solutions for superconducting qubits coupled by a common transmission line. These controls exhibit increased robustness of the cross resonance gate (target) against noise that arises due to crosstalk. First, you'll learn to set up the system and to optimize the control pulses. You can then verify the accuracy and robustness of the optimized controls through simulation of the resulting time evolution, including crosstalk."
   ]
  },
  {
   "cell_type": "markdown",
   "metadata": {},
   "source": [
    "## Imports and initialization"
   ]
  },
  {
   "cell_type": "code",
   "execution_count": 1,
   "metadata": {},
   "outputs": [],
   "source": [
    "import numpy as np\n",
    "from qctrl import Qctrl\n",
    "import matplotlib.pyplot as plt\n",
    "import matplotlib.gridspec as gridspec\n",
    "from qctrlvisualizer import plot_controls\n",
    "from qctrlvisualizer import get_qctrl_style\n",
    "\n",
    "qctrl = Qctrl()\n",
    "\n",
    "plt.style.use(get_qctrl_style())\n",
    "\n",
    "colors = {\"Optimized\": \"#BF04DC\", \"Robust\": \"#680CE9\", \"Primitive\": \"k\"}"
   ]
  },
  {
   "cell_type": "markdown",
   "metadata": {},
   "source": [
    "## Creating a Q-CTRL cross resonance gate robust to crosstalk\n",
    "Consider a system of two transmon qubits coupled by a common transmission line. Qubit 1 is defined as the control qubit, and qubit 2 is the target qubit. The control qubit is driven by the in-phase and quadrature microwave drive with a frequency that matches the target qubit frequency. In a frame rotating with the drive frequency and after applying the rotating wave approximation (RWA) the Hamiltonian is of the form:\n",
    "\n",
    "$$ H = \\hbar(\\Delta + \\epsilon)n_1+\n",
    "\\frac{\\hbar\\delta_1}{2} n_1(n_1 - 1)+\n",
    "\\hbar\\epsilon n_2+\n",
    "\\frac{\\hbar\\delta_2}{2}n_2(n_2 - 1)+\n",
    "\\hbar g \\left( b_1^\\dagger b_2 + b_1 b_2^\\dagger \\right) +\\frac{\\hbar}{2}\\left(\\Omega(t)b_1^\\dagger + \\text{h.c.}\\right)\\,,$$\n",
    "\n",
    "where $n_i$ and $b_i$ are the number and annihilation operators of the $i$th qubit, $\\Delta=\\omega_1-\\omega_2$ is the detuning between the two qubits where $\\omega_i$ is the frequency of the $i$th qubit, $\\epsilon$ is the mismatch between the drive frequency and the target qubit frequency, $g$ is the effective coupling strength between the qubits, $\\Omega$ is the drive modulus and $\\delta_i$ is the anharmonicity of the $i$th qubit. The above Hamiltonian is valid when the coupling strength is small compared to the detuning between the two qubits, $\\Delta\\gg g$.\n",
    "\n",
    "The target operation is the $\\pi/2$ cross resonance gate which operates in the space of the two lowest levels:\n",
    "\n",
    "$$U_{CR}\\left(\\frac{\\pi}{2}\\right)=\\frac{1}{\\sqrt{2}}\\left(\\mathbb{I}-i\\sigma_z^{(1)}\\sigma_x^{(2)}\\right)=[ZX]^{1/2}.$$\n",
    "\n",
    "Since the above operation is defined up to phase factors of the individual qubits, this may lead to a large infidelity. Consequently, a final (optimizable) phase shift on each qubit is introduced to overcome the infidelity inflation due to these phase factors.\n",
    "\n",
    "This Application note addresses robustness to crosstalk. Crosstalk between the qubits leads to unwanted effects that may mimic the effect of noise. The crosstalk Hamiltonian has the form\n",
    "\n",
    "$$\n",
    "H_\\text{ct}\n",
    "  = c_\\text{ct}\n",
    "  \\frac{\\hbar\\Omega(t)}{2}b_2^\\dagger + \\text{h.c.}\\,,\n",
    "$$ where $c_\\text{ct}$ is the (complex) relative crosstalk.\n",
    "\n",
    "In this section, you'll learn to optimize the implementation of the target gate under the effect of crosstalk. This is performed within the framework of the four-level approximation, where only the first four levels of each qubit are considered. Moreover, only up to three excitations overall are permitted, which further reduces the Hilbert space from $16$ states to $10$ states.\n",
    "\n",
    "To set up the optimization, first define operators and constants."
   ]
  },
  {
   "cell_type": "code",
   "execution_count": 2,
   "metadata": {},
   "outputs": [],
   "source": [
    "Mega = 1e6\n",
    "micro = 1e-6\n",
    "\n",
    "# Constants in the lab frame\n",
    "omega_1 = 5114 * 2 * np.pi  # MHz\n",
    "omega_2 = 4914 * 2 * np.pi  # MHz\n",
    "delta_1 = -330 * 2 * np.pi  # MHz\n",
    "delta_2 = -330 * 2 * np.pi  # MHz\n",
    "g = 3.8 * 2 * np.pi  # MHz\n",
    "Delta = omega_1 - omega_2\n",
    "epsilon = 0  # g**2/Delta\n",
    "\n",
    "# Limits for drive amplitudes\n",
    "epsilon_1_min = -2 * np.pi * 200  # MHz\n",
    "epsilon_1_max = 2 * np.pi * 200  # MHz"
   ]
  },
  {
   "cell_type": "markdown",
   "metadata": {},
   "source": [
    "Next, define the operators in the Hamiltonian and the target gate."
   ]
  },
  {
   "cell_type": "code",
   "execution_count": 3,
   "metadata": {},
   "outputs": [],
   "source": [
    "# Lowering operator\n",
    "b = np.diag([1, np.sqrt(2), np.sqrt(3)], 1)\n",
    "# Number operator\n",
    "n = np.diag([0, 1, 2, 3])\n",
    "# Projector onto the two lowest states\n",
    "qubit_proj = np.diag([1, 1, 0, 0])\n",
    "\n",
    "# Pauli operators\n",
    "sigma_x = np.zeros(n.shape)\n",
    "sigma_x[:2, :2] = np.array([[0, 1], [1, 0]])\n",
    "sigma_y = np.zeros(n.shape, dtype=np.complex)\n",
    "sigma_y[:2, :2] = 1j * np.array([[0, -1], [1, 0]])\n",
    "sigma_z = np.zeros(n.shape)\n",
    "sigma_z[:2, :2] = np.array([[1, 0], [0, -1]])\n",
    "\n",
    "# Embedding the above single-qubit operators into the two-qubit system of dimension 16\n",
    "b1 = np.kron(b, np.eye(4))\n",
    "b2 = np.kron(np.eye(4), b)\n",
    "\n",
    "n1 = np.kron(n, np.eye(4))\n",
    "n2 = np.kron(np.eye(4), n)\n",
    "\n",
    "proj = np.kron(qubit_proj, qubit_proj)\n",
    "\n",
    "sigma1_x = np.kron(sigma_x, np.eye(4))\n",
    "sigma2_x = np.kron(np.eye(4), sigma_x)\n",
    "\n",
    "sigma1_y = np.kron(sigma_y, np.eye(4))\n",
    "sigma2_y = np.kron(np.eye(4), sigma_y)\n",
    "\n",
    "sigma1_z = np.kron(sigma_z, np.eye(4))\n",
    "sigma2_z = np.kron(np.eye(4), sigma_z)\n",
    "\n",
    "# Block-diagonal permutations\n",
    "perm = np.argsort(np.diag(n1 + n2))\n",
    "perm_trunc = perm[:10]\n",
    "block_n = [np.where(np.diag(n1 + n2) == n)[0].tolist() for n in range(4)]\n",
    "\n",
    "# Frame transformation HS = SD\n",
    "hamiltonian_with_no_drives = (\n",
    "    (Delta - delta_1 / 2 + epsilon) * n1[:, perm_trunc][perm_trunc, :]\n",
    "    + (-delta_2 / 2 + epsilon) * n2[:, perm_trunc][perm_trunc, :]\n",
    "    + delta_1 * np.matmul(n1, n1)[:, perm_trunc][perm_trunc, :] / 2\n",
    "    + delta_2 * np.matmul(n2, n2)[:, perm_trunc][perm_trunc, :] / 2\n",
    "    + g\n",
    "    * (np.kron(b.T.conj(), b) + np.kron(b, b.T.conj()))[:, perm_trunc][perm_trunc, :]\n",
    ")\n",
    "S = np.eye(10)\n",
    "base_index = 0\n",
    "for i in block_n:\n",
    "    inds = np.arange(base_index, base_index + len(i))\n",
    "    eigenvalues, eigenvectors = np.linalg.eigh(\n",
    "        hamiltonian_with_no_drives[:, inds][inds, :]\n",
    "    )\n",
    "    for k, j in enumerate(eigenvectors.T):\n",
    "        ind = np.abs(np.abs(j) - 1.0).argmin()\n",
    "        S[:, base_index + ind][inds] = j * np.sign(j[ind])\n",
    "    base_index += len(i)\n",
    "\n",
    "# The phase shift operators in the simulation/optimization frame\n",
    "phase_shift_operator1 = (S.dot(sigma1_z[:, perm_trunc][perm_trunc, :] / 2)).dot(\n",
    "    S.T.conj()\n",
    ")\n",
    "phase_shift_operator2 = (S.dot(sigma2_z[:, perm_trunc][perm_trunc, :] / 2)).dot(\n",
    "    S.T.conj()\n",
    ")\n",
    "\n",
    "# Drive operators\n",
    "drive_1x_operator = (b1.T.conj() + b1)[:, perm_trunc][perm_trunc, :] / 2\n",
    "drive_1y_operator = 1j * (b1.T.conj() - b1)[:, perm_trunc][perm_trunc, :] / 2\n",
    "\n",
    "# Crosstalk operators\n",
    "drive_2x_operator = (b2.T.conj() + b2)[:, perm_trunc][perm_trunc, :] / 2\n",
    "drive_2y_operator = 1j * (b2.T.conj() - b2)[:, perm_trunc][perm_trunc, :] / 2\n",
    "\n",
    "# Target in the simulation/optimization frame\n",
    "zx_half = S.dot(\n",
    "    ((proj - 1j * np.kron(sigma_z, sigma_x)) / np.sqrt(2))[:, perm_trunc][perm_trunc, :]\n",
    ").dot(S.T.conj())"
   ]
  },
  {
   "cell_type": "markdown",
   "metadata": {},
   "source": [
    "### Creating control pulses\n",
    "\n",
    "Next, define the optimization configuration and the control schemes: Primitive, Optimized and Robust."
   ]
  },
  {
   "cell_type": "code",
   "execution_count": 4,
   "metadata": {},
   "outputs": [],
   "source": [
    "# Optimization constraints\n",
    "duration = 0.4  # us\n",
    "crosstalk_constant = 0.1\n",
    "segment_count_primitive = 1\n",
    "segment_count_optimized = 200\n",
    "\n",
    "pulse_durations_primitive = (\n",
    "    np.ones([segment_count_primitive]) * duration / segment_count_primitive\n",
    ")\n",
    "pulse_durations_optimized = (\n",
    "    np.ones([segment_count_optimized]) * duration / segment_count_optimized\n",
    ")\n",
    "\n",
    "# Gate schemes\n",
    "gate_schemes = [\"Primitive\", \"Optimized\", \"Robust\"]"
   ]
  },
  {
   "cell_type": "markdown",
   "metadata": {},
   "source": [
    "The optimization specification in the next cell involves several steps:\n",
    "- create the (noiseless) Hamiltonian,\n",
    "- create the noise operators,\n",
    "- define the cost function to be minimized by the optimizer, which is the infidelity of the system's evolution,\n",
    "- introduce the final (optimizable) phase shift on each qubit,\n",
    "- compute the infidelity of the Hamiltonian with optimizable phase shifts.\n",
    "\n",
    "The outputs are the optimized values of $\\Omega(t)$ ($x$ and $y$ components) across the gate duration, the optimized phase shifts, and the infidelities with and without the phase shifts."
   ]
  },
  {
   "cell_type": "code",
   "execution_count": 5,
   "metadata": {},
   "outputs": [],
   "source": [
    "def scheme_optimization(primitive_flag, noise_flag, segment_count, optimization_count):\n",
    "    with qctrl.create_graph() as graph:\n",
    "        # Construct drive terms\n",
    "        drive_1x = qctrl.operations.pwc_signal(\n",
    "            values=qctrl.operations.bounded_optimization_variable(\n",
    "                count=segment_count,\n",
    "                lower_bound=epsilon_1_min,\n",
    "                upper_bound=epsilon_1_max,\n",
    "            ),\n",
    "            duration=duration,\n",
    "            name=\"drive_1x\",\n",
    "        )\n",
    "        if primitive_flag:\n",
    "            drive_1y = qctrl.operations.pwc_signal(\n",
    "                values=np.zeros(segment_count), duration=duration, name=\"drive_1y\"\n",
    "            )\n",
    "        else:\n",
    "            drive_1y = qctrl.operations.pwc_signal(\n",
    "                values=qctrl.operations.bounded_optimization_variable(\n",
    "                    count=segment_count,\n",
    "                    lower_bound=epsilon_1_min,\n",
    "                    upper_bound=epsilon_1_max,\n",
    "                ),\n",
    "                duration=duration,\n",
    "                name=\"drive_1y\",\n",
    "            )\n",
    "        drive_1x_term = qctrl.operations.pwc_operator(\n",
    "            signal=drive_1x, operator=drive_1x_operator\n",
    "        )\n",
    "        drive_1y_term = qctrl.operations.pwc_operator(\n",
    "            signal=drive_1y, operator=drive_1y_operator\n",
    "        )\n",
    "\n",
    "        # Construct remaining Hamiltonian terms\n",
    "        fixed_frequency_1_term = qctrl.operations.constant_pwc_operator(\n",
    "            operator=(Delta - delta_1 / 2 + epsilon) * n1[:, perm_trunc][perm_trunc, :],\n",
    "            duration=duration,\n",
    "        )\n",
    "        fixed_frequency_2_term = qctrl.operations.constant_pwc_operator(\n",
    "            operator=(-delta_2 / 2 + epsilon) * n2[:, perm_trunc][perm_trunc, :],\n",
    "            duration=duration,\n",
    "        )\n",
    "        fixed_anharmonicity_1_term = qctrl.operations.constant_pwc_operator(\n",
    "            operator=delta_1 * np.matmul(n1, n1)[:, perm_trunc][perm_trunc, :] / 2,\n",
    "            duration=duration,\n",
    "        )\n",
    "        fixed_anharmonicity_2_term = qctrl.operations.constant_pwc_operator(\n",
    "            operator=delta_2 * np.matmul(n2, n2)[:, perm_trunc][perm_trunc, :] / 2,\n",
    "            duration=duration,\n",
    "        )\n",
    "        fixed_coupling_term = qctrl.operations.constant_pwc_operator(\n",
    "            operator=g\n",
    "            * (np.kron(b.T.conj(), b) + np.kron(b, b.T.conj()))[:, perm_trunc][\n",
    "                perm_trunc, :\n",
    "            ],\n",
    "            duration=duration,\n",
    "        )\n",
    "        hamiltonian = qctrl.operations.pwc_sum(\n",
    "            [\n",
    "                drive_1x_term,\n",
    "                drive_1y_term,\n",
    "                fixed_frequency_1_term,\n",
    "                fixed_frequency_2_term,\n",
    "                fixed_anharmonicity_1_term,\n",
    "                fixed_anharmonicity_2_term,\n",
    "                fixed_coupling_term,\n",
    "            ]\n",
    "        )\n",
    "\n",
    "        # Create noise operators\n",
    "        crosstalk_1x = qctrl.operations.pwc_operator(\n",
    "            signal=drive_1x, operator=crosstalk_constant * drive_2x_operator\n",
    "        )\n",
    "        crosstalk_1y = qctrl.operations.pwc_operator(\n",
    "            signal=drive_1y, operator=crosstalk_constant * drive_2y_operator\n",
    "        )\n",
    "        if noise_flag:\n",
    "            noise_list = [crosstalk_1x, crosstalk_1y]\n",
    "        else:\n",
    "            noise_list = []\n",
    "\n",
    "        # Create infidelity\n",
    "        target_operator = qctrl.operations.target(operator=zx_half)\n",
    "        infidelity = qctrl.operations.infidelity_pwc(\n",
    "            hamiltonian=hamiltonian,\n",
    "            noise_operators=noise_list,\n",
    "            target_operator=target_operator,\n",
    "            name=\"infidelity\",\n",
    "        )\n",
    "\n",
    "        # Introduce optimizable phase shifts on each qubit\n",
    "        phase_shift_1 = qctrl.operations.pwc_signal(\n",
    "            values=qctrl.operations.unbounded_optimization_variable(\n",
    "                count=1, initial_lower_bound=-np.pi, initial_upper_bound=np.pi\n",
    "            ),\n",
    "            duration=1.0,\n",
    "            name=\"phase1\",\n",
    "        )\n",
    "        phase_shift_2 = qctrl.operations.pwc_signal(\n",
    "            values=qctrl.operations.unbounded_optimization_variable(\n",
    "                count=1, initial_lower_bound=-np.pi, initial_upper_bound=np.pi\n",
    "            ),\n",
    "            duration=1.0,\n",
    "            name=\"phase2\",\n",
    "        )\n",
    "        phase_shift_hamiltonian = qctrl.operations.pwc_sum(\n",
    "            [\n",
    "                qctrl.operations.pwc_operator(\n",
    "                    signal=phase_shift_1, operator=phase_shift_operator1\n",
    "                ),\n",
    "                qctrl.operations.pwc_operator(\n",
    "                    signal=phase_shift_2, operator=phase_shift_operator2\n",
    "                ),\n",
    "            ]\n",
    "        )\n",
    "        u_phase = qctrl.operations.time_evolution_operators_pwc(\n",
    "            hamiltonian=phase_shift_hamiltonian, sample_times=np.array([1.0])\n",
    "        )\n",
    "        target_operator_with_phase_shift = qctrl.operations.target(\n",
    "            operator=qctrl.operations.matmul(u_phase[0], zx_half)\n",
    "        )\n",
    "\n",
    "        # Create infidelity with phase shifts\n",
    "        infidelity_with_phase_shift = qctrl.operations.infidelity_pwc(\n",
    "            hamiltonian=hamiltonian,\n",
    "            noise_operators=noise_list,\n",
    "            target_operator=target_operator_with_phase_shift,\n",
    "        )\n",
    "        cost = infidelity_with_phase_shift\n",
    "        cost.name = \"infidelity_with_phase_shift\"\n",
    "\n",
    "    return qctrl.functions.calculate_optimization(\n",
    "        graph=graph,\n",
    "        optimization_count=optimization_count,\n",
    "        cost_node_name=\"infidelity_with_phase_shift\",\n",
    "        output_node_names=[\n",
    "            \"infidelity\",\n",
    "            \"infidelity_with_phase_shift\",\n",
    "            \"drive_1x\",\n",
    "            \"drive_1y\",\n",
    "            \"phase1\",\n",
    "            \"phase2\",\n",
    "        ],\n",
    "    )"
   ]
  },
  {
   "cell_type": "markdown",
   "metadata": {},
   "source": [
    "Next, perform the optimization. The following cell optimizes a primitive pulse as a benchmark, along with the optimized and the robust controls. The infidelities for each control scheme are presented with and without the phase shift."
   ]
  },
  {
   "cell_type": "code",
   "execution_count": 6,
   "metadata": {},
   "outputs": [
    {
     "name": "stderr",
     "output_type": "stream",
     "text": [
      "  0%|          | 0/100 [00:02<?, ?it/s]"
     ]
    },
    {
     "name": "stdout",
     "output_type": "stream",
     "text": [
      "Your task calculate_optimization is currently in a queue waiting to be processed.\n"
     ]
    },
    {
     "name": "stderr",
     "output_type": "stream",
     "text": [
      "  0%|          | 0/100 [00:04<?, ?it/s]"
     ]
    },
    {
     "name": "stdout",
     "output_type": "stream",
     "text": [
      "Your task calculate_optimization has started.\n"
     ]
    },
    {
     "name": "stderr",
     "output_type": "stream",
     "text": [
      "100%|██████████| 100/100 [00:05<00:00, 17.26it/s]\n"
     ]
    },
    {
     "name": "stdout",
     "output_type": "stream",
     "text": [
      "Primitive\n",
      "Infidelity: 0.7994308586119503\n",
      "Infidelity with phase shift: 0.11344913090646003\n"
     ]
    },
    {
     "name": "stderr",
     "output_type": "stream",
     "text": [
      "100%|██████████| 100/100 [00:20<00:00,  4.93it/s]\n"
     ]
    },
    {
     "name": "stdout",
     "output_type": "stream",
     "text": [
      "Optimized\n",
      "Infidelity: 0.9998654046944938\n",
      "Infidelity with phase shift: 5.03582928579327e-07\n"
     ]
    },
    {
     "name": "stderr",
     "output_type": "stream",
     "text": [
      "100%|██████████| 100/100 [09:53<00:00,  5.94s/it]"
     ]
    },
    {
     "name": "stdout",
     "output_type": "stream",
     "text": [
      "Robust\n",
      "Infidelity: 0.9620128723581218\n",
      "Infidelity with phase shift: 2.2400352095541486e-05\n"
     ]
    },
    {
     "name": "stderr",
     "output_type": "stream",
     "text": [
      "\n"
     ]
    }
   ],
   "source": [
    "noise_flag = False\n",
    "primitive_flag = True\n",
    "segment_count = segment_count_primitive\n",
    "optimization_count = 40\n",
    "result_primitive = scheme_optimization(\n",
    "    primitive_flag, noise_flag, segment_count, optimization_count\n",
    ")\n",
    "print(\"Primitive\")\n",
    "print(\"Infidelity:\", result_primitive.output[\"infidelity\"][\"value\"])\n",
    "print(\n",
    "    \"Infidelity with phase shift:\",\n",
    "    result_primitive.output[\"infidelity_with_phase_shift\"][\"value\"],\n",
    ")\n",
    "\n",
    "noise_flag = False\n",
    "primitive_flag = False\n",
    "segment_count = segment_count_optimized\n",
    "optimization_count = 5\n",
    "result_optimized = scheme_optimization(\n",
    "    primitive_flag, noise_flag, segment_count, optimization_count\n",
    ")\n",
    "print(\"Optimized\")\n",
    "print(\"Infidelity:\", result_optimized.output[\"infidelity\"][\"value\"])\n",
    "print(\n",
    "    \"Infidelity with phase shift:\",\n",
    "    result_optimized.output[\"infidelity_with_phase_shift\"][\"value\"],\n",
    ")\n",
    "\n",
    "noise_flag = True\n",
    "segment_count_cr = segment_count_optimized\n",
    "optimization_count = 5\n",
    "result_robust = scheme_optimization(\n",
    "    primitive_flag, noise_flag, segment_count, optimization_count\n",
    ")\n",
    "print(\"Robust\")\n",
    "print(\"Infidelity:\", result_robust.output[\"infidelity\"][\"value\"])\n",
    "print(\n",
    "    \"Infidelity with phase shift:\",\n",
    "    result_robust.output[\"infidelity_with_phase_shift\"][\"value\"],\n",
    ")"
   ]
  },
  {
   "cell_type": "markdown",
   "metadata": {},
   "source": [
    "Even in the presence of crosstalk, the infidelity arising from the robust pulse (with phase shifts) is extremely low. Visualize the control schemes using the cell below."
   ]
  },
  {
   "cell_type": "code",
   "execution_count": 7,
   "metadata": {
    "scrolled": false
   },
   "outputs": [
    {
     "data": {
      "image/png": "[encoded data removed]",
      "text/plain": [
       "<Figure size 504x288 with 2 Axes>"
      ]
     },
     "metadata": {
      "needs_background": "light"
     },
     "output_type": "display_data"
    },
    {
     "data": {
      "image/png": "[encoded data removed]",
      "text/plain": [
       "<Figure size 504x288 with 2 Axes>"
      ]
     },
     "metadata": {
      "needs_background": "light"
     },
     "output_type": "display_data"
    },
    {
     "data": {
      "image/png": "[encoded data removed]",
      "text/plain": [
       "<Figure size 504x288 with 2 Axes>"
      ]
     },
     "metadata": {
      "needs_background": "light"
     },
     "output_type": "display_data"
    }
   ],
   "source": [
    "# Primitive\n",
    "omega_1x_primitive = [\n",
    "    {\"duration\": d[\"duration\"] * micro, \"value\": d[\"value\"] * Mega}\n",
    "    for d in result_primitive.output[\"drive_1x\"]\n",
    "]\n",
    "omega_1y_primitive = [\n",
    "    {\"duration\": d[\"duration\"] * micro, \"value\": d[\"value\"] * Mega}\n",
    "    for d in result_primitive.output[\"drive_1y\"]\n",
    "]\n",
    "\n",
    "plot_controls(\n",
    "    plt.figure(),\n",
    "    {\n",
    "        \"$\\\\Omega_{x}$\": omega_1x_primitive,\n",
    "        \"$\\\\Omega_{y}$\": omega_1y_primitive,\n",
    "    },\n",
    ")\n",
    "plt.suptitle(\"Primitive\", fontsize=14)\n",
    "plt.show()\n",
    "\n",
    "# Optimized\n",
    "omega_1x_optimized = [\n",
    "    {\"duration\": d[\"duration\"] * micro, \"value\": d[\"value\"] * Mega}\n",
    "    for d in result_optimized.output[\"drive_1x\"]\n",
    "]\n",
    "omega_1y_optimized = [\n",
    "    {\"duration\": d[\"duration\"] * micro, \"value\": d[\"value\"] * Mega}\n",
    "    for d in result_optimized.output[\"drive_1y\"]\n",
    "]\n",
    "plot_controls(\n",
    "    plt.figure(),\n",
    "    {\n",
    "        \"$\\\\Omega_{x}$\": omega_1x_optimized,\n",
    "        \"$\\\\Omega_{y}$\": omega_1y_optimized,\n",
    "    },\n",
    ")\n",
    "plt.suptitle(\"Optimized\", fontsize=14)\n",
    "plt.show()\n",
    "\n",
    "# Robust\n",
    "omega_1x_robust = [\n",
    "    {\"duration\": d[\"duration\"] * micro, \"value\": d[\"value\"] * Mega}\n",
    "    for d in result_robust.output[\"drive_1x\"]\n",
    "]\n",
    "omega_1y_robust = [\n",
    "    {\"duration\": d[\"duration\"] * micro, \"value\": d[\"value\"] * Mega}\n",
    "    for d in result_robust.output[\"drive_1y\"]\n",
    "]\n",
    "plot_controls(\n",
    "    plt.figure(),\n",
    "    {\n",
    "        \"$\\\\Omega_{x}$\": omega_1x_robust,\n",
    "        \"$\\\\Omega_{y}$\": omega_1y_robust,\n",
    "    },\n",
    ")\n",
    "plt.suptitle(\"Robust\", fontsize=14)\n",
    "plt.show()"
   ]
  },
  {
   "cell_type": "markdown",
   "metadata": {},
   "source": [
    "The above plots display the control pulses ($\\Omega_x$ and $\\Omega_y$) for the primitive, optimized and robust schemes, respectively."
   ]
  },
  {
   "cell_type": "markdown",
   "metadata": {},
   "source": [
    "## Verifying accuracy and robustness of Q-CTRL cross resonance gate\n",
    "\n",
    "Use the controls obtained above to calculate the exact time evolution determined by the Hamiltonian in the four-level approximation. In the cell below, the evolution dynamics is calculated for each scheme with a batch of crosstalk amplitudes. You can then extract both the noise-free and the noisy dynamics from the result.\n",
    "\n",
    "First, verify the noise-free operations: compare the noise-free operational infidelities and examine the evolution of an equal superposition of the four lowest 2-qubit states, $|\\psi_0\\rangle =\\frac{1}{2}\\left(|00\\rangle-i|01\\rangle+i|10\\rangle+|11\\rangle\\right)$."
   ]
  },
  {
   "cell_type": "code",
   "execution_count": 8,
   "metadata": {},
   "outputs": [
    {
     "name": "stderr",
     "output_type": "stream",
     "text": [
      "  0%|          | 0/100 [00:02<?, ?it/s]"
     ]
    },
    {
     "name": "stdout",
     "output_type": "stream",
     "text": [
      "Your task calculate_graph is currently in a queue waiting to be processed.\n"
     ]
    },
    {
     "name": "stderr",
     "output_type": "stream",
     "text": [
      "100%|██████████| 100/100 [00:02<00:00, 34.25it/s]\n",
      "  0%|          | 0/100 [00:04<?, ?it/s]"
     ]
    },
    {
     "name": "stdout",
     "output_type": "stream",
     "text": [
      "Your task calculate_graph has started.\n"
     ]
    },
    {
     "name": "stderr",
     "output_type": "stream",
     "text": [
      "100%|██████████| 100/100 [00:06<00:00, 15.55it/s]\n",
      "100%|██████████| 100/100 [00:08<00:00, 11.57it/s]"
     ]
    },
    {
     "name": "stdout",
     "output_type": "stream",
     "text": [
      "Noise-free operational infidelities\n",
      "Primitive\t\t Optimized\t\t\t Robust\n",
      "0.11344913090646003 \t 5.03582928579327e-07 \t 2.52207268292004e-07\n"
     ]
    },
    {
     "name": "stderr",
     "output_type": "stream",
     "text": [
      "\n"
     ]
    }
   ],
   "source": [
    "schemes_results = {\n",
    "    \"Primitive\": result_primitive,\n",
    "    \"Optimized\": result_optimized,\n",
    "    \"Robust\": result_robust,\n",
    "}\n",
    "initial_state = (np.array([[1, -1j, 1j, 0, 1, 0, 0, 0, 0, 0]]) / 2).T\n",
    "crosstalks_count = 101\n",
    "crosstalk_array = np.linspace(-1, 1, crosstalks_count)\n",
    "infidelities = []\n",
    "probabilities = []\n",
    "\n",
    "for scheme in gate_schemes:\n",
    "\n",
    "    with qctrl.create_graph() as graph:\n",
    "\n",
    "        # Construct drive terms\n",
    "        drive_1x_values = np.array(\n",
    "            [d[\"value\"] for d in schemes_results[scheme].output[\"drive_1x\"]]\n",
    "        )\n",
    "        drive_1y_values = np.array(\n",
    "            [d[\"value\"] for d in schemes_results[scheme].output[\"drive_1y\"]]\n",
    "        )\n",
    "        drive_1x = qctrl.operations.pwc_signal(\n",
    "            values=np.repeat(drive_1x_values[None], crosstalks_count, axis=0),\n",
    "            duration=duration,\n",
    "        )\n",
    "        drive_1y = qctrl.operations.pwc_signal(\n",
    "            values=np.repeat(drive_1y_values[None], crosstalks_count, axis=0),\n",
    "            duration=duration,\n",
    "        )\n",
    "        drive_1x_term = qctrl.operations.pwc_operator(\n",
    "            signal=drive_1x, operator=drive_1x_operator\n",
    "        )\n",
    "        drive_1y_term = qctrl.operations.pwc_operator(\n",
    "            signal=drive_1y, operator=drive_1y_operator\n",
    "        )\n",
    "\n",
    "        # Construct crosstalk terms\n",
    "        drive_1x_batched = qctrl.operations.pwc_signal(\n",
    "            values=drive_1x_values * crosstalk_array[:, None], duration=duration\n",
    "        )\n",
    "        drive_1y_batched = qctrl.operations.pwc_signal(\n",
    "            values=drive_1y_values * crosstalk_array[:, None], duration=duration\n",
    "        )\n",
    "        crosstalk_1x = qctrl.operations.pwc_operator(\n",
    "            signal=drive_1x_batched, operator=crosstalk_constant * drive_2x_operator\n",
    "        )\n",
    "        crosstalk_1y = qctrl.operations.pwc_operator(\n",
    "            signal=drive_1y_batched, operator=crosstalk_constant * drive_2y_operator\n",
    "        )\n",
    "\n",
    "        # Construct remaining Hamiltonian terms\n",
    "        fixed_frequency_1_term = qctrl.operations.constant_pwc_operator(\n",
    "            operator=np.repeat(\n",
    "                ((Delta - delta_1 / 2 + epsilon) * n1[:, perm_trunc][perm_trunc, :])[\n",
    "                    None\n",
    "                ],\n",
    "                crosstalks_count,\n",
    "                axis=0,\n",
    "            ),\n",
    "            duration=duration,\n",
    "        )\n",
    "        fixed_frequency_2_term = qctrl.operations.constant_pwc_operator(\n",
    "            operator=np.repeat(\n",
    "                ((-delta_2 / 2 + epsilon) * n2[:, perm_trunc][perm_trunc, :])[None],\n",
    "                crosstalks_count,\n",
    "                axis=0,\n",
    "            ),\n",
    "            duration=duration,\n",
    "        )\n",
    "        fixed_anharmonicity_1_term = qctrl.operations.constant_pwc_operator(\n",
    "            operator=np.repeat(\n",
    "                (delta_1 * np.matmul(n1, n1)[:, perm_trunc][perm_trunc, :] / 2)[None],\n",
    "                crosstalks_count,\n",
    "                axis=0,\n",
    "            ),\n",
    "            duration=duration,\n",
    "        )\n",
    "        fixed_anharmonicity_2_term = qctrl.operations.constant_pwc_operator(\n",
    "            operator=np.repeat(\n",
    "                (delta_2 * np.matmul(n2, n2)[:, perm_trunc][perm_trunc, :] / 2)[None],\n",
    "                crosstalks_count,\n",
    "                axis=0,\n",
    "            ),\n",
    "            duration=duration,\n",
    "        )\n",
    "        fixed_coupling_term = qctrl.operations.constant_pwc_operator(\n",
    "            operator=np.repeat(\n",
    "                (\n",
    "                    g\n",
    "                    * (np.kron(b.T.conj(), b) + np.kron(b, b.T.conj()))[:, perm_trunc][\n",
    "                        perm_trunc, :\n",
    "                    ]\n",
    "                )[None],\n",
    "                crosstalks_count,\n",
    "                axis=0,\n",
    "            ),\n",
    "            duration=duration,\n",
    "        )\n",
    "\n",
    "        # Generate Hamiltonian and evolution operator\n",
    "        hamiltonian = qctrl.operations.pwc_sum(\n",
    "            [\n",
    "                drive_1x_term,\n",
    "                drive_1y_term,\n",
    "                crosstalk_1x,\n",
    "                crosstalk_1y,\n",
    "                fixed_frequency_1_term,\n",
    "                fixed_frequency_2_term,\n",
    "                fixed_anharmonicity_1_term,\n",
    "                fixed_anharmonicity_2_term,\n",
    "                fixed_coupling_term,\n",
    "            ]\n",
    "        )\n",
    "        u_H = qctrl.operations.time_evolution_operators_pwc(\n",
    "            hamiltonian=hamiltonian,\n",
    "            sample_times=np.array([duration]),\n",
    "        )\n",
    "\n",
    "        # Construct phase correction terms\n",
    "        phase_shift_hamiltonian = qctrl.operations.constant_pwc_operator(\n",
    "            1.0,\n",
    "            schemes_results[scheme].output[\"phase1\"][0][\"value\"] * phase_shift_operator1\n",
    "            + schemes_results[scheme].output[\"phase2\"][0][\"value\"]\n",
    "            * phase_shift_operator2,\n",
    "        )\n",
    "        u_phase = qctrl.operations.time_evolution_operators_pwc(\n",
    "            hamiltonian=phase_shift_hamiltonian,\n",
    "            sample_times=np.array([1.0]),\n",
    "        )\n",
    "\n",
    "        # Obtain infidelity\n",
    "        target_operator_with_phase_shift = qctrl.operations.target(\n",
    "            operator=qctrl.operations.matmul(u_phase[0], zx_half)\n",
    "        )\n",
    "        infidelity_with_phase_shift = qctrl.operations.infidelity_pwc(\n",
    "            hamiltonian=hamiltonian,\n",
    "            noise_operators=[],\n",
    "            target_operator=target_operator_with_phase_shift,\n",
    "            name=\"infidelity\",\n",
    "        )\n",
    "\n",
    "        # Obtain noise-free state evolution\n",
    "        final_unitary = qctrl.operations.matmul(\n",
    "            qctrl.operations.conjugate(u_phase),\n",
    "            u_H,\n",
    "        )\n",
    "        final_state = qctrl.operations.matmul(\n",
    "            final_unitary[int(crosstalks_count / 2), 0],\n",
    "            initial_state,\n",
    "            name=\"final_state\",\n",
    "        )\n",
    "\n",
    "    # Calculate simulation\n",
    "    graph_result = qctrl.functions.calculate_graph(\n",
    "        graph=graph,\n",
    "        output_node_names=[\n",
    "            \"infidelity\",\n",
    "            \"final_state\",\n",
    "        ],\n",
    "    )\n",
    "\n",
    "    infidelities.append(graph_result.output[\"infidelity\"][\"value\"])\n",
    "    probabilities.append(np.abs(graph_result.output[\"final_state\"][\"value\"]).T[0] ** 2)\n",
    "\n",
    "print(\"Noise-free operational infidelities\")\n",
    "print(\"Primitive\\t\\t Optimized\\t\\t\\t Robust\")\n",
    "print(\n",
    "    infidelities[0][int(crosstalks_count / 2)],\n",
    "    \"\\t\",\n",
    "    infidelities[1][int(crosstalks_count / 2)],\n",
    "    \"\\t\",\n",
    "    infidelities[2][int(crosstalks_count / 2)],\n",
    ")"
   ]
  },
  {
   "cell_type": "code",
   "execution_count": 9,
   "metadata": {},
   "outputs": [
    {
     "data": {
      "image/png": "[encoded data removed]",
      "text/plain": [
       "<Figure size 1080x360 with 3 Axes>"
      ]
     },
     "metadata": {
      "needs_background": "light"
     },
     "output_type": "display_data"
    }
   ],
   "source": [
    "gs = gridspec.GridSpec(1, 3, wspace=0.1)\n",
    "fig = plt.figure()\n",
    "fig.set_figheight(5)\n",
    "fig.set_figwidth(3.0 * 5)\n",
    "fig.suptitle(\"Final populations\", fontsize=16, y=1.01)\n",
    "\n",
    "ax = fig.add_subplot(gs[0])\n",
    "ax.tick_params(labelsize=14)\n",
    "langs = [\"|01>\", \"|10>\", \"Rest\"]\n",
    "population_primitive = [\n",
    "    probabilities[0][1],\n",
    "    probabilities[0][2],\n",
    "    1 - probabilities[0][1] - probabilities[0][2],\n",
    "]\n",
    "ax.bar(langs, population_primitive, color=colors[\"Primitive\"])\n",
    "ax.set_ylim(0.0, 0.55)\n",
    "ax.set_title(\"Primitive\", fontsize=14)\n",
    "ax.set_xlabel(\"States\", fontsize=14)\n",
    "ax.set_ylabel(\"Probability\", fontsize=14)\n",
    "\n",
    "ax = fig.add_subplot(gs[1])\n",
    "ax.tick_params(labelsize=14)\n",
    "population_optimized = [\n",
    "    probabilities[1][1],\n",
    "    probabilities[1][2],\n",
    "    1 - probabilities[1][1] - probabilities[1][2],\n",
    "]\n",
    "ax.bar(langs, population_optimized, color=colors[\"Optimized\"])\n",
    "ax.set_ylim(0.0, 0.55)\n",
    "ax.yaxis.set_ticklabels([])\n",
    "ax.set_title(\"Optimized\", fontsize=14)\n",
    "\n",
    "ax = fig.add_subplot(gs[2])\n",
    "ax.tick_params(labelsize=14)\n",
    "population_robust = [\n",
    "    probabilities[2][1],\n",
    "    probabilities[2][2],\n",
    "    1 - probabilities[2][1] - probabilities[2][2],\n",
    "]\n",
    "ax.bar(langs, population_robust, color=colors[\"Robust\"])\n",
    "ax.set_ylim(0.0, 0.55)\n",
    "ax.yaxis.set_ticklabels([])\n",
    "ax.set_title(\"Robust\", fontsize=14)\n",
    "\n",
    "plt.show()"
   ]
  },
  {
   "cell_type": "markdown",
   "metadata": {},
   "source": [
    "The figure shows the final state after operating the respective gates on the initial state $|\\psi_0\\rangle =\\frac{1}{2}\\left(|00\\rangle-i|01\\rangle+i|10\\rangle+|11\\rangle\\right)$. The final state after an ideal operation of the CR gate should be the Bell-state $|\\psi_f\\rangle =\\frac{1}{2}\\left(|01\\rangle+|10\\rangle\\right)$. The populations are displayed to assess each scheme. Clearly, there is non-negligible population leakage in the primitive scheme, while both the Optimized and Robust schemes perform almost perfectly (up to a small asymmetry).\n",
    "\n",
    "Next, assess the robustness of the different control solutions to crosstalk noise."
   ]
  },
  {
   "cell_type": "code",
   "execution_count": 10,
   "metadata": {},
   "outputs": [
    {
     "data": {
      "image/png": "[encoded data removed]",
      "text/plain": [
       "<Figure size 1080x360 with 1 Axes>"
      ]
     },
     "metadata": {
      "needs_background": "light"
     },
     "output_type": "display_data"
    }
   ],
   "source": [
    "fig, ax = plt.subplots()\n",
    "fig.set_figheight(5)\n",
    "fig.set_figwidth(15)\n",
    "plt.title(\"Scheme robustness\", fontsize=16, y=1)\n",
    "ax.tick_params(labelsize=14)\n",
    "\n",
    "for ind, infidelity in enumerate(infidelities):\n",
    "    name = gate_schemes[ind]\n",
    "    ax.plot(crosstalk_array, infidelity, label=name, color=colors[name], linewidth=2)\n",
    "    ax.set_xlabel(\"Relative crosstalk\", fontsize=14)\n",
    "    ax.set_ylabel(\"Infidelities\", fontsize=14)\n",
    "    ax.legend(loc=\"best\", bbox_to_anchor=(0.16, 0.5), fontsize=14)\n",
    "plt.show()"
   ]
  },
  {
   "cell_type": "markdown",
   "metadata": {},
   "source": [
    "The figure demonstrates the different noise (crosstalk) susceptibilities (in terms of operational infidelity) of the Primitive, Optimized and Robust controls. The Robust scheme has a much broader low-infidelity region."
   ]
  }
 ],
 "metadata": {
  "kernelspec": {
   "display_name": "Python 3",
   "language": "python",
   "name": "python3"
  },
  "language_info": {
   "codemirror_mode": {
    "name": "ipython",
    "version": 3
   },
   "file_extension": ".py",
   "mimetype": "text/x-python",
   "name": "python",
   "nbconvert_exporter": "python",
   "pygments_lexer": "ipython3",
   "version": "3.7.6"
  },
  "toc": {
   "base_numbering": 1,
   "nav_menu": {},
   "number_sections": true,
   "sideBar": true,
   "skip_h1_title": true,
   "title_cell": "Table of Contents",
   "title_sidebar": "Contents",
   "toc_cell": true,
   "toc_position": {
    "height": "calc(100% - 180px)",
    "left": "10px",
    "top": "150px",
    "width": "288px"
   },
   "toc_section_display": true,
   "toc_window_display": false
  }
 },
 "nbformat": 4,
 "nbformat_minor": 2
}
