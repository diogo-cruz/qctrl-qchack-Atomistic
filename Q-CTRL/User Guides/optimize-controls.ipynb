{
 "cells": [
  {
   "cell_type": "markdown",
   "metadata": {},
   "source": [
    "# Optimize controls\n",
    "**Highly-configurable non-linear optimization framework for quantum control**\n",
    "\n",
    "The Q-CTRL Python package exposes a highly-flexible optimization engine for general-purpose gradient-based optimization.\n",
    "\n",
    "The optimization engine provides a large, modular collection of configuration options in order to support a wide variety of systems and constraints relevant to quantum control. These options can be combined in different ways to produce optimization solutions tailored to specific systems. In this guide we demonstrate optimization using several different types of systems and constraints, to give a taste of the available flexibility. All the techniques presented here can be cross-combined to yield an even wider class of supported configurations."
   ]
  },
  {
   "cell_type": "markdown",
   "metadata": {},
   "source": [
    "## Imports and initialization"
   ]
  },
  {
   "cell_type": "code",
   "execution_count": 1,
   "metadata": {
    "pycharm": {
     "is_executing": true
    }
   },
   "outputs": [],
   "source": [
    "import matplotlib.pyplot as plt\n",
    "import numpy as np\n",
    "from qctrlvisualizer import get_qctrl_style, plot_controls\n",
    "\n",
    "from qctrl import Qctrl\n",
    "\n",
    "plt.style.use(get_qctrl_style())\n",
    "\n",
    "# Sparse matrix imports\n",
    "from scipy.sparse import coo_matrix\n",
    "\n",
    "# Starting a session with the API\n",
    "qctrl = Qctrl()"
   ]
  },
  {
   "cell_type": "markdown",
   "metadata": {},
   "source": [
    "## Worked example: Robust control of a single qubit\n",
    "\n",
    "We first present a detailed worked example of robust optimization in a single-qubit system. Specifically, we consider a single-qubit system represented by the following Hamiltonian:\n",
    "\n",
    "\\begin{align*}\n",
    "H(t) &= \\frac{\\nu}{2} \\sigma_{z} + \\frac{1}{2}\\left(\\gamma(t)\\sigma_{-} + \\gamma^*(t)\\sigma_{+}\\right) + \\frac{\\alpha(t)}{2} \\sigma_{z} + \\beta(t) \\sigma_{z} \\,, \n",
    "\\end{align*}\n",
    "\n",
    "where $\\nu$ is the qubit detuning, $\\gamma(t)$ and $\\alpha(t)$ are, respectively, complex and real time-dependent pulses, and $\\beta(t)$ is a small, slowly-varying stochastic dephasing noise process and $\\sigma_{\\pm}$ are the qubit ladder operators and $\\sigma_{z}$ is the Pauli-Z operator.\n",
    "\n",
    "The functions of time $\\gamma(t)$ and $\\alpha(t)$ are not predetermined, and instead are optimized by the Q-CTRL optimization engine in order to achieve some target operation."
   ]
  },
  {
   "cell_type": "markdown",
   "metadata": {},
   "source": [
    "### Defining the graph\n",
    "\n",
    "The flexible Q-CTRL optimization engine expresses all optimization problems as data flow graphs, which describe how optimization variables (variables that can be tuned by the optimizer) are transformed into the cost function (the objective that the optimizer attempts to minimize).\n",
    "\n",
    "Below we show how to create a data flow graph for optimizing the single-qubit system described above. Comments in the code explain the details of each step."
   ]
  },
  {
   "cell_type": "code",
   "execution_count": 2,
   "metadata": {
    "pycharm": {
     "is_executing": true,
     "name": "#%%\n"
    }
   },
   "outputs": [],
   "source": [
    "# Define standard matrices\n",
    "sigma_y = np.array([[0, -1j], [1j, 0]])\n",
    "sigma_z = np.array([[1, 0], [0, -1]])\n",
    "sigma_m = np.array([[0, 1], [0, 0]])\n",
    "\n",
    "# Define physical constants\n",
    "nu = 2 * np.pi * 0.5 * 1e6  # Hz\n",
    "gamma_max = 2 * np.pi * 0.5e6  # Hz\n",
    "alpha_max = 2 * np.pi * 0.5e6  # Hz\n",
    "segment_count = 50\n",
    "duration = 10e-6  # s\n",
    "\n",
    "# Define the data flow graph describing the system\n",
    "with qctrl.create_graph() as graph:\n",
    "\n",
    "    # Create a constant piecewise-constant (PWC) operator representing the\n",
    "    # detuning term\n",
    "    detuning = qctrl.operations.constant_pwc_operator(\n",
    "        duration=duration,\n",
    "        operator=nu * sigma_z / 2,\n",
    "    )\n",
    "\n",
    "    # Create a complex PWC signal, with optimizable modulus and phase,\n",
    "    # representing gamma(t)\n",
    "    gamma = qctrl.operations.complex_pwc_signal(\n",
    "        moduli=qctrl.operations.bounded_optimization_variable(\n",
    "            count=segment_count,\n",
    "            lower_bound=0,\n",
    "            upper_bound=gamma_max,\n",
    "        ),\n",
    "        phases=qctrl.operations.unbounded_optimization_variable(\n",
    "            count=segment_count,\n",
    "            initial_lower_bound=0,\n",
    "            initial_upper_bound=2 * np.pi,\n",
    "        ),\n",
    "        duration=duration,\n",
    "        name=\"gamma\",\n",
    "    )\n",
    "    # Create a PWC operator representing the drive term\n",
    "    drive = qctrl.operations.pwc_operator_hermitian_part(\n",
    "        qctrl.operations.pwc_operator(signal=gamma, operator=sigma_m)\n",
    "    )\n",
    "\n",
    "    # Create a real PWC signal, with optimizable amplitude, representing\n",
    "    # alpha(t)\n",
    "    alpha = qctrl.operations.pwc_signal(\n",
    "        values=qctrl.operations.bounded_optimization_variable(\n",
    "            count=segment_count, lower_bound=-alpha_max, upper_bound=alpha_max\n",
    "        ),\n",
    "        duration=duration,\n",
    "        name=\"alpha\",\n",
    "    )\n",
    "    # Create a PWC operator representing the clock shift term\n",
    "    shift = qctrl.operations.pwc_operator(signal=alpha, operator=sigma_z / 2)\n",
    "\n",
    "    # Create a constant PWC operator representing the dephasing noise\n",
    "    # (note that we scale by 1/duration to ensure consistent units between\n",
    "    # the noise Hamiltonian and the control Hamiltonian)\n",
    "    dephasing = qctrl.operations.constant_pwc_operator(\n",
    "        duration=duration, operator=sigma_z / duration\n",
    "    )\n",
    "\n",
    "    # Create the target operator\n",
    "    target_operator = qctrl.operations.target(operator=sigma_y)\n",
    "\n",
    "    # Create infidelity\n",
    "    infidelity = qctrl.operations.infidelity_pwc(\n",
    "        hamiltonian=qctrl.operations.pwc_sum([detuning, drive, shift]),\n",
    "        noise_operators=[dephasing],\n",
    "        target_operator=target_operator,\n",
    "        name=\"infidelity\",\n",
    "    )"
   ]
  },
  {
   "cell_type": "markdown",
   "metadata": {},
   "source": [
    "### Running an optimization\n",
    "\n",
    "With the graph object created, an optimization can be run using the [`qctrl.functions.calculate_optimization`](https://docs.q-ctrl.com/boulder-opal/references/qctrl/Functions/calculate_optimization.html)  function. The cost, the outputs, and the graph must be provided. The function returns the results of the optimization."
   ]
  },
  {
   "cell_type": "code",
   "execution_count": 3,
   "metadata": {},
   "outputs": [
    {
     "name": "stderr",
     "output_type": "stream",
     "text": [
      "100%|██████████| 100/100 [00:08<00:00, 11.58it/s]\n"
     ]
    }
   ],
   "source": [
    "optimization_result = qctrl.functions.calculate_optimization(\n",
    "    cost_node_name=\"infidelity\",\n",
    "    output_node_names=[\"alpha\", \"gamma\"],\n",
    "    graph=graph,\n",
    ")"
   ]
  },
  {
   "cell_type": "code",
   "execution_count": 4,
   "metadata": {},
   "outputs": [
    {
     "name": "stdout",
     "output_type": "stream",
     "text": [
      "Optimized cost:\t 1.4746120670570816e-13\n"
     ]
    }
   ],
   "source": [
    "print(\"Optimized cost:\\t\", optimization_result.cost)"
   ]
  },
  {
   "cell_type": "markdown",
   "metadata": {},
   "source": [
    "### Visualizing the pulses\n",
    "\n",
    "We may use the [`qctrlvisualizer`](https://docs.q-ctrl.com/boulder-opal/references/qctrl-visualizer/qctrlvisualizer.html#qctrlvisualizer.plot_controls) package to plot the optimized pulses, which are available in the result object."
   ]
  },
  {
   "cell_type": "code",
   "execution_count": 5,
   "metadata": {},
   "outputs": [
    {
     "data": {
      "image/png": "[encoded data removed]",
      "text/plain": [
       "<Figure size 504x432 with 3 Axes>"
      ]
     },
     "metadata": {
      "needs_background": "light"
     },
     "output_type": "display_data"
    }
   ],
   "source": [
    "plot_controls(\n",
    "    plt.figure(),\n",
    "    controls={\n",
    "        \"$\\\\alpha$\": optimization_result.output[\"alpha\"],\n",
    "        \"$\\\\gamma$\": optimization_result.output[\"gamma\"],\n",
    "    },\n",
    ")\n",
    "plt.show()"
   ]
  },
  {
   "cell_type": "markdown",
   "metadata": {},
   "source": [
    "## Example: Time-symmetrized pulses\n",
    "\n",
    "Next we show how time symmetry can be incorporated into the optimization problem. In some cases, forcing control pulses to exhibit time symmetry can yield natural noise robustness while simplifying the optimization problem (by halving the dimensionality of the search space). In this example, we perform a robust optimization of a single qubit using symmetric pulses. The single-qubit system is represented by the following Hamiltonian:\n",
    "\n",
    "\\begin{align*}\n",
    "H(t) &= \\frac{\\nu}{2} \\sigma_{z} + \\frac{1}{2}\\left(\\gamma(t)\\sigma_{-} + \\gamma^*(t)\\sigma_{+}\\right) + \\frac{\\alpha(t)}{2} \\sigma_{z} + \\beta(t) \\sigma_{z} \\,, \n",
    "\\end{align*}\n",
    "\n",
    "where $\\nu$ is the qubit detuning, $\\gamma(t)$ and $\\alpha(t)$ are, respectively, complex and real time-dependent pulses, and $\\beta(t)$ is a small, slowly-varying stochastic dephasing noise process.\n",
    "\n",
    "To enforce time symmetry, we create the control signals in two steps: we first create a standard signal for the first half of the gate duration, and then we create a copy (depending on the same underlying control parameters) that gets reflected and concatenated with the original signal."
   ]
  },
  {
   "cell_type": "code",
   "execution_count": 6,
   "metadata": {},
   "outputs": [
    {
     "name": "stderr",
     "output_type": "stream",
     "text": [
      "100%|██████████| 100/100 [00:17<00:00,  5.78it/s]\n"
     ]
    },
    {
     "name": "stdout",
     "output_type": "stream",
     "text": [
      "Optimized cost:\t 2.021630070935256e-10\n"
     ]
    },
    {
     "data": {
      "image/png": "[encoded data removed]",
      "text/plain": [
       "<Figure size 504x432 with 3 Axes>"
      ]
     },
     "metadata": {
      "needs_background": "light"
     },
     "output_type": "display_data"
    }
   ],
   "source": [
    "# Define standard matrices\n",
    "sigma_y = np.array([[0, -1j], [1j, 0]])\n",
    "sigma_z = np.array([[1, 0], [0, -1]])\n",
    "sigma_m = np.array([[0, 1], [0, 0]])\n",
    "\n",
    "# Define physical constraints\n",
    "gamma_max = 2 * np.pi * 8.5e6  # Hz\n",
    "alpha_max = 2 * np.pi * 8.5e6  # Hz\n",
    "nu = 2 * np.pi * 6e6  # Hz\n",
    "segment_count = 50\n",
    "duration = 154e-9  # s\n",
    "\n",
    "# Create graph object\n",
    "with qctrl.create_graph() as graph:\n",
    "\n",
    "    # Create detuning term\n",
    "    detuning = qctrl.operations.constant_pwc_operator(\n",
    "        duration=duration,\n",
    "        operator=nu * sigma_z / 2,\n",
    "    )\n",
    "\n",
    "    # Create a complex PWC signal describing the first half of gamma(t)\n",
    "    half_gamma = qctrl.operations.complex_pwc_signal(\n",
    "        moduli=qctrl.operations.bounded_optimization_variable(\n",
    "            count=segment_count, lower_bound=0, upper_bound=gamma_max\n",
    "        ),\n",
    "        phases=qctrl.operations.unbounded_optimization_variable(\n",
    "            count=segment_count,\n",
    "            initial_lower_bound=0,\n",
    "            initial_upper_bound=2 * np.pi,\n",
    "        ),\n",
    "        duration=duration / 2,\n",
    "    )\n",
    "    # Define gamma(t) by symmetrizing half_gamma\n",
    "    gamma = qctrl.operations.symmetrize_pwc(\n",
    "        half_gamma,\n",
    "        name=\"gamma\",\n",
    "    )\n",
    "    # Create drive term\n",
    "    drive = qctrl.operations.pwc_operator_hermitian_part(\n",
    "        qctrl.operations.pwc_operator(signal=gamma, operator=sigma_m)\n",
    "    )\n",
    "\n",
    "    # Create alpha(t) similarly\n",
    "    alpha = qctrl.operations.symmetrize_pwc(\n",
    "        qctrl.operations.pwc_signal(\n",
    "            values=qctrl.operations.bounded_optimization_variable(\n",
    "                count=segment_count, lower_bound=-alpha_max, upper_bound=alpha_max\n",
    "            ),\n",
    "            duration=duration / 2,\n",
    "        ),\n",
    "        name=\"alpha\",\n",
    "    )\n",
    "    # Create clock shift term\n",
    "    shift = qctrl.operations.pwc_operator(signal=alpha, operator=sigma_z / 2)\n",
    "\n",
    "    # Create dephasing noise term\n",
    "    dephasing = qctrl.operations.constant_pwc_operator(\n",
    "        duration=duration, operator=sigma_z / duration\n",
    "    )\n",
    "\n",
    "    # Create target\n",
    "    target_operator = qctrl.operations.target(operator=sigma_y)\n",
    "\n",
    "    # Create infidelity\n",
    "    infidelity = qctrl.operations.infidelity_pwc(\n",
    "        qctrl.operations.pwc_sum([detuning, drive, shift]),\n",
    "        target_operator,\n",
    "        [dephasing],\n",
    "        name=\"infidelity\",\n",
    "    )\n",
    "\n",
    "# Run the optimization\n",
    "optimization_result = qctrl.functions.calculate_optimization(\n",
    "    cost_node_name=\"infidelity\",\n",
    "    output_node_names=[\"alpha\", \"gamma\"],\n",
    "    graph=graph,\n",
    ")\n",
    "\n",
    "print(\"Optimized cost:\\t\", optimization_result.cost)\n",
    "\n",
    "# Plot the optimized controls\n",
    "plot_controls(\n",
    "    plt.figure(),\n",
    "    controls={\n",
    "        \"$\\\\alpha$\": optimization_result.output[\"alpha\"],\n",
    "        \"$\\\\gamma$\": optimization_result.output[\"gamma\"],\n",
    "    },\n",
    ")\n",
    "plt.show()"
   ]
  },
  {
   "cell_type": "markdown",
   "metadata": {
    "pycharm": {
     "name": "#%% md\n"
    }
   },
   "source": [
    "## Example: Non-linear dependence on control pulses\n",
    "\n",
    "We next present an example showing how a system with non-linear dependence between controls and Hamiltonian may be optimized. We consider an artificial single-qubit system represented by the following Hamiltonian:\n",
    "\n",
    "\\begin{align*}\n",
    "H(t) &= \\alpha_1(t)\\sigma_x + \\frac{\\alpha_1(t)^2}{\\alpha_{\\text{max}}}\\sigma_y + \\alpha_2(t)\\sigma_z \\,,  \n",
    "\\end{align*}\n",
    "\n",
    "where $\\alpha_1(t)$ and $\\alpha_2(t)$ are real time-dependent pulses, and we note the non-linear dependence of the Hamiltonian on $\\alpha_1(t)$. While here we have chosen a simple artificial non-linearity for the sake of convenience and brevity, the approach we demonstrate extends trivially to far more complex, physically-relevant situations.\n",
    "\n",
    "Expressing non-linear dependence between control parameters and Hamiltonians is achieved by performing standard arithmetical operations on the control parameters prior to constructing signals. In this case the operations are very simple&mdash;we simply square and re-scale the parameters describing the $\\alpha_1(t)$ values&mdash;but in general any combination of supported primitive operations may be used."
   ]
  },
  {
   "cell_type": "code",
   "execution_count": 7,
   "metadata": {
    "pycharm": {
     "is_executing": true,
     "name": "#%%\n"
    }
   },
   "outputs": [
    {
     "name": "stderr",
     "output_type": "stream",
     "text": [
      "100%|██████████| 100/100 [00:05<00:00, 17.33it/s]\n"
     ]
    },
    {
     "name": "stdout",
     "output_type": "stream",
     "text": [
      "Optimized cost:\t 4.440892098500626e-16\n"
     ]
    },
    {
     "data": {
      "image/png": "[encoded data removed]",
      "text/plain": [
       "<Figure size 504x432 with 3 Axes>"
      ]
     },
     "metadata": {
      "needs_background": "light"
     },
     "output_type": "display_data"
    }
   ],
   "source": [
    "# Define Pauli matrices\n",
    "sigma_x = np.array([[0, 1], [1, 0]])\n",
    "sigma_y = np.array([[0, -1j], [1j, 0]])\n",
    "sigma_z = np.array([[1, 0], [0, -1]])\n",
    "\n",
    "# Define physical constraints\n",
    "alpha_max = 2 * np.pi * 6e6  # Hz\n",
    "segment_count = 40\n",
    "duration = 200e-9  # s\n",
    "\n",
    "# Create graph object\n",
    "with qctrl.create_graph() as graph:\n",
    "\n",
    "    # Create the values backing the alpha_1(t) signal\n",
    "    alpha_1_values = qctrl.operations.bounded_optimization_variable(\n",
    "        count=segment_count,\n",
    "        lower_bound=-alpha_max,\n",
    "        upper_bound=alpha_max,\n",
    "    )\n",
    "\n",
    "    # Create the alpha_1(t) signal\n",
    "    alpha_1 = qctrl.operations.pwc_signal(\n",
    "        values=alpha_1_values, duration=duration, name=\"alpha_1\"\n",
    "    )\n",
    "\n",
    "    # Apply a non-linear transformation to create the alpha_1_squared(t) signal\n",
    "    alpha_1_squared_values = alpha_1_values * (alpha_1_values / alpha_max)\n",
    "    alpha_1_squared = qctrl.operations.pwc_signal(\n",
    "        values=alpha_1_squared_values, duration=duration, name=\"alpha_1_squared\"\n",
    "    )\n",
    "\n",
    "    # Create the alpha_2(t) signal\n",
    "    alpha_2 = qctrl.operations.pwc_signal(\n",
    "        values=qctrl.operations.bounded_optimization_variable(\n",
    "            count=segment_count, lower_bound=-alpha_max, upper_bound=alpha_max\n",
    "        ),\n",
    "        duration=duration,\n",
    "        name=\"alpha_2\",\n",
    "    )\n",
    "\n",
    "    # Create Hamiltonian terms\n",
    "    x_term = qctrl.operations.pwc_operator(signal=alpha_1, operator=sigma_x)\n",
    "    y_term = qctrl.operations.pwc_operator(signal=alpha_1_squared, operator=sigma_y)\n",
    "    z_term = qctrl.operations.pwc_operator(signal=alpha_2, operator=sigma_z)\n",
    "\n",
    "    target_operator = qctrl.operations.target(operator=sigma_x)\n",
    "\n",
    "    # Create infidelity\n",
    "    infidelity = qctrl.operations.infidelity_pwc(\n",
    "        qctrl.operations.pwc_sum(terms=[x_term, y_term, z_term]),\n",
    "        target_operator=target_operator,\n",
    "        name=\"infidelity\",\n",
    "    )\n",
    "\n",
    "# Run the optimization\n",
    "optimization_result = qctrl.functions.calculate_optimization(\n",
    "    cost_node_name=\"infidelity\",\n",
    "    output_node_names=[\"alpha_1\", \"alpha_1_squared\", \"alpha_2\"],\n",
    "    graph=graph,\n",
    ")\n",
    "\n",
    "print(\"Optimized cost:\\t\", optimization_result.cost)\n",
    "\n",
    "# Plot the optimized controls\n",
    "plot_controls(\n",
    "    plt.figure(),\n",
    "    controls={\n",
    "        \"$\\\\alpha_1$\": optimization_result.output[\"alpha_1\"],\n",
    "        \"$\\\\alpha_1^2$\": optimization_result.output[\"alpha_1_squared\"],\n",
    "        \"$\\\\alpha_2$\": optimization_result.output[\"alpha_2\"],\n",
    "    },\n",
    ")\n",
    "plt.show()"
   ]
  },
  {
   "cell_type": "markdown",
   "metadata": {},
   "source": [
    "## Example: Band-limited pulses with bounded slew rates\n",
    "\n",
    "Next we show how to optimize a system in which the rates of change of the controls are limited. Using this constraint can help to ensure that optimized controls can be reliably implemented on physical hardware (which may be subject to bandwidth limits). We consider a standard single-qubit system subject to dephasing noise:\n",
    "\n",
    "\\begin{align*}\n",
    "H(t) &= \\frac{1}{2} \\alpha_1(t)\\sigma_{x} + \\frac{1}{2} \\alpha_2(t) \\sigma_{z} + \\beta(t) \\sigma_{z} \\,, \n",
    "\\end{align*}\n",
    "\n",
    "where $\\alpha_1(t)$ and $\\alpha_2(t)$ are real time-dependent pulse and $\\beta(t)$ is a small, slowly-varying stochastic dephasing noise process. In this case, we enforce a maximum slew rate constraint on $\\alpha_1(t)$ and $\\alpha_2(t)$, to cap the variation between adjacent segment values.\n",
    "\n",
    "To implement a bounded slew rate, we create signal values using a Q-CTRL helper function,\n",
    "[`qctrl.operations.anchored_difference_bounded_variables`](https://docs.q-ctrl.com/boulder-opal/references/qctrl/Operations/anchored_difference_bounded_variables.html). This function produces values that are constrained to satisfy the slew rate requirement, and in addition are anchored to zero at the start and end of the gate."
   ]
  },
  {
   "cell_type": "code",
   "execution_count": 8,
   "metadata": {
    "pycharm": {
     "is_executing": true
    }
   },
   "outputs": [
    {
     "name": "stderr",
     "output_type": "stream",
     "text": [
      "100%|██████████| 100/100 [02:26<00:00,  1.47s/it]\n"
     ]
    },
    {
     "name": "stdout",
     "output_type": "stream",
     "text": [
      "Optimized cost:\t 1.5771737042955814e-11\n"
     ]
    },
    {
     "data": {
      "image/png": "[encoded data removed]",
      "text/plain": [
       "<Figure size 504x288 with 2 Axes>"
      ]
     },
     "metadata": {
      "needs_background": "light"
     },
     "output_type": "display_data"
    }
   ],
   "source": [
    "# Define standard matrices\n",
    "sigma_x = np.array([[0, 1], [1, 0]])\n",
    "sigma_z = np.array([[1, 0], [0, -1]])\n",
    "sigma_y = np.array([[0, -1j], [1j, 0]])\n",
    "\n",
    "# Define physical constraints\n",
    "alpha_max = 2 * np.pi * 8.5e6  # Hz\n",
    "max_slew_rate = alpha_max / 10\n",
    "segment_count = 250\n",
    "duration = 400e-9  # s\n",
    "\n",
    "# Create graph object\n",
    "with qctrl.create_graph() as graph:\n",
    "\n",
    "    # Create alpha_1(t) signal\n",
    "    alpha_1_values = qctrl.operations.anchored_difference_bounded_variables(\n",
    "        count=segment_count,\n",
    "        lower_bound=-alpha_max,\n",
    "        upper_bound=alpha_max,\n",
    "        difference_bound=max_slew_rate,\n",
    "    )\n",
    "    alpha_1 = qctrl.operations.pwc_signal(\n",
    "        values=alpha_1_values, duration=duration, name=\"alpha_1\"\n",
    "    )\n",
    "\n",
    "    # Create alpha_2(t) signal\n",
    "    alpha_2_values = qctrl.operations.anchored_difference_bounded_variables(\n",
    "        count=segment_count,\n",
    "        lower_bound=-alpha_max,\n",
    "        upper_bound=alpha_max,\n",
    "        difference_bound=max_slew_rate,\n",
    "    )\n",
    "    alpha_2 = qctrl.operations.pwc_signal(\n",
    "        values=alpha_2_values, duration=duration, name=\"alpha_2\"\n",
    "    )\n",
    "\n",
    "    # Create drive term\n",
    "    drive = qctrl.operations.pwc_operator_hermitian_part(\n",
    "        qctrl.operations.pwc_operator(signal=alpha_1, operator=sigma_x / 2)\n",
    "    )\n",
    "\n",
    "    # Create clock shift term\n",
    "    shift = qctrl.operations.pwc_operator(signal=alpha_2, operator=sigma_z / 2)\n",
    "\n",
    "    # Create dephasing noise term\n",
    "    dephasing = qctrl.operations.constant_pwc_operator(\n",
    "        duration=duration, operator=sigma_z / duration\n",
    "    )\n",
    "\n",
    "    # Create target\n",
    "    target_operator = qctrl.operations.target(operator=sigma_y)\n",
    "\n",
    "    # Create infidelity\n",
    "    infidelity = qctrl.operations.infidelity_pwc(\n",
    "        qctrl.operations.pwc_sum([drive, shift]),\n",
    "        target_operator,\n",
    "        [dephasing],\n",
    "        name=\"infidelity\",\n",
    "    )\n",
    "\n",
    "# Run the optimization\n",
    "optimization_result = qctrl.functions.calculate_optimization(\n",
    "    cost_node_name=\"infidelity\",\n",
    "    output_node_names=[\"alpha_1\", \"alpha_2\"],\n",
    "    graph=graph,\n",
    ")\n",
    "\n",
    "print(\"Optimized cost:\\t\", optimization_result.cost)\n",
    "\n",
    "# Plot the optimized controls\n",
    "plot_controls(\n",
    "    plt.figure(),\n",
    "    controls={\n",
    "        \"$\\\\alpha_1$\": optimization_result.output[\"alpha_1\"],\n",
    "        \"$\\\\alpha_2$\": optimization_result.output[\"alpha_2\"],\n",
    "    },\n",
    ")\n",
    "plt.show()"
   ]
  },
  {
   "cell_type": "markdown",
   "metadata": {},
   "source": [
    "## Example: Band-limited pulses with filters\n",
    "\n",
    "Next we show how to optimize a system using a different technique for enforcing pulse band limits, namely filtering. As above, producing band-limited controls can help to ensure that optimized controls can be reliably implemented on physical hardware, but in some cases one desires tighter control over the frequency domain behavior of the controls than what can be achieved with a slew rate bound. The technique we use here is to pass the controls through a linear time-invariant filter in order to enforce explicit bandwidth limits. We consider, once again, a standard single-qubit system subject to dephasing noise:\n",
    "\n",
    "\\begin{align*}\n",
    "H(t) &= \\frac{1}{2} \\alpha_1(t)\\sigma_{x} + \\frac{1}{2} \\alpha_2(t) \\sigma_{z} + \\beta(t) \\sigma_{z} \\,, \n",
    "\\end{align*}\n",
    "\n",
    "where $\\alpha_1(t)$ and $\\alpha_2(t)$ are real time-dependent pulse and $\\beta(t)$ is a small, slowly-varying stochastic dephasing noise process. In this case we force $\\alpha_1(t)$ and $\\alpha_2(t)$ to be signals produced from an ideal sinc filter, which forces the signals to exhibit a hard upper bound in the frequency domain.\n",
    "\n",
    "To implement this behavior, we create optimizable signals as usual, and then use the [`qctrl.operations.convolve_pwc`](https://docs.q-ctrl.com/boulder-opal/references/qctrl/Operations/convolve_pwc.html) (to apply a filter) and [`qctrl.operations.discretize_stf`](https://docs.q-ctrl.com/boulder-opal/references/qctrl/Operations/discretize_stf.html) (to obtain a piecewise-constant discretization of the smooth filtered signal) functions to derive band-limited signals. These band-limited signals are then used to construct the Hamiltonian."
   ]
  },
  {
   "cell_type": "code",
   "execution_count": 9,
   "metadata": {},
   "outputs": [
    {
     "name": "stderr",
     "output_type": "stream",
     "text": [
      "100%|██████████| 100/100 [00:08<00:00, 11.56it/s]\n"
     ]
    },
    {
     "name": "stdout",
     "output_type": "stream",
     "text": [
      "Optimized cost:\t 3.266039073879716e-13\n"
     ]
    },
    {
     "data": {
      "image/png": "[encoded data removed]",
      "text/plain": [
       "<Figure size 504x288 with 2 Axes>"
      ]
     },
     "metadata": {
      "needs_background": "light"
     },
     "output_type": "display_data"
    }
   ],
   "source": [
    "# Define standard matrices\n",
    "sigma_x = np.array([[0, 1], [1, 0]])\n",
    "sigma_z = np.array([[1, 0], [0, -1]])\n",
    "sigma_y = np.array([[0, -1j], [1j, 0]])\n",
    "\n",
    "# Define physical constraints\n",
    "alpha_max = 2 * np.pi * 8.5e6  # Hz\n",
    "sinc_cutoff_frequency = 2 * np.pi * 48e6  # Hz\n",
    "nu = 2 * np.pi * 6e6  # Hz\n",
    "segment_count = 50\n",
    "duration = 400e-9  # s\n",
    "\n",
    "# Create graph object\n",
    "with qctrl.create_graph() as graph:\n",
    "\n",
    "    # Create initial alpha_1(t) signal\n",
    "    alpha_1_values = qctrl.operations.bounded_optimization_variable(\n",
    "        count=segment_count,\n",
    "        lower_bound=-alpha_max,\n",
    "        upper_bound=alpha_max,\n",
    "    )\n",
    "    alpha_1 = qctrl.operations.pwc_signal(\n",
    "        values=alpha_1_values,\n",
    "        duration=duration,\n",
    "    )\n",
    "    # Create filtered signal\n",
    "    alpha_1_filtered = qctrl.operations.convolve_pwc(\n",
    "        alpha_1,\n",
    "        qctrl.operations.sinc_integral_function(sinc_cutoff_frequency),\n",
    "    )\n",
    "    # Discretize to obtain smoothed alpha_1(t) signal\n",
    "    alpha_1 = qctrl.operations.discretize_stf(\n",
    "        stf=alpha_1_filtered,\n",
    "        duration=duration,\n",
    "        segments_count=segment_count,\n",
    "        name=\"alpha_1\",\n",
    "    )\n",
    "\n",
    "    # Similarly, create alpha_2(t) signal\n",
    "    alpha_2_values = qctrl.operations.bounded_optimization_variable(\n",
    "        count=segment_count,\n",
    "        lower_bound=-alpha_max,\n",
    "        upper_bound=alpha_max,\n",
    "    )\n",
    "    alpha_2 = qctrl.operations.pwc_signal(\n",
    "        values=alpha_2_values,\n",
    "        duration=duration,\n",
    "    )\n",
    "    # Create filtered signal\n",
    "    alpha_2_filtered = qctrl.operations.convolve_pwc(\n",
    "        alpha_2,\n",
    "        qctrl.operations.sinc_integral_function(sinc_cutoff_frequency),\n",
    "    )\n",
    "    # Discretize to obtain smoothed alpha_2(t) signal\n",
    "    alpha_2 = qctrl.operations.discretize_stf(\n",
    "        stf=alpha_2_filtered,\n",
    "        duration=duration,\n",
    "        segments_count=segment_count,\n",
    "        name=\"alpha_2\",\n",
    "    )\n",
    "\n",
    "    # Create drive term\n",
    "    drive = qctrl.operations.pwc_operator_hermitian_part(\n",
    "        qctrl.operations.pwc_operator(signal=alpha_1, operator=sigma_x / 2)\n",
    "    )\n",
    "\n",
    "    # Create clock shift term\n",
    "    shift = qctrl.operations.pwc_operator(signal=alpha_2, operator=sigma_z / 2)\n",
    "\n",
    "    # Create dephasing noise term\n",
    "    dephasing = qctrl.operations.constant_pwc_operator(\n",
    "        duration=duration, operator=sigma_z / duration\n",
    "    )\n",
    "\n",
    "    # Create target\n",
    "    target_operator = qctrl.operations.target(operator=sigma_y)\n",
    "\n",
    "    # Create infidelity\n",
    "    infidelity = qctrl.operations.infidelity_pwc(\n",
    "        qctrl.operations.pwc_sum([drive, shift]),\n",
    "        target_operator,\n",
    "        [dephasing],\n",
    "        name=\"infidelity\",\n",
    "    )\n",
    "\n",
    "# Run the optimization\n",
    "optimization_result = qctrl.functions.calculate_optimization(\n",
    "    cost_node_name=\"infidelity\",\n",
    "    output_node_names=[\"alpha_1\", \"alpha_2\"],\n",
    "    graph=graph,\n",
    ")\n",
    "\n",
    "print(\"Optimized cost:\\t\", optimization_result.cost)\n",
    "\n",
    "# Plot the optimized controls\n",
    "plot_controls(\n",
    "    plt.figure(),\n",
    "    controls={\n",
    "        \"$\\\\alpha_1$\": optimization_result.output[\"alpha_1\"],\n",
    "        \"$\\\\alpha_2$\": optimization_result.output[\"alpha_2\"],\n",
    "    },\n",
    ")\n",
    "plt.show()"
   ]
  },
  {
   "cell_type": "markdown",
   "metadata": {},
   "source": [
    "## Example: Incorporating smoothing via linear filters on control signals\n",
    "\n",
    "We next present an example showing how systems containing linear time-invariant filters can be optimized. Unlike the example above, where we employed such filters in order to produce smooth controls, here we consider the case where such filters are present in the system itself. In this particular example, we consider the common scenario in which electronic filters are present on the control lines. Specifically, we consider a basic single-qubit system:\n",
    "\n",
    "\\begin{align*}\n",
    "H(t) &= \\frac{1}{2} L(\\alpha_1)(t)\\sigma_{x} + \\frac{1}{2} L(\\alpha_2)(t) \\sigma_{z} + \\beta(t) \\sigma_{z}  \\,, \n",
    "\\end{align*}\n",
    "\n",
    "where $\\alpha_1(t)$ and $\\alpha_2(t)$ are real time-dependent pulses, $\\beta(t)$ is a small, slowly-varying stochastic dephasing noise process, and $ L$ is a sinc filter applied to the pulses. The effect of these filters is to transform the control signals before they reach the quantum system, via convolution with the filter impulse response. Failing to take the filters into account during the optimization can lead to poor results, since in that case the system used for the optimization does not accurately model reality.\n",
    "\n",
    "As above, we use the [`qctrl.operations.convolve_pwc`](https://docs.q-ctrl.com/boulder-opal/references/qctrl/Operations/convolve_pwc.html) function to apply a filter (obtained via the [`qctrl.operations.sinc_integral_function`](https://docs.q-ctrl.com/boulder-opal/references/qctrl/Operations/sinc_integral_function.html) function) to a piecewise-constant signal. The resulting smooth tensor function (STF) may then be manipulated in exactly the same way as piecewise-constant functions, up to and including calculating the infidelity. We stress that even though highly irregular pulses are generated for $\\alpha_1(t)$ and $\\alpha_2(t)$, these pulses are chosen so that, *when smoothed by the filters in the system*, they will effect a high-quality gate. "
   ]
  },
  {
   "cell_type": "code",
   "execution_count": 10,
   "metadata": {},
   "outputs": [
    {
     "name": "stderr",
     "output_type": "stream",
     "text": [
      "100%|██████████| 100/100 [00:08<00:00, 11.29it/s]\n"
     ]
    },
    {
     "name": "stdout",
     "output_type": "stream",
     "text": [
      "Optimized cost:\t 3.38866520091104e-10\n"
     ]
    },
    {
     "data": {
      "image/png": "[encoded data removed]",
      "text/plain": [
       "<Figure size 504x288 with 2 Axes>"
      ]
     },
     "metadata": {
      "needs_background": "light"
     },
     "output_type": "display_data"
    },
    {
     "data": {
      "image/png": "[encoded data removed]",
      "text/plain": [
       "<Figure size 504x288 with 2 Axes>"
      ]
     },
     "metadata": {
      "needs_background": "light"
     },
     "output_type": "display_data"
    }
   ],
   "source": [
    "# Define standard matrices\n",
    "sigma_x = np.array([[0, 1], [1, 0]])\n",
    "sigma_z = np.array([[1, 0], [0, -1]])\n",
    "\n",
    "# Define physical constraints\n",
    "alpha_max = 2 * np.pi * 8.5e6  # Hz\n",
    "nu = 2 * np.pi * 6e6  # Hz\n",
    "sinc_cutoff_frequency = 2 * np.pi * 48e6  # Hz\n",
    "segment_count = 50\n",
    "duration = 250e-9  # s\n",
    "\n",
    "# Create graph object\n",
    "with qctrl.create_graph() as graph:\n",
    "    # Create alpha_1(t) signal\n",
    "    alpha_1_values = qctrl.operations.bounded_optimization_variable(\n",
    "        count=segment_count,\n",
    "        lower_bound=-alpha_max,\n",
    "        upper_bound=alpha_max,\n",
    "    )\n",
    "    alpha_1 = qctrl.operations.pwc_signal(\n",
    "        values=alpha_1_values,\n",
    "        duration=duration,\n",
    "        name=\"alpha_1\",\n",
    "    )\n",
    "    # Create filtered signal\n",
    "    alpha_1_filtered = qctrl.operations.convolve_pwc(\n",
    "        alpha_1,\n",
    "        qctrl.operations.sinc_integral_function(sinc_cutoff_frequency),\n",
    "    )\n",
    "\n",
    "    # Similarly, create filtered alpha_2(t) signal\n",
    "    alpha_2_values = qctrl.operations.bounded_optimization_variable(\n",
    "        count=segment_count,\n",
    "        lower_bound=-alpha_max,\n",
    "        upper_bound=alpha_max,\n",
    "    )\n",
    "    alpha_2 = qctrl.operations.pwc_signal(\n",
    "        values=alpha_2_values,\n",
    "        duration=duration,\n",
    "        name=\"alpha_2\",\n",
    "    )\n",
    "    alpha_2_filtered = qctrl.operations.convolve_pwc(\n",
    "        alpha_2,\n",
    "        qctrl.operations.sinc_integral_function(sinc_cutoff_frequency),\n",
    "    )\n",
    "\n",
    "    # Create drive term (note the use of STF functions instead of PWC functions,\n",
    "    # because we are dealing with smooth signals instead of piecewise-constant\n",
    "    # signals).\n",
    "    drive = qctrl.operations.stf_operator(alpha_1_filtered, sigma_x / 2)\n",
    "    # Create clock shift term\n",
    "    shift = qctrl.operations.stf_operator(alpha_2_filtered, sigma_z / 2)\n",
    "\n",
    "    # Create dephasing noise term\n",
    "    dephasing = qctrl.operations.constant_stf_operator(sigma_z / duration)\n",
    "\n",
    "    # Create target\n",
    "    target_operator = qctrl.operations.target(operator=sigma_x)\n",
    "\n",
    "    # Create infidelity (note that we pass an array of sample times, which\n",
    "    # governs the granularity of the integration procedure)\n",
    "    infidelity = qctrl.operations.infidelity_stf(\n",
    "        np.linspace(0, duration, 150),\n",
    "        qctrl.operations.stf_sum([drive, shift]),\n",
    "        target_operator,\n",
    "        [dephasing],\n",
    "        name=\"infidelity\",\n",
    "    )\n",
    "\n",
    "    # Sample filtered signals (to output and plot)\n",
    "    alpha_1_smooth = qctrl.operations.discretize_stf(\n",
    "        stf=alpha_1_filtered,\n",
    "        duration=duration,\n",
    "        segments_count=500,\n",
    "        name=\"alpha_1_filtered\",\n",
    "    )\n",
    "    alpha_2_smooth = qctrl.operations.discretize_stf(\n",
    "        stf=alpha_2_filtered,\n",
    "        duration=duration,\n",
    "        segments_count=500,\n",
    "        name=\"alpha_2_filtered\",\n",
    "    )\n",
    "\n",
    "# Run the optimization\n",
    "optimization_result = qctrl.functions.calculate_optimization(\n",
    "    cost_node_name=\"infidelity\",\n",
    "    output_node_names=[\"alpha_1\", \"alpha_2\", \"alpha_1_filtered\", \"alpha_2_filtered\"],\n",
    "    graph=graph,\n",
    ")\n",
    "\n",
    "print(\"Optimized cost:\\t\", optimization_result.cost)\n",
    "\n",
    "# Plot the optimized controls\n",
    "plot_controls(\n",
    "    plt.figure(),\n",
    "    controls={\n",
    "        \"$\\\\alpha_1$\": optimization_result.output[\"alpha_1\"],\n",
    "        \"$\\\\alpha_2$\": optimization_result.output[\"alpha_2\"],\n",
    "    },\n",
    ")\n",
    "plt.suptitle(\"Unfiltered pulses\")\n",
    "\n",
    "plot_controls(\n",
    "    plt.figure(),\n",
    "    controls={\n",
    "        \"$L(\\\\alpha_1)$\": optimization_result.output[\"alpha_1_filtered\"],\n",
    "        \"$L(\\\\alpha_2)$\": optimization_result.output[\"alpha_2_filtered\"],\n",
    "    },\n",
    ")\n",
    "plt.suptitle(\"Filtered pulses\")\n",
    "\n",
    "plt.show()"
   ]
  },
  {
   "cell_type": "markdown",
   "metadata": {},
   "source": [
    "## Example: CRAB optimization\n",
    "\n",
    "In **c**hopped **ra**ndom **b**asis (CRAB) optimization, pulses are defined via optimizable linear combinations from a set of basis functions, which can greatly reduce the dimensionality of the optimization search space. Traditionally, a [randomized Fourier basis](https://journals.aps.org/prl/abstract/10.1103/PhysRevLett.106.190501) is used, although the same technique has also seen success with other bases, for example [Slepian functions](https://journals.aps.org/pra/abstract/10.1103/PhysRevA.97.062346). In this example, we perform a CRAB optimization (in the Fourier basis) of a qutrit system in which we effect a single-qubit gate while minimizing leakage out of the computational subspace. The system is described by the following Hamiltonian:\n",
    "\n",
    "\\begin{align*}\n",
    "H(t) = & \\frac{\\chi}{2} (a^\\dagger)^2 a^2 + \\gamma(t) (1+\\beta(t))a + \\gamma^*(t)(1+\\beta(t)) a^\\dagger + \\frac{\\alpha(t)}{2} a^\\dagger a \\,, \n",
    "\\end{align*}\n",
    "\n",
    "where $\\chi$ is the anharmonicity, $\\gamma(t)$ and $\\alpha(t)$ are, respectively, complex and real time-dependent pulses, $\\beta$ is a small, slowly-varying stochastic amplitude noise process, and $a = |0 \\rangle \\langle 1 | + \\sqrt{2} |1 \\rangle \\langle 2 |$.\n",
    "\n",
    "The Q-CTRL optimization engine provides a convenience function, [`qctrl.operations.real_fourier_pwc_signal`](https://docs.q-ctrl.com/boulder-opal/references/qctrl/Operations/real_fourier_pwc_signal.html), for creating optimizable signals in a Fourier basis, suitable for use in a CRAB optimization. Other bases are supported by the framework, but require the user to manually provide operations that compute the appropriate linear combinations."
   ]
  },
  {
   "cell_type": "code",
   "execution_count": 11,
   "metadata": {
    "pycharm": {
     "is_executing": true
    }
   },
   "outputs": [
    {
     "name": "stderr",
     "output_type": "stream",
     "text": [
      "100%|██████████| 100/100 [00:37<00:00,  2.67it/s]\n"
     ]
    },
    {
     "name": "stdout",
     "output_type": "stream",
     "text": [
      "Optimized cost:\t 1.246535859474086e-08\n"
     ]
    },
    {
     "data": {
      "image/png": "[encoded data removed]",
      "text/plain": [
       "<Figure size 504x432 with 3 Axes>"
      ]
     },
     "metadata": {
      "needs_background": "light"
     },
     "output_type": "display_data"
    }
   ],
   "source": [
    "# Define standard matrices\n",
    "a = np.array(\n",
    "    [[0.0, 1.0, 0.0], [0.0, 0.0, np.sqrt(2)], [0.0, 0.0, 0.0]], dtype=np.complex\n",
    ")\n",
    "ada = np.matmul(a.T, a)\n",
    "ad2a2 = np.matmul(np.matmul(a.T, a.T), np.matmul(a, a))\n",
    "hadamard = np.array(\n",
    "    [[1.0, 1.0, 0], [1.0, -1.0, 0], [0, 0, np.sqrt(2)]], dtype=np.complex\n",
    ") / np.sqrt(2)\n",
    "qubit_projector = np.array([[1, 0, 0], [0, 1, 0], [0, 0, 0]], dtype=np.complex)\n",
    "\n",
    "# Define physical constraints\n",
    "chi = 2 * np.pi * -300.0 * 1e6  # Hz\n",
    "gamma_max = 2 * np.pi * 30e6  # Hz\n",
    "alpha_max = 2 * np.pi * 30e6  # Hz\n",
    "segment_count = 200\n",
    "duration = 100e-9  # s\n",
    "\n",
    "# Create graph object\n",
    "with qctrl.create_graph() as graph:\n",
    "    # Create gamma(t) signal in Fourier bases. To demonstrate the full\n",
    "    # flexibility, we show how to use both randomized and optimizable\n",
    "    # basis elements. Elements with fixed frequencies may be chosen too.\n",
    "    gamma_i = qctrl.operations.real_fourier_pwc_signal(\n",
    "        duration=duration,\n",
    "        segments_count=segment_count,\n",
    "        randomized_frequencies_count=10,\n",
    "    )\n",
    "    gamma_q = qctrl.operations.real_fourier_pwc_signal(\n",
    "        duration=duration,\n",
    "        segments_count=segment_count,\n",
    "        optimizable_frequencies_count=10,\n",
    "    )\n",
    "    gamma = qctrl.operations.pwc_signal(\n",
    "        duration=duration,\n",
    "        values=qctrl.operations.complex_value(real=gamma_i.values, imag=gamma_q.values)\n",
    "        * gamma_max,\n",
    "        name=\"gamma\",\n",
    "    )\n",
    "\n",
    "    # Create alpha(t) signal\n",
    "    alpha = qctrl.operations.real_fourier_pwc_signal(\n",
    "        duration=duration,\n",
    "        segments_count=segment_count,\n",
    "        initial_coefficient_lower_bound=-alpha_max,\n",
    "        initial_coefficient_upper_bound=alpha_max,\n",
    "        optimizable_frequencies_count=10,\n",
    "        name=\"alpha\",\n",
    "    )\n",
    "\n",
    "    # Create anharmonicity term\n",
    "    anharmonicity = qctrl.operations.constant_pwc_operator(\n",
    "        duration,\n",
    "        ad2a2 * chi / 2,\n",
    "    )\n",
    "    # Create drive term\n",
    "    drive = qctrl.operations.pwc_operator_hermitian_part(\n",
    "        qctrl.operations.pwc_operator(signal=gamma, operator=2 * a)\n",
    "    )\n",
    "\n",
    "    # Create clock shift term\n",
    "    shift = qctrl.operations.pwc_operator(signal=alpha, operator=ada / 2)\n",
    "\n",
    "    # Create infidelity (note that we project the target operator to the\n",
    "    # qubit subspace in order to calculate infidelity only in the subspace,\n",
    "    # and set a filter function projector in order to evaluate robustness\n",
    "    # only from the subspace).\n",
    "    target_operator = qctrl.operations.target(\n",
    "        hadamard.dot(qubit_projector), filter_function_projector=qubit_projector\n",
    "    )\n",
    "\n",
    "    infidelity = qctrl.operations.infidelity_pwc(\n",
    "        hamiltonian=qctrl.operations.pwc_sum([anharmonicity, drive, shift]),\n",
    "        target_operator=target_operator,\n",
    "        noise_operators=[drive],\n",
    "        name=\"infidelity\",\n",
    "    )\n",
    "\n",
    "# Run the optimization\n",
    "optimization_result = qctrl.functions.calculate_optimization(\n",
    "    cost_node_name=\"infidelity\",\n",
    "    output_node_names=[\"alpha\", \"gamma\"],\n",
    "    graph=graph,\n",
    ")\n",
    "\n",
    "print(\"Optimized cost:\\t\", optimization_result.cost)\n",
    "\n",
    "# Plot the optimized controls\n",
    "plot_controls(\n",
    "    plt.figure(),\n",
    "    controls={\n",
    "        \"$\\\\alpha$\": optimization_result.output[\"alpha\"],\n",
    "        \"$\\\\gamma$\": optimization_result.output[\"gamma\"],\n",
    "    },\n",
    ")\n",
    "plt.show()"
   ]
  },
  {
   "cell_type": "markdown",
   "metadata": {},
   "source": [
    "## Example: Optimizing large systems with sparse Hamiltonians\n",
    "\n",
    "You can carry out the optimization of larger systems by using approximate integration methods that are more computationally effective. This is especially helpful when the Hamiltonian is sparse. To illustrate this, consider a system of four qubits where each qubit only interacts with the nearest neighbor through an XX coupling operator:\n",
    "\n",
    "$$ H = \\frac{1}{2} \\sum_{i=1}^3 \\Omega_i(t) \\sigma_{x,i} \\sigma_{x,i+1}. $$\n",
    "\n",
    "Suppose you start from the state $\\left| 0000 \\right\\rangle$ and want to create the state $\\left(\\left| 0000 \\right\\rangle +i\\left| 0011 \\right\\rangle -i\\left| 1100 \\right\\rangle+ \\left| 1111 \\right\\rangle \\right)/2$ by using optimized controls for $\\Omega_1(t)$, $\\Omega_2(t)$, and $\\Omega_3(t)$. To do this, you can define the Hamiltonian terms as sparse matrices (as the [`coo_matrix`](https://docs.scipy.org/doc/scipy/reference/generated/scipy.sparse.coo_matrix.html) object from the `scipy` package) and integrate them using the [Lanczos algorithm](https://en.wikipedia.org/wiki/Lanczos_algorithm) that is available in the function [`qctrl.operations.state_evolution_pwc`](https://docs.q-ctrl.com/boulder-opal/references/qctrl/Operations/state_evolution_pwc.html).\n",
    "\n",
    "The Lanczos algorithm accepts a parameter called the `krylov_subspace_dimension`, which controls the accuracy of the operation. You can choose this parameter manually or use the operation [`qctrl.operations.estimated_krylov_subspace_dimension`](https://docs.q-ctrl.com/boulder-opal/references/qctrl/Operations/estimated_krylov_subspace_dimension.html) to obtain an estimate of its best choice for your Hamiltonian and error tolerance. The following code shows how to obtain this estimate for an integration accuracy of `1e-5` and then how to optimize the controls using it. The code also prints a comparison between the integration that uses the Lanczos algorithm and the exact integration. The difference between the exact result and the Lanczos integration is well within the `1e-5` accuracy."
   ]
  },
  {
   "cell_type": "code",
   "execution_count": 12,
   "metadata": {},
   "outputs": [
    {
     "name": "stderr",
     "output_type": "stream",
     "text": [
      "100%|██████████| 100/100 [00:02<00:00, 34.83it/s]\n",
      "100%|██████████| 100/100 [00:20<00:00,  4.97it/s]"
     ]
    },
    {
     "name": "stdout",
     "output_type": "stream",
     "text": [
      "Recommended Krylov subspace dimension:\t10\n",
      "Final state infidelity:\t\t\t4.440892098500626e-16 (Lanczos integration)\n",
      "Final state infidelity:\t\t\t1.545430450278218e-13 (Exact integration)\n"
     ]
    },
    {
     "name": "stderr",
     "output_type": "stream",
     "text": [
      "\n"
     ]
    },
    {
     "data": {
      "image/png": "[encoded data removed]",
      "text/plain": [
       "<Figure size 432x288 with 1 Axes>"
      ]
     },
     "metadata": {
      "needs_background": "light"
     },
     "output_type": "display_data"
    }
   ],
   "source": [
    "# Define standard matrices\n",
    "sigma_x = np.array([[0, 1], [1, 0]], dtype=np.complex128)\n",
    "\n",
    "# Define physical constraints\n",
    "omega_max = 2 * np.pi * 5e6  # Hz\n",
    "duration = 500e-9  # s\n",
    "segment_count = 20\n",
    "sample_times = np.linspace(0, duration, 100)\n",
    "initial_state = np.array([1] + [0] * 15)\n",
    "target_state = np.zeros(2 ** 4, complex)\n",
    "target_state[int(\"0000\", 2)] = 1 / 2\n",
    "target_state[int(\"0011\", 2)] = 1j / 2\n",
    "target_state[int(\"1100\", 2)] = -1j / 2\n",
    "target_state[int(\"1111\", 2)] = 1 / 2\n",
    "\n",
    "# Define coupling operators as sparse matrices\n",
    "operators = [\n",
    "    coo_matrix(0.5 * np.kron(np.kron(sigma_x, sigma_x), np.eye(4)), shape=(16, 16)),\n",
    "    coo_matrix(\n",
    "        0.5 * np.kron(np.kron(np.eye(2), np.kron(sigma_x, sigma_x)), np.eye(2)),\n",
    "        shape=(16, 16),\n",
    "    ),\n",
    "    coo_matrix(0.5 * np.kron(np.eye(4), np.kron(sigma_x, sigma_x)), shape=(16, 16)),\n",
    "]\n",
    "\n",
    "# Build Krylov subspace dimension estimation graph\n",
    "with qctrl.create_graph() as graph:\n",
    "\n",
    "    # Find the spectral range for the Hamiltonian with highest omega value\n",
    "    spectral_range = qctrl.operations.spectral_range(\n",
    "        operator=omega_max * sum(operators).tocoo(),\n",
    "    )\n",
    "\n",
    "    # Find the suggested Krylov subspace dimension for that spectral range\n",
    "    # and error tolerance of 1e-5\n",
    "    qctrl.operations.estimated_krylov_subspace_dimension(\n",
    "        spectral_range=spectral_range,\n",
    "        duration=duration,\n",
    "        maximum_segment_duration=duration / segment_count,\n",
    "        error_tolerance=1e-5,\n",
    "        name=\"krylov_subspace_dimension\",\n",
    "    )\n",
    "\n",
    "# Run the calculation for the recommended Krylov subspace dimension\n",
    "krylov_subspace_dimension = qctrl.functions.calculate_graph(\n",
    "    graph=graph,\n",
    "    output_node_names=[\"krylov_subspace_dimension\"],\n",
    ").output[\"krylov_subspace_dimension\"][\"value\"]\n",
    "\n",
    "# Build optimization graph\n",
    "with qctrl.create_graph() as graph:\n",
    "\n",
    "    # Define individual control signals (Omegas)\n",
    "    signals = [\n",
    "        qctrl.operations.pwc_signal(\n",
    "            values=qctrl.operations.bounded_optimization_variable(\n",
    "                segment_count, -omega_max, omega_max\n",
    "            ),\n",
    "            duration=duration,\n",
    "        )\n",
    "        for operator in operators\n",
    "    ]\n",
    "\n",
    "    # Define individual terms of the Hamiltonian\n",
    "    hamiltonian_terms = [\n",
    "        qctrl.operations.sparse_pwc_operator(signal=signal, operator=operator)\n",
    "        for signal, operator in zip(signals, operators)\n",
    "    ]\n",
    "\n",
    "    # Create total Hamiltonian by adding terms\n",
    "    hamiltonian = qctrl.operations.sparse_pwc_sum(hamiltonian_terms)\n",
    "\n",
    "    # Integrate the Schrödinger equation for the Hamiltonian\n",
    "    evolved_states = qctrl.operations.state_evolution_pwc(\n",
    "        initial_state=initial_state,\n",
    "        hamiltonian=hamiltonian,\n",
    "        krylov_subspace_dimension=krylov_subspace_dimension,\n",
    "        sample_times=sample_times,\n",
    "    )\n",
    "\n",
    "    # Calculate the final state infidelity and use it as the cost\n",
    "    final_state = evolved_states[-1]\n",
    "    final_state_fidelity = (\n",
    "        qctrl.operations.abs(qctrl.operations.sum(final_state * target_state.conj()))\n",
    "        ** 2\n",
    "    )\n",
    "    final_state_infidelity = qctrl.operations.abs(1 - final_state_fidelity, name=\"cost\")\n",
    "\n",
    "    # Calculate the infidelities as a function of time\n",
    "    state_fidelities = (\n",
    "        qctrl.operations.abs(evolved_states @ target_state.conj()[:, None]) ** 2\n",
    "    )\n",
    "    state_infidelities = qctrl.operations.abs(1 - state_fidelities, name=\"infidelities\")\n",
    "\n",
    "    # Calculate the evolution using a dense Hamiltonian, for comparison\n",
    "    dense_hamiltonian_terms = [\n",
    "        qctrl.operations.pwc_operator(signal=signal, operator=operator.toarray())\n",
    "        for signal, operator in zip(signals, operators)\n",
    "    ]\n",
    "    dense_hamiltonian = qctrl.operations.pwc_sum(dense_hamiltonian_terms)\n",
    "    time_evolution_operators = qctrl.operations.time_evolution_operators_pwc(\n",
    "        hamiltonian=dense_hamiltonian,\n",
    "        sample_times=sample_times,\n",
    "    )\n",
    "    dense_evolved_states = time_evolution_operators @ initial_state[:, None]\n",
    "    dense_fidelities = (\n",
    "        qctrl.operations.abs(target_state.conj()[None, :] @ dense_evolved_states) ** 2\n",
    "    )\n",
    "    dense_infidelities = qctrl.operations.abs(\n",
    "        1 - dense_fidelities, name=\"dense_infidelities\"\n",
    "    )\n",
    "\n",
    "\n",
    "# Optimize with recommended choice of Krylov subspace dimension\n",
    "result = qctrl.functions.calculate_optimization(\n",
    "    graph=graph,\n",
    "    cost_node_name=\"cost\",\n",
    "    output_node_names=[\"infidelities\", \"dense_infidelities\"],\n",
    "    optimization_count=5,\n",
    ")\n",
    "\n",
    "# Calculate infidelities as a function of time\n",
    "infidelities = result.output[\"infidelities\"][\"value\"].flatten()\n",
    "dense_infidelities = np.array(result.output[\"dense_infidelities\"][\"value\"]).flatten()\n",
    "\n",
    "# Plot and print results\n",
    "plt.plot(sample_times / 1e-9, infidelities, \"--\", label=\"Lanczos integration\")\n",
    "plt.plot(sample_times / 1e-9, dense_infidelities, label=\"Exact integration\")\n",
    "plt.legend()\n",
    "plt.xlabel(\"Time (ns)\")\n",
    "plt.ylabel(\"State infidelity\")\n",
    "\n",
    "print(f\"Recommended Krylov subspace dimension:\\t{krylov_subspace_dimension}\")\n",
    "print(f\"Final state infidelity:\\t\\t\\t{result.cost} (Lanczos integration)\")\n",
    "print(f\"Final state infidelity:\\t\\t\\t{dense_infidelities[-1]} (Exact integration)\")"
   ]
  },
  {
   "cell_type": "markdown",
   "metadata": {},
   "source": [
    "## Example: Estimating system parameters\n",
    "\n",
    "Next we show how to use the optimizer to estimate unknown parameters in a system.\n",
    "A single-qubit system is subject to a Hamiltonian of the form\n",
    "\n",
    "\\begin{equation*}\n",
    "H = \\Omega \\sin(\\theta) \\sigma_{x} + \\Omega \\cos(\\theta) \\sigma_{z} ,\n",
    "\\end{equation*}\n",
    "\n",
    "for a fixed time duration, and while the (constant) amplitude $\\Omega$ can be controlled, the (constant) parameter $\\theta$ is unknown (but fixed between realizations).\n",
    "The aim is to estimate the value of $\\theta$ from some measurements $\\{M_i\\}$ (for instance, of the infidelity of a spin flip) that have been obtained after the system has evolved under a set of amplitude values, $\\{\\Omega_i\\}$.\n",
    "\n",
    "The optimizer can be used to estimate $\\theta$ by trying to find the form of the evolution that would most closely match the measured points.\n",
    "For a given $\\theta$, the expected measurements from the system $\\{m_i\\}$ can be compared to the actual measurements $\\{M_i\\}$ via the cost function\n",
    "\n",
    "\\begin{equation*}\n",
    "C = \\sum_i \\frac{[M_i - m_i(\\theta)]^2}{2 (\\Delta M_i)^2} ,\n",
    "\\end{equation*}\n",
    "\n",
    "where $\\Delta M_i$ is the standard deviation of the measured input point $M_i$. Assuming a Gaussian probability distribution for the errors in the measurements, minimizing this cost function is equivalent to minimizing the negative log likelihood that a value of $\\theta$ could generate the points $\\{M_i\\}$, yielding the best choice of $\\theta$ that reproduces the original measurements.\n",
    "You can also estimate the precision of the obtained parameter by using the Cramér–Rao bound to calculate the covariance of the estimated variable from the inverse of the Hessian of this cost function.\n",
    "\n",
    "In order to implement the cost function you can create an optimizable variable $\\theta$, and use it to build the system's Hamiltonian.\n",
    "You can then calculate the evolution of the system for each value of $\\Omega$, the corresponding spin-flip infidelities, and their associated cost.\n",
    "Note that you can perform the calculation for all the infidelities in a single batch, resulting in a more efficient calculation compared with using a loop.\n",
    "See the [`qctrl.operations.pwc_signal`](https://docs.q-ctrl.com/boulder-opal/references/qctrl/Operations/pwc_signal.html) function to learn more about batches in the Q-CTRL optimization engine.\n",
    "The engine also provides the convenience function [`qctrl.operations.hessian_matrix`](https://docs.q-ctrl.com/boulder-opal/references/qctrl/Operations/hessian_matrix.html) to calculate the Hessian of the cost, as well as mathematical functions to perform on the graph nodes, such as [`qctrl.operations.sin`](https://docs.q-ctrl.com/boulder-opal/references/qctrl/Operations/sin.html) and [`qctrl.operations.cos`](https://docs.q-ctrl.com/boulder-opal/references/qctrl/Operations/cos.html).\n",
    "\n",
    "See the [Control hardware: system identification](https://docs.q-ctrl.com/boulder-opal/application-notes/control-hardware-system-identification) Application note for more examples on system identification."
   ]
  },
  {
   "cell_type": "code",
   "execution_count": 13,
   "metadata": {},
   "outputs": [
    {
     "name": "stderr",
     "output_type": "stream",
     "text": [
      "100%|██████████| 100/100 [00:05<00:00, 17.37it/s]"
     ]
    },
    {
     "name": "stdout",
     "output_type": "stream",
     "text": [
      "Optimized cost:\t 3.769966575632829\n",
      "Obtained theta:\t (0.2986 ± 0.0129)π\n",
      "Actual theta:\t 0.3π\n"
     ]
    },
    {
     "name": "stderr",
     "output_type": "stream",
     "text": [
      "\n"
     ]
    }
   ],
   "source": [
    "omega_values = np.array(\n",
    "    [3.513e6, 3.353e6, 3.612e6, 3.555e6, 3.293e6, 2.949e6, 2.688e6, 2.876e6, 3.110e6]\n",
    ")\n",
    "measurements = np.array([0.902, 0.971, 0.845, 0.904, 0.982, 0.967, 0.879, 0.954, 0.979])\n",
    "measurement_errors = np.array(\n",
    "    [0.018, 0.012, 0.019, 0.009, 0.020, 0.012, 0.017, 0.015, 0.010]\n",
    ")\n",
    "\n",
    "# Define standard matrices\n",
    "sigma_x = np.array([[0, 1], [1, 0]], dtype=np.complex)\n",
    "sigma_z = np.array([[1, 0], [0, -1]], dtype=np.complex)\n",
    "\n",
    "# Define physical constant\n",
    "duration = 1e-6  # s\n",
    "\n",
    "# Define parameter to be estimated\n",
    "actual_theta = 0.3 * np.pi\n",
    "\n",
    "# Create graph object\n",
    "with qctrl.create_graph() as graph:\n",
    "\n",
    "    # Create the parameter we want to estimate\n",
    "    theta = qctrl.operations.bounded_optimization_variable(\n",
    "        count=1, lower_bound=0.0, upper_bound=np.pi / 2.0, name=\"theta\"\n",
    "    )\n",
    "\n",
    "    # Create (batched) signals for the sigma_x and sigma_z terms\n",
    "    # The last dimension of the pwc signals corresponds to time, and any\n",
    "    # preceding dimensions to the batches (here, a single one for the omegas).\n",
    "    # The batching is preserved through the computation.\n",
    "    alpha_x = qctrl.operations.pwc_signal(\n",
    "        values=qctrl.operations.sin(theta) * omega_values[:, None],\n",
    "        duration=duration,\n",
    "    )\n",
    "    alpha_z = qctrl.operations.pwc_signal(\n",
    "        values=qctrl.operations.cos(theta) * omega_values[:, None],\n",
    "        duration=duration,\n",
    "    )\n",
    "\n",
    "    # Create Hamiltonian by adding both terms\n",
    "    hamiltonian = qctrl.operations.pwc_sum(\n",
    "        terms=[\n",
    "            qctrl.operations.pwc_operator(signal=alpha_x, operator=sigma_x),\n",
    "            qctrl.operations.pwc_operator(signal=alpha_z, operator=sigma_z),\n",
    "        ]\n",
    "    )\n",
    "\n",
    "    # Calculate the spin-flip infidelities\n",
    "    populations = qctrl.operations.infidelity_pwc(\n",
    "        hamiltonian=hamiltonian,\n",
    "        target_operator=qctrl.operations.target(operator=sigma_x),\n",
    "    )\n",
    "\n",
    "    # Calculate the cost\n",
    "    cost = qctrl.operations.sum(\n",
    "        (populations - measurements) ** 2.0 / (2.0 * measurement_errors ** 2.0),\n",
    "        name=\"cost\",\n",
    "    )\n",
    "\n",
    "    # Calculate the Hessian matrix\n",
    "    hessian = qctrl.operations.hessian_matrix(cost, [theta], name=\"hessian\")\n",
    "\n",
    "# Run the optimization\n",
    "optimization_result = qctrl.functions.calculate_optimization(\n",
    "    cost_node_name=\"cost\",\n",
    "    output_node_names=[\"theta\", \"hessian\"],\n",
    "    optimization_count=10,\n",
    "    graph=graph,\n",
    ")\n",
    "\n",
    "# Retrieve the results of the optimization\n",
    "print(\"Optimized cost:\\t\", optimization_result.cost)\n",
    "calculated_theta = optimization_result.output[\"theta\"][\"value\"][0]\n",
    "hessian = optimization_result.output[\"hessian\"][\"value\"]\n",
    "\n",
    "# Calculate the uncertainty from the inverse of the Hessian matrix\n",
    "uncertainty_theta = np.sqrt(np.linalg.inv(hessian))[0, 0]\n",
    "\n",
    "print(\n",
    "    f\"Obtained theta:\\t ({calculated_theta/np.pi:.4f} ± {uncertainty_theta/np.pi:.4f})π\"\n",
    ")\n",
    "print(f\"Actual theta:\\t {actual_theta/np.pi}π\")"
   ]
  }
 ],
 "metadata": {
  "kernelspec": {
   "display_name": "Python 3",
   "language": "python",
   "name": "python3"
  },
  "language_info": {
   "codemirror_mode": {
    "name": "ipython",
    "version": 3
   },
   "file_extension": ".py",
   "mimetype": "text/x-python",
   "name": "python",
   "nbconvert_exporter": "python",
   "pygments_lexer": "ipython3",
   "version": "3.7.6"
  }
 },
 "nbformat": 4,
 "nbformat_minor": 4
}
