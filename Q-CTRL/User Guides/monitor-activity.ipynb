{
 "cells": [
  {
   "cell_type": "markdown",
   "metadata": {},
   "source": [
    "# Monitor activity\n",
    "**Viewing previously run actions in BOULDER OPAL**\n",
    "\n",
    "The activity monitor allows you to view the progress and status of previously run actions. There are multiple ways provided for accessing the activity monitor as shown below.\n",
    "\n",
    "## CLI\n",
    "\n",
    "The CLI method allows you to use the `qctrl activity` command through your terminal to view previously run actions. If you have not used the interactive authentication method [mentioned here](https://docs.q-ctrl.com/boulder-opal/user-guides/getting-started/) before, you will be redirected to the interactive authentication method first. Information on the `qctrl activity` command can be found as follows:\n",
    "\n",
    "```\n",
    "$ qctrl activity --help\n",
    "```\n",
    "\n",
    "Pagination and filtering by status and action type is supported. All filtering commands are optional. If called without any additional commands the script will return the most recent actions you have run.\n",
    "\n",
    "```\n",
    "$ qctrl activity --limit 10 --offset 0 --status SUCCESS --type ROBUST_OPTIMIZE\n",
    "```\n",
    "\n",
    "The various `--status` and `--type` options are viewable through the `--options` command. For example to view the different type options to filter by, you can run the following command:\n",
    "\n",
    "```\n",
    "$ qctrl activity --options type\n",
    "```\n",
    "\n",
    "## Qctrl()\n",
    "\n",
    "The activity monitor can also be accessed through the `Qctrl()` object.\n",
    "\n",
    "```\n",
    "$ python\n",
    ">>> from qctrl import Qctrl\n",
    ">>> qctrl = Qctrl()\n",
    ">>> qctrl.activity_monitor()\n",
    "```\n",
    "\n",
    "Similarly to the command line option, this option also supports paginations and filtering by status and action type and returns the most recent actions you have run (if no filtering options are provided).\n",
    "\n",
    "```\n",
    "$ python\n",
    ">>> from qctrl import Qctrl\n",
    ">>> qctrl = Qctrl()\n",
    ">>> qctrl.activity_monitor(limit=2, offset=0, status=\"FAILURE\", action_type=\"FILTER_FUNCTION\")\n",
    "```\n",
    "\n",
    "## Web Access\n",
    "\n",
    "The activity monitor can also be accessed through the BOULDER OPAL web app present here: https://app.q-ctrl.com/boulder-opal/activityMonitor"
   ]
  }
 ],
 "metadata": {
  "kernelspec": {
   "display_name": "Python 3",
   "language": "python",
   "name": "python3"
  },
  "language_info": {
   "codemirror_mode": {
    "name": "ipython",
    "version": 3
   },
   "file_extension": ".py",
   "mimetype": "text/x-python",
   "name": "python",
   "nbconvert_exporter": "python",
   "pygments_lexer": "ipython3",
   "version": "3.7.6"
  }
 },
 "nbformat": 4,
 "nbformat_minor": 4
}
