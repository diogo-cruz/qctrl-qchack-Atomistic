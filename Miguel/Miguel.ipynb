{
 "cells": [
  {
   "cell_type": "code",
   "execution_count": 12,
   "id": "b44a0e22",
   "metadata": {},
   "outputs": [],
   "source": [
    "import matplotlib.pyplot as plt\n",
    "import numpy as np\n",
    "from qctrlvisualizer import plot_controls, get_qctrl_style\n",
    "\n",
    "plt.style.use(get_qctrl_style())\n",
    "\n",
    "from qctrl import Qctrl\n",
    "\n",
    "# Starting a session with the API\n",
    "qctrl = Qctrl()"
   ]
  },
  {
   "cell_type": "markdown",
   "id": "d808246d",
   "metadata": {},
   "source": [
    "## Estimating SPAM"
   ]
  },
  {
   "cell_type": "code",
   "execution_count": 154,
   "id": "93f4643d",
   "metadata": {},
   "outputs": [],
   "source": [
    "shot_count = 1_000"
   ]
  },
  {
   "cell_type": "code",
   "execution_count": 160,
   "id": "12bb5cfc",
   "metadata": {},
   "outputs": [
    {
     "data": {
      "application/vnd.jupyter.widget-view+json": {
       "model_id": "",
       "version_major": 2,
       "version_minor": 0
      },
      "text/plain": [
       "  0%|          | 0/100 [00:00<?, ?it/s]"
      ]
     },
     "metadata": {},
     "output_type": "display_data"
    },
    {
     "name": "stdout",
     "output_type": "stream",
     "text": [
      "Your task calculate_qchack_measurements has started.\n",
      "Your task calculate_qchack_measurements has completed in 6s.\n"
     ]
    }
   ],
   "source": [
    "idle_times = np.linspace(1e-10, 0.5, 100)\n",
    "\n",
    "controls = [\n",
    "        {\"duration\": time, \"values\": np.array([0. + 0.j])}\n",
    "        for time in idle_times \n",
    "    ]\n",
    "\n",
    "experiment_results = qctrl.functions.calculate_qchack_measurements(\n",
    "    controls=controls,\n",
    "    shot_count=shot_count\n",
    ")"
   ]
  },
  {
   "cell_type": "code",
   "execution_count": 161,
   "id": "bdab93ba",
   "metadata": {
    "scrolled": true
   },
   "outputs": [
    {
     "name": "stdout",
     "output_type": "stream",
     "text": [
      "[0.6 1.  0.7 1.2 1.1 1.5 1.1 1.3 1.3 1.  1.  0.5 1.7 1.  1.9 1.  0.9 0.9\n",
      " 1.3 1.3 0.7 1.  0.6 0.8 0.6 0.7 1.3 0.7 1.  1.3 1.2 1.  1.1 0.8 0.8 1.4\n",
      " 1.4 0.4 1.4 0.6 1.7 1.7 1.1 0.9 0.5 1.1 1.1 0.8 0.8 1.1 0.5 0.7 1.2 0.5\n",
      " 1.5 1.  1.  1.6 0.9 1.1 1.1 0.9 0.9 0.7 1.3 0.9 0.8 1.  1.2 1.  0.7 0.9\n",
      " 0.7 1.4 1.4 0.5 1.2 1.1 0.9 1.  0.9 0.7 1.4 0.7 1.9 0.8 1.2 1.4 0.6 0.8\n",
      " 0.9 1.3 0.7 0.8 0.6 1.1 0.4 1.3 0.5 1.3]\n"
     ]
    }
   ],
   "source": [
    "# SPAM estimation\n",
    "mistakes = np.array([sum(1 if x == 1 else 0 for x in measure)\n",
    "                    for measure in experiment_results.measurements])\n",
    "confusion_rate = mistakes / shot_count\n",
    "print(confusion_rate * 100)"
   ]
  },
  {
   "cell_type": "code",
   "execution_count": 162,
   "id": "6301c4ee",
   "metadata": {
    "scrolled": true
   },
   "outputs": [
    {
     "data": {
      "text/plain": [
       "<matplotlib.collections.PathCollection at 0x7f55a9cc3c10>"
      ]
     },
     "execution_count": 162,
     "metadata": {},
     "output_type": "execute_result"
    },
    {
     "data": {
      "image/png": "[encoded data removed]",
      "text/plain": [
       "<Figure size 432x288 with 1 Axes>"
      ]
     },
     "metadata": {
      "needs_background": "light"
     },
     "output_type": "display_data"
    }
   ],
   "source": [
    "plt.scatter(idle_times, confusion_rate*100)"
   ]
  },
  {
   "cell_type": "code",
   "execution_count": 164,
   "id": "bf3fe202",
   "metadata": {},
   "outputs": [],
   "source": [
    "with open('spam.txt', 'w') as outfile:\n",
    "    for t, e in zip(idle_times, confusion_rate):\n",
    "        outfile.write(f'{t} {e}\\n')"
   ]
  },
  {
   "cell_type": "code",
   "execution_count": 163,
   "id": "f431ae7e",
   "metadata": {},
   "outputs": [
    {
     "data": {
      "text/plain": [
       "0.01"
      ]
     },
     "execution_count": 163,
     "metadata": {},
     "output_type": "execute_result"
    }
   ],
   "source": [
    "np.median(confusion_rate)"
   ]
  },
  {
   "cell_type": "markdown",
   "id": "b0d3a602",
   "metadata": {},
   "source": [
    "First let's confirm that the population is successfully driven to $|1\\rangle$. This has also been done in the Sagar notebook."
   ]
  },
  {
   "cell_type": "code",
   "execution_count": 148,
   "id": "1bb54c03",
   "metadata": {},
   "outputs": [
    {
     "data": {
      "application/vnd.jupyter.widget-view+json": {
       "model_id": "",
       "version_major": 2,
       "version_minor": 0
      },
      "text/plain": [
       "  0%|          | 0/100 [00:00<?, ?it/s]"
      ]
     },
     "metadata": {},
     "output_type": "display_data"
    },
    {
     "name": "stdout",
     "output_type": "stream",
     "text": [
      "Your task calculate_qchack_measurements has started.\n",
      "Your task calculate_qchack_measurements has completed in 15s.\n"
     ]
    },
    {
     "data": {
      "text/plain": [
       "<matplotlib.collections.PathCollection at 0x7f55a9ee5f10>"
      ]
     },
     "execution_count": 148,
     "metadata": {},
     "output_type": "execute_result"
    },
    {
     "data": {
      "image/png": "[encoded data removed]",
      "text/plain": [
       "<Figure size 432x288 with 1 Axes>"
      ]
     },
     "metadata": {
      "needs_background": "light"
     },
     "output_type": "display_data"
    }
   ],
   "source": [
    "## Experimentally obtained NOT gate\n",
    "period = 19.4887485853892 # For Ω = -1.0\n",
    "\n",
    "gate_time = period / 2\n",
    "values = np.array([-1])  # One part Y for two parts X\n",
    "\n",
    "durations = np.linspace(1e-10, gate_time, 100)\n",
    "shot_count = 10_000\n",
    "experiment_results = qctrl.functions.calculate_qchack_measurements(\n",
    "        controls=[{\"duration\": duration, \"values\": values}\n",
    "                 for duration in durations],\n",
    "        shot_count=shot_count\n",
    ")\n",
    "\n",
    "plt.scatter(durations, [m.count(0) / shot_count for m in experiment_results.measurements])"
   ]
  },
  {
   "cell_type": "code",
   "execution_count": 149,
   "id": "f1039b0a",
   "metadata": {},
   "outputs": [
    {
     "data": {
      "text/plain": [
       "<matplotlib.collections.PathCollection at 0x7f55a9f27820>"
      ]
     },
     "execution_count": 149,
     "metadata": {},
     "output_type": "execute_result"
    },
    {
     "data": {
      "image/png": "[encoded data removed]",
      "text/plain": [
       "<Figure size 432x288 with 1 Axes>"
      ]
     },
     "metadata": {
      "needs_background": "light"
     },
     "output_type": "display_data"
    }
   ],
   "source": [
    "plt.scatter(durations, [m.count(1) / shot_count for m in experiment_results.measurements])\n",
    "plt.scatter(durations, [m.count(2) / shot_count for m in experiment_results.measurements])"
   ]
  },
  {
   "cell_type": "code",
   "execution_count": 150,
   "id": "b8f2ec84",
   "metadata": {},
   "outputs": [
    {
     "data": {
      "text/plain": [
       "<matplotlib.collections.PathCollection at 0x7f55a9f53430>"
      ]
     },
     "execution_count": 150,
     "metadata": {},
     "output_type": "execute_result"
    },
    {
     "data": {
      "image/png": "[encoded data removed]",
      "text/plain": [
       "<Figure size 432x288 with 1 Axes>"
      ]
     },
     "metadata": {
      "needs_background": "light"
     },
     "output_type": "display_data"
    }
   ],
   "source": [
    "plt.scatter(durations, [m.count(2) / shot_count for m in experiment_results.measurements])"
   ]
  },
  {
   "cell_type": "markdown",
   "id": "45199647",
   "metadata": {},
   "source": [
    "Good enough :^)\n",
    "\n",
    "Let's drive the population, then turn it off. We expect some effect from the linear filter when turning the pulse off, etc."
   ]
  },
  {
   "cell_type": "code",
   "execution_count": 171,
   "id": "6bb77d7c",
   "metadata": {},
   "outputs": [],
   "source": [
    "period = 19.4887485853892 # For Ω = -1.0\n",
    "\n",
    "excite_time = period / 2\n",
    "off_time = excite_time\n",
    "full_duration = excite_time + off_time\n",
    "resolution = 1\n",
    "\n",
    "excite_duration = np.repeat(resolution, int(excite_time/resolution))\n",
    "excite_values = np.repeat(-1, int(excite_time/resolution))\n",
    "\n",
    "off_duration = np.repeat(resolution, int(off_time/resolution))\n",
    "off_values = np.repeat(0., int(off_time/resolution))\n",
    "\n",
    "durations = np.array([*excite_duration, *off_duration])\n",
    "values = np.array([*excite_values, *off_values])"
   ]
  },
  {
   "cell_type": "code",
   "execution_count": 172,
   "id": "7a2d3685",
   "metadata": {},
   "outputs": [
    {
     "data": {
      "image/png": "[encoded data removed]",
      "text/plain": [
       "<Figure size 504x144 with 1 Axes>"
      ]
     },
     "metadata": {
      "needs_background": "light"
     },
     "output_type": "display_data"
    }
   ],
   "source": [
    "# Plot the pulse\n",
    "plot_controls(\n",
    "    figure=plt.figure(),\n",
    "    controls={\n",
    "        \"$\\Omega$\": [{\"duration\": duration, \"value\": value}\n",
    "                 for duration, value in zip(durations, values)]\n",
    "    },\n",
    ")"
   ]
  },
  {
   "cell_type": "code",
   "execution_count": 173,
   "id": "dffed805",
   "metadata": {},
   "outputs": [
    {
     "data": {
      "application/vnd.jupyter.widget-view+json": {
       "model_id": "",
       "version_major": 2,
       "version_minor": 0
      },
      "text/plain": [
       "  0%|          | 0/100 [00:00<?, ?it/s]"
      ]
     },
     "metadata": {},
     "output_type": "display_data"
    },
    {
     "name": "stdout",
     "output_type": "stream",
     "text": [
      "Your task calculate_qchack_measurements has started.\n",
      "Your task calculate_qchack_measurements has completed in 13s.\n"
     ]
    }
   ],
   "source": [
    "shot_count = 10_000\n",
    "measurement_count = 100\n",
    "start_off = 1e-10\n",
    "\n",
    "t_values = np.linspace(start_off, 1., measurement_count)\n",
    "\n",
    "experiment_results = qctrl.functions.calculate_qchack_measurements(\n",
    "        controls=[\n",
    "            {\n",
    "                \"duration\": excite_time + t_off*off_time,\n",
    "                \"values\": np.concatenate([excite_values, np.repeat(0., int(t_off*off_time/resolution))])\n",
    "            }\n",
    "            for t_off in t_values],\n",
    "        shot_count=shot_count\n",
    ")"
   ]
  },
  {
   "cell_type": "code",
   "execution_count": 174,
   "id": "89559ea4",
   "metadata": {
    "scrolled": true
   },
   "outputs": [
    {
     "data": {
      "text/plain": [
       "<matplotlib.legend.Legend at 0x7f55b2b97c70>"
      ]
     },
     "execution_count": 174,
     "metadata": {},
     "output_type": "execute_result"
    },
    {
     "data": {
      "image/png": "[encoded data removed]",
      "text/plain": [
       "<Figure size 432x288 with 1 Axes>"
      ]
     },
     "metadata": {
      "needs_background": "light"
     },
     "output_type": "display_data"
    }
   ],
   "source": [
    "plt.scatter(\n",
    "    t_values,\n",
    "    [m.count(0) / shot_count for m in experiment_results.measurements],\n",
    "    label='0')\n",
    "plt.scatter(\n",
    "    t_values,\n",
    "    [m.count(1) / shot_count for m in experiment_results.measurements],\n",
    "    label='1')\n",
    "plt.scatter(\n",
    "    t_values,\n",
    "    [m.count(2) / shot_count for m in experiment_results.measurements],\n",
    "    label='2')\n",
    "plt.legend()"
   ]
  },
  {
   "cell_type": "code",
   "execution_count": 175,
   "id": "0512ee12",
   "metadata": {},
   "outputs": [
    {
     "data": {
      "text/plain": [
       "<matplotlib.legend.Legend at 0x7f55b1af7910>"
      ]
     },
     "execution_count": 175,
     "metadata": {},
     "output_type": "execute_result"
    },
    {
     "data": {
      "image/png": "[encoded data removed]",
      "text/plain": [
       "<Figure size 432x288 with 1 Axes>"
      ]
     },
     "metadata": {
      "needs_background": "light"
     },
     "output_type": "display_data"
    }
   ],
   "source": [
    "plt.scatter(\n",
    "    t_values,\n",
    "    [m.count(1) / shot_count for m in experiment_results.measurements],\n",
    "    label='1')\n",
    "plt.legend()"
   ]
  },
  {
   "cell_type": "code",
   "execution_count": 176,
   "id": "abc1283c",
   "metadata": {
    "scrolled": true
   },
   "outputs": [
    {
     "data": {
      "text/plain": [
       "<matplotlib.legend.Legend at 0x7f55b1ad4d60>"
      ]
     },
     "execution_count": 176,
     "metadata": {},
     "output_type": "execute_result"
    },
    {
     "data": {
      "image/png": "[encoded data removed]",
      "text/plain": [
       "<Figure size 432x288 with 1 Axes>"
      ]
     },
     "metadata": {
      "needs_background": "light"
     },
     "output_type": "display_data"
    }
   ],
   "source": [
    "plt.scatter(\n",
    "    t_values * off_time,\n",
    "    [m.count(2) / shot_count for m in experiment_results.measurements],\n",
    "    label='2')\n",
    "plt.legend()"
   ]
  },
  {
   "cell_type": "code",
   "execution_count": 177,
   "id": "5065da7e",
   "metadata": {},
   "outputs": [],
   "source": [
    "with open('pop-2.txt', 'w') as outfile:\n",
    "    for x, y in zip(t_values * off_time,\n",
    "        [m.count(2) / shot_count for m in experiment_results.measurements]):\n",
    "        outfile.write(f'{x} {y}\\n')"
   ]
  },
  {
   "cell_type": "code",
   "execution_count": null,
   "id": "ae880817",
   "metadata": {},
   "outputs": [],
   "source": []
  }
 ],
 "metadata": {
  "kernelspec": {
   "display_name": "qchack",
   "language": "python",
   "name": "qchack"
  },
  "language_info": {
   "codemirror_mode": {
    "name": "ipython",
    "version": 3
   },
   "file_extension": ".py",
   "mimetype": "text/x-python",
   "name": "python",
   "nbconvert_exporter": "python",
   "pygments_lexer": "ipython3",
   "version": "3.8.5"
  }
 },
 "nbformat": 4,
 "nbformat_minor": 5
}
