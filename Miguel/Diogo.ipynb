{
 "cells": [
  {
   "cell_type": "code",
   "execution_count": 1,
   "id": "53c93b53-18b9-4fa2-95c6-71d49a4fd4d2",
   "metadata": {
    "execution": {
     "iopub.execute_input": "2021-04-10T19:12:04.605919Z",
     "iopub.status.busy": "2021-04-10T19:12:04.604761Z",
     "iopub.status.idle": "2021-04-10T19:12:08.501070Z",
     "shell.execute_reply": "2021-04-10T19:12:08.500470Z",
     "shell.execute_reply.started": "2021-04-10T19:12:04.605769Z"
    }
   },
   "outputs": [],
   "source": [
    "import matplotlib.pyplot as plt\n",
    "import numpy as np\n",
    "from qctrlvisualizer import get_qctrl_style, plot_controls\n",
    "\n",
    "from qctrl import Qctrl\n",
    "\n",
    "plt.style.use(get_qctrl_style())\n",
    "\n",
    "# Sparse matrix imports\n",
    "from scipy.sparse import coo_matrix\n",
    "\n",
    "# Starting a session with the API\n",
    "qctrl = Qctrl()"
   ]
  },
  {
   "cell_type": "code",
   "execution_count": 8,
   "id": "d9a72e98-116c-42f2-9b57-a98fe4b53d3f",
   "metadata": {
    "execution": {
     "iopub.execute_input": "2021-04-10T21:08:59.431969Z",
     "iopub.status.busy": "2021-04-10T21:08:59.430888Z",
     "iopub.status.idle": "2021-04-10T21:08:59.486970Z",
     "shell.execute_reply": "2021-04-10T21:08:59.485916Z",
     "shell.execute_reply.started": "2021-04-10T21:08:59.431835Z"
    },
    "tags": []
   },
   "outputs": [],
   "source": [
    "def simulate_more_realistic_qubit(\n",
    "    duration=1, values=np.array([np.pi]), shots=1024, repetitions=1\n",
    "):\n",
    "\n",
    "    # 1. Limits for drive amplitudes\n",
    "    assert np.amax(values) <= 1.0\n",
    "    assert np.amin(values) >= -1.0\n",
    "    max_drive_amplitude = 2 * np.pi * 20  # MHz\n",
    "\n",
    "    # 2. Dephasing error\n",
    "    dephasing_error = -2 * 2 * np.pi  # MHz\n",
    "\n",
    "    # 3. Amplitude error\n",
    "    amplitude_i_error = 0.98\n",
    "    amplitude_q_error = 1.03\n",
    "\n",
    "    # 4. Control line bandwidth limit\n",
    "    cut_off_frequency = 2 * np.pi * 10  # MHz\n",
    "    resample_segment_count = 1000\n",
    "\n",
    "    # 5. SPAM error confusion matrix\n",
    "    confusion_matrix = np.array([[0.99, 0.01], [0.02, 0.98]])\n",
    "\n",
    "    # Lowering operator\n",
    "    b = np.array([[0, 1], [0, 0]])\n",
    "    # Number operator\n",
    "    n = np.diag([0, 1])\n",
    "    # Initial state\n",
    "    initial_state = np.array([[1], [0]])\n",
    "    \n",
    "    sigma_x = np.array([[0, 1], [1, 0]])\n",
    "    sigma_y = np.array([[0, -1j], [1j, 0]])\n",
    "    sigma_z = np.array([[1, 0], [0, -1]])\n",
    "    sigma_m = np.array([[0, 1], [0, 0]])\n",
    "    hadamard = np.array([[1, 1], [1, -1]]) / np.sqrt(2)\n",
    "    hadamard_leak = np.array(\n",
    "        [[1.0, 1.0, 0], [1.0, -1.0, 0], [0, 0, np.sqrt(2)]], dtype=np.complex\n",
    "    ) / np.sqrt(2)\n",
    "    qubit_projector = np.array([[1, 0, 0], [0, 1, 0], [0, 0, 0]], dtype=np.complex)\n",
    "    sigma_x_leak = np.array(\n",
    "    [[0, 1.0, 0], [1.0, 0, 0], [0, 0, 1.]], dtype=np.complex)\n",
    "\n",
    "    with qctrl.create_graph() as graph:\n",
    "        # Apply 1. max Rabi rate.\n",
    "        values = values * max_drive_amplitude\n",
    "\n",
    "        # Apply 3. amplitude errors.\n",
    "        values_i = np.real(values) * amplitude_i_error\n",
    "        values_q = np.imag(values) * amplitude_q_error\n",
    "        values = values_i + 1j * values_q\n",
    "        \n",
    "        \n",
    "        gamma_max = 2 * np.pi * 30e6  # Hz\n",
    "        alpha_max = 2 * np.pi * 30e6  # Hz\n",
    "        segment_count = 50\n",
    "\n",
    "        gamma_i = qctrl.operations.real_fourier_pwc_signal(\n",
    "            duration=duration,\n",
    "            segments_count=segment_count,\n",
    "            randomized_frequencies_count=10,\n",
    "        )\n",
    "        gamma_q = qctrl.operations.real_fourier_pwc_signal(\n",
    "            duration=duration,\n",
    "            segments_count=segment_count,\n",
    "            optimizable_frequencies_count=10,\n",
    "        )\n",
    "\n",
    "        # Apply 4. bandwidth limits\n",
    "        drive_unfiltered = qctrl.operations.pwc_signal(duration=duration,\n",
    "                                                       values=qctrl.operations.complex_value(\n",
    "                                                           real=gamma_i.values, imag=gamma_q.values),\n",
    "                                                      name = 'gamma')\n",
    "        drive_filtered = qctrl.operations.convolve_pwc(\n",
    "            pwc=drive_unfiltered,\n",
    "            kernel_integral=qctrl.operations.sinc_integral_function(cut_off_frequency),\n",
    "        )\n",
    "        drive = qctrl.operations.discretize_stf(\n",
    "            drive_filtered, duration=duration, segments_count=resample_segment_count\n",
    "        )\n",
    "\n",
    "        # Construct microwave drive\n",
    "        drive_term = qctrl.operations.pwc_operator_hermitian_part(\n",
    "            qctrl.operations.pwc_operator(signal=drive, operator=b)\n",
    "        )\n",
    "\n",
    "        # Construct 2. dephasing term.\n",
    "        dephasing_term = qctrl.operations.constant_pwc_operator(\n",
    "            operator=dephasing_error * n,\n",
    "            duration=duration,\n",
    "        )\n",
    "\n",
    "        # Construct Hamiltonian.\n",
    "        hamiltonian = qctrl.operations.pwc_sum(\n",
    "            [\n",
    "                drive_term,\n",
    "                dephasing_term,\n",
    "            ]\n",
    "        )\n",
    "        \n",
    "#         target_operator = qctrl.operations.target(\n",
    "#             sigma_x_leak.dot(qubit_projector), filter_function_projector=qubit_projector\n",
    "#         )\n",
    "        target_operator = qctrl.operations.target(operator=sigma_x)\n",
    "        \n",
    "        #DIOGO\n",
    "        infidelity = qctrl.operations.infidelity_pwc(\n",
    "        hamiltonian=qctrl.operations.pwc_sum([drive_term, dephasing_term]),\n",
    "        target_operator=target_operator,\n",
    "        noise_operators=[dephasing_term],\n",
    "        name=\"infidelity\",\n",
    "        )\n",
    "\n",
    "        # Solve Schrodinger's equation and get total unitary at the end\n",
    "        unitary = qctrl.operations.time_evolution_operators_pwc(\n",
    "            hamiltonian=hamiltonian,\n",
    "            sample_times=np.array([duration]),\n",
    "        )[-1]\n",
    "        unitary.name = \"unitary\"\n",
    "\n",
    "        # Repeat final unitary\n",
    "        repeated_unitary = np.eye(2)\n",
    "        for _ in range(repetitions):\n",
    "            repeated_unitary = repeated_unitary @ unitary\n",
    "        repeated_unitary.name = \"repeated_unitary\"\n",
    "\n",
    "        # Calculate final state.\n",
    "        state = repeated_unitary @ initial_state\n",
    "\n",
    "        # Calculate final populations.\n",
    "        populations = qctrl.operations.abs(state[:, 0]) ** 2\n",
    "        # Normalize populations\n",
    "        norm = qctrl.operations.sum(populations)\n",
    "        populations = populations / norm\n",
    "        populations.name = \"populations\"\n",
    "        \n",
    "    # Run the optimization\n",
    "    optimization_result = qctrl.functions.calculate_optimization(\n",
    "        cost_node_name=\"infidelity\",\n",
    "        output_node_names=[\"gamma\"],\n",
    "        graph=graph,\n",
    "    )\n",
    "    \n",
    "    print(optimization_result)\n",
    "\n",
    "    print(\"Optimized cost:\\t\", optimization_result.cost)\n",
    "\n",
    "    # Plot the optimized controls\n",
    "    plot_controls(\n",
    "        plt.figure(),\n",
    "        controls={\n",
    "            \"$\\\\gamma$\": optimization_result.output[\"gamma\"],\n",
    "        },\n",
    "    )\n",
    "    plt.show()\n",
    "\n",
    "    # Evaluate graph.\n",
    "    result = qctrl.functions.calculate_graph(\n",
    "        graph=graph,\n",
    "        output_node_names=[\"unitary\", \"repeated_unitary\", \"populations\"],\n",
    "    )\n",
    "\n",
    "    # Extract outputs.\n",
    "    unitary = result.output[\"unitary\"][\"value\"]\n",
    "    repeated_unitary = result.output[\"repeated_unitary\"][\"value\"]\n",
    "    populations = result.output[\"populations\"][\"value\"]\n",
    "\n",
    "    # Sample projective measurements.\n",
    "    true_measurements = np.random.choice(2, size=shots, p=populations)\n",
    "    measurements = np.array(\n",
    "        [np.random.choice(2, p=confusion_matrix[m]) for m in true_measurements]\n",
    "    )\n",
    "\n",
    "    results = {\"unitary\": unitary, \"measurements\": measurements}\n",
    "\n",
    "    return results"
   ]
  },
  {
   "cell_type": "code",
   "execution_count": 9,
   "id": "07502414-fde7-4908-ad69-2761b9a966e6",
   "metadata": {
    "execution": {
     "iopub.execute_input": "2021-04-10T21:09:02.255951Z",
     "iopub.status.busy": "2021-04-10T21:09:02.255241Z",
     "iopub.status.idle": "2021-04-10T21:09:02.270733Z",
     "shell.execute_reply": "2021-04-10T21:09:02.267433Z",
     "shell.execute_reply.started": "2021-04-10T21:09:02.255866Z"
    },
    "tags": []
   },
   "outputs": [],
   "source": [
    "max_rabi_rate = 20 * 2 * np.pi  # MHz\n",
    "not_duration = np.pi / (max_rabi_rate)  # us\n",
    "h_duration = np.pi / (2 * max_rabi_rate)  # us\n",
    "shots = 1024\n",
    "\n",
    "values = np.array([1.0])"
   ]
  },
  {
   "cell_type": "code",
   "execution_count": 10,
   "id": "52a67969-167b-4658-98d4-6c199e44af9d",
   "metadata": {
    "execution": {
     "iopub.execute_input": "2021-04-10T21:09:02.510846Z",
     "iopub.status.busy": "2021-04-10T21:09:02.510613Z",
     "iopub.status.idle": "2021-04-10T21:09:51.279163Z",
     "shell.execute_reply": "2021-04-10T21:09:51.270599Z",
     "shell.execute_reply.started": "2021-04-10T21:09:02.510819Z"
    },
    "tags": []
   },
   "outputs": [
    {
     "name": "stderr",
     "output_type": "stream",
     "text": [
      "<ipython-input-8-a23f563e314c>:37: DeprecationWarning: `np.complex` is a deprecated alias for the builtin `complex`. To silence this warning, use `complex` by itself. Doing this will not modify any behavior and is safe. If you specifically wanted the numpy scalar type, use `np.complex128` here.\n",
      "Deprecated in NumPy 1.20; for more details and guidance: https://numpy.org/devdocs/release/1.20.0-notes.html#deprecations\n",
      "  [[1.0, 1.0, 0], [1.0, -1.0, 0], [0, 0, np.sqrt(2)]], dtype=np.complex\n",
      "<ipython-input-8-a23f563e314c>:39: DeprecationWarning: `np.complex` is a deprecated alias for the builtin `complex`. To silence this warning, use `complex` by itself. Doing this will not modify any behavior and is safe. If you specifically wanted the numpy scalar type, use `np.complex128` here.\n",
      "Deprecated in NumPy 1.20; for more details and guidance: https://numpy.org/devdocs/release/1.20.0-notes.html#deprecations\n",
      "  qubit_projector = np.array([[1, 0, 0], [0, 1, 0], [0, 0, 0]], dtype=np.complex)\n",
      "<ipython-input-8-a23f563e314c>:41: DeprecationWarning: `np.complex` is a deprecated alias for the builtin `complex`. To silence this warning, use `complex` by itself. Doing this will not modify any behavior and is safe. If you specifically wanted the numpy scalar type, use `np.complex128` here.\n",
      "Deprecated in NumPy 1.20; for more details and guidance: https://numpy.org/devdocs/release/1.20.0-notes.html#deprecations\n",
      "  [[0, 1.0, 0], [1.0, 0, 0], [0, 0, 1.]], dtype=np.complex)\n"
     ]
    },
    {
     "ename": "ValueError",
     "evalue": "`graph` must be given explicitly or a default graph must be set",
     "output_type": "error",
     "traceback": [
      "\u001b[0;31m---------------------------------------------------------------------------\u001b[0m",
      "\u001b[0;31mValueError\u001b[0m                                Traceback (most recent call last)",
      "\u001b[0;32m<ipython-input-10-9e3531587005>\u001b[0m in \u001b[0;36m<module>\u001b[0;34m\u001b[0m\n\u001b[0;32m----> 1\u001b[0;31m not_results = simulate_more_realistic_qubit(\n\u001b[0m\u001b[1;32m      2\u001b[0m     \u001b[0mduration\u001b[0m\u001b[0;34m=\u001b[0m\u001b[0mnot_duration\u001b[0m\u001b[0;34m,\u001b[0m \u001b[0mvalues\u001b[0m\u001b[0;34m=\u001b[0m\u001b[0mvalues\u001b[0m\u001b[0;34m,\u001b[0m \u001b[0mshots\u001b[0m\u001b[0;34m=\u001b[0m\u001b[0mshots\u001b[0m\u001b[0;34m\u001b[0m\u001b[0;34m\u001b[0m\u001b[0m\n\u001b[1;32m      3\u001b[0m )\n\u001b[1;32m      4\u001b[0m h_results = simulate_more_realistic_qubit(\n\u001b[1;32m      5\u001b[0m     \u001b[0mduration\u001b[0m\u001b[0;34m=\u001b[0m\u001b[0mh_duration\u001b[0m\u001b[0;34m,\u001b[0m \u001b[0mvalues\u001b[0m\u001b[0;34m=\u001b[0m\u001b[0mvalues\u001b[0m\u001b[0;34m,\u001b[0m \u001b[0mshots\u001b[0m\u001b[0;34m=\u001b[0m\u001b[0mshots\u001b[0m\u001b[0;34m\u001b[0m\u001b[0;34m\u001b[0m\u001b[0m\n",
      "\u001b[0;32m<ipython-input-8-a23f563e314c>\u001b[0m in \u001b[0;36msimulate_more_realistic_qubit\u001b[0;34m(duration, values, shots, repetitions)\u001b[0m\n\u001b[1;32m     42\u001b[0m \u001b[0;34m\u001b[0m\u001b[0m\n\u001b[1;32m     43\u001b[0m     \u001b[0msegment_count\u001b[0m \u001b[0;34m=\u001b[0m \u001b[0;36m50\u001b[0m\u001b[0;34m\u001b[0m\u001b[0;34m\u001b[0m\u001b[0m\n\u001b[0;32m---> 44\u001b[0;31m     gamma_i = qctrl.operations.real_fourier_pwc_signal(\n\u001b[0m\u001b[1;32m     45\u001b[0m         \u001b[0mduration\u001b[0m\u001b[0;34m=\u001b[0m\u001b[0mduration\u001b[0m\u001b[0;34m,\u001b[0m\u001b[0;34m\u001b[0m\u001b[0;34m\u001b[0m\u001b[0m\n\u001b[1;32m     46\u001b[0m         \u001b[0msegments_count\u001b[0m\u001b[0;34m=\u001b[0m\u001b[0msegment_count\u001b[0m\u001b[0;34m,\u001b[0m\u001b[0;34m\u001b[0m\u001b[0;34m\u001b[0m\u001b[0m\n",
      "\u001b[0;32m~/Documents/Universidade/QCHACK_IST/venv/lib/python3.8/site-packages/forge/_revision.py\u001b[0m in \u001b[0;36minner\u001b[0;34m(*args, **kwargs)\u001b[0m\n\u001b[1;32m    326\u001b[0m                 \u001b[0;31m# pylint: disable=E1102, not-callable\u001b[0m\u001b[0;34m\u001b[0m\u001b[0;34m\u001b[0m\u001b[0;34m\u001b[0m\u001b[0m\n\u001b[1;32m    327\u001b[0m                 \u001b[0mmapped\u001b[0m \u001b[0;34m=\u001b[0m \u001b[0minner\u001b[0m\u001b[0;34m.\u001b[0m\u001b[0m__mapper__\u001b[0m\u001b[0;34m(\u001b[0m\u001b[0;34m*\u001b[0m\u001b[0margs\u001b[0m\u001b[0;34m,\u001b[0m \u001b[0;34m**\u001b[0m\u001b[0mkwargs\u001b[0m\u001b[0;34m)\u001b[0m\u001b[0;34m\u001b[0m\u001b[0;34m\u001b[0m\u001b[0m\n\u001b[0;32m--> 328\u001b[0;31m                 \u001b[0;32mreturn\u001b[0m \u001b[0mcallable\u001b[0m\u001b[0;34m(\u001b[0m\u001b[0;34m*\u001b[0m\u001b[0mmapped\u001b[0m\u001b[0;34m.\u001b[0m\u001b[0margs\u001b[0m\u001b[0;34m,\u001b[0m \u001b[0;34m**\u001b[0m\u001b[0mmapped\u001b[0m\u001b[0;34m.\u001b[0m\u001b[0mkwargs\u001b[0m\u001b[0;34m)\u001b[0m\u001b[0;34m\u001b[0m\u001b[0;34m\u001b[0m\u001b[0m\n\u001b[0m\u001b[1;32m    329\u001b[0m \u001b[0;34m\u001b[0m\u001b[0m\n\u001b[1;32m    330\u001b[0m         \u001b[0mnext_\u001b[0m\u001b[0;34m.\u001b[0m\u001b[0mvalidate\u001b[0m\u001b[0;34m(\u001b[0m\u001b[0;34m)\u001b[0m\u001b[0;34m\u001b[0m\u001b[0;34m\u001b[0m\u001b[0m\n",
      "\u001b[0;32m~/Documents/Universidade/QCHACK_IST/venv/lib/python3.8/site-packages/qctrlcommons/node/base.py\u001b[0m in \u001b[0;36mfunc\u001b[0;34m(name, **kwargs)\u001b[0m\n\u001b[1;32m     86\u001b[0m \u001b[0;34m\u001b[0m\u001b[0m\n\u001b[1;32m     87\u001b[0m         \u001b[0;32mdef\u001b[0m \u001b[0mfunc\u001b[0m\u001b[0;34m(\u001b[0m\u001b[0mname\u001b[0m\u001b[0;34m=\u001b[0m\u001b[0;32mNone\u001b[0m\u001b[0;34m,\u001b[0m \u001b[0;34m**\u001b[0m\u001b[0mkwargs\u001b[0m\u001b[0;34m)\u001b[0m\u001b[0;34m:\u001b[0m\u001b[0;34m\u001b[0m\u001b[0;34m\u001b[0m\u001b[0m\n\u001b[0;32m---> 88\u001b[0;31m             \u001b[0moperation\u001b[0m \u001b[0;34m=\u001b[0m \u001b[0mOperation\u001b[0m\u001b[0;34m(\u001b[0m\u001b[0mcls\u001b[0m\u001b[0;34m.\u001b[0m\u001b[0mname\u001b[0m\u001b[0;34m,\u001b[0m \u001b[0mname\u001b[0m\u001b[0;34m=\u001b[0m\u001b[0mname\u001b[0m\u001b[0;34m,\u001b[0m \u001b[0;34m**\u001b[0m\u001b[0mkwargs\u001b[0m\u001b[0;34m)\u001b[0m\u001b[0;34m\u001b[0m\u001b[0;34m\u001b[0m\u001b[0m\n\u001b[0m\u001b[1;32m     89\u001b[0m             \u001b[0;32mreturn\u001b[0m \u001b[0mcls\u001b[0m\u001b[0;34m.\u001b[0m\u001b[0mcreate_node_data\u001b[0m\u001b[0;34m(\u001b[0m\u001b[0m_operation\u001b[0m\u001b[0;34m=\u001b[0m\u001b[0moperation\u001b[0m\u001b[0;34m,\u001b[0m \u001b[0mname\u001b[0m\u001b[0;34m=\u001b[0m\u001b[0mname\u001b[0m\u001b[0;34m,\u001b[0m \u001b[0;34m**\u001b[0m\u001b[0mkwargs\u001b[0m\u001b[0;34m)\u001b[0m\u001b[0;34m\u001b[0m\u001b[0;34m\u001b[0m\u001b[0m\n\u001b[1;32m     90\u001b[0m \u001b[0;34m\u001b[0m\u001b[0m\n",
      "\u001b[0;32m~/Documents/Universidade/QCHACK_IST/venv/lib/python3.8/site-packages/qctrlcommons/node/wrapper.py\u001b[0m in \u001b[0;36m__init__\u001b[0;34m(self, func, *args, **kwargs)\u001b[0m\n\u001b[1;32m     29\u001b[0m \u001b[0;34m\u001b[0m\u001b[0m\n\u001b[1;32m     30\u001b[0m     \u001b[0;32mdef\u001b[0m \u001b[0m__init__\u001b[0m\u001b[0;34m(\u001b[0m\u001b[0mself\u001b[0m\u001b[0;34m,\u001b[0m \u001b[0mfunc\u001b[0m\u001b[0;34m,\u001b[0m \u001b[0;34m*\u001b[0m\u001b[0margs\u001b[0m\u001b[0;34m,\u001b[0m \u001b[0;34m**\u001b[0m\u001b[0mkwargs\u001b[0m\u001b[0;34m)\u001b[0m\u001b[0;34m:\u001b[0m\u001b[0;34m\u001b[0m\u001b[0;34m\u001b[0m\u001b[0m\n\u001b[0;32m---> 31\u001b[0;31m         \u001b[0msuper\u001b[0m\u001b[0;34m(\u001b[0m\u001b[0;34m)\u001b[0m\u001b[0;34m.\u001b[0m\u001b[0m__init__\u001b[0m\u001b[0;34m(\u001b[0m\u001b[0;34m*\u001b[0m\u001b[0margs\u001b[0m\u001b[0;34m,\u001b[0m \u001b[0;34m**\u001b[0m\u001b[0mkwargs\u001b[0m\u001b[0;34m)\u001b[0m\u001b[0;34m\u001b[0m\u001b[0;34m\u001b[0m\u001b[0m\n\u001b[0m\u001b[1;32m     32\u001b[0m         \u001b[0mself\u001b[0m\u001b[0;34m.\u001b[0m\u001b[0moperation_name\u001b[0m \u001b[0;34m=\u001b[0m \u001b[0mfunc\u001b[0m\u001b[0;34m\u001b[0m\u001b[0;34m\u001b[0m\u001b[0m\n\u001b[1;32m     33\u001b[0m \u001b[0;34m\u001b[0m\u001b[0m\n",
      "\u001b[0;32m~/Documents/Universidade/QCHACK_IST/venv/lib/python3.8/site-packages/pythonflow/core.py\u001b[0m in \u001b[0;36m__init__\u001b[0;34m(self, length, graph, name, dependencies, *args, **kwargs)\u001b[0m\n\u001b[1;32m    223\u001b[0m         \u001b[0mself\u001b[0m\u001b[0;34m.\u001b[0m\u001b[0mkwargs\u001b[0m \u001b[0;34m=\u001b[0m \u001b[0mkwargs\u001b[0m\u001b[0;34m\u001b[0m\u001b[0;34m\u001b[0m\u001b[0m\n\u001b[1;32m    224\u001b[0m         \u001b[0mself\u001b[0m\u001b[0;34m.\u001b[0m\u001b[0mlength\u001b[0m \u001b[0;34m=\u001b[0m \u001b[0mlength\u001b[0m\u001b[0;34m\u001b[0m\u001b[0;34m\u001b[0m\u001b[0m\n\u001b[0;32m--> 225\u001b[0;31m         \u001b[0mself\u001b[0m\u001b[0;34m.\u001b[0m\u001b[0mgraph\u001b[0m \u001b[0;34m=\u001b[0m \u001b[0mGraph\u001b[0m\u001b[0;34m.\u001b[0m\u001b[0mget_active_graph\u001b[0m\u001b[0;34m(\u001b[0m\u001b[0mgraph\u001b[0m\u001b[0;34m)\u001b[0m\u001b[0;34m\u001b[0m\u001b[0;34m\u001b[0m\u001b[0m\n\u001b[0m\u001b[1;32m    226\u001b[0m         \u001b[0;31m# Choose a name for the operation and add the operation to the graph\u001b[0m\u001b[0;34m\u001b[0m\u001b[0;34m\u001b[0m\u001b[0;34m\u001b[0m\u001b[0m\n\u001b[1;32m    227\u001b[0m         \u001b[0mself\u001b[0m\u001b[0;34m.\u001b[0m\u001b[0m_name\u001b[0m \u001b[0;34m=\u001b[0m \u001b[0;32mNone\u001b[0m\u001b[0;34m\u001b[0m\u001b[0;34m\u001b[0m\u001b[0m\n",
      "\u001b[0;32m~/Documents/Universidade/QCHACK_IST/venv/lib/python3.8/site-packages/pythonflow/core.py\u001b[0m in \u001b[0;36mget_active_graph\u001b[0;34m(graph)\u001b[0m\n\u001b[1;32m    188\u001b[0m         \u001b[0mgraph\u001b[0m \u001b[0;34m=\u001b[0m \u001b[0mgraph\u001b[0m \u001b[0;32mor\u001b[0m \u001b[0mGraph\u001b[0m\u001b[0;34m.\u001b[0m\u001b[0m_globals\u001b[0m\u001b[0;34m.\u001b[0m\u001b[0mdefault_graph\u001b[0m\u001b[0;34m\u001b[0m\u001b[0;34m\u001b[0m\u001b[0m\n\u001b[1;32m    189\u001b[0m         \u001b[0;32mif\u001b[0m \u001b[0;32mnot\u001b[0m \u001b[0mgraph\u001b[0m\u001b[0;34m:\u001b[0m\u001b[0;34m\u001b[0m\u001b[0;34m\u001b[0m\u001b[0m\n\u001b[0;32m--> 190\u001b[0;31m             \u001b[0;32mraise\u001b[0m \u001b[0mValueError\u001b[0m\u001b[0;34m(\u001b[0m\u001b[0;34m\"`graph` must be given explicitly or a default graph must be set\"\u001b[0m\u001b[0;34m)\u001b[0m\u001b[0;34m\u001b[0m\u001b[0;34m\u001b[0m\u001b[0m\n\u001b[0m\u001b[1;32m    191\u001b[0m         \u001b[0;32mreturn\u001b[0m \u001b[0mgraph\u001b[0m\u001b[0;34m\u001b[0m\u001b[0;34m\u001b[0m\u001b[0m\n\u001b[1;32m    192\u001b[0m \u001b[0;34m\u001b[0m\u001b[0m\n",
      "\u001b[0;31mValueError\u001b[0m: `graph` must be given explicitly or a default graph must be set"
     ]
    }
   ],
   "source": [
    "not_results = simulate_more_realistic_qubit(\n",
    "    duration=not_duration, values=values, shots=shots\n",
    ")\n",
    "h_results = simulate_more_realistic_qubit(\n",
    "    duration=h_duration, values=values, shots=shots\n",
    ")"
   ]
  },
  {
   "cell_type": "code",
   "execution_count": null,
   "id": "35c0df79-a724-4ade-b9b9-c2cea88d815b",
   "metadata": {
    "execution": {
     "iopub.execute_input": "2021-04-10T19:16:44.027247Z",
     "iopub.status.busy": "2021-04-10T19:16:44.026781Z",
     "iopub.status.idle": "2021-04-10T19:16:44.034703Z",
     "shell.execute_reply": "2021-04-10T19:16:44.033085Z",
     "shell.execute_reply.started": "2021-04-10T19:16:44.027180Z"
    }
   },
   "outputs": [],
   "source": [
    "error_norm = (\n",
    "    lambda operate_a, operator_b: 1\n",
    "    - np.abs(np.trace((operate_a.conj().T @ operator_b)) / 2) ** 2\n",
    ")"
   ]
  },
  {
   "cell_type": "code",
   "execution_count": null,
   "id": "7be04d95-ea3b-4952-ad87-45161b55303b",
   "metadata": {
    "execution": {
     "iopub.execute_input": "2021-04-10T19:18:08.590444Z",
     "iopub.status.busy": "2021-04-10T19:18:08.589855Z",
     "iopub.status.idle": "2021-04-10T19:18:08.599803Z",
     "shell.execute_reply": "2021-04-10T19:18:08.598772Z",
     "shell.execute_reply.started": "2021-04-10T19:18:08.590376Z"
    }
   },
   "outputs": [],
   "source": [
    "def get_pulse_plot_dict(name=\"default\", duration=1, values=np.array([1.0])):\n",
    "    segments = len(values)\n",
    "    segment_durations = duration / segments\n",
    "    pulse_plot_dict = {\n",
    "        name: [{\"duration\": segment_durations, \"value\": v} for v in values]\n",
    "    }\n",
    "    return pulse_plot_dict\n",
    "def estimate_probability_of_one(measurements):\n",
    "    size = len(measurements)\n",
    "    probability = np.mean(measurements)\n",
    "    standard_error = np.std(measurements) / np.sqrt(size)\n",
    "    return (probability, standard_error)"
   ]
  },
  {
   "cell_type": "code",
   "execution_count": null,
   "id": "ff4f4042-d1af-45e2-871b-33d43020a23b",
   "metadata": {
    "execution": {
     "iopub.execute_input": "2021-04-10T19:18:09.231958Z",
     "iopub.status.busy": "2021-04-10T19:18:09.231750Z",
     "iopub.status.idle": "2021-04-10T19:18:09.251124Z",
     "shell.execute_reply": "2021-04-10T19:18:09.249949Z",
     "shell.execute_reply.started": "2021-04-10T19:18:09.231935Z"
    },
    "tags": []
   },
   "outputs": [],
   "source": [
    "realised_not_gate = not_results[\"unitary\"]\n",
    "ideal_not_gate = np.array([[0, -1j], [-1j, 0]])\n",
    "not_error = error_norm(realised_not_gate, ideal_not_gate)\n",
    "realised_h_gate = h_results[\"unitary\"]\n",
    "ideal_h_gate = (1 / np.sqrt(2)) * np.array([[1, -1j], [-1j, 1]])\n",
    "h_error = error_norm(realised_h_gate, ideal_h_gate)\n",
    "\n",
    "not_measurements = not_results[\"measurements\"]\n",
    "h_measurements = h_results[\"measurements\"]\n",
    "not_probability, not_standard_error = estimate_probability_of_one(not_measurements)\n",
    "h_probability, h_standard_error = estimate_probability_of_one(h_measurements)\n",
    "\n",
    "print(\"Realised NOT Gate:\")\n",
    "print(realised_not_gate)\n",
    "print(\"Ideal NOT Gate:\")\n",
    "print(ideal_not_gate)\n",
    "print(\"NOT Gate Error:\" + str(not_error))\n",
    "print(\"NOT estimated probability of getting 1:\" + str(not_probability))\n",
    "print(\"NOT estimate standard error:\" + str(not_standard_error) + \"\\n\")\n",
    "\n",
    "print(\"Realised H Gate:\")\n",
    "print(realised_h_gate)\n",
    "print(\"Ideal H Gate:\")\n",
    "print(ideal_h_gate)\n",
    "print(\"H Gate Error:\" + str(h_error))\n",
    "print(\"H estimated probability of getting 1:\" + str(h_probability))\n",
    "print(\"H estimate standard error:\" + str(h_standard_error))"
   ]
  },
  {
   "cell_type": "code",
   "execution_count": null,
   "id": "17dd9744-a1c8-4103-9f15-f1f177f9771e",
   "metadata": {
    "execution": {
     "iopub.execute_input": "2021-04-10T19:18:11.618194Z",
     "iopub.status.busy": "2021-04-10T19:18:11.616845Z",
     "iopub.status.idle": "2021-04-10T19:18:11.626732Z",
     "shell.execute_reply": "2021-04-10T19:18:11.625158Z",
     "shell.execute_reply.started": "2021-04-10T19:18:11.618109Z"
    },
    "tags": []
   },
   "outputs": [],
   "source": [
    "control_count = 5\n",
    "segment_count = 16\n",
    "duration = 30.0\n",
    "shot_count = 32"
   ]
  },
  {
   "cell_type": "code",
   "execution_count": null,
   "id": "33c2eeae-fccc-4f12-9287-1f548fb70309",
   "metadata": {
    "execution": {
     "iopub.execute_input": "2021-04-10T19:18:11.866140Z",
     "iopub.status.busy": "2021-04-10T19:18:11.865591Z",
     "iopub.status.idle": "2021-04-10T19:18:12.740259Z",
     "shell.execute_reply": "2021-04-10T19:18:12.739472Z",
     "shell.execute_reply.started": "2021-04-10T19:18:11.866095Z"
    },
    "tags": []
   },
   "outputs": [],
   "source": [
    "controls = []\n",
    "for k in range(control_count):\n",
    "    # Create a random string of complex numbers for each controls.\n",
    "    real_part = np.random.random(size=[segment_count])\n",
    "    imag_part = np.random.random(size=[segment_count])\n",
    "    values = 0.15 * k * (real_part + 1j * imag_part)\n",
    "\n",
    "    controls.append({\"duration\": duration, \"values\": values})\n",
    "\n",
    "# Plot the last control as an example.\n",
    "plot_controls(\n",
    "    figure=plt.figure(),\n",
    "    controls={\n",
    "        \"$\\Omega$\": [\n",
    "            {\"duration\": duration / segment_count, \"value\": value} for value in values\n",
    "        ]\n",
    "    },\n",
    ")"
   ]
  },
  {
   "cell_type": "code",
   "execution_count": null,
   "id": "f6e0f151-9e3c-45a4-8e93-d79c9dfbf6d4",
   "metadata": {
    "execution": {
     "iopub.execute_input": "2021-04-10T19:18:13.509933Z",
     "iopub.status.busy": "2021-04-10T19:18:13.509141Z",
     "iopub.status.idle": "2021-04-10T19:18:16.942721Z",
     "shell.execute_reply": "2021-04-10T19:18:16.941818Z",
     "shell.execute_reply.started": "2021-04-10T19:18:13.509876Z"
    },
    "tags": []
   },
   "outputs": [],
   "source": [
    "# Obtain the results of the experiment.\n",
    "experiment_results = qctrl.functions.calculate_qchack_measurements(\n",
    "    controls=controls,\n",
    "    shot_count=shot_count,\n",
    ")"
   ]
  },
  {
   "cell_type": "code",
   "execution_count": null,
   "id": "e3becd2b-7b5f-465b-925c-2b0b5ddd3f4f",
   "metadata": {
    "execution": {
     "iopub.execute_input": "2021-04-10T19:18:16.944572Z",
     "iopub.status.busy": "2021-04-10T19:18:16.944259Z",
     "iopub.status.idle": "2021-04-10T19:18:16.954524Z",
     "shell.execute_reply": "2021-04-10T19:18:16.950961Z",
     "shell.execute_reply.started": "2021-04-10T19:18:16.944538Z"
    },
    "tags": []
   },
   "outputs": [],
   "source": [
    "measurements = experiment_results.measurements\n",
    "for k, measurement_counts in enumerate(measurements):\n",
    "    print(f\"control #{k}: {measurement_counts}\")"
   ]
  },
  {
   "cell_type": "code",
   "execution_count": null,
   "id": "7510fa28-b0a0-4729-993f-f57ca2c78567",
   "metadata": {
    "execution": {
     "iopub.execute_input": "2021-04-10T19:18:16.993358Z",
     "iopub.status.busy": "2021-04-10T19:18:16.993020Z",
     "iopub.status.idle": "2021-04-10T19:18:17.009673Z",
     "shell.execute_reply": "2021-04-10T19:18:17.004534Z",
     "shell.execute_reply.started": "2021-04-10T19:18:16.993315Z"
    },
    "tags": []
   },
   "outputs": [],
   "source": [
    "for k, measurement_counts in enumerate(measurements):\n",
    "    p0 = measurement_counts.count(0) / shot_count\n",
    "    p1 = measurement_counts.count(1) / shot_count\n",
    "    p2 = measurement_counts.count(2) / shot_count\n",
    "    print(f\"control #{k}: P(|0>) = {p0:.2f}, P(|1>) = {p1:.2f}, P(|2>) = {p2:.2f}\")"
   ]
  },
  {
   "cell_type": "code",
   "execution_count": null,
   "id": "6baa477f-93a5-476b-9d23-52abee3718e2",
   "metadata": {
    "execution": {
     "iopub.execute_input": "2021-04-10T19:18:17.012279Z",
     "iopub.status.busy": "2021-04-10T19:18:17.011733Z",
     "iopub.status.idle": "2021-04-10T19:18:20.469144Z",
     "shell.execute_reply": "2021-04-10T19:18:20.468003Z",
     "shell.execute_reply.started": "2021-04-10T19:18:17.012223Z"
    },
    "tags": []
   },
   "outputs": [],
   "source": [
    "repetitions = [1, 4, 16, 32, 64]\n",
    "\n",
    "controls = []\n",
    "# Create a random string of complex numbers for all control,\n",
    "# but set a different repetition_count for each control.\n",
    "real_part = np.random.random(size=[segment_count])\n",
    "imag_part = np.random.random(size=[segment_count])\n",
    "values = 0.5 * (real_part + 1j * imag_part)\n",
    "\n",
    "for repetition_count in repetitions:\n",
    "    controls.append(\n",
    "        {\"duration\": duration, \"values\": values, \"repetition_count\": repetition_count}\n",
    "    )\n",
    "\n",
    "experiment_results = qctrl.functions.calculate_qchack_measurements(\n",
    "    controls=controls,\n",
    "    shot_count=shot_count,\n",
    ")\n",
    "\n",
    "for repetition_count, measurement_counts in zip(\n",
    "    repetitions, experiment_results.measurements\n",
    "):\n",
    "    p0 = measurement_counts.count(0) / shot_count\n",
    "    p1 = measurement_counts.count(1) / shot_count\n",
    "    p2 = measurement_counts.count(2) / shot_count\n",
    "    print(\n",
    "        f\"With {repetition_count:2d} repetitions: P(|0>) = {p0:.2f}, P(|1>) = {p1:.2f}, P(|2>) = {p2:.2f}\"\n",
    "    )"
   ]
  }
 ],
 "metadata": {
  "kernelspec": {
   "display_name": "Python 3",
   "language": "python",
   "name": "python3"
  },
  "language_info": {
   "codemirror_mode": {
    "name": "ipython",
    "version": 3
   },
   "file_extension": ".py",
   "mimetype": "text/x-python",
   "name": "python",
   "nbconvert_exporter": "python",
   "pygments_lexer": "ipython3",
   "version": "3.8.5"
  }
 },
 "nbformat": 4,
 "nbformat_minor": 5
}
