{
 "cells": [
  {
   "cell_type": "code",
   "execution_count": 1,
   "id": "538478b2-d5d5-4919-829c-c3514354839b",
   "metadata": {},
   "outputs": [],
   "source": [
    "import matplotlib.pyplot as plt\n",
    "import numpy as np\n",
    "\n",
    "from qctrlvisualizer import get_qctrl_style, plot_controls\n",
    "from qctrl import Qctrl\n",
    "\n",
    "qctrl = Qctrl()"
   ]
  },
  {
   "cell_type": "code",
   "execution_count": 2,
   "id": "84be25d4-39f9-4de5-809d-53794bcde9fb",
   "metadata": {},
   "outputs": [],
   "source": [
    "control_count = 5\n",
    "segment_count = 16\n",
    "duration = 30.0\n",
    "shot_count = 32"
   ]
  },
  {
   "cell_type": "code",
   "execution_count": 10,
   "id": "23fa4ace-156f-4985-b643-3860a0433ae3",
   "metadata": {},
   "outputs": [
    {
     "data": {
      "image/png": "[encoded data removed]",
      "text/plain": [
       "<Figure size 504x288 with 2 Axes>"
      ]
     },
     "metadata": {
      "needs_background": "light"
     },
     "output_type": "display_data"
    }
   ],
   "source": [
    "controls = []\n",
    "for k in range(control_count):\n",
    "    # Create a random string of complex numbers for each controls.\n",
    "    real_part = np.random.random(size=[segment_count])\n",
    "    imag_part = np.random.random(size=[segment_count])\n",
    "    values = 0.15 * k * (real_part + 1j * imag_part)\n",
    "\n",
    "    controls.append({\"duration\": duration, \"values\": values})\n",
    "\n",
    "# Plot the last control as an example.\n",
    "plot_controls(\n",
    "    figure=plt.figure(),\n",
    "    controls={\n",
    "        \"$\\Omega$\": [\n",
    "            {\"duration\": duration / segment_count, \"value\": value} for value in values\n",
    "        ]\n",
    "    },\n",
    ")"
   ]
  },
  {
   "cell_type": "code",
   "execution_count": null,
   "id": "5956108b-93d2-42bd-8c94-fbfe93336753",
   "metadata": {},
   "outputs": [],
   "source": [
    "# measurements = experiment_results.measurements\n",
    "# for k, measurement_counts in enumerate(measurements):\n",
    "#     print(f\"control #{k}: {measurement_counts}\")"
   ]
  },
  {
   "cell_type": "markdown",
   "id": "f3935a29-3052-4e72-880a-1bec721e37e6",
   "metadata": {},
   "source": [
    "# Rabi Frequency study"
   ]
  },
  {
   "cell_type": "code",
   "execution_count": 194,
   "id": "e84ad2f5-ad1a-4474-8872-f7305531ffb5",
   "metadata": {},
   "outputs": [],
   "source": [
    "# Hardware input Rabi rate is a number in [-1, 1]\n",
    "def rabi_experiment(rabi_rate, max_time=40., n_samples=100, shot_count=10_000):\n",
    "    min_time = 1e-10\n",
    "    durations = np.linspace(min_time, max_time, n_samples)\n",
    "\n",
    "    controls = [\n",
    "        {\"duration\": duration, \"values\": np.array([rabi_rate])}\n",
    "        for duration in durations\n",
    "    ]\n",
    "    \n",
    "    experiment_results = qctrl.functions.calculate_qchack_measurements(\n",
    "        controls=controls,\n",
    "        shot_count=shot_count\n",
    "    )\n",
    "    \n",
    "    return  {t: m for t, m in zip(durations, experiment_results.measurements)}"
   ]
  },
  {
   "cell_type": "code",
   "execution_count": 216,
   "id": "44410351-72fe-4fe4-92a0-ce07e0043520",
   "metadata": {},
   "outputs": [
    {
     "data": {
      "application/vnd.jupyter.widget-view+json": {
       "model_id": "",
       "version_major": 2,
       "version_minor": 0
      },
      "text/plain": [
       "  0%|          | 0/100 [00:00<?, ?it/s]"
      ]
     },
     "metadata": {},
     "output_type": "display_data"
    },
    {
     "name": "stdout",
     "output_type": "stream",
     "text": [
      "Your task calculate_qchack_measurements has started.\n",
      "Your task calculate_qchack_measurements has completed in 12s.\n"
     ]
    }
   ],
   "source": [
    "shot_count = 1_000\n",
    "measurements = rabi_experiment((-1+1j) / np.sqrt(2), shot_count=1_000)"
   ]
  },
  {
   "cell_type": "code",
   "execution_count": 235,
   "id": "891ad3a8-e64d-49e3-bb0c-261970bf2695",
   "metadata": {},
   "outputs": [
    {
     "data": {
      "text/plain": [
       "<matplotlib.collections.PathCollection at 0x7fb2d8d0b2e0>"
      ]
     },
     "execution_count": 235,
     "metadata": {},
     "output_type": "execute_result"
    },
    {
     "data": {
      "image/png": "[encoded data removed]",
      "text/plain": [
       "<Figure size 432x288 with 1 Axes>"
      ]
     },
     "metadata": {
      "needs_background": "light"
     },
     "output_type": "display_data"
    }
   ],
   "source": [
    "plt.scatter(measurements.keys(), [m.count(1) / shot_count for m in measurements.values()])\n",
    "plt.scatter(durations, [m.count(1) / shot_count for m in experiment_results.measurements])"
   ]
  },
  {
   "cell_type": "code",
   "execution_count": null,
   "id": "69181938-e8bc-4dd5-a137-803433983247",
   "metadata": {},
   "outputs": [],
   "source": [
    "omegas = [-1.0, -0.8, -0.6, -0.4, -0.2, 0.0, 0.2, 0.4, 0.6, 0.8, 1.0]\n",
    "for omega in omegas:\n",
    "    print(f'Case: Ω = {omega}')\n",
    "    measurements = rabi_experiment(omega)\n",
    "    \n",
    "    with open(f'data/rabi_{omega}.dat', 'w') as file:\n",
    "        for t, m in measurements.items():\n",
    "            frequency = m.count(0)\n",
    "            file.write(f'{t}\\t{frequency}\\n')"
   ]
  },
  {
   "cell_type": "markdown",
   "id": "529b2fad-a00f-41f5-89f1-7cf11f9f9b36",
   "metadata": {},
   "source": [
    "We fit the curve with Gnuplot, as such (typo: we meant \\Omega = -1.0 in the picture)\n",
    "\n",
    "![](data/rabi_fit.png)"
   ]
  },
  {
   "cell_type": "markdown",
   "id": "f578f2de-9adc-45c9-9dea-e6e21224d901",
   "metadata": {},
   "source": [
    "We obtained the following frequencies as a function of the hardware input $\\Omega$, with the fit $f(\\Omega) = 0.0524(9) \\Omega + 0.000(6).$\n",
    "\n",
    "![](data/hardware_rabi_calibration.png)\n",
    "\n",
    "It seems the approximation is better closer to $\\lvert \\Omega \\rvert = 1$, so we will attempt to use those values in the Hamiltonian design."
   ]
  },
  {
   "cell_type": "markdown",
   "id": "60a11c22-711b-4f4b-84da-f7ff76cea208",
   "metadata": {},
   "source": [
    "# Leakage study"
   ]
  },
  {
   "cell_type": "code",
   "execution_count": 197,
   "id": "ff576217-c696-47fc-8236-0ce8590eee3e",
   "metadata": {},
   "outputs": [
    {
     "data": {
      "application/vnd.jupyter.widget-view+json": {
       "model_id": "",
       "version_major": 2,
       "version_minor": 0
      },
      "text/plain": [
       "  0%|          | 0/100 [00:00<?, ?it/s]"
      ]
     },
     "metadata": {},
     "output_type": "display_data"
    },
    {
     "name": "stdout",
     "output_type": "stream",
     "text": [
      "Your task calculate_qchack_measurements has started.\n",
      "Your task calculate_qchack_measurements has completed in 18s.\n"
     ]
    },
    {
     "data": {
      "text/plain": [
       "<matplotlib.collections.PathCollection at 0x7fb2d8cedf70>"
      ]
     },
     "execution_count": 197,
     "metadata": {},
     "output_type": "execute_result"
    },
    {
     "data": {
      "image/png": "[encoded data removed]",
      "text/plain": [
       "<Figure size 432x288 with 1 Axes>"
      ]
     },
     "metadata": {
      "needs_background": "light"
     },
     "output_type": "display_data"
    }
   ],
   "source": [
    "measurements = rabi_experiment(1., max_time=60.)"
   ]
  },
  {
   "cell_type": "code",
   "execution_count": null,
   "id": "ba60e021-7bb6-4af1-84a2-c7400209f2c8",
   "metadata": {},
   "outputs": [],
   "source": [
    "leakage_rate = [m.count(2) / sum(bool(x) for x in m) for m in measurements.values()]\n",
    "plt.scatter(durations, leakage_rate)"
   ]
  },
  {
   "cell_type": "code",
   "execution_count": 239,
   "id": "b4801e3c-53f0-4c58-a5a2-1ed1715532ad",
   "metadata": {},
   "outputs": [
    {
     "name": "stdout",
     "output_type": "stream",
     "text": [
      "Median measured |2> rate (as a function of |1> measurements as a function of time)\n",
      "1.462235%\n"
     ]
    }
   ],
   "source": [
    "# Find the \"median\" value of the rate at which |2> is measured\n",
    "# normalized by the rate at which |1> is measured\n",
    "\n",
    "two_rates = sorted(m.count(2) / sum(bool(x) for x in m) for m in experiment_results.measurements)\n",
    "two_rates = sum(sorted(leakage_rate)[N//2-1:N//2+1]) / 2\n",
    "print(f\"Median measured |2> rate (as a function of |1> measurements as a function of time)\")\n",
    "print(f\"{two_rates:%}\")"
   ]
  },
  {
   "cell_type": "markdown",
   "id": "5fd9a2b0-acd4-4bd3-aa92-8a47b8ce9706",
   "metadata": {},
   "source": [
    "# Designing the two gates"
   ]
  },
  {
   "cell_type": "markdown",
   "id": "b8505efc-dfca-4b22-9312-e11f9ce8437e",
   "metadata": {},
   "source": [
    "## NOT gate\n",
    "\n",
    "Using the experimental study before, we see that \\Omega = -1.0 is a good approximation for a NOT gate (the error is ~1%).\n",
    "\n",
    "The period of the rabi oscillation was found to be ~19.5s by fitting the curve hardware input vs. measurement frequency of |0>.\n",
    "\n",
    "Therefore, our simple NOT may be a constant pulse with the duration of a half-period."
   ]
  },
  {
   "cell_type": "code",
   "execution_count": 289,
   "id": "84828c72-4983-4112-8e59-ff5d19af86a3",
   "metadata": {},
   "outputs": [
    {
     "data": {
      "application/vnd.jupyter.widget-view+json": {
       "model_id": "",
       "version_major": 2,
       "version_minor": 0
      },
      "text/plain": [
       "  0%|          | 0/100 [00:00<?, ?it/s]"
      ]
     },
     "metadata": {},
     "output_type": "display_data"
    },
    {
     "name": "stdout",
     "output_type": "stream",
     "text": [
      "Your task calculate_qchack_measurements has started.\n",
      "Your task calculate_qchack_measurements has completed in 23s.\n"
     ]
    },
    {
     "data": {
      "text/plain": [
       "<matplotlib.collections.PathCollection at 0x7fb2d732f970>"
      ]
     },
     "execution_count": 289,
     "metadata": {},
     "output_type": "execute_result"
    },
    {
     "data": {
      "image/png": "[encoded data removed]",
      "text/plain": [
       "<Figure size 432x288 with 1 Axes>"
      ]
     },
     "metadata": {
      "needs_background": "light"
     },
     "output_type": "display_data"
    }
   ],
   "source": [
    "period = 19.4887485853892 # For Ω = -1.0\n",
    "\n",
    "gate_time = period / 2\n",
    "values = np.array([-1])  # One part Y for two parts X\n",
    "\n",
    "durations = np.linspace(1e-10, gate_time, 100)\n",
    "\n",
    "shot_count = 10_000\n",
    "experiment_results = qctrl.functions.calculate_qchack_measurements(\n",
    "        controls=[{\"duration\": duration, \"values\": values}\n",
    "                 for duration in durations],\n",
    "        shot_count=shot_count\n",
    ")\n",
    "\n",
    "plt.scatter(durations, [m.count(0) / shot_count for m in experiment_results.measurements])"
   ]
  },
  {
   "cell_type": "markdown",
   "id": "e81bbef7-c8c2-4e52-a014-ae7dc5cf4547",
   "metadata": {},
   "source": [
    "## Hadamard gate\n",
    "\n",
    "We use a simple approach for the Hadamard as well. We assume the Rabi oscillations are a good approximation.\n",
    "\n",
    "We could use the approach of evolving\n",
    "  - Y rotation for duration t = period / 8\n",
    "  - X rotation for duration t = period / 4\n",
    "  \n",
    "However, we hope to do better by using a more symmetric evolution. Playing around the parameters we figure that\n",
    "  -  Y rotation for duration t = period / 16\n",
    "  -  X rotation for duration t = period / 4\n",
    "  -  -Y rotation for duration t = period / 16\n",
    "  \n",
    "Also results in a Hadamard gate. We \"borrow\" a bit of the Y rotation to be undone at the end.\n"
   ]
  },
  {
   "cell_type": "code",
   "execution_count": 291,
   "id": "610ae6d3-082c-42d6-a88a-46ecd7548085",
   "metadata": {},
   "outputs": [
    {
     "data": {
      "application/vnd.jupyter.widget-view+json": {
       "model_id": "",
       "version_major": 2,
       "version_minor": 0
      },
      "text/plain": [
       "  0%|          | 0/100 [00:00<?, ?it/s]"
      ]
     },
     "metadata": {},
     "output_type": "display_data"
    },
    {
     "name": "stdout",
     "output_type": "stream",
     "text": [
      "Your task calculate_qchack_measurements has started.\n",
      "Your task calculate_qchack_measurements has completed in 15s.\n"
     ]
    },
    {
     "data": {
      "text/plain": [
       "<matplotlib.collections.PathCollection at 0x7fb2d71dc430>"
      ]
     },
     "execution_count": 291,
     "metadata": {},
     "output_type": "execute_result"
    },
    {
     "data": {
      "image/png": "[encoded data removed]",
      "text/plain": [
       "<Figure size 432x288 with 1 Axes>"
      ]
     },
     "metadata": {
      "needs_background": "light"
     },
     "output_type": "display_data"
    }
   ],
   "source": [
    "period = 19.4887485853892 # For |Ω| = 1\n",
    "\n",
    "gate_time = 6 * period / 16\n",
    "values = np.array([1j, 1, 1, 1, 1, -1j])  # One part Y for two parts X\n",
    "# values = np.array([1j, 1, 1])  # One part Y for two parts X\n",
    "\n",
    "durations = np.linspace(1e-10, gate_time, 100)\n",
    "\n",
    "shot_count = 10_000\n",
    "experiment_results = qctrl.functions.calculate_qchack_measurements(\n",
    "        controls=[{\"duration\": duration, \"values\": values}\n",
    "                 for duration in durations],\n",
    "        shot_count=shot_count\n",
    ")\n",
    "\n",
    "plt.scatter(durations, [m.count(0) / shot_count for m in experiment_results.measurements])"
   ]
  },
  {
   "cell_type": "code",
   "execution_count": null,
   "id": "5f768253-0ec7-4d41-8abd-f262afbfb4ee",
   "metadata": {},
   "outputs": [],
   "source": []
  }
 ],
 "metadata": {
  "kernelspec": {
   "display_name": "Python 3",
   "language": "python",
   "name": "python3"
  },
  "language_info": {
   "codemirror_mode": {
    "name": "ipython",
    "version": 3
   },
   "file_extension": ".py",
   "mimetype": "text/x-python",
   "name": "python",
   "nbconvert_exporter": "python",
   "pygments_lexer": "ipython3",
   "version": "3.8.8"
  }
 },
 "nbformat": 4,
 "nbformat_minor": 5
}
