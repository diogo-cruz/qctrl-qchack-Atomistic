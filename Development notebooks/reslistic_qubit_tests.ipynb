{
 "cells": [
  {
   "cell_type": "markdown",
   "metadata": {},
   "source": [
    "# Packages"
   ]
  },
  {
   "cell_type": "code",
   "execution_count": 1,
   "metadata": {},
   "outputs": [],
   "source": [
    "import matplotlib.pyplot as plt\n",
    "import numpy as np\n",
    "\n",
    "from qctrlvisualizer import get_qctrl_style, plot_controls\n",
    "from qctrl import Qctrl\n",
    "\n",
    "qctrl = Qctrl()"
   ]
  },
  {
   "cell_type": "markdown",
   "metadata": {},
   "source": [
    "## Realistic qubit model"
   ]
  },
  {
   "cell_type": "code",
   "execution_count": 2,
   "metadata": {},
   "outputs": [],
   "source": [
    "def simulate_more_realistic_qubit(\n",
    "    duration=1, values=np.array([np.pi]), shots=1024, repetitions=1\n",
    "):\n",
    "\n",
    "    # 1. Limits for drive amplitudes\n",
    "    assert np.amax(values) <= 1.0\n",
    "    assert np.amin(values) >= -1.0\n",
    "    max_drive_amplitude = 2 * np.pi * 20  # MHz\n",
    "\n",
    "    # 2. Dephasing error\n",
    "    dephasing_error = -2 * 2 * np.pi  # MHz\n",
    "\n",
    "    # 3. Amplitude error\n",
    "    amplitude_i_error = 0.98\n",
    "    amplitude_q_error = 1.03\n",
    "\n",
    "    # 4. Control line bandwidth limit\n",
    "    cut_off_frequency = 2 * np.pi * 10  # MHz\n",
    "    resample_segment_count = 1000\n",
    "\n",
    "    # 5. SPAM error confusion matrix\n",
    "    confusion_matrix = np.array([[0.99, 0.01], [0.02, 0.98]])\n",
    "\n",
    "    # Lowering operator\n",
    "    b = np.array([[0, 1], [0, 0]])\n",
    "    # Number operator\n",
    "    n = np.diag([0, 1])\n",
    "    # Initial state\n",
    "    initial_state = np.array([[1], [0]])\n",
    "\n",
    "    with qctrl.create_graph() as graph:\n",
    "        # Apply 1. max Rabi rate.\n",
    "        values = values * max_drive_amplitude\n",
    "\n",
    "        # Apply 3. amplitude errors.\n",
    "        values_i = np.real(values) * amplitude_i_error\n",
    "        values_q = np.imag(values) * amplitude_q_error\n",
    "        values = values_i + 1j * values_q\n",
    "\n",
    "        # Apply 4. bandwidth limits\n",
    "        drive_unfiltered = qctrl.operations.pwc_signal(duration=duration, values=values)\n",
    "        drive_filtered = qctrl.operations.convolve_pwc(\n",
    "            pwc=drive_unfiltered,\n",
    "            kernel_integral=qctrl.operations.sinc_integral_function(cut_off_frequency),\n",
    "        )\n",
    "        drive = qctrl.operations.discretize_stf(\n",
    "            drive_filtered, duration=duration, segments_count=resample_segment_count\n",
    "        )\n",
    "\n",
    "        # Construct microwave drive\n",
    "        drive_term = qctrl.operations.pwc_operator_hermitian_part(\n",
    "            qctrl.operations.pwc_operator(signal=drive, operator=b)\n",
    "        )\n",
    "\n",
    "        # Construct 2. dephasing term.\n",
    "        dephasing_term = qctrl.operations.constant_pwc_operator(\n",
    "            operator=dephasing_error * n,\n",
    "            duration=duration,\n",
    "        )\n",
    "\n",
    "        # Construct Hamiltonian.\n",
    "        hamiltonian = qctrl.operations.pwc_sum(\n",
    "            [\n",
    "                drive_term,\n",
    "                dephasing_term,\n",
    "            ]\n",
    "        )\n",
    "\n",
    "        # Solve Schrodinger's equation and get total unitary at the end\n",
    "        unitary = qctrl.operations.time_evolution_operators_pwc(\n",
    "            hamiltonian=hamiltonian,\n",
    "            sample_times=np.array([duration]),\n",
    "        )[-1]\n",
    "        unitary.name = \"unitary\"\n",
    "\n",
    "        # Repeat final unitary\n",
    "        repeated_unitary = np.eye(2)\n",
    "        for _ in range(repetitions):\n",
    "            repeated_unitary = repeated_unitary @ unitary\n",
    "        repeated_unitary.name = \"repeated_unitary\"\n",
    "\n",
    "        # Calculate final state.\n",
    "        state = repeated_unitary @ initial_state\n",
    "\n",
    "        # Calculate final populations.\n",
    "        populations = qctrl.operations.abs(state[:, 0]) ** 2\n",
    "        # Normalize populations\n",
    "        norm = qctrl.operations.sum(populations)\n",
    "        populations = populations / norm\n",
    "        populations.name = \"populations\"\n",
    "\n",
    "    # Evaluate graph.\n",
    "    result = qctrl.functions.calculate_graph(\n",
    "        graph=graph,\n",
    "        output_node_names=[\"unitary\", \"repeated_unitary\", \"populations\"],\n",
    "    )\n",
    "\n",
    "    # Extract outputs.\n",
    "    unitary = result.output[\"unitary\"][\"value\"]\n",
    "    repeated_unitary = result.output[\"repeated_unitary\"][\"value\"]\n",
    "    populations = result.output[\"populations\"][\"value\"]\n",
    "\n",
    "    # Sample projective measurements.\n",
    "    true_measurements = np.random.choice(2, size=shots, p=populations)\n",
    "    measurements = np.array(\n",
    "        [np.random.choice(2, p=confusion_matrix[m]) for m in true_measurements]\n",
    "    )\n",
    "\n",
    "    results = {\"unitary\": unitary, \"measurements\": measurements}\n",
    "\n",
    "    return results"
   ]
  },
  {
   "cell_type": "markdown",
   "metadata": {},
   "source": [
    "## Default pulse parameters and simulation"
   ]
  },
  {
   "cell_type": "code",
   "execution_count": 14,
   "metadata": {},
   "outputs": [],
   "source": [
    "max_rabi_rate = 20 * 2 * np.pi  # MHz\n",
    "not_duration  = np.pi / (max_rabi_rate)  # us\n",
    "h_duration    = np.pi / (2 * max_rabi_rate)  # us\n",
    "shots         = 1024\n",
    "values        = np.array([1.0])"
   ]
  },
  {
   "cell_type": "code",
   "execution_count": 15,
   "metadata": {},
   "outputs": [
    {
     "data": {
      "application/vnd.jupyter.widget-view+json": {
       "model_id": "",
       "version_major": 2,
       "version_minor": 0
      },
      "text/plain": [
       "  0%|          | 0/100 [00:00<?, ?it/s]"
      ]
     },
     "metadata": {},
     "output_type": "display_data"
    },
    {
     "name": "stdout",
     "output_type": "stream",
     "text": [
      "Your task calculate_graph has completed in 3s.\n"
     ]
    },
    {
     "data": {
      "application/vnd.jupyter.widget-view+json": {
       "model_id": "",
       "version_major": 2,
       "version_minor": 0
      },
      "text/plain": [
       "  0%|          | 0/100 [00:00<?, ?it/s]"
      ]
     },
     "metadata": {},
     "output_type": "display_data"
    },
    {
     "name": "stdout",
     "output_type": "stream",
     "text": [
      "Your task calculate_graph has completed in 3s.\n"
     ]
    }
   ],
   "source": [
    "not_results = simulate_more_realistic_qubit(\n",
    "    duration=not_duration, values=values, shots=shots\n",
    ")\n",
    "\n",
    "h_results = simulate_more_realistic_qubit(\n",
    "    duration=h_duration, values=values, shots=shots\n",
    ")"
   ]
  },
  {
   "cell_type": "markdown",
   "metadata": {},
   "source": [
    "## Results comparison"
   ]
  },
  {
   "cell_type": "code",
   "execution_count": 17,
   "metadata": {},
   "outputs": [],
   "source": [
    "error_norm = (\n",
    "    lambda operate_a, operator_b: 1\n",
    "    - np.abs(np.trace((operate_a.conj().T @ operator_b)) / 2) ** 2\n",
    ")\n",
    "\n",
    "def estimate_probability_of_one(measurements):\n",
    "    size = len(measurements)\n",
    "    probability = np.mean(measurements)\n",
    "    standard_error = np.std(measurements) / np.sqrt(size)\n",
    "    return (probability, standard_error)"
   ]
  },
  {
   "cell_type": "code",
   "execution_count": 20,
   "metadata": {},
   "outputs": [
    {
     "name": "stdout",
     "output_type": "stream",
     "text": [
      "Realised NOT Gate:\n",
      "[[0.75412104-0.02524955j 0.1026601 -0.64817036j]\n",
      " [0.1026601 -0.64817036j 0.70940919+0.25704996j]]\n",
      "Ideal NOT Gate:\n",
      "[[ 0.+0.j -0.-1.j]\n",
      " [-0.-1.j  0.+0.j]]\n",
      "NOT Gate Error:0.5693360860922008\n",
      " \n",
      "NOT estimated probability of getting 1:0.4443359375\n",
      "NOT estimate standard error:0.015527870361227077\n",
      "\n",
      " \n",
      "Realised H Gate:\n",
      "[[0.98219782-0.00092913j 0.01473832-0.18726817j]\n",
      " [0.01473832-0.18726817j 0.96995998+0.15456728j]]\n",
      "Ideal H Gate:\n",
      "[[0.70710678+0.j         0.        -0.70710678j]\n",
      " [0.        -0.70710678j 0.70710678+0.j        ]]\n",
      "H Gate Error:0.31912041750757547\n",
      " \n",
      "H estimated probability of getting 1:0.0478515625\n",
      "H estimate standard error:0.006670377500730711\n"
     ]
    }
   ],
   "source": [
    "realised_not_gate = not_results[\"unitary\"]\n",
    "ideal_not_gate    = np.array([[0, -1j], [-1j, 0]])\n",
    "not_error         = error_norm(realised_not_gate, ideal_not_gate)\n",
    "\n",
    "realised_h_gate   = h_results[\"unitary\"]\n",
    "ideal_h_gate      = (1 / np.sqrt(2)) * np.array([[1, -1j], [-1j, 1]])\n",
    "h_error           = error_norm(realised_h_gate, ideal_h_gate)\n",
    "\n",
    "not_measurements = not_results[\"measurements\"]\n",
    "h_measurements   = h_results[\"measurements\"]\n",
    "\n",
    "not_probability, not_standard_error = estimate_probability_of_one(not_measurements)\n",
    "h_probability, h_standard_error = estimate_probability_of_one(h_measurements)\n",
    "\n",
    "print(\"Realised NOT Gate:\")\n",
    "print(realised_not_gate)\n",
    "print(\"Ideal NOT Gate:\")\n",
    "print(ideal_not_gate)\n",
    "print(\"NOT Gate Error:\" + str(not_error))\n",
    "print(\" \")\n",
    "print(\"NOT estimated probability of getting 1:\" + str(not_probability))\n",
    "print(\"NOT estimate standard error:\" + str(not_standard_error) + \"\\n\")\n",
    "print(\" \")\n",
    "print(\"Realised H Gate:\")\n",
    "print(realised_h_gate)\n",
    "print(\"Ideal H Gate:\")\n",
    "print(ideal_h_gate)\n",
    "print(\"H Gate Error:\" + str(h_error))\n",
    "print(\" \")\n",
    "print(\"H estimated probability of getting 1:\" + str(h_probability))\n",
    "print(\"H estimate standard error:\" + str(h_standard_error))"
   ]
  },
  {
   "cell_type": "markdown",
   "metadata": {},
   "source": [
    "# Trying some control...\n",
    "\n",
    "The results above are not good. We now look to the Optimize Controls notebook to try and get a pulse that better approaches the ideal NOT and H gates using the realistic qubit model."
   ]
  },
  {
   "cell_type": "code",
   "execution_count": null,
   "metadata": {},
   "outputs": [],
   "source": []
  },
  {
   "cell_type": "markdown",
   "metadata": {},
   "source": [
    "# ----- Cloud Qubit -----\n",
    "\n",
    "Nothing changed here yet, this is just the code from the QCHack main notebook."
   ]
  },
  {
   "cell_type": "code",
   "execution_count": 21,
   "metadata": {},
   "outputs": [],
   "source": [
    "control_count = 5\n",
    "segment_count = 16\n",
    "duration = 30.0\n",
    "shot_count = 32"
   ]
  },
  {
   "cell_type": "code",
   "execution_count": 24,
   "metadata": {},
   "outputs": [
    {
     "data": {
      "image/png": "[encoded data removed]",
      "text/plain": [
       "<Figure size 504x288 with 2 Axes>"
      ]
     },
     "metadata": {
      "needs_background": "light"
     },
     "output_type": "display_data"
    }
   ],
   "source": [
    "controls = []\n",
    "for k in range(control_count):\n",
    "    # Create a random string of complex numbers for each controls.\n",
    "    real_part = np.random.random(size=[segment_count])\n",
    "    imag_part = np.random.random(size=[segment_count])\n",
    "    values = 0.15 * k * (real_part + 1j * imag_part)\n",
    "\n",
    "    controls.append({\"duration\": duration, \"values\": values})\n",
    "\n",
    "# Plot the last control as an example.\n",
    "plot_controls(\n",
    "    figure=plt.figure(),\n",
    "    controls={\n",
    "        \"$\\Omega$\": [\n",
    "            {\"duration\": duration / segment_count, \"value\": value} for value in values\n",
    "        ]\n",
    "    },\n",
    ")"
   ]
  },
  {
   "cell_type": "code",
   "execution_count": 25,
   "metadata": {},
   "outputs": [
    {
     "data": {
      "application/vnd.jupyter.widget-view+json": {
       "model_id": "",
       "version_major": 2,
       "version_minor": 0
      },
      "text/plain": [
       "  0%|          | 0/100 [00:00<?, ?it/s]"
      ]
     },
     "metadata": {},
     "output_type": "display_data"
    },
    {
     "name": "stdout",
     "output_type": "stream",
     "text": [
      "Your task calculate_qchack_measurements has completed in 3s.\n"
     ]
    }
   ],
   "source": [
    "# Obtain the results of the experiment.\n",
    "experiment_results = qctrl.functions.calculate_qchack_measurements(\n",
    "    controls=controls,\n",
    "    shot_count=shot_count,\n",
    ")"
   ]
  },
  {
   "cell_type": "code",
   "execution_count": 26,
   "metadata": {},
   "outputs": [
    {
     "name": "stdout",
     "output_type": "stream",
     "text": [
      "control #0: [0, 0, 0, 0, 0, 0, 0, 0, 0, 0, 0, 0, 0, 0, 0, 0, 0, 0, 0, 0, 0, 0, 0, 0, 0, 0, 0, 0, 0, 0, 0, 0]\n",
      "control #1: [0, 1, 0, 0, 0, 0, 0, 0, 1, 0, 0, 0, 0, 0, 0, 0, 0, 1, 0, 0, 0, 1, 0, 0, 0, 1, 0, 0, 0, 0, 0, 1]\n",
      "control #2: [1, 0, 0, 0, 0, 1, 0, 1, 1, 0, 1, 1, 0, 0, 1, 1, 0, 1, 1, 1, 1, 1, 1, 1, 1, 0, 0, 0, 0, 1, 0, 1]\n",
      "control #3: [0, 0, 0, 0, 1, 0, 1, 1, 0, 0, 1, 0, 1, 0, 1, 1, 1, 1, 1, 1, 1, 0, 1, 0, 1, 0, 1, 1, 1, 1, 0, 1]\n",
      "control #4: [1, 1, 1, 0, 0, 1, 1, 1, 0, 1, 1, 1, 0, 1, 0, 0, 1, 1, 1, 1, 1, 1, 1, 0, 1, 0, 1, 1, 1, 1, 1, 1]\n"
     ]
    }
   ],
   "source": [
    "measurements = experiment_results.measurements\n",
    "for k, measurement_counts in enumerate(measurements):\n",
    "    print(f\"control #{k}: {measurement_counts}\")"
   ]
  },
  {
   "cell_type": "code",
   "execution_count": 41,
   "metadata": {},
   "outputs": [
    {
     "name": "stdout",
     "output_type": "stream",
     "text": [
      "control #0: P(|0>) = 1.00, P(|1>) = 0.00, P(|2>) = 0.00\n",
      "control #1: P(|0>) = 0.75, P(|1>) = 0.25, P(|2>) = 0.00\n",
      "control #2: P(|0>) = 0.53, P(|1>) = 0.47, P(|2>) = 0.00\n",
      "control #3: P(|0>) = 0.34, P(|1>) = 0.66, P(|2>) = 0.00\n",
      "control #4: P(|0>) = 0.59, P(|1>) = 0.41, P(|2>) = 0.00\n"
     ]
    }
   ],
   "source": [
    "for k, measurement_counts in enumerate(measurements):\n",
    "    p0 = measurement_counts.count(0) / shot_count\n",
    "    p1 = measurement_counts.count(1) / shot_count\n",
    "    p2 = measurement_counts.count(2) / shot_count\n",
    "    print(f\"control #{k}: P(|0>) = {p0:.2f}, P(|1>) = {p1:.2f}, P(|2>) = {p2:.2f}\")"
   ]
  },
  {
   "cell_type": "code",
   "execution_count": 27,
   "metadata": {},
   "outputs": [
    {
     "data": {
      "application/vnd.jupyter.widget-view+json": {
       "model_id": "",
       "version_major": 2,
       "version_minor": 0
      },
      "text/plain": [
       "  0%|          | 0/100 [00:00<?, ?it/s]"
      ]
     },
     "metadata": {},
     "output_type": "display_data"
    },
    {
     "name": "stdout",
     "output_type": "stream",
     "text": [
      "Your task calculate_qchack_measurements has completed in 3s.\n",
      "With  1 repetitions: P(|0>) = 0.47, P(|1>) = 0.53, P(|2>) = 0.00\n",
      "With  4 repetitions: P(|0>) = 0.50, P(|1>) = 0.50, P(|2>) = 0.00\n",
      "With 16 repetitions: P(|0>) = 0.50, P(|1>) = 0.50, P(|2>) = 0.00\n",
      "With 32 repetitions: P(|0>) = 0.97, P(|1>) = 0.03, P(|2>) = 0.00\n",
      "With 64 repetitions: P(|0>) = 0.91, P(|1>) = 0.09, P(|2>) = 0.00\n"
     ]
    }
   ],
   "source": [
    "repetitions = [1, 4, 16, 32, 64]\n",
    "\n",
    "controls = []\n",
    "# Create a random string of complex numbers for all control,\n",
    "# but set a different repetition_count for each control.\n",
    "real_part = np.random.random(size=[segment_count])\n",
    "imag_part = np.random.random(size=[segment_count])\n",
    "values = 0.5 * (real_part + 1j * imag_part)\n",
    "\n",
    "for repetition_count in repetitions:\n",
    "    controls.append(\n",
    "        {\"duration\": duration, \"values\": values, \"repetition_count\": repetition_count}\n",
    "    )\n",
    "\n",
    "experiment_results = qctrl.functions.calculate_qchack_measurements(\n",
    "    controls=controls,\n",
    "    shot_count=shot_count,\n",
    ")\n",
    "\n",
    "for repetition_count, measurement_counts in zip(\n",
    "    repetitions, experiment_results.measurements\n",
    "):\n",
    "    p0 = measurement_counts.count(0) / shot_count\n",
    "    p1 = measurement_counts.count(1) / shot_count\n",
    "    p2 = measurement_counts.count(2) / shot_count\n",
    "    print(\n",
    "        f\"With {repetition_count:2d} repetitions: P(|0>) = {p0:.2f}, P(|1>) = {p1:.2f}, P(|2>) = {p2:.2f}\"\n",
    "    )"
   ]
  }
 ],
 "metadata": {
  "kernelspec": {
   "display_name": "qctrl_env",
   "language": "python",
   "name": "qctrl_env"
  },
  "language_info": {
   "codemirror_mode": {
    "name": "ipython",
    "version": 3
   },
   "file_extension": ".py",
   "mimetype": "text/x-python",
   "name": "python",
   "nbconvert_exporter": "python",
   "pygments_lexer": "ipython3",
   "version": "3.8.8"
  }
 },
 "nbformat": 4,
 "nbformat_minor": 5
}
