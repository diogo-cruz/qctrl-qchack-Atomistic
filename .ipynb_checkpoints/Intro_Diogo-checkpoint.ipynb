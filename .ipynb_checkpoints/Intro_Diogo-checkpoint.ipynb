{
 "cells": [
  {
   "cell_type": "markdown",
   "id": "f151dc14-76cd-4e36-a6a1-cac5384df1ee",
   "metadata": {},
   "source": [
    "# Introduction"
   ]
  },
  {
   "cell_type": "code",
   "execution_count": 1,
   "id": "b4f95200-41c8-440a-a368-40afd523e04c",
   "metadata": {
    "execution": {
     "iopub.execute_input": "2021-04-10T15:15:35.282746Z",
     "iopub.status.busy": "2021-04-10T15:15:35.281074Z",
     "iopub.status.idle": "2021-04-10T15:15:36.122030Z",
     "shell.execute_reply": "2021-04-10T15:15:36.121395Z",
     "shell.execute_reply.started": "2021-04-10T15:15:35.282564Z"
    },
    "tags": []
   },
   "outputs": [],
   "source": [
    "import matplotlib.pyplot as plt\n",
    "import numpy as np\n",
    "\n",
    "from qctrlvisualizer import get_qctrl_style, plot_controls\n",
    "from qctrl import Qctrl"
   ]
  },
  {
   "cell_type": "code",
   "execution_count": 2,
   "id": "3d2c6058-29e7-4572-b26c-c7813e36ad51",
   "metadata": {
    "execution": {
     "iopub.execute_input": "2021-04-10T15:15:36.123426Z",
     "iopub.status.busy": "2021-04-10T15:15:36.123065Z",
     "iopub.status.idle": "2021-04-10T15:15:39.119233Z",
     "shell.execute_reply": "2021-04-10T15:15:39.118472Z",
     "shell.execute_reply.started": "2021-04-10T15:15:36.123382Z"
    },
    "tags": []
   },
   "outputs": [],
   "source": [
    "#qctrl = Qctrl(email='diogo.abc.cruz@gmail.com', password='Y8DhQ4NAFWYnh9s')\n",
    "qctrl = Qctrl()"
   ]
  },
  {
   "cell_type": "markdown",
   "id": "da8d8f9e-c0c3-42aa-ad21-5a093fd8d5f2",
   "metadata": {},
   "source": [
    "# Simulating an ideal superconducting qubit"
   ]
  },
  {
   "cell_type": "code",
   "execution_count": 3,
   "id": "34918d02-74f6-4fa4-9e21-8fc70fd62277",
   "metadata": {
    "execution": {
     "iopub.execute_input": "2021-04-10T15:15:39.121259Z",
     "iopub.status.busy": "2021-04-10T15:15:39.120955Z",
     "iopub.status.idle": "2021-04-10T15:15:39.137388Z",
     "shell.execute_reply": "2021-04-10T15:15:39.136346Z",
     "shell.execute_reply.started": "2021-04-10T15:15:39.121226Z"
    }
   },
   "outputs": [],
   "source": [
    "def simulate_ideal_qubit(\n",
    "    duration=1, values=np.array([np.pi]), shots=1024, repetitions=1\n",
    "):\n",
    "\n",
    "    b = np.array([[0, 1], [0, 0]])  # Lowering operator\n",
    "    initial_state = np.array([[1], [0]])  # Initial state of qubit in |0>\n",
    "\n",
    "    with qctrl.create_graph() as graph:\n",
    "\n",
    "        # Create time dependent \\Omega(t)\n",
    "        drive = qctrl.operations.pwc_signal(duration=duration, values=values)\n",
    "\n",
    "        # Construct Hamiltonian (\\Omega(t) b + \\Omega^*(t) b^\\dagger)/2\n",
    "        hamiltonian = qctrl.operations.pwc_operator_hermitian_part(\n",
    "            qctrl.operations.pwc_operator(signal=drive, operator=b)\n",
    "        )\n",
    "\n",
    "        # Solve Schrodinger's equation and get total unitary at the end\n",
    "        unitary = qctrl.operations.time_evolution_operators_pwc(\n",
    "            hamiltonian=hamiltonian,\n",
    "            sample_times=np.array([duration]),\n",
    "        )[-1]\n",
    "        unitary.name = \"unitary\"\n",
    "\n",
    "        # Repeat final unitary\n",
    "        repeated_unitary = np.eye(2)\n",
    "        for _ in range(repetitions):\n",
    "            repeated_unitary = repeated_unitary @ unitary\n",
    "        repeated_unitary.name = \"repeated_unitary\"\n",
    "\n",
    "        # Calculate final state.\n",
    "        state = repeated_unitary @ initial_state\n",
    "\n",
    "        # Calculate final populations.\n",
    "        populations = qctrl.operations.abs(state[:, 0]) ** 2\n",
    "        # Normalize populations because of numerical precision\n",
    "        norm = qctrl.operations.sum(populations)\n",
    "        populations = populations / norm\n",
    "        populations.name = \"populations\"\n",
    "\n",
    "    # Evaluate graph.\n",
    "    result = qctrl.functions.calculate_graph(\n",
    "        graph=graph,\n",
    "        output_node_names=[\"unitary\", \"repeated_unitary\", \"populations\"],\n",
    "    )\n",
    "\n",
    "    # Extract outputs.\n",
    "    unitary = result.output[\"unitary\"][\"value\"]\n",
    "    repeated_unitary = result.output[\"repeated_unitary\"][\"value\"]\n",
    "    populations = result.output[\"populations\"][\"value\"]\n",
    "\n",
    "    # Sample projective measurements.\n",
    "    measurements = np.random.choice(2, size=shots, p=populations)\n",
    "\n",
    "    results = {\"unitary\": unitary, \"measurements\": measurements}\n",
    "\n",
    "    return results"
   ]
  },
  {
   "cell_type": "code",
   "execution_count": 4,
   "id": "2c9238da-fa76-4bf3-b96a-246a18c3193c",
   "metadata": {
    "execution": {
     "iopub.execute_input": "2021-04-10T15:15:39.139246Z",
     "iopub.status.busy": "2021-04-10T15:15:39.138941Z",
     "iopub.status.idle": "2021-04-10T15:15:39.682005Z",
     "shell.execute_reply": "2021-04-10T15:15:39.681035Z",
     "shell.execute_reply.started": "2021-04-10T15:15:39.139203Z"
    }
   },
   "outputs": [
    {
     "data": {
      "image/png": "[encoded data removed]",
      "text/plain": [
       "<Figure size 504x144 with 1 Axes>"
      ]
     },
     "metadata": {
      "needs_background": "light"
     },
     "output_type": "display_data"
    }
   ],
   "source": [
    "duration = 10\n",
    "values = np.array([-1, 3, 2, 3, -2, -1])\n",
    "\n",
    "\n",
    "def get_pulse_plot_dict(name=\"default\", duration=1, values=np.array([1.0])):\n",
    "    segments = len(values)\n",
    "    segment_durations = duration / segments\n",
    "    pulse_plot_dict = {\n",
    "        name: [{\"duration\": segment_durations, \"value\": v} for v in values]\n",
    "    }\n",
    "    return pulse_plot_dict\n",
    "\n",
    "\n",
    "example_pulse = get_pulse_plot_dict(name=\"$\\Omega$\", duration=duration, values=values)\n",
    "\n",
    "fig = plt.figure()\n",
    "plot_controls(fig, example_pulse, polar=False)\n",
    "plt.show()"
   ]
  },
  {
   "cell_type": "code",
   "execution_count": 5,
   "id": "20ef3093-32bc-4e5d-bbed-5d84cad65da3",
   "metadata": {
    "execution": {
     "iopub.execute_input": "2021-04-10T15:15:39.683534Z",
     "iopub.status.busy": "2021-04-10T15:15:39.683220Z",
     "iopub.status.idle": "2021-04-10T15:15:40.162534Z",
     "shell.execute_reply": "2021-04-10T15:15:40.161848Z",
     "shell.execute_reply.started": "2021-04-10T15:15:39.683497Z"
    }
   },
   "outputs": [
    {
     "data": {
      "image/png": "[encoded data removed]",
      "text/plain": [
       "<Figure size 504x432 with 3 Axes>"
      ]
     },
     "metadata": {
      "needs_background": "light"
     },
     "output_type": "display_data"
    }
   ],
   "source": [
    "max_rabi_rate = 20 * 2 * np.pi  # MHz\n",
    "not_duration = np.pi / (max_rabi_rate)  # us\n",
    "not_values = np.array([max_rabi_rate])\n",
    "h_duration = 3 * np.pi / (2 * max_rabi_rate)  # us\n",
    "h_values = np.array([-1j * max_rabi_rate, max_rabi_rate, max_rabi_rate])\n",
    "\n",
    "not_pulse = get_pulse_plot_dict(\n",
    "    name=\"$\\Omega_{NOT}$\", duration=not_duration, values=not_values\n",
    ")\n",
    "h_pulse = get_pulse_plot_dict(name=\"$\\Omega_{H}$\", duration=h_duration, values=h_values)\n",
    "both_pulses = {**not_pulse, **h_pulse}\n",
    "\n",
    "fig = plt.figure()\n",
    "plot_controls(fig, both_pulses, polar=False)\n",
    "plt.show()\n"
   ]
  },
  {
   "cell_type": "code",
   "execution_count": 6,
   "id": "d7c47a9b-2ce1-40bb-93f0-82aa1a6fca9f",
   "metadata": {
    "execution": {
     "iopub.execute_input": "2021-04-10T15:15:40.163604Z",
     "iopub.status.busy": "2021-04-10T15:15:40.163400Z",
     "iopub.status.idle": "2021-04-10T15:15:40.167388Z",
     "shell.execute_reply": "2021-04-10T15:15:40.166363Z",
     "shell.execute_reply.started": "2021-04-10T15:15:40.163580Z"
    }
   },
   "outputs": [],
   "source": [
    "shots = 1024"
   ]
  },
  {
   "cell_type": "code",
   "execution_count": 7,
   "id": "b34e1105-efac-4746-9419-7eda9cefea91",
   "metadata": {
    "execution": {
     "iopub.execute_input": "2021-04-10T15:15:40.168641Z",
     "iopub.status.busy": "2021-04-10T15:15:40.168424Z",
     "iopub.status.idle": "2021-04-10T15:15:47.283415Z",
     "shell.execute_reply": "2021-04-10T15:15:47.279692Z",
     "shell.execute_reply.started": "2021-04-10T15:15:40.168619Z"
    },
    "tags": []
   },
   "outputs": [
    {
     "data": {
      "application/vnd.jupyter.widget-view+json": {
       "model_id": "30de1b7e6b694b2dab82be6c2c76aebb",
       "version_major": 2,
       "version_minor": 0
      },
      "text/plain": [
       "  0%|          | 0/100 [00:00<?, ?it/s]"
      ]
     },
     "metadata": {},
     "output_type": "display_data"
    },
    {
     "name": "stdout",
     "output_type": "stream",
     "text": [
      "Your task calculate_graph has completed in 3s.\n"
     ]
    },
    {
     "data": {
      "application/vnd.jupyter.widget-view+json": {
       "model_id": "678b605d90c04c60916eba2f4e6b9c36",
       "version_major": 2,
       "version_minor": 0
      },
      "text/plain": [
       "  0%|          | 0/100 [00:00<?, ?it/s]"
      ]
     },
     "metadata": {},
     "output_type": "display_data"
    },
    {
     "name": "stdout",
     "output_type": "stream",
     "text": [
      "Your task calculate_graph has completed in 3s.\n"
     ]
    }
   ],
   "source": [
    "not_results = simulate_ideal_qubit(\n",
    "    duration=not_duration, values=not_values, shots=shots\n",
    ")\n",
    "h_results = simulate_ideal_qubit(duration=h_duration, values=h_values, shots=shots)"
   ]
  },
  {
   "cell_type": "code",
   "execution_count": 8,
   "id": "31430ae2-5801-43b5-9578-c9cab2d45276",
   "metadata": {
    "execution": {
     "iopub.execute_input": "2021-04-10T15:16:27.172500Z",
     "iopub.status.busy": "2021-04-10T15:16:27.171765Z",
     "iopub.status.idle": "2021-04-10T15:16:27.189882Z",
     "shell.execute_reply": "2021-04-10T15:16:27.188894Z",
     "shell.execute_reply.started": "2021-04-10T15:16:27.172405Z"
    }
   },
   "outputs": [
    {
     "name": "stdout",
     "output_type": "stream",
     "text": [
      "Realised NOT Gate:\n",
      "[[2.83276945e-16+0.j 0.00000000e+00-1.j]\n",
      " [0.00000000e+00-1.j 2.83276945e-16+0.j]]\n",
      "Ideal NOT Gate:\n",
      "[[0 1]\n",
      " [1 0]]\n",
      "NOT Gate Error:4.440892098500626e-16\n",
      "\n",
      "Realised H Gate:\n",
      "[[ 2.22044605e-16-0.70710678j -2.22044605e-16-0.70710678j]\n",
      " [ 2.22044605e-16-0.70710678j  2.22044605e-16+0.70710678j]]\n",
      "Ideal H Gate:\n",
      "[[ 0.70710678  0.70710678]\n",
      " [ 0.70710678 -0.70710678]]\n",
      "H Gate Error:1.1102230246251565e-15\n"
     ]
    }
   ],
   "source": [
    "error_norm = (\n",
    "    lambda operate_a, operator_b: 1\n",
    "    - np.abs(np.trace((operate_a.conj().T @ operator_b)) / 2) ** 2\n",
    ")\n",
    "\n",
    "realised_not_gate = not_results[\"unitary\"]\n",
    "ideal_not_gate = np.array([[0, 1], [1, 0]])\n",
    "not_error = error_norm(realised_not_gate, ideal_not_gate)\n",
    "realised_h_gate = h_results[\"unitary\"]\n",
    "ideal_h_gate = (1 / np.sqrt(2)) * np.array([[1, 1], [1, -1]])\n",
    "h_error = error_norm(realised_h_gate, ideal_h_gate)\n",
    "\n",
    "print(\"Realised NOT Gate:\")\n",
    "print(realised_not_gate)\n",
    "print(\"Ideal NOT Gate:\")\n",
    "print(ideal_not_gate)\n",
    "print(\"NOT Gate Error:\" + str(not_error) + \"\\n\")\n",
    "print(\"Realised H Gate:\")\n",
    "print(realised_h_gate)\n",
    "print(\"Ideal H Gate:\")\n",
    "print(ideal_h_gate)\n",
    "print(\"H Gate Error:\" + str(h_error))"
   ]
  },
  {
   "cell_type": "code",
   "execution_count": 9,
   "id": "4d531b03-c507-411d-9a05-ddb0ca566f5e",
   "metadata": {
    "execution": {
     "iopub.execute_input": "2021-04-10T15:16:37.790186Z",
     "iopub.status.busy": "2021-04-10T15:16:37.788543Z",
     "iopub.status.idle": "2021-04-10T15:16:37.801310Z",
     "shell.execute_reply": "2021-04-10T15:16:37.800010Z",
     "shell.execute_reply.started": "2021-04-10T15:16:37.790043Z"
    }
   },
   "outputs": [],
   "source": [
    "not_measurements = not_results[\"measurements\"]\n",
    "h_measurements = h_results[\"measurements\"]\n",
    "\n",
    "\n",
    "def estimate_probability_of_one(measurements):\n",
    "    size = len(measurements)\n",
    "    probability = np.mean(measurements)\n",
    "    standard_error = np.std(measurements) / np.sqrt(size)\n",
    "    return (probability, standard_error)\n",
    "\n",
    "\n",
    "not_probability, not_standard_error = estimate_probability_of_one(not_measurements)\n",
    "h_probability, h_standard_error = estimate_probability_of_one(h_measurements)\n"
   ]
  },
  {
   "cell_type": "code",
   "execution_count": 10,
   "id": "4f77e0f7-471c-4859-aff7-54fea7cb8868",
   "metadata": {
    "execution": {
     "iopub.execute_input": "2021-04-10T15:17:08.864624Z",
     "iopub.status.busy": "2021-04-10T15:17:08.856277Z",
     "iopub.status.idle": "2021-04-10T15:17:08.889924Z",
     "shell.execute_reply": "2021-04-10T15:17:08.887481Z",
     "shell.execute_reply.started": "2021-04-10T15:17:08.864463Z"
    }
   },
   "outputs": [
    {
     "name": "stdout",
     "output_type": "stream",
     "text": [
      "NOT estimated probability of getting 1:1.0\n",
      "NOT estimate standard error:0.0\n",
      "H estimated probability of getting 1:0.513671875\n",
      "H estimate standard error:0.015619157652555254\n"
     ]
    }
   ],
   "source": [
    "print(\"NOT estimated probability of getting 1:\" + str(not_probability))\n",
    "print(\"NOT estimate standard error:\" + str(not_standard_error))\n",
    "print(\"H estimated probability of getting 1:\" + str(h_probability))\n",
    "print(\"H estimate standard error:\" + str(h_standard_error))"
   ]
  },
  {
   "cell_type": "code",
   "execution_count": 11,
   "id": "d64020f1-cd18-4639-b3e2-92ac08e66d70",
   "metadata": {
    "execution": {
     "iopub.execute_input": "2021-04-10T15:17:24.689400Z",
     "iopub.status.busy": "2021-04-10T15:17:24.688768Z",
     "iopub.status.idle": "2021-04-10T15:17:24.698955Z",
     "shell.execute_reply": "2021-04-10T15:17:24.696569Z",
     "shell.execute_reply.started": "2021-04-10T15:17:24.689317Z"
    }
   },
   "outputs": [],
   "source": [
    "epsilon = 0.003\n",
    "h_duration = (np.pi + epsilon) / (2 * max_rabi_rate)  # us\n",
    "\n",
    "repetitions = np.array([1, 17, 127])\n",
    "repetition_results = []"
   ]
  },
  {
   "cell_type": "code",
   "execution_count": 12,
   "id": "3cd1659e-7e1f-48b0-a9b5-cca651c3745f",
   "metadata": {
    "execution": {
     "iopub.execute_input": "2021-04-10T15:17:39.294189Z",
     "iopub.status.busy": "2021-04-10T15:17:39.293254Z",
     "iopub.status.idle": "2021-04-10T15:17:50.218771Z",
     "shell.execute_reply": "2021-04-10T15:17:50.214644Z",
     "shell.execute_reply.started": "2021-04-10T15:17:39.294107Z"
    }
   },
   "outputs": [
    {
     "data": {
      "application/vnd.jupyter.widget-view+json": {
       "model_id": "0463ab5f3cbc4c3e80128cf3f048821f",
       "version_major": 2,
       "version_minor": 0
      },
      "text/plain": [
       "  0%|          | 0/100 [00:00<?, ?it/s]"
      ]
     },
     "metadata": {},
     "output_type": "display_data"
    },
    {
     "name": "stdout",
     "output_type": "stream",
     "text": [
      "Your task calculate_graph has completed in 3s.\n"
     ]
    },
    {
     "data": {
      "application/vnd.jupyter.widget-view+json": {
       "model_id": "b2033b9b8d2c417c9556377e658146c4",
       "version_major": 2,
       "version_minor": 0
      },
      "text/plain": [
       "  0%|          | 0/100 [00:00<?, ?it/s]"
      ]
     },
     "metadata": {},
     "output_type": "display_data"
    },
    {
     "name": "stdout",
     "output_type": "stream",
     "text": [
      "Your task calculate_graph has completed in 3s.\n"
     ]
    },
    {
     "data": {
      "application/vnd.jupyter.widget-view+json": {
       "model_id": "0237c6201c5a44a1b2ba1d9549f2b1e8",
       "version_major": 2,
       "version_minor": 0
      },
      "text/plain": [
       "  0%|          | 0/100 [00:00<?, ?it/s]"
      ]
     },
     "metadata": {},
     "output_type": "display_data"
    },
    {
     "name": "stdout",
     "output_type": "stream",
     "text": [
      "Your task calculate_graph has completed in 3s.\n"
     ]
    }
   ],
   "source": [
    "for reps in repetitions:\n",
    "    repetition_results.append(\n",
    "        simulate_ideal_qubit(\n",
    "            duration=h_duration, values=values, shots=shots, repetitions=reps\n",
    "        )\n",
    "    )"
   ]
  },
  {
   "cell_type": "code",
   "execution_count": 13,
   "id": "73a7aba1-2ad5-4430-887e-e0352c456f89",
   "metadata": {
    "execution": {
     "iopub.execute_input": "2021-04-10T15:17:57.014073Z",
     "iopub.status.busy": "2021-04-10T15:17:57.013532Z",
     "iopub.status.idle": "2021-04-10T15:17:57.023110Z",
     "shell.execute_reply": "2021-04-10T15:17:57.021735Z",
     "shell.execute_reply.started": "2021-04-10T15:17:57.014006Z"
    }
   },
   "outputs": [],
   "source": [
    "probability_estimates = np.zeros(3)\n",
    "standard_errors = np.zeros(3)\n",
    "\n",
    "for count, result in enumerate(repetition_results):\n",
    "    probability_estimates[count], standard_errors[count] = estimate_probability_of_one(\n",
    "        result[\"measurements\"]\n",
    "    )"
   ]
  },
  {
   "cell_type": "code",
   "execution_count": 14,
   "id": "a00e8e6f-28ce-4beb-ab61-d11d6b195512",
   "metadata": {
    "execution": {
     "iopub.execute_input": "2021-04-10T15:18:59.517889Z",
     "iopub.status.busy": "2021-04-10T15:18:59.517578Z",
     "iopub.status.idle": "2021-04-10T15:18:59.743958Z",
     "shell.execute_reply": "2021-04-10T15:18:59.742742Z",
     "shell.execute_reply.started": "2021-04-10T15:18:59.517854Z"
    }
   },
   "outputs": [
    {
     "data": {
      "image/png": "[encoded data removed]",
      "text/plain": [
       "<Figure size 432x288 with 1 Axes>"
      ]
     },
     "metadata": {
      "needs_background": "light"
     },
     "output_type": "display_data"
    }
   ],
   "source": [
    "plt.plot(repetitions, probability_estimates, \"s\", color=\"#680CE9\")\n",
    "plt.plot(repetitions, probability_estimates + standard_errors, \"_\", color=\"#680CE9\")\n",
    "plt.plot(repetitions, probability_estimates - standard_errors, \"_\", color=\"#680CE9\")\n",
    "plt.hlines(0.5, 0, 127, linestyle=\":\")\n",
    "plt.xlabel(\"Repetition\")\n",
    "plt.ylabel(\"Probability Estimate\")\n",
    "plt.show()"
   ]
  },
  {
   "cell_type": "markdown",
   "id": "a3aeb503-8a9a-48b1-b46e-39e173192f56",
   "metadata": {},
   "source": [
    "# Simulating a more realistic superconducting qubit"
   ]
  },
  {
   "cell_type": "code",
   "execution_count": 15,
   "id": "cdf309c6-1af7-4b25-bd18-6de8ced7eefc",
   "metadata": {
    "execution": {
     "iopub.execute_input": "2021-04-10T15:19:14.035482Z",
     "iopub.status.busy": "2021-04-10T15:19:14.033476Z",
     "iopub.status.idle": "2021-04-10T15:19:14.088660Z",
     "shell.execute_reply": "2021-04-10T15:19:14.087479Z",
     "shell.execute_reply.started": "2021-04-10T15:19:14.035184Z"
    }
   },
   "outputs": [],
   "source": [
    "def simulate_more_realistic_qubit(\n",
    "    duration=1, values=np.array([np.pi]), shots=1024, repetitions=1\n",
    "):\n",
    "\n",
    "    # 1. Limits for drive amplitudes\n",
    "    assert np.amax(values) <= 1.0\n",
    "    assert np.amin(values) >= -1.0\n",
    "    max_drive_amplitude = 2 * np.pi * 20  # MHz\n",
    "\n",
    "    # 2. Dephasing error\n",
    "    dephasing_error = -2 * 2 * np.pi  # MHz\n",
    "\n",
    "    # 3. Amplitude error\n",
    "    amplitude_i_error = 0.98\n",
    "    amplitude_q_error = 1.03\n",
    "\n",
    "    # 4. Control line bandwidth limit\n",
    "    cut_off_frequency = 2 * np.pi * 10  # MHz\n",
    "    resample_segment_count = 1000\n",
    "\n",
    "    # 5. SPAM error confusion matrix\n",
    "    confusion_matrix = np.array([[0.99, 0.01], [0.02, 0.98]])\n",
    "\n",
    "    # Lowering operator\n",
    "    b = np.array([[0, 1], [0, 0]])\n",
    "    # Number operator\n",
    "    n = np.diag([0, 1])\n",
    "    # Initial state\n",
    "    initial_state = np.array([[1], [0]])\n",
    "\n",
    "    with qctrl.create_graph() as graph:\n",
    "        # Apply 1. max Rabi rate.\n",
    "        values = values * max_drive_amplitude\n",
    "\n",
    "        # Apply 3. amplitude errors.\n",
    "        values_i = np.real(values) * amplitude_i_error\n",
    "        values_q = np.imag(values) * amplitude_q_error\n",
    "        values = values_i + 1j * values_q\n",
    "\n",
    "        # Apply 4. bandwidth limits\n",
    "        drive_unfiltered = qctrl.operations.pwc_signal(duration=duration, values=values)\n",
    "        drive_filtered = qctrl.operations.convolve_pwc(\n",
    "            pwc=drive_unfiltered,\n",
    "            kernel_integral=qctrl.operations.sinc_integral_function(cut_off_frequency),\n",
    "        )\n",
    "        drive = qctrl.operations.discretize_stf(\n",
    "            drive_filtered, duration=duration, segments_count=resample_segment_count\n",
    "        )\n",
    "\n",
    "        # Construct microwave drive\n",
    "        drive_term = qctrl.operations.pwc_operator_hermitian_part(\n",
    "            qctrl.operations.pwc_operator(signal=drive, operator=b)\n",
    "        )\n",
    "\n",
    "        # Construct 2. dephasing term.\n",
    "        dephasing_term = qctrl.operations.constant_pwc_operator(\n",
    "            operator=dephasing_error * n,\n",
    "            duration=duration,\n",
    "        )\n",
    "\n",
    "        # Construct Hamiltonian.\n",
    "        hamiltonian = qctrl.operations.pwc_sum(\n",
    "            [\n",
    "                drive_term,\n",
    "                dephasing_term,\n",
    "            ]\n",
    "        )\n",
    "\n",
    "        # Solve Schrodinger's equation and get total unitary at the end\n",
    "        unitary = qctrl.operations.time_evolution_operators_pwc(\n",
    "            hamiltonian=hamiltonian,\n",
    "            sample_times=np.array([duration]),\n",
    "        )[-1]\n",
    "        unitary.name = \"unitary\"\n",
    "\n",
    "        # Repeat final unitary\n",
    "        repeated_unitary = np.eye(2)\n",
    "        for _ in range(repetitions):\n",
    "            repeated_unitary = repeated_unitary @ unitary\n",
    "        repeated_unitary.name = \"repeated_unitary\"\n",
    "\n",
    "        # Calculate final state.\n",
    "        state = repeated_unitary @ initial_state\n",
    "\n",
    "        # Calculate final populations.\n",
    "        populations = qctrl.operations.abs(state[:, 0]) ** 2\n",
    "        # Normalize populations\n",
    "        norm = qctrl.operations.sum(populations)\n",
    "        populations = populations / norm\n",
    "        populations.name = \"populations\"\n",
    "\n",
    "    # Evaluate graph.\n",
    "    result = qctrl.functions.calculate_graph(\n",
    "        graph=graph,\n",
    "        output_node_names=[\"unitary\", \"repeated_unitary\", \"populations\"],\n",
    "    )\n",
    "\n",
    "    # Extract outputs.\n",
    "    unitary = result.output[\"unitary\"][\"value\"]\n",
    "    repeated_unitary = result.output[\"repeated_unitary\"][\"value\"]\n",
    "    populations = result.output[\"populations\"][\"value\"]\n",
    "\n",
    "    # Sample projective measurements.\n",
    "    true_measurements = np.random.choice(2, size=shots, p=populations)\n",
    "    measurements = np.array(\n",
    "        [np.random.choice(2, p=confusion_matrix[m]) for m in true_measurements]\n",
    "    )\n",
    "\n",
    "    results = {\"unitary\": unitary, \"measurements\": measurements}\n",
    "\n",
    "    return results"
   ]
  },
  {
   "cell_type": "code",
   "execution_count": 16,
   "id": "833d452f-2351-4041-843a-0847e7f15fb2",
   "metadata": {
    "execution": {
     "iopub.execute_input": "2021-04-10T15:19:21.877058Z",
     "iopub.status.busy": "2021-04-10T15:19:21.875857Z",
     "iopub.status.idle": "2021-04-10T15:19:21.889320Z",
     "shell.execute_reply": "2021-04-10T15:19:21.886674Z",
     "shell.execute_reply.started": "2021-04-10T15:19:21.876924Z"
    }
   },
   "outputs": [],
   "source": [
    "max_rabi_rate = 20 * 2 * np.pi  # MHz\n",
    "not_duration = np.pi / (max_rabi_rate)  # us\n",
    "h_duration = np.pi / (2 * max_rabi_rate)  # us\n",
    "shots = 1024\n",
    "\n",
    "values = np.array([1.0])"
   ]
  },
  {
   "cell_type": "code",
   "execution_count": 17,
   "id": "a239e27a-c736-4f9c-875c-75187739c528",
   "metadata": {
    "execution": {
     "iopub.execute_input": "2021-04-10T15:19:28.894045Z",
     "iopub.status.busy": "2021-04-10T15:19:28.892627Z",
     "iopub.status.idle": "2021-04-10T15:19:36.117412Z",
     "shell.execute_reply": "2021-04-10T15:19:36.116197Z",
     "shell.execute_reply.started": "2021-04-10T15:19:28.893919Z"
    }
   },
   "outputs": [
    {
     "data": {
      "application/vnd.jupyter.widget-view+json": {
       "model_id": "4f11620b4a9041589703d1d7c929412d",
       "version_major": 2,
       "version_minor": 0
      },
      "text/plain": [
       "  0%|          | 0/100 [00:00<?, ?it/s]"
      ]
     },
     "metadata": {},
     "output_type": "display_data"
    },
    {
     "name": "stdout",
     "output_type": "stream",
     "text": [
      "Your task calculate_graph has completed in 3s.\n"
     ]
    },
    {
     "data": {
      "application/vnd.jupyter.widget-view+json": {
       "model_id": "8cf4d1082de54ec8a6a9b303ea697023",
       "version_major": 2,
       "version_minor": 0
      },
      "text/plain": [
       "  0%|          | 0/100 [00:00<?, ?it/s]"
      ]
     },
     "metadata": {},
     "output_type": "display_data"
    },
    {
     "name": "stdout",
     "output_type": "stream",
     "text": [
      "Your task calculate_graph has completed in 3s.\n"
     ]
    }
   ],
   "source": [
    "not_results = simulate_more_realistic_qubit(\n",
    "    duration=not_duration, values=values, shots=shots\n",
    ")\n",
    "h_results = simulate_more_realistic_qubit(\n",
    "    duration=h_duration, values=values, shots=shots\n",
    ")"
   ]
  },
  {
   "cell_type": "code",
   "execution_count": 18,
   "id": "6e6fb12c-1bc7-40cc-a28c-2a35cce29175",
   "metadata": {
    "execution": {
     "iopub.execute_input": "2021-04-10T15:19:36.455739Z",
     "iopub.status.busy": "2021-04-10T15:19:36.455390Z",
     "iopub.status.idle": "2021-04-10T15:19:36.476802Z",
     "shell.execute_reply": "2021-04-10T15:19:36.475747Z",
     "shell.execute_reply.started": "2021-04-10T15:19:36.455699Z"
    }
   },
   "outputs": [
    {
     "name": "stdout",
     "output_type": "stream",
     "text": [
      "Realised NOT Gate:\n",
      "[[0.75412104-0.02524955j 0.1026601 -0.64817036j]\n",
      " [0.1026601 -0.64817036j 0.70940919+0.25704996j]]\n",
      "Ideal NOT Gate:\n",
      "[[ 0.+0.j -0.-1.j]\n",
      " [-0.-1.j  0.+0.j]]\n",
      "NOT Gate Error:0.5693360860922008\n",
      "NOT estimated probability of getting 1:0.42578125\n",
      "NOT estimate standard error:0.015451902983419906\n",
      "\n",
      "Realised H Gate:\n",
      "[[0.98219782-0.00092913j 0.01473832-0.18726817j]\n",
      " [0.01473832-0.18726817j 0.96995998+0.15456728j]]\n",
      "Ideal H Gate:\n",
      "[[0.70710678+0.j         0.        -0.70710678j]\n",
      " [0.        -0.70710678j 0.70710678+0.j        ]]\n",
      "H Gate Error:0.31912041750757547\n",
      "H estimated probability of getting 1:0.044921875\n",
      "H estimate standard error:0.006472892706263649\n"
     ]
    }
   ],
   "source": [
    "realised_not_gate = not_results[\"unitary\"]\n",
    "ideal_not_gate = np.array([[0, -1j], [-1j, 0]])\n",
    "not_error = error_norm(realised_not_gate, ideal_not_gate)\n",
    "realised_h_gate = h_results[\"unitary\"]\n",
    "ideal_h_gate = (1 / np.sqrt(2)) * np.array([[1, -1j], [-1j, 1]])\n",
    "h_error = error_norm(realised_h_gate, ideal_h_gate)\n",
    "\n",
    "not_measurements = not_results[\"measurements\"]\n",
    "h_measurements = h_results[\"measurements\"]\n",
    "not_probability, not_standard_error = estimate_probability_of_one(not_measurements)\n",
    "h_probability, h_standard_error = estimate_probability_of_one(h_measurements)\n",
    "\n",
    "print(\"Realised NOT Gate:\")\n",
    "print(realised_not_gate)\n",
    "print(\"Ideal NOT Gate:\")\n",
    "print(ideal_not_gate)\n",
    "print(\"NOT Gate Error:\" + str(not_error))\n",
    "print(\"NOT estimated probability of getting 1:\" + str(not_probability))\n",
    "print(\"NOT estimate standard error:\" + str(not_standard_error) + \"\\n\")\n",
    "\n",
    "print(\"Realised H Gate:\")\n",
    "print(realised_h_gate)\n",
    "print(\"Ideal H Gate:\")\n",
    "print(ideal_h_gate)\n",
    "print(\"H Gate Error:\" + str(h_error))\n",
    "print(\"H estimated probability of getting 1:\" + str(h_probability))\n",
    "print(\"H estimate standard error:\" + str(h_standard_error))"
   ]
  },
  {
   "cell_type": "markdown",
   "id": "a43d3960-32c9-4d47-b740-4d4e0a82c6c9",
   "metadata": {},
   "source": [
    "# The more realistic qubit vs the qubit in the cloud"
   ]
  },
  {
   "cell_type": "code",
   "execution_count": 19,
   "id": "c6c29123-9062-42b7-89ae-da5f2ea2d20f",
   "metadata": {
    "execution": {
     "iopub.execute_input": "2021-04-10T15:19:46.759824Z",
     "iopub.status.busy": "2021-04-10T15:19:46.759259Z",
     "iopub.status.idle": "2021-04-10T15:19:46.767534Z",
     "shell.execute_reply": "2021-04-10T15:19:46.766105Z",
     "shell.execute_reply.started": "2021-04-10T15:19:46.759743Z"
    }
   },
   "outputs": [],
   "source": [
    "\n",
    "control_count = 5\n",
    "segment_count = 16\n",
    "duration = 30.0\n",
    "shot_count = 32"
   ]
  },
  {
   "cell_type": "code",
   "execution_count": 20,
   "id": "5f3e56e7-6259-4a7c-be25-1c0b3023ecab",
   "metadata": {
    "execution": {
     "iopub.execute_input": "2021-04-10T15:19:53.309069Z",
     "iopub.status.busy": "2021-04-10T15:19:53.308475Z",
     "iopub.status.idle": "2021-04-10T15:19:53.841448Z",
     "shell.execute_reply": "2021-04-10T15:19:53.840757Z",
     "shell.execute_reply.started": "2021-04-10T15:19:53.309018Z"
    }
   },
   "outputs": [
    {
     "data": {
      "image/png": "[encoded data removed]",
      "text/plain": [
       "<Figure size 504x288 with 2 Axes>"
      ]
     },
     "metadata": {
      "needs_background": "light"
     },
     "output_type": "display_data"
    }
   ],
   "source": [
    "controls = []\n",
    "for k in range(control_count):\n",
    "    # Create a random string of complex numbers for each controls.\n",
    "    real_part = np.random.random(size=[segment_count])\n",
    "    imag_part = np.random.random(size=[segment_count])\n",
    "    values = 0.15 * k * (real_part + 1j * imag_part)\n",
    "\n",
    "    controls.append({\"duration\": duration, \"values\": values})\n",
    "\n",
    "# Plot the last control as an example.\n",
    "plot_controls(\n",
    "    figure=plt.figure(),\n",
    "    controls={\n",
    "        \"$\\Omega$\": [\n",
    "            {\"duration\": duration / segment_count, \"value\": value} for value in values\n",
    "        ]\n",
    "    },\n",
    ")"
   ]
  },
  {
   "cell_type": "code",
   "execution_count": 21,
   "id": "5876469e-1a9b-45bf-9603-3aa32eeed19a",
   "metadata": {
    "execution": {
     "iopub.execute_input": "2021-04-10T15:20:00.416487Z",
     "iopub.status.busy": "2021-04-10T15:20:00.416266Z",
     "iopub.status.idle": "2021-04-10T15:20:03.984036Z",
     "shell.execute_reply": "2021-04-10T15:20:03.982636Z",
     "shell.execute_reply.started": "2021-04-10T15:20:00.416463Z"
    }
   },
   "outputs": [
    {
     "data": {
      "application/vnd.jupyter.widget-view+json": {
       "model_id": "e6d8bda8418a4d39bcaaf4d1efa5d33f",
       "version_major": 2,
       "version_minor": 0
      },
      "text/plain": [
       "  0%|          | 0/100 [00:00<?, ?it/s]"
      ]
     },
     "metadata": {},
     "output_type": "display_data"
    },
    {
     "name": "stdout",
     "output_type": "stream",
     "text": [
      "Your task calculate_qchack_measurements has completed in 3s.\n"
     ]
    }
   ],
   "source": [
    "# Obtain the results of the experiment.\n",
    "experiment_results = qctrl.functions.calculate_qchack_measurements(\n",
    "    controls=controls,\n",
    "    shot_count=shot_count,\n",
    ")"
   ]
  },
  {
   "cell_type": "code",
   "execution_count": 22,
   "id": "07adc06d-d2f4-470e-8523-409d900d20ba",
   "metadata": {
    "execution": {
     "iopub.execute_input": "2021-04-10T15:20:07.699895Z",
     "iopub.status.busy": "2021-04-10T15:20:07.699483Z",
     "iopub.status.idle": "2021-04-10T15:20:07.708664Z",
     "shell.execute_reply": "2021-04-10T15:20:07.707583Z",
     "shell.execute_reply.started": "2021-04-10T15:20:07.699857Z"
    }
   },
   "outputs": [
    {
     "name": "stdout",
     "output_type": "stream",
     "text": [
      "control #0: [0, 0, 0, 0, 0, 0, 0, 0, 0, 0, 0, 0, 0, 0, 0, 0, 0, 0, 0, 0, 0, 0, 0, 0, 0, 0, 0, 0, 0, 0, 0, 0]\n",
      "control #1: [0, 0, 0, 0, 1, 1, 0, 0, 0, 0, 0, 0, 0, 1, 0, 0, 0, 0, 0, 0, 0, 1, 0, 0, 0, 0, 1, 0, 0, 0, 1, 1]\n",
      "control #2: [1, 1, 1, 1, 0, 0, 0, 0, 0, 0, 0, 1, 0, 1, 1, 1, 1, 0, 1, 1, 1, 1, 0, 1, 0, 1, 0, 1, 0, 0, 0, 1]\n",
      "control #3: [0, 1, 0, 0, 1, 1, 1, 1, 1, 0, 1, 0, 0, 1, 0, 1, 1, 1, 0, 0, 0, 1, 1, 0, 1, 1, 1, 0, 1, 0, 0, 1]\n",
      "control #4: [0, 1, 1, 1, 1, 0, 1, 1, 1, 0, 1, 0, 1, 0, 0, 0, 0, 1, 1, 0, 0, 0, 0, 1, 0, 1, 1, 0, 1, 0, 1, 1]\n"
     ]
    }
   ],
   "source": [
    "measurements = experiment_results.measurements\n",
    "for k, measurement_counts in enumerate(measurements):\n",
    "    print(f\"control #{k}: {measurement_counts}\")"
   ]
  },
  {
   "cell_type": "code",
   "execution_count": 23,
   "id": "838ece1c-db21-497b-9eeb-47cd28af20c6",
   "metadata": {
    "execution": {
     "iopub.execute_input": "2021-04-10T15:20:14.027264Z",
     "iopub.status.busy": "2021-04-10T15:20:14.026841Z",
     "iopub.status.idle": "2021-04-10T15:20:14.039792Z",
     "shell.execute_reply": "2021-04-10T15:20:14.038953Z",
     "shell.execute_reply.started": "2021-04-10T15:20:14.027208Z"
    }
   },
   "outputs": [
    {
     "name": "stdout",
     "output_type": "stream",
     "text": [
      "control #0: P(|0>) = 1.00, P(|1>) = 0.00, P(|2>) = 0.00\n",
      "control #1: P(|0>) = 0.78, P(|1>) = 0.22, P(|2>) = 0.00\n",
      "control #2: P(|0>) = 0.47, P(|1>) = 0.53, P(|2>) = 0.00\n",
      "control #3: P(|0>) = 0.44, P(|1>) = 0.56, P(|2>) = 0.00\n",
      "control #4: P(|0>) = 0.47, P(|1>) = 0.53, P(|2>) = 0.00\n"
     ]
    }
   ],
   "source": [
    "for k, measurement_counts in enumerate(measurements):\n",
    "    p0 = measurement_counts.count(0) / shot_count\n",
    "    p1 = measurement_counts.count(1) / shot_count\n",
    "    p2 = measurement_counts.count(2) / shot_count\n",
    "    print(f\"control #{k}: P(|0>) = {p0:.2f}, P(|1>) = {p1:.2f}, P(|2>) = {p2:.2f}\")"
   ]
  },
  {
   "cell_type": "code",
   "execution_count": 24,
   "id": "d7d17e00-1c71-44d0-8ea4-977a61b21628",
   "metadata": {
    "execution": {
     "iopub.execute_input": "2021-04-10T15:20:19.219688Z",
     "iopub.status.busy": "2021-04-10T15:20:19.219039Z",
     "iopub.status.idle": "2021-04-10T15:20:22.808453Z",
     "shell.execute_reply": "2021-04-10T15:20:22.807281Z",
     "shell.execute_reply.started": "2021-04-10T15:20:19.219617Z"
    }
   },
   "outputs": [
    {
     "data": {
      "application/vnd.jupyter.widget-view+json": {
       "model_id": "c32779659cf84efaa2279164e034da7d",
       "version_major": 2,
       "version_minor": 0
      },
      "text/plain": [
       "  0%|          | 0/100 [00:00<?, ?it/s]"
      ]
     },
     "metadata": {},
     "output_type": "display_data"
    },
    {
     "name": "stdout",
     "output_type": "stream",
     "text": [
      "Your task calculate_qchack_measurements has completed in 3s.\n",
      "With  1 repetitions: P(|0>) = 0.38, P(|1>) = 0.62, P(|2>) = 0.00\n",
      "With  4 repetitions: P(|0>) = 0.28, P(|1>) = 0.72, P(|2>) = 0.00\n",
      "With 16 repetitions: P(|0>) = 0.19, P(|1>) = 0.81, P(|2>) = 0.00\n",
      "With 32 repetitions: P(|0>) = 0.97, P(|1>) = 0.03, P(|2>) = 0.00\n",
      "With 64 repetitions: P(|0>) = 1.00, P(|1>) = 0.00, P(|2>) = 0.00\n"
     ]
    }
   ],
   "source": [
    "repetitions = [1, 4, 16, 32, 64]\n",
    "\n",
    "controls = []\n",
    "# Create a random string of complex numbers for all control,\n",
    "# but set a different repetition_count for each control.\n",
    "real_part = np.random.random(size=[segment_count])\n",
    "imag_part = np.random.random(size=[segment_count])\n",
    "values = 0.5 * (real_part + 1j * imag_part)\n",
    "\n",
    "for repetition_count in repetitions:\n",
    "    controls.append(\n",
    "        {\"duration\": duration, \"values\": values, \"repetition_count\": repetition_count}\n",
    "    )\n",
    "\n",
    "experiment_results = qctrl.functions.calculate_qchack_measurements(\n",
    "    controls=controls,\n",
    "    shot_count=shot_count,\n",
    ")\n",
    "\n",
    "for repetition_count, measurement_counts in zip(\n",
    "    repetitions, experiment_results.measurements\n",
    "):\n",
    "    p0 = measurement_counts.count(0) / shot_count\n",
    "    p1 = measurement_counts.count(1) / shot_count\n",
    "    p2 = measurement_counts.count(2) / shot_count\n",
    "    print(\n",
    "        f\"With {repetition_count:2d} repetitions: P(|0>) = {p0:.2f}, P(|1>) = {p1:.2f}, P(|2>) = {p2:.2f}\"\n",
    "    )\n"
   ]
  },
  {
   "cell_type": "code",
   "execution_count": null,
   "id": "aad44c7f-7d63-4971-b449-065a6562c531",
   "metadata": {},
   "outputs": [],
   "source": []
  }
 ],
 "metadata": {
  "kernelspec": {
   "display_name": "Python 3",
   "language": "python",
   "name": "python3"
  },
  "language_info": {
   "codemirror_mode": {
    "name": "ipython",
    "version": 3
   },
   "file_extension": ".py",
   "mimetype": "text/x-python",
   "name": "python",
   "nbconvert_exporter": "python",
   "pygments_lexer": "ipython3",
   "version": "3.8.8"
  }
 },
 "nbformat": 4,
 "nbformat_minor": 5
}
