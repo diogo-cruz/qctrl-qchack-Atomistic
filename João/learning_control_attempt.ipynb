{
 "cells": [
  {
   "cell_type": "markdown",
   "id": "b8b14fbd",
   "metadata": {},
   "source": [
    "# Packages and definitions"
   ]
  },
  {
   "cell_type": "code",
   "execution_count": 10,
   "id": "ad706c7a",
   "metadata": {},
   "outputs": [],
   "source": [
    "import matplotlib.pyplot as plt\n",
    "import numpy as np\n",
    "from qctrlvisualizer import get_qctrl_style, plot_controls\n",
    "\n",
    "from qctrl import Qctrl\n",
    "\n",
    "plt.style.use(get_qctrl_style())\n",
    "\n",
    "# Start a session with the API.\n",
    "qctrl = Qctrl()"
   ]
  },
  {
   "cell_type": "markdown",
   "id": "8758caa7",
   "metadata": {},
   "source": [
    "### Define target operator"
   ]
  },
  {
   "cell_type": "code",
   "execution_count": 11,
   "id": "2376a037",
   "metadata": {},
   "outputs": [],
   "source": [
    "# We define the target operations via the ideal populations \n",
    "# at the end of the gate assuming we start from |0>:\n",
    "\n",
    "ideal_pop_not = [0, 1, 0]     # NOT gate\n",
    "ideal_pop_had = [0.5, 0.5, 0] # Hadamard gate\n",
    "\n",
    "ideal_pop = ideal_pop_not"
   ]
  },
  {
   "cell_type": "markdown",
   "id": "c78a702a",
   "metadata": {},
   "source": [
    "### Function to address the cloud qubit"
   ]
  },
  {
   "cell_type": "code",
   "execution_count": 14,
   "id": "416475ec",
   "metadata": {},
   "outputs": [],
   "source": [
    "def run_experiments(omegas, shot_count, control_count):\n",
    "    \n",
    "    controls = []\n",
    "    \n",
    "    for ii in range(control_count):\n",
    "        controls.append(\n",
    "            {\"duration\": duration, \"values\": omegas[ii]}\n",
    "        )\n",
    "    \n",
    "    #print(controls)\n",
    "    \n",
    "    experiment_results = qctrl.functions.calculate_qchack_measurements(\n",
    "        controls   = controls,\n",
    "        shot_count = shot_count,\n",
    "    )\n",
    "    \n",
    "    # From the measurements we must get back an infidelity based on our target operation\n",
    "    \n",
    "    infidelities = np.zeros(len(controls))\n",
    "    \n",
    "    for k, measurement_counts in enumerate(experiment_results.measurements):\n",
    "        p0 = measurement_counts.count(0) / shot_count\n",
    "        p1 = measurement_counts.count(1) / shot_count\n",
    "        p2 = measurement_counts.count(2) / shot_count\n",
    "        \n",
    "        infidelities[k] = (ideal_pop[0] - p0)**2 + (ideal_pop[1] - p1)**2 +(ideal_pop[2] - p2)**2\n",
    "\n",
    "    # Return only infidelities between 0 and 1.\n",
    "    return np.clip(infidelities, 0, 1)"
   ]
  },
  {
   "cell_type": "markdown",
   "id": "51382af2",
   "metadata": {},
   "source": [
    "### Defining parameters and initial experimental results"
   ]
  },
  {
   "cell_type": "code",
   "execution_count": 15,
   "id": "5feaa6b8",
   "metadata": {},
   "outputs": [
    {
     "data": {
      "application/vnd.jupyter.widget-view+json": {
       "model_id": "",
       "version_major": 2,
       "version_minor": 0
      },
      "text/plain": [
       "  0%|          | 0/100 [00:00<?, ?it/s]"
      ]
     },
     "metadata": {},
     "output_type": "display_data"
    },
    {
     "name": "stdout",
     "output_type": "stream",
     "text": [
      "Your task calculate_qchack_measurements has completed in 3s.\n"
     ]
    }
   ],
   "source": [
    "control_count = 20\n",
    "segment_count = 10\n",
    "duration      = 30\n",
    "shot_count    = 2048\n",
    "\n",
    "# Define standard deviation of the errors in the experimental results.\n",
    "sigma = 0.01\n",
    "\n",
    "\n",
    "# Define parameters as a set of controls with piecewise constant segments.\n",
    "parameter_set = (\n",
    "    np.pi\n",
    "    / duration\n",
    "    * (np.linspace(-1, 1, control_count)[:, None])\n",
    "    * np.ones((control_count, segment_count))\n",
    ")\n",
    "\n",
    "# Obtain a set of initial experimental results.\n",
    "experiment_results = run_experiments(parameter_set, shot_count, control_count)"
   ]
  },
  {
   "cell_type": "markdown",
   "id": "8455be2d",
   "metadata": {},
   "source": [
    "### Defining initialization for closed-loop optimization"
   ]
  },
  {
   "cell_type": "code",
   "execution_count": 16,
   "id": "f1b359b4",
   "metadata": {},
   "outputs": [],
   "source": [
    "# Define initialization object for the automated closed-loop optimization.\n",
    "length_scale_bound = qctrl.types.closed_loop_optimization_step.BoxConstraint(\n",
    "    lower_bound=1e-5,\n",
    "    upper_bound=1e5,\n",
    ")\n",
    "bound = qctrl.types.closed_loop_optimization_step.BoxConstraint(\n",
    "    lower_bound= -1,        #-5 * np.pi / duration,\n",
    "    upper_bound= 1,         # 5 * np.pi / duration,\n",
    ")\n",
    "initializer = qctrl.types.closed_loop_optimization_step.GaussianProcessInitializer(\n",
    "    length_scale_bounds=[length_scale_bound] * segment_count,\n",
    "    bounds=[bound] * segment_count,\n",
    "    rng_seed=0,\n",
    ")\n",
    "\n",
    "# Define state object for the closed-loop optimization.\n",
    "optimizer = qctrl.types.closed_loop_optimization_step.Optimizer(\n",
    "    gaussian_process_initializer=initializer,\n",
    ")"
   ]
  },
  {
   "cell_type": "markdown",
   "id": "d6df16b6",
   "metadata": {},
   "source": [
    "### Closed-loop optimization"
   ]
  },
  {
   "cell_type": "code",
   "execution_count": 17,
   "id": "3e2d85e7",
   "metadata": {},
   "outputs": [
    {
     "name": "stdout",
     "output_type": "stream",
     "text": [
      "Best infidelity after 0 BOULDER OPAL optimization steps: 1.0\n"
     ]
    },
    {
     "data": {
      "application/vnd.jupyter.widget-view+json": {
       "model_id": "",
       "version_major": 2,
       "version_minor": 0
      },
      "text/plain": [
       "  0%|          | 0/100 [00:00<?, ?it/s]"
      ]
     },
     "metadata": {},
     "output_type": "display_data"
    },
    {
     "name": "stdout",
     "output_type": "stream",
     "text": [
      "Your task calculate_closed_loop_optimization_step has started.\n",
      "Your task calculate_closed_loop_optimization_step has completed in 8s.\n"
     ]
    },
    {
     "data": {
      "application/vnd.jupyter.widget-view+json": {
       "model_id": "",
       "version_major": 2,
       "version_minor": 0
      },
      "text/plain": [
       "  0%|          | 0/100 [00:00<?, ?it/s]"
      ]
     },
     "metadata": {},
     "output_type": "display_data"
    },
    {
     "name": "stdout",
     "output_type": "stream",
     "text": [
      "Your task calculate_qchack_measurements has completed in 3s.\n",
      "Infidelity: 0.008703231811523438\n"
     ]
    },
    {
     "data": {
      "image/png": "[encoded data removed]",
      "text/plain": [
       "<Figure size 504x144 with 1 Axes>"
      ]
     },
     "metadata": {
      "needs_background": "light"
     },
     "output_type": "display_data"
    }
   ],
   "source": [
    "best_cost, best_controls = min(\n",
    "    zip(experiment_results, parameter_set), key=lambda params: params[0]\n",
    ")\n",
    "optimization_count = 0\n",
    "\n",
    "# Run the optimization loop until the cost (infidelity) is sufficiently small.\n",
    "while best_cost > 3*sigma:\n",
    "    # Print the current best cost.\n",
    "    optimization_steps = (\n",
    "        \"optimization step\" if optimization_count == 1 else \"optimization steps\"\n",
    "    )\n",
    "    print(\n",
    "        f\"Best infidelity after {optimization_count} BOULDER OPAL {optimization_steps}: {best_cost}\"\n",
    "    )\n",
    "\n",
    "    # Organize the experiment results into the proper input format.\n",
    "    results = [\n",
    "        qctrl.types.closed_loop_optimization_step.CostFunctionResult(\n",
    "            parameters=list(parameters),\n",
    "            cost=cost,\n",
    "            cost_uncertainty=sigma,\n",
    "        )\n",
    "        for parameters, cost in zip(parameter_set, experiment_results)\n",
    "    ]\n",
    "\n",
    "    # Call the automated closed-loop optimizer and obtain the next set of test points.\n",
    "    optimization_result = qctrl.functions.calculate_closed_loop_optimization_step(\n",
    "        optimizer = optimizer,\n",
    "        results = results,\n",
    "        test_point_count = control_count,\n",
    "    )\n",
    "    optimization_count += 1\n",
    "\n",
    "    # Organize the data returned by the automated closed-loop optimizer.\n",
    "    parameter_set = np.array(\n",
    "        [test_point.parameters for test_point in optimization_result.test_points]\n",
    "    )\n",
    "    optimizer = qctrl.types.closed_loop_optimization_step.Optimizer(\n",
    "        state=optimization_result.state\n",
    "    )\n",
    "\n",
    "    # Obtain experiment results that the automated closed-loop optimizer requested.\n",
    "    experiment_results = run_experiments(parameter_set, shot_count, control_count)\n",
    "\n",
    "    # Record the best results after this round of experiments.\n",
    "    cost, controls = min(\n",
    "        zip(experiment_results, parameter_set), key=lambda params: params[0]\n",
    "    )\n",
    "    if cost < best_cost:\n",
    "        best_cost = cost\n",
    "        best_controls = controls\n",
    "\n",
    "# Print final best cost.\n",
    "print(f\"Infidelity: {best_cost}\")\n",
    "\n",
    "# Plot controls that correspond to the best cost.\n",
    "plot_controls(\n",
    "    figure=plt.figure(),\n",
    "    controls={\n",
    "        r\"$\\Omega(t)$\": [\n",
    "            {\"duration\": duration / len(best_controls), \"value\": value}\n",
    "            for value in best_controls\n",
    "        ]\n",
    "    },\n",
    ")"
   ]
  },
  {
   "cell_type": "code",
   "execution_count": 18,
   "id": "d7a9ee24",
   "metadata": {},
   "outputs": [],
   "source": [
    "import jsonpickle.ext.numpy as jsonpickle_numpy\n",
    "import jsonpickle\n",
    "import numpy as np\n",
    "\n",
    "jsonpickle_numpy.register_handlers()\n",
    "\n",
    "not_control = {\"duration\": 30.0, \"value\": np.array(best_controls)}\n",
    "json_not_control = jsonpickle.encode(not_control)\n",
    "with open(\"not_control.json\", \"w\") as file:\n",
    "    file.write(json_not_control)"
   ]
  },
  {
   "cell_type": "code",
   "execution_count": null,
   "id": "27ce811d",
   "metadata": {},
   "outputs": [],
   "source": []
  }
 ],
 "metadata": {
  "kernelspec": {
   "display_name": "qctrl_env",
   "language": "python",
   "name": "qctrl_env"
  },
  "language_info": {
   "codemirror_mode": {
    "name": "ipython",
    "version": 3
   },
   "file_extension": ".py",
   "mimetype": "text/x-python",
   "name": "python",
   "nbconvert_exporter": "python",
   "pygments_lexer": "ipython3",
   "version": "3.8.8"
  }
 },
 "nbformat": 4,
 "nbformat_minor": 5
}
